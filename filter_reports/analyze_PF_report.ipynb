{
 "cells": [
  {
   "cell_type": "code",
   "execution_count": null,
   "metadata": {},
   "outputs": [],
   "source": [
    "import pandas as pd\n",
    "import matplotlib.pyplot as plt\n",
    "\n",
    "# Load the CSV file into a DataFrame\n",
    "file_path = \"report_nov4_fn_run_PF_single_theta_dual_radio_NN.csv\"\n",
    "data = pd.read_csv(file_path)\n",
    "\n",
    "# Separate the data by movement type\n",
    "for movement in [\"bounce\", \"circle\"]:\n",
    "    movement_data = data[data[\"movement\"] == movement]\n",
    "\n",
    "    # Scatter plot for 'bounce' movement\n",
    "    plt.figure(figsize=(10, 6))\n",
    "    for n in movement_data[\"N\"].unique():\n",
    "        subset = movement_data[movement_data[\"N\"] == n]\n",
    "        plt.scatter(\n",
    "            subset[\"theta_dot_err\"],\n",
    "            subset[\"mse_craft_theta\"],\n",
    "            label=f\"N={n}\",\n",
    "            alpha=0.7,\n",
    "        )\n",
    "\n",
    "    plt.xscale(\"log\")\n",
    "    plt.xlim(\n",
    "        movement_data[\"theta_dot_err\"].min() / 2,\n",
    "        movement_data[\"theta_dot_err\"].max() * 2,\n",
    "    )\n",
    "    plt.xlabel(\"theta_dot_err (log scale)\")\n",
    "    plt.ylabel(\"mse_craft_theta\")\n",
    "    plt.title(\"Bounce Movement: theta_dot_err vs mse_craft_theta (Scatter Plot)\")\n",
    "    plt.legend()\n",
    "    plt.show()"
   ]
  },
  {
   "cell_type": "code",
   "execution_count": null,
   "metadata": {},
   "outputs": [],
   "source": [
    "bounce_data[\"theta_dot_err\"].min()"
   ]
  },
  {
   "cell_type": "code",
   "execution_count": null,
   "metadata": {},
   "outputs": [],
   "source": []
  }
 ],
 "metadata": {
  "kernelspec": {
   "display_name": "spf",
   "language": "python",
   "name": "python3"
  },
  "language_info": {
   "codemirror_mode": {
    "name": "ipython",
    "version": 3
   },
   "file_extension": ".py",
   "mimetype": "text/x-python",
   "name": "python",
   "nbconvert_exporter": "python",
   "pygments_lexer": "ipython3",
   "version": "3.12.3"
  }
 },
 "nbformat": 4,
 "nbformat_minor": 2
}
