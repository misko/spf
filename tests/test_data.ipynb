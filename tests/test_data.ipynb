{
 "cells": [
  {
   "cell_type": "code",
   "execution_count": null,
   "metadata": {},
   "outputs": [],
   "source": [
    "from spf.dataset.fake_dataset import create_fake_dataset\n",
    "\n",
    "\n",
    "from spf.dataset.fake_dataset import (\n",
    "    create_empirical_dist_for_datasets,\n",
    "    create_fake_dataset,\n",
    "    fake_yaml,\n",
    ")\n",
    "from spf.dataset.spf_dataset import v5spfdataset\n",
    "\n",
    "fn = f\"./perfect_circle_n{1025}_noise0p3\"\n",
    "# uncomment to generate fake data\n",
    "# create_fake_dataset(filename=fn, yaml_config_str=fake_yaml, n=1025, noise=0.3, orbits=4)\n",
    "v5spfdataset(  # make sure everything gets segmented here\n",
    "    fn,\n",
    "    nthetas=65,\n",
    "    ignore_qc=True,\n",
    "    precompute_cache=\"./\",\n",
    "    paired=True,\n",
    "    skip_fields=set([\"signal_matrix\"]),\n",
    ")\n",
    "\n",
    "empirical_pkl_fn = create_empirical_dist_for_datasets(\n",
    "    datasets=[f\"{fn}.zarr\"], precompute_cache=\"./\", nthetas=65\n",
    ")"
   ]
  },
  {
   "cell_type": "code",
   "execution_count": null,
   "metadata": {},
   "outputs": [],
   "source": [
    "ds_fn = fn\n",
    "ds_dir = \"./\""
   ]
  },
  {
   "cell_type": "code",
   "execution_count": null,
   "metadata": {},
   "outputs": [],
   "source": [
    "from spf.filters.ekf_single_radio_filter import (\n",
    "    SPFKalmanFilter,\n",
    "    run_and_plot_single_radio_EKF,\n",
    ")\n",
    "\n",
    "\n",
    "ds = v5spfdataset(\n",
    "    ds_fn,\n",
    "    nthetas=65,\n",
    "    ignore_qc=True,\n",
    "    precompute_cache=ds_dir,\n",
    "    paired=True,\n",
    "    skip_fields=set([\"signal_matrix\"]),\n",
    "    # temp_file=True,\n",
    "    # temp_file_suffix=\"\",\n",
    ")\n",
    "kfs = [SPFKalmanFilter(ds=ds, rx_idx=rx_idx, phi_std=5.0, p=5) for rx_idx in range(2)]\n",
    "single_radio_trajectories = [kf.trajectory(debug=True) for kf in kfs]\n",
    "single_radio_metrics = [\n",
    "    kf.metrics(trajectory) for kf, trajectory in zip(kfs, single_radio_trajectories)\n",
    "]\n",
    "assert single_radio_metrics[0][\"mse_single_radio_theta\"] < 0.03\n",
    "assert single_radio_metrics[1][\"mse_single_radio_theta\"] < 0.03\n",
    "\n",
    "# run_and_plot_single_radio_EKF(ds, trajectories=single_radio_trajectories)"
   ]
  },
  {
   "cell_type": "code",
   "execution_count": null,
   "metadata": {},
   "outputs": [],
   "source": [
    "kfs[0].all_observations.shape"
   ]
  },
  {
   "cell_type": "code",
   "execution_count": null,
   "metadata": {},
   "outputs": [],
   "source": [
    "tmp_ds = v5spfdataset(\n",
    "    ds_fn,\n",
    "    nthetas=65,\n",
    "    ignore_qc=True,\n",
    "    precompute_cache=ds_dir,\n",
    "    paired=True,\n",
    "    skip_fields=set([\"signal_matrix\"]),\n",
    "    temp_file=True,\n",
    "    temp_file_suffix=\"\",\n",
    ")\n",
    "tmp_kfs = [\n",
    "    SPFKalmanFilter(ds=tmp_ds, rx_idx=rx_idx, phi_std=5.0, p=5) for rx_idx in range(2)\n",
    "]\n",
    "single_radio_trajectories = [kf.trajectory(debug=True) for kf in tmp_kfs]\n",
    "single_radio_metrics = [\n",
    "    kf.metrics(trajectory) for kf, trajectory in zip(tmp_kfs, single_radio_trajectories)\n",
    "]\n",
    "assert single_radio_metrics[0][\"mse_single_radio_theta\"] < 0.03\n",
    "assert single_radio_metrics[1][\"mse_single_radio_theta\"] < 0.03"
   ]
  },
  {
   "cell_type": "code",
   "execution_count": null,
   "metadata": {},
   "outputs": [],
   "source": [
    "tmp_ds[200][2][\"mean_phase_segmentation\"]"
   ]
  },
  {
   "cell_type": "code",
   "execution_count": null,
   "metadata": {},
   "outputs": [],
   "source": [
    "tmp_kfs[100].ds.temp_file"
   ]
  },
  {
   "cell_type": "code",
   "execution_count": null,
   "metadata": {},
   "outputs": [],
   "source": [
    "tmp_kfs.ds[rx_idx][0][\"mean_phase_segmentation\"]"
   ]
  }
 ],
 "metadata": {
  "kernelspec": {
   "display_name": "spf",
   "language": "python",
   "name": "python3"
  },
  "language_info": {
   "codemirror_mode": {
    "name": "ipython",
    "version": 3
   },
   "file_extension": ".py",
   "mimetype": "text/x-python",
   "name": "python",
   "nbconvert_exporter": "python",
   "pygments_lexer": "ipython3",
   "version": "3.12.3"
  }
 },
 "nbformat": 4,
 "nbformat_minor": 2
}
