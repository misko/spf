{
 "cells": [
  {
   "cell_type": "code",
   "execution_count": null,
   "metadata": {},
   "outputs": [],
   "source": []
  },
  {
   "cell_type": "markdown",
   "metadata": {},
   "source": [
    "import glob\n",
    "\n",
    "for fn in "
   ]
  },
  {
   "cell_type": "code",
   "execution_count": null,
   "metadata": {},
   "outputs": [],
   "source": [
    "import glob\n",
    "import pickle\n",
    "import numpy as np\n",
    "from spf.utils import zarr_open_from_lmdb_store\n",
    "\n",
    "fns = glob.glob(\"/mnt/4tb_ssd/precompute_cache_3p31/*.yarr\")\n",
    "\n",
    "\n",
    "def get_yarr_and_pkl(yarr_fn):\n",
    "    yarr = zarr_open_from_lmdb_store(yarr_fn, mode=\"r\")\n",
    "    pkl = pickle.load(open(yarr_fn.replace(\".yarr\", \".pkl\"), \"rb\"))\n",
    "    return yarr, pkl\n",
    "\n",
    "\n",
    "def nanstd(x):\n",
    "    return x[np.isfinite(x)].std()\n",
    "\n",
    "\n",
    "for fn in fns:\n",
    "    try:\n",
    "        yarr_3p3, pkl_3p3 = get_yarr_and_pkl(fn)\n",
    "        yarr_3p11, pkl_3p11 = get_yarr_and_pkl(fn.replace(\"_3p31\", \"\"))\n",
    "        std0 = nanstd(\n",
    "            yarr_3p3[\"r0\"][\"mean_phase\"][:] - yarr_3p11[\"r0\"][\"mean_phase\"][:]\n",
    "        )\n",
    "        std1 = nanstd(\n",
    "            yarr_3p3[\"r1\"][\"mean_phase\"][:] - yarr_3p11[\"r1\"][\"mean_phase\"][:]\n",
    "        )\n",
    "        print(fn, std0, std1)\n",
    "    except:\n",
    "        pass"
   ]
  },
  {
   "cell_type": "code",
   "execution_count": null,
   "metadata": {},
   "outputs": [],
   "source": [
    "import pickle\n",
    "from spf.utils import zarr_open_from_lmdb_store\n",
    "\n",
    "# yarr_fn = \"/mnt/4tb_ssd/precompute_cache_3p31/precompute_cache_3p3/wallarrayv3_2024_10_10_22_53_15_nRX2_bounce_spacing0p025_segmentation_nthetas65.yarr/\"\n",
    "# yarr_fn = \"/mnt/4tb_ssd/precompute_cache_3p31/wallarrayv3_2024_06_30_03_37_08_nRX2_rx_circle_spacing0p06_segmentation_nthetas65.yarr\"\n",
    "yarr_fn = \"/mnt/4tb_ssd/precompute_cache_3p31/wallarrayv3_2024_06_06_15_16_06_nRX2_bounce_segmentation_nthetas65.yarr\"\n",
    "yarr_fn_3p11 = yarr_fn.replace(\"_3p4\", \"\")\n",
    "pkl_fn = yarr_fn.replace(\".yarr\", \".pkl\")\n",
    "pkl_3p11_fn = yarr_fn_3p11.replace(\".yarr\", \".pkl\")\n",
    "# yarr_fn = \"/mnt/4tb_ssd/precompute_cache_3p3/wallarrayv3_2024_10_12_20_48_54_nRX2_rx_circle_spacing0p025_segmentation_nthetas65.yarr\"\n",
    "precomputed_zarr = zarr_open_from_lmdb_store(yarr_fn, mode=\"r\", map_size=2**32)\n",
    "precomputed_zarr_3p11 = zarr_open_from_lmdb_store(\n",
    "    yarr_fn_3p11, mode=\"r\", map_size=2**32\n",
    ")\n",
    "precomputed_pkl = pickle.load(open(pkl_fn, \"rb\"))\n",
    "precomputed_3p11_pkl = pickle.load(open(pkl_3p11_fn, \"rb\"))"
   ]
  },
  {
   "cell_type": "code",
   "execution_count": null,
   "metadata": {},
   "outputs": [],
   "source": [
    "precomputed_zarr[\"version\"][:] = 3.31"
   ]
  },
  {
   "cell_type": "code",
   "execution_count": null,
   "metadata": {},
   "outputs": [],
   "source": [
    "for idx in range(len(precomputed_pkl[\"segmentation_by_receiver\"][\"r0\"])):\n",
    "    a = precomputed_pkl[\"segmentation_by_receiver\"][\"r0\"][idx][\"simple_segmentation\"]\n",
    "    b = precomputed_3p11_pkl[\"segmentation_by_receiver\"][\"r0\"][idx][\n",
    "        \"simple_segmentation\"\n",
    "    ]\n",
    "    if len(a) != len(b):\n",
    "        print(idx)\n",
    "        break"
   ]
  },
  {
   "cell_type": "code",
   "execution_count": null,
   "metadata": {},
   "outputs": [],
   "source": [
    "for x in b:\n",
    "    print(x)"
   ]
  },
  {
   "cell_type": "code",
   "execution_count": null,
   "metadata": {},
   "outputs": [],
   "source": [
    "for x in a:\n",
    "    print(x)"
   ]
  },
  {
   "cell_type": "code",
   "execution_count": null,
   "metadata": {},
   "outputs": [],
   "source": [
    "len(precomputed_pkl[\"segmentation_by_receiver\"][\"r0\"][10][\"simple_segmentation\"][0])"
   ]
  },
  {
   "cell_type": "code",
   "execution_count": null,
   "metadata": {},
   "outputs": [],
   "source": [
    "len(\n",
    "    precomputed_3p11_pkl[\"segmentation_by_receiver\"][\"r0\"][10][\"simple_segmentation\"][0]\n",
    ")"
   ]
  },
  {
   "cell_type": "code",
   "execution_count": null,
   "metadata": {},
   "outputs": [],
   "source": [
    "import torch\n",
    "import numpy as np\n",
    "\n",
    "from spf.rf import mean_phase_mean, torch_circular_mean, torch_mean_phase_mean\n",
    "\n",
    "r_idx = 0\n",
    "mean_phase = np.hstack(\n",
    "    [\n",
    "        (\n",
    "            torch.tensor([x[\"mean\"] for x in result[\"simple_segmentation\"]]).mean()\n",
    "            if len(result) > 0\n",
    "            else torch.tensor(float(\"nan\"))\n",
    "        )\n",
    "        for result in precomputed_pkl[\"segmentation_by_receiver\"][f\"r{r_idx}\"]\n",
    "    ]\n",
    ")\n",
    "# TODO THIS SHOULD BE FIXED!!!\n",
    "mean_phase[~np.isfinite(mean_phase)] = 0\n",
    "\n",
    "\n",
    "norm_mean_phase = np.hstack(\n",
    "    [\n",
    "        (\n",
    "            torch_mean_phase_mean(\n",
    "                torch.tensor([x[\"mean\"] for x in result[\"simple_segmentation\"]]),\n",
    "                torch.ones(len(result[\"simple_segmentation\"])),\n",
    "            )\n",
    "            if len(result) > 0\n",
    "            else torch.tensor(float(\"nan\"))\n",
    "        )\n",
    "        for result in precomputed_pkl[\"segmentation_by_receiver\"][f\"r{r_idx}\"]\n",
    "    ]\n",
    ")\n",
    "# TODO THIS SHOULD BE FIXED!!!\n",
    "# norm_mean_phase[~np.isfinite(norm_mean_phase)] = 0"
   ]
  },
  {
   "cell_type": "code",
   "execution_count": null,
   "metadata": {},
   "outputs": [],
   "source": [
    "mask = np.isfinite(norm_mean_phase)\n",
    "mask.mean()"
   ]
  },
  {
   "cell_type": "code",
   "execution_count": null,
   "metadata": {},
   "outputs": [],
   "source": []
  },
  {
   "cell_type": "code",
   "execution_count": null,
   "metadata": {},
   "outputs": [],
   "source": [
    "from matplotlib import pyplot as plt\n",
    "\n",
    "from spf.rf import pi_norm, torch_pi_norm\n",
    "\n",
    "# bins=np.linspace(-8,8,50)\n",
    "bins = np.linspace(-torch.pi, torch.pi, 50)\n",
    "# plt.hist(\n",
    "#     pi_norm(mean_phase - norm_mean_phase),\n",
    "#     label=\"mean_phase-norm_mean_phase\",\n",
    "#     bins=bins,\n",
    "#     histtype=\"step\",\n",
    "# )\n",
    "# plt.hist(\n",
    "#     pi_norm(mean_phase - precomputed_zarr[\"r0\"][\"mean_phase\"][:]),\n",
    "#     label=\"mean_phase-zarr\",\n",
    "#     bins=bins,\n",
    "#     histtype=\"step\",\n",
    "# )\n",
    "plt.hist(\n",
    "    pi_norm(mean_phase - precomputed_zarr_3p11[\"r0\"][\"mean_phase\"][:]),\n",
    "    label=\"mean_phase-zarr_3p11\",\n",
    "    bins=bins,\n",
    "    histtype=\"step\",\n",
    ")\n",
    "# plt.hist(\n",
    "#     pi_norm(norm_mean_phase - precomputed_zarr[\"r0\"][\"mean_phase\"][:]),\n",
    "#     label=\"norm_mean_phase-zarr\",\n",
    "#     bins=bins,\n",
    "#     histtype=\"step\",\n",
    "# )\n",
    "# plt.hist(\n",
    "#     pi_norm(\n",
    "#         precomputed_zarr_3p11[\"r0\"][\"mean_phase\"][:]\n",
    "#         - precomputed_zarr[\"r0\"][\"mean_phase\"][:]\n",
    "#     ),\n",
    "#     label=\"3p11-3p3\",\n",
    "#     bins=bins,\n",
    "#     histtype=\"step\",\n",
    "# )\n",
    "plt.legend()"
   ]
  },
  {
   "cell_type": "code",
   "execution_count": null,
   "metadata": {},
   "outputs": [],
   "source": [
    "precomputed_zarr[\"r0\"][\"mean_phase\"][:]"
   ]
  },
  {
   "cell_type": "code",
   "execution_count": null,
   "metadata": {},
   "outputs": [],
   "source": [
    "precomputed_zarr.tree()"
   ]
  },
  {
   "cell_type": "code",
   "execution_count": null,
   "metadata": {},
   "outputs": [],
   "source": []
  }
 ],
 "metadata": {
  "kernelspec": {
   "display_name": "spf",
   "language": "python",
   "name": "python3"
  },
  "language_info": {
   "codemirror_mode": {
    "name": "ipython",
    "version": 3
   },
   "file_extension": ".py",
   "mimetype": "text/x-python",
   "name": "python",
   "nbconvert_exporter": "python",
   "pygments_lexer": "ipython3",
   "version": "3.12.3"
  }
 },
 "nbformat": 4,
 "nbformat_minor": 2
}
