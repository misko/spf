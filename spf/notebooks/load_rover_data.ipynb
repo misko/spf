{
 "cells": [
  {
   "cell_type": "code",
   "execution_count": null,
   "metadata": {},
   "outputs": [],
   "source": [
    "from spf.dataset.v4_tx_rx_to_v5 import merge_v4rx_v4tx_into_v5\n",
    "from spf.gps.boundaries import franklin_safe  # crissy_boundary_convex\n",
    "\n",
    "franklin_center = franklin_safe.mean(axis=0)\n",
    "\n",
    "rx_fn = \"/mnt/md0/spf/rovers/rover3/rover_2024_11_13_15_05_11_nRX2_center_spacing0p05075_tag_RO3.zarr\"\n",
    "tx_fn = \"/mnt/md0/spf/rovers/rover1/rover_2024_11_13_15_05_26_nRX2_bounce_spacing0p05075_tag_RO1.zarr\"\n",
    "zarr_out_fn = \"/tmp/test5\"\n",
    "\n",
    "merge_v4rx_v4tx_into_v5(tx_fn, rx_fn, zarr_out_fn, franklin_center)"
   ]
  },
  {
   "cell_type": "code",
   "execution_count": null,
   "metadata": {},
   "outputs": [],
   "source": [
    "from matplotlib import pyplot as plt\n",
    "\n",
    "from spf.utils import zarr_open_from_lmdb_store\n",
    "\n",
    "z = zarr_open_from_lmdb_store(zarr_out_fn, readahead=True, mode=\"r\")\n",
    "\n",
    "phase_diff0 = z[\"receivers\"][\"r0\"][\"avg_phase_diff\"][:, 0]\n",
    "phase_diff1 = z[\"receivers\"][\"r1\"][\"avg_phase_diff\"][:, 0]\n",
    "\n",
    "plt.scatter(range(phase_diff0.shape[0]), phase_diff0, s=1)\n",
    "plt.scatter(range(phase_diff1.shape[0]), phase_diff1, s=1)\n",
    "plt.xlim([400, 700])"
   ]
  },
  {
   "cell_type": "code",
   "execution_count": null,
   "metadata": {},
   "outputs": [],
   "source": []
  },
  {
   "cell_type": "code",
   "execution_count": null,
   "metadata": {},
   "outputs": [],
   "source": [
    "from spf.dataset.fake_dataset import create_fake_dataset\n",
    "\n",
    "\n",
    "from spf.dataset.fake_dataset import (\n",
    "    create_empirical_dist_for_datasets,\n",
    "    create_fake_dataset,\n",
    "    fake_yaml,\n",
    ")\n",
    "from spf.dataset.spf_dataset import v5spfdataset\n",
    "\n",
    "# fn = f\"./perfect_circle_n{1025}_noise0p3\"\n",
    "# uncomment to generate fake data\n",
    "# create_fake_dataset(filename=fn, yaml_config_str=fake_yaml, n=1025, noise=0.3, orbits=4)\n",
    "v5spfdataset(  # make sure everything gets segmented here\n",
    "    fn,\n",
    "    nthetas=65,\n",
    "    ignore_qc=True,\n",
    "    precompute_cache=\"/tmp/delme/\",\n",
    "    paired=True,\n",
    "    skip_fields=set([\"signal_matrix\"]),\n",
    ")\n",
    "\n",
    "# empirical_pkl_fn = create_empirical_dist_for_datasets(\n",
    "#     datasets=[f\"{fn}.zarr\"], precompute_cache=\"./\", nthetas=65\n",
    "# )"
   ]
  },
  {
   "cell_type": "code",
   "execution_count": null,
   "metadata": {},
   "outputs": [],
   "source": []
  }
 ],
 "metadata": {
  "kernelspec": {
   "display_name": "spf",
   "language": "python",
   "name": "python3"
  },
  "language_info": {
   "codemirror_mode": {
    "name": "ipython",
    "version": 3
   },
   "file_extension": ".py",
   "mimetype": "text/x-python",
   "name": "python",
   "nbconvert_exporter": "python",
   "pygments_lexer": "ipython3",
   "version": "3.12.3"
  }
 },
 "nbformat": 4,
 "nbformat_minor": 2
}
