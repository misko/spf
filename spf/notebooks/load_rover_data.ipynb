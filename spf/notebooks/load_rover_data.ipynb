{
 "cells": [
  {
   "cell_type": "code",
   "execution_count": null,
   "metadata": {},
   "outputs": [],
   "source": [
    "import tempfile\n",
    "from spf.dataset.v4_tx_rx_to_v5 import merge_v4rx_v4tx_into_v5\n",
    "from spf.gps.boundaries import franklin_safe  # crissy_boundary_convex\n",
    "\n",
    "franklin_center = franklin_safe.mean(axis=0)\n",
    "\n",
    "# rx_fn = \"/mnt/md0/spf/rovers/rover3/rover_2024_11_13_15_05_11_nRX2_center_spacing0p05075_tag_RO3.zarr\"\n",
    "# tx_fn = \"/mnt/md0/spf/rovers/rover1/rover_2024_11_13_15_05_26_nRX2_bounce_spacing0p05075_tag_RO1.zarr\"\n",
    "# rx_fn = \"/mnt/md0/spf/rovers/rover3/nov20_mission2.zarr\"\n",
    "# tx_fn = \"/mnt/md0/spf/rovers/rover2/nov20_mission2.zarr\"\n",
    "rx_fn = \"/mnt/md2/rovers/rover3/dec23_mission1.zarr\"\n",
    "tx_fn = \"/mnt/md2/rovers/rover2/dec23_mission1.zarr\"\n",
    "tmpdir = tempfile.TemporaryDirectory()\n",
    "zarr_out_fn = f\"{tmpdir.name}/out3.zarr\"\n",
    "\n",
    "merge_v4rx_v4tx_into_v5(\n",
    "    tx_fn, rx_fn, zarr_out_fn, franklin_center, fix_config=True, receivers=2\n",
    ")"
   ]
  },
  {
   "cell_type": "code",
   "execution_count": null,
   "metadata": {},
   "outputs": [],
   "source": [
    "from spf.scripts.zarr_utils import zarr_open_from_lmdb_store\n",
    "\n",
    "\n",
    "partial_zarr = zarr_open_from_lmdb_store(\n",
    "    \"/mnt/md2/rovers/rover3/dec23_mission1.zarr\", readahead=True, mode=\"r\"\n",
    ")\n",
    "(partial_zarr[\"receivers/r1/system_timestamp\"][:] == 0).sum()\n",
    "partial_zarr[\"receivers/r1/system_timestamp\"].shape[0]"
   ]
  },
  {
   "cell_type": "code",
   "execution_count": null,
   "metadata": {},
   "outputs": [],
   "source": [
    "from matplotlib import pyplot as plt\n",
    "\n",
    "\n",
    "z = zarr_open_from_lmdb_store(zarr_out_fn, readahead=True, mode=\"r\")\n",
    "\n",
    "phase_diff0 = z[\"receivers\"][\"r0\"][\"avg_phase_diff\"][:, 0]\n",
    "phase_diff1 = z[\"receivers\"][\"r1\"][\"avg_phase_diff\"][:, 0]\n",
    "\n",
    "plt.scatter(range(phase_diff0.shape[0]), phase_diff0, s=1)\n",
    "plt.scatter(range(phase_diff1.shape[0]), phase_diff1, s=1)\n",
    "# plt.xlim([400, 700])"
   ]
  },
  {
   "cell_type": "code",
   "execution_count": null,
   "metadata": {},
   "outputs": [],
   "source": []
  },
  {
   "cell_type": "code",
   "execution_count": null,
   "metadata": {},
   "outputs": [],
   "source": [
    "from spf.dataset.spf_dataset import v5spfdataset\n",
    "\n",
    "\n",
    "ds = v5spfdataset(\n",
    "    zarr_out_fn,\n",
    "    nthetas=65,\n",
    "    ignore_qc=True,\n",
    "    precompute_cache=tmpdir.name,\n",
    "    gpu=True,\n",
    "    snapshots_per_session=1,\n",
    "    n_parallel=4,\n",
    "    paired=True,\n",
    "    segment_if_not_exist=True,\n",
    ")\n",
    "\n",
    "first = ds.mean_phase[\"r0\"].shape[0]\n",
    "# plt.scatter(range(first), ds.mean_phase[\"r0\"][:first], s=1)\n",
    "# plt.scatter(range(first), ds.mean_phase[\"r1\"][:first], s=1)\n",
    "plt.scatter(range(first), ds.z[\"receivers\"][\"r0\"][\"avg_phase_diff\"][:, 0], s=1)\n",
    "plt.scatter(range(first), ds.z[\"receivers\"][\"r1\"][\"avg_phase_diff\"][:, 0], s=1)\n",
    "# plt.xlim([400, 700])\n",
    "plt.xlim([900, 1100])"
   ]
  },
  {
   "cell_type": "code",
   "execution_count": null,
   "metadata": {},
   "outputs": [],
   "source": [
    "import torch\n",
    "\n",
    "plt.plot(\n",
    "    torch.norm(\n",
    "        (ds.cached_keys[0][\"rx_pos_mm\"] - ds.cached_keys[0][\"tx_pos_mm\"]) / 1000, dim=1\n",
    "    )\n",
    ")"
   ]
  },
  {
   "cell_type": "code",
   "execution_count": null,
   "metadata": {},
   "outputs": [],
   "source": [
    "(ds.cached_keys[0][\"rx_pos_mm\"] - ds.cached_keys[0][\"tx_pos_mm\"]).shape"
   ]
  },
  {
   "cell_type": "code",
   "execution_count": null,
   "metadata": {},
   "outputs": [],
   "source": [
    "plt.plot(ds.cached_keys[0][\"rx_pos_mm\"])"
   ]
  },
  {
   "cell_type": "code",
   "execution_count": null,
   "metadata": {},
   "outputs": [],
   "source": []
  },
  {
   "cell_type": "code",
   "execution_count": null,
   "metadata": {},
   "outputs": [],
   "source": []
  },
  {
   "cell_type": "code",
   "execution_count": null,
   "metadata": {},
   "outputs": [],
   "source": []
  },
  {
   "cell_type": "code",
   "execution_count": null,
   "metadata": {},
   "outputs": [],
   "source": [
    "rx_z = zarr_open_from_lmdb_store(rx_fn, readahead=True, mode=\"r\")\n",
    "rx_z.tree()"
   ]
  },
  {
   "cell_type": "code",
   "execution_count": null,
   "metadata": {},
   "outputs": [],
   "source": [
    "# rx_z['receivers/r0/gps_lat'][:]"
   ]
  },
  {
   "cell_type": "code",
   "execution_count": null,
   "metadata": {},
   "outputs": [],
   "source": [
    "from spf.dataset.fake_dataset import create_fake_dataset\n",
    "\n",
    "\n",
    "from spf.dataset.fake_dataset import (\n",
    "    create_empirical_dist_for_datasets,\n",
    "    create_fake_dataset,\n",
    "    fake_yaml,\n",
    ")\n",
    "from spf.dataset.spf_dataset import v5spfdataset\n",
    "\n",
    "# fn = f\"./perfect_circle_n{1025}_noise0p3\"\n",
    "# # uncomment to generate fake data\n",
    "# # create_fake_dataset(filename=fn, yaml_config_str=fake_yaml, n=1025, noise=0.3, orbits=4)\n",
    "# v5spfdataset(  # make sure everything gets segmented here\n",
    "#     fn,\n",
    "#     nthetas=65,\n",
    "#     ignore_qc=True,\n",
    "#     precompute_cache=\"/tmp/delme/\",\n",
    "#     paired=True,\n",
    "#     skip_fields=set([\"signal_matrix\"]),\n",
    "# )\n",
    "\n",
    "# empirical_pkl_fn = create_empirical_dist_for_datasets(\n",
    "#     datasets=[f\"{fn}.zarr\"], precompute_cache=\"./\", nthetas=65\n",
    "# )"
   ]
  },
  {
   "cell_type": "code",
   "execution_count": null,
   "metadata": {},
   "outputs": [],
   "source": []
  },
  {
   "cell_type": "code",
   "execution_count": null,
   "metadata": {},
   "outputs": [],
   "source": [
    "ds.mean_phase[\"r0\"][12]"
   ]
  },
  {
   "cell_type": "code",
   "execution_count": null,
   "metadata": {},
   "outputs": [],
   "source": [
    "first = 200\n",
    "plt.scatter(range(first), ds.mean_phase[\"r0\"][:first], s=1)\n",
    "plt.scatter(range(first), ds.mean_phase[\"r1\"][:first], s=1)\n",
    "# plt.plot(ds.mean_phase['r1'])"
   ]
  },
  {
   "cell_type": "code",
   "execution_count": null,
   "metadata": {},
   "outputs": [],
   "source": [
    "ds.cached_keys[0].keys()\n",
    "# rx_pos_x_mm"
   ]
  },
  {
   "cell_type": "code",
   "execution_count": null,
   "metadata": {},
   "outputs": [],
   "source": [
    "ds.cached_keys[0][\"tx_pos_x_mm\"][:20]"
   ]
  },
  {
   "cell_type": "code",
   "execution_count": null,
   "metadata": {},
   "outputs": [],
   "source": [
    "import numpy as np\n",
    "\n",
    "first = 48\n",
    "ds.ground_truth_thetas[1][first], ds.ground_truth_thetas[0][first], np.pi / 2"
   ]
  },
  {
   "cell_type": "code",
   "execution_count": null,
   "metadata": {},
   "outputs": [],
   "source": [
    "ds.craft_ground_truth_thetas[:first], ds.cached_keys[0][\"rx_heading_in_pis\"][\n",
    "    :first\n",
    "]  # ,ds.cached_keys[1][\"rx_theta_in_pis\"]"
   ]
  },
  {
   "cell_type": "code",
   "execution_count": null,
   "metadata": {},
   "outputs": [],
   "source": [
    "plt.scatter(\n",
    "    ds.cached_keys[0][\"tx_pos_x_mm\"][:first], ds.cached_keys[0][\"tx_pos_y_mm\"][:first]\n",
    ")\n",
    "plt.scatter(\n",
    "    ds.cached_keys[0][\"rx_pos_x_mm\"][:first], ds.cached_keys[0][\"rx_pos_y_mm\"][:first]\n",
    ")"
   ]
  },
  {
   "cell_type": "code",
   "execution_count": null,
   "metadata": {},
   "outputs": [],
   "source": [
    "ds.rx_configs"
   ]
  },
  {
   "cell_type": "code",
   "execution_count": null,
   "metadata": {},
   "outputs": [],
   "source": [
    "plt.plot(ds.cached_keys[0][\"rx_heading_in_pis\"])"
   ]
  },
  {
   "cell_type": "code",
   "execution_count": null,
   "metadata": {},
   "outputs": [],
   "source": [
    "tx_z = zarr_open_from_lmdb_store(tx_fn, readahead=True, mode=\"r\")\n",
    "tx_z.tree()"
   ]
  },
  {
   "cell_type": "code",
   "execution_count": null,
   "metadata": {},
   "outputs": [],
   "source": [
    "plt.plot(tx_z[\"receivers/r0/heading\"][:100])"
   ]
  },
  {
   "cell_type": "code",
   "execution_count": null,
   "metadata": {},
   "outputs": [],
   "source": []
  },
  {
   "cell_type": "code",
   "execution_count": null,
   "metadata": {},
   "outputs": [],
   "source": []
  },
  {
   "cell_type": "code",
   "execution_count": null,
   "metadata": {},
   "outputs": [],
   "source": []
  },
  {
   "cell_type": "code",
   "execution_count": null,
   "metadata": {},
   "outputs": [],
   "source": [
    "import zarr\n",
    "from spf.scripts.zarr_utils import zarr_open_from_lmdb_store\n",
    "\n",
    "\n",
    "z = zarr_open_from_lmdb_store(\n",
    "    # \"/mnt/md2/rovers/rover1/rover_2025_03_15_23_21_47_nRX2_diamond_spacing0p035_tag_RO1.zarr\",\n",
    "    \"/mnt/md2/rovers/rover1/rover_2025_03_15_21_15_02_nRX2_diamond_spacing0p035_tag_RO1.zarr\",\n",
    "    mode=\"r\",\n",
    ")"
   ]
  },
  {
   "cell_type": "code",
   "execution_count": null,
   "metadata": {},
   "outputs": [],
   "source": [
    "z.tree()"
   ]
  },
  {
   "cell_type": "code",
   "execution_count": null,
   "metadata": {},
   "outputs": [],
   "source": [
    "z[\"receivers\"][\"r0\"][\"gps_long\"][:], z[\"receivers\"][\"r0\"][\"gps_lat\"][:]"
   ]
  },
  {
   "cell_type": "code",
   "execution_count": null,
   "metadata": {},
   "outputs": [],
   "source": [
    "from matplotlib import pyplot as plt\n",
    "\n",
    "plt.plot(z[\"receivers\"][\"r0\"][\"gps_lat\"][:])"
   ]
  },
  {
   "cell_type": "code",
   "execution_count": null,
   "metadata": {},
   "outputs": [],
   "source": [
    "z[\"receivers\"][\"r1\"][\"gps_long\"][:], z[\"receivers\"][\"r1\"][\"gps_lat\"][:]"
   ]
  },
  {
   "cell_type": "code",
   "execution_count": null,
   "metadata": {},
   "outputs": [],
   "source": [
    "plt.plot(z[\"receivers\"][\"r1\"][\"gps_lat\"][:])"
   ]
  },
  {
   "cell_type": "code",
   "execution_count": null,
   "metadata": {},
   "outputs": [],
   "source": [
    "import zarr\n",
    "from spf.scripts.zarr_utils import zarr_open_from_lmdb_store\n",
    "from spf.gps.boundaries import (\n",
    "    find_closest_boundary,\n",
    "    find_closest_boundary_with_distance,\n",
    ")\n",
    "import numpy as np\n",
    "\n",
    "z = zarr_open_from_lmdb_store(\n",
    "    \"/mnt/md2/rovers/rover1/rover_2025_03_15_23_21_47_nRX2_diamond_spacing0p035_tag_RO1.zarr\",\n",
    "    # \"/mnt/md2/rovers/rover1/rover_2025_03_15_21_15_02_nRX2_diamond_spacing0p035_tag_RO1.zarr\",\n",
    "    mode=\"r\",\n",
    ")\n",
    "\n",
    "for ridx in [0, 1]:\n",
    "    lats = z[\"receivers\"][f\"r{ridx}\"][\"gps_lat\"][:]\n",
    "    longs = z[\"receivers\"][f\"r{ridx}\"][\"gps_long\"][:]\n",
    "    zero_counts = 0\n",
    "    out_of_bounds_counts = 0\n",
    "    total = lats.shape[0]\n",
    "    for idx in range(total):\n",
    "        if np.isclose(longs[idx], 0.0) or np.isclose(lats[idx], 0.0):\n",
    "            zero_counts += 1\n",
    "        else:\n",
    "            d, boundary = find_closest_boundary_with_distance([longs[idx], lats[idx]])\n",
    "            if d > 200:\n",
    "                out_of_bounds_counts += 1\n",
    "    print(zero_counts, out_of_bounds_counts)"
   ]
  },
  {
   "cell_type": "code",
   "execution_count": null,
   "metadata": {},
   "outputs": [],
   "source": [
    "lat, long"
   ]
  },
  {
   "cell_type": "code",
   "execution_count": null,
   "metadata": {},
   "outputs": [],
   "source": [
    "import zarr\n",
    "from spf.scripts.zarr_utils import zarr_open_from_lmdb_store\n",
    "from spf.gps.boundaries import (\n",
    "    find_closest_boundary,\n",
    "    find_closest_boundary_with_distance,\n",
    ")\n",
    "import numpy as np\n",
    "\n",
    "z = zarr_open_from_lmdb_store(\n",
    "    # \"/mnt/md2/rovers/rover1/rover_2025_02_23_23_14_18_nRX2_diamond_spacing0p043_tag_RO1.zarr\",\n",
    "    \"/mnt/md2/rovers/rover3/rover_2025_03_02_22_20_28_nRX2_center_spacing0p043_tag_RO3.zarr\",\n",
    "    # \"/mnt/md2/rovers/rover1/rover_2025_03_15_21_15_02_nRX2_diamond_spacing0p035_tag_RO1.zarr\",\n",
    "    mode=\"r\",\n",
    ")"
   ]
  },
  {
   "cell_type": "code",
   "execution_count": null,
   "metadata": {},
   "outputs": [],
   "source": [
    "z[\"receivers\"][\"r0\"][\"rx_spacing\"][:]"
   ]
  },
  {
   "cell_type": "code",
   "execution_count": null,
   "metadata": {},
   "outputs": [],
   "source": [
    "from enum import Enum\n",
    "\n",
    "\n",
    "class SDRDEVICE(Enum):\n",
    "    UNKNOWN = 0\n",
    "    SIMULATION = 1\n",
    "    PLUTO = 2\n",
    "    BLADERF2 = 3"
   ]
  },
  {
   "cell_type": "code",
   "execution_count": null,
   "metadata": {},
   "outputs": [],
   "source": [
    "str(SDRDEVICE.UNKNOWN).split(\".\")[1]"
   ]
  },
  {
   "cell_type": "code",
   "execution_count": null,
   "metadata": {},
   "outputs": [],
   "source": []
  }
 ],
 "metadata": {
  "kernelspec": {
   "display_name": "spf",
   "language": "python",
   "name": "python3"
  },
  "language_info": {
   "codemirror_mode": {
    "name": "ipython",
    "version": 3
   },
   "file_extension": ".py",
   "mimetype": "text/x-python",
   "name": "python",
   "nbconvert_exporter": "python",
   "pygments_lexer": "ipython3",
   "version": "3.12.3"
  }
 },
 "nbformat": 4,
 "nbformat_minor": 2
}
