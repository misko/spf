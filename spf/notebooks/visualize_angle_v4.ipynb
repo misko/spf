{
 "cells": [
  {
   "cell_type": "code",
   "execution_count": null,
   "id": "00f263b7",
   "metadata": {},
   "outputs": [],
   "source": [
    "import glob\n",
    "from spf.dataset.spf_dataset import v5spfdataset\n",
    "\n",
    "rx_idx = 1\n",
    "v4_files = glob.glob(\"/mnt/4tb_ssd/nosig_data/*v4_cal*.zarr\")\n",
    "v4_dss = [\n",
    "    v5spfdataset(\n",
    "        prefix=v4_file,\n",
    "        nthetas=65,\n",
    "        ignore_qc=True,\n",
    "        precompute_cache=\"/mnt/4tb_ssd/precompute_cache_new/\",\n",
    "        gpu=False,\n",
    "        skip_fields=[\"signal_matrix\"],\n",
    "        snapshots_per_session=1,\n",
    "        n_parallel=4,\n",
    "    )\n",
    "    for v4_file in v4_files\n",
    "]"
   ]
  },
  {
   "cell_type": "code",
   "execution_count": null,
   "id": "b05c9143-da72-4241-af00-1b62a7ec3aea",
   "metadata": {},
   "outputs": [],
   "source": [
    "print(\"Using %d files as input\" % len(v4_dss))"
   ]
  },
  {
   "cell_type": "code",
   "execution_count": null,
   "id": "8bfc5895",
   "metadata": {},
   "outputs": [],
   "source": []
  },
  {
   "cell_type": "code",
   "execution_count": null,
   "id": "f767f290-f545-4e56-9f69-859119f0d1e9",
   "metadata": {},
   "outputs": [],
   "source": [
    "import tqdm\n",
    "\n",
    "# read all the files and find the min and max for x (mm) and y (mm)\n",
    "x_min, x_max = None, None\n",
    "y_min, y_max = None, None\n",
    "\n",
    "for v4_ds in v4_dss:\n",
    "\n",
    "    _x_min, _x_max = (\n",
    "        v4_ds.cached_keys[rx_idx][\"rx_pos_mm\"][:, 0].min(),\n",
    "        v4_ds.cached_keys[rx_idx][\"rx_pos_mm\"][:, 0].max(),\n",
    "    )\n",
    "    _y_min, _y_max = (\n",
    "        v4_ds.cached_keys[rx_idx][\"rx_pos_mm\"][:, 1].min(),\n",
    "        v4_ds.cached_keys[rx_idx][\"rx_pos_mm\"][:, 1].max(),\n",
    "    )\n",
    "    if x_min is None:\n",
    "        x_min = _x_min\n",
    "        x_max = _x_max\n",
    "        y_min = _y_min\n",
    "        y_max = _y_max\n",
    "    else:\n",
    "        x_min = min(x_min, _x_min)\n",
    "        x_max = max(x_max, _x_max)\n",
    "        y_min = min(y_min, _y_min)\n",
    "        y_max = max(y_max, _y_max)"
   ]
  },
  {
   "cell_type": "code",
   "execution_count": null,
   "id": "74274215-42b9-4263-a145-1affb087f070",
   "metadata": {},
   "outputs": [],
   "source": [
    "v4_dss[0].mean_phase"
   ]
  },
  {
   "cell_type": "code",
   "execution_count": null,
   "id": "eb5373f4-cda4-495a-bfa5-f19347276e49",
   "metadata": {},
   "outputs": [],
   "source": [
    "import numpy as np\n",
    "\n",
    "\n",
    "# split the area into a grid of bin_size\n",
    "def coord_to_bin(x, y, bin_size=5):\n",
    "    return int(x // bin_size), int(y // bin_size)\n",
    "\n",
    "\n",
    "bin_size = 30\n",
    "max_x, max_y = coord_to_bin(x_max, y_max, bin_size=bin_size)\n",
    "\n",
    "means = np.zeros((int(max_x + 1), int(max_y + 1)))\n",
    "counts = np.zeros((int(max_x + 1), int(max_y + 1)))\n",
    "eps = 0  # 1e-3\n",
    "# find the mean estimate angle for each bin\n",
    "for v4_ds in v4_dss:\n",
    "    mean_phases = v4_ds.mean_phase[f\"r{rx_idx}\"]\n",
    "    for row_idx in range(v4_ds.cached_keys[rx_idx][\"rx_pos_mm\"].shape[0]):\n",
    "        x, y = v4_ds.cached_keys[rx_idx][\"rx_pos_mm\"][row_idx]\n",
    "        _x, _y = coord_to_bin(x, y, bin_size=bin_size)\n",
    "        means[_x, _y] += mean_phases[row_idx]\n",
    "        counts[_x, _y] += 1\n",
    "means /= counts + eps"
   ]
  },
  {
   "cell_type": "code",
   "execution_count": null,
   "id": "dfeb8768",
   "metadata": {},
   "outputs": [],
   "source": [
    "# plt.hist(means.reshape(-1))"
   ]
  },
  {
   "cell_type": "code",
   "execution_count": null,
   "id": "a2714a22-d208-4f3f-a033-6f00112fafd6",
   "metadata": {},
   "outputs": [],
   "source": [
    "var = np.zeros((int(max_x + 1), int(max_y + 1)))\n",
    "\n",
    "# find the variance for each bin\n",
    "for v4_ds in v4_dss:\n",
    "    mean_phases = v4_ds.mean_phase[f\"r{rx_idx}\"]\n",
    "    for row_idx in range(v4_ds.cached_keys[rx_idx][\"rx_pos_mm\"].shape[0]):\n",
    "        x, y = v4_ds.cached_keys[rx_idx][\"rx_pos_mm\"][row_idx]\n",
    "        _x, _y = coord_to_bin(x, y, bin_size=bin_size)\n",
    "        var[_x, _y] += np.power(means[_x, _y] - mean_phases[row_idx], 2)\n",
    "var /= counts + eps"
   ]
  },
  {
   "cell_type": "code",
   "execution_count": null,
   "id": "e4efa59c-ce7d-4eab-a458-e1b63028dd5c",
   "metadata": {},
   "outputs": [],
   "source": [
    "from mpl_toolkits.axes_grid1 import make_axes_locatable\n",
    "import matplotlib.pyplot as plt\n",
    "\n",
    "fig, axs = plt.subplots(1, 2, figsize=(45, 22))\n",
    "\n",
    "im = axs[0].imshow(\n",
    "    means.T * 360 / (2 * np.pi),\n",
    "    origin=\"upper\",\n",
    "    extent=(0, means.shape[0], means.shape[1], 0),\n",
    "    cmap=\"brg\",\n",
    "    aspect=\"auto\",\n",
    ")\n",
    "divider = make_axes_locatable(axs[0])\n",
    "cax = divider.append_axes(\"right\", size=\"5%\", pad=0.05)\n",
    "fig.colorbar(im, cax=cax, orientation=\"vertical\")\n",
    "axs[0].invert_xaxis()\n",
    "\n",
    "im = axs[1].imshow(np.clip(var.T * 360 / (2 * np.pi), a_max=30, a_min=0))\n",
    "\n",
    "divider = make_axes_locatable(axs[1])\n",
    "cax = divider.append_axes(\"right\", size=\"5%\", pad=0.05)\n",
    "fig.colorbar(im, cax=cax, orientation=\"vertical\")\n",
    "axs[1].invert_xaxis()\n",
    "\n",
    "# how many ticks to put on the sides\n",
    "nticks = 7\n",
    "xs = np.arange(0, means.shape[0], means.shape[0] // nticks)\n",
    "ys = np.arange(0, means.shape[1], means.shape[1] // nticks)\n",
    "\n",
    "axs[0].set_title(\"Radio angle estimate (degrees) vs position\")\n",
    "axs[1].set_title(\"Variance (degrees) vs position\")\n",
    "plt.tight_layout()\n",
    "plt.savefig(\"%dmm_res_map.png\" % bin_size)"
   ]
  },
  {
   "cell_type": "code",
   "execution_count": null,
   "id": "36712224-000c-4f7a-83bb-717c8edc6529",
   "metadata": {},
   "outputs": [],
   "source": [
    "import matplotlib.pyplot as plt\n",
    "\n",
    "plt.hist(counts.reshape(-1))"
   ]
  },
  {
   "cell_type": "code",
   "execution_count": null,
   "id": "85a8578f-8747-492c-b215-5ac90ec78a3b",
   "metadata": {},
   "outputs": [],
   "source": []
  },
  {
   "cell_type": "code",
   "execution_count": null,
   "id": "f011a958-214d-49dd-9e1c-262a1009e022",
   "metadata": {},
   "outputs": [],
   "source": []
  },
  {
   "cell_type": "code",
   "execution_count": null,
   "id": "171ffd8a-f970-43a6-b977-fd58613b6bbf",
   "metadata": {},
   "outputs": [],
   "source": []
  },
  {
   "cell_type": "code",
   "execution_count": null,
   "id": "6bfe04cd",
   "metadata": {},
   "outputs": [],
   "source": []
  },
  {
   "cell_type": "code",
   "execution_count": null,
   "id": "a04f1b02",
   "metadata": {},
   "outputs": [],
   "source": []
  }
 ],
 "metadata": {
  "kernelspec": {
   "display_name": "spf",
   "language": "python",
   "name": "python3"
  },
  "language_info": {
   "codemirror_mode": {
    "name": "ipython",
    "version": 3
   },
   "file_extension": ".py",
   "mimetype": "text/x-python",
   "name": "python",
   "nbconvert_exporter": "python",
   "pygments_lexer": "ipython3",
   "version": "3.12.3"
  }
 },
 "nbformat": 4,
 "nbformat_minor": 5
}
