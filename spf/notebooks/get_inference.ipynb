{
 "cells": [
  {
   "cell_type": "code",
   "execution_count": null,
   "metadata": {},
   "outputs": [],
   "source": [
    "from spf.model_training_and_inference.models.single_point_networks_inference import (\n",
    "    get_inference_on_ds,\n",
    ")\n",
    "\n",
    "\n",
    "zarr_fn = \"/mnt/md2/2d_wallarray_v2_data/nov/wallarrayv3_2024_11_22_09_14_38_nRX2_v4_calibrate_spacing0p04.zarr\"\n",
    "config_fn = \"/home/mouse9911/gits/spf/latest_configs/feb16_paired_wd0p02_gains_vehicle_0p2dropout_nobounce.yml\"\n",
    "precompute_cache = \"/mnt/md2/cache/precompute_cache_3p5_chunk1\"\n",
    "inference_cache = \"/mnt/md2/cache/inference\"\n",
    "checkpoint_fn = \"/home/mouse9911/gits/spf/checkpoints/feb16/paired_checkpoints_windowedbeamformer_nosig_3p5_randx_wd0p02_gains_vehicle_0p2dropout_noroverbounce/best.pth\"\n",
    "get_inference_on_ds(\n",
    "    ds_fn=zarr_fn,\n",
    "    config_fn=config_fn,\n",
    "    checkpoint_fn=checkpoint_fn,\n",
    "    device=\"cpu\",\n",
    "    inference_cache=inference_cache,\n",
    "    batch_size=64,\n",
    "    workers=0,\n",
    "    precompute_cache=precompute_cache,\n",
    "    segmentation_version=3.5,\n",
    ")[\"single\"].shape"
   ]
  },
  {
   "cell_type": "code",
   "execution_count": null,
   "metadata": {},
   "outputs": [],
   "source": [
    "# create unshuffled data loader\n",
    "from spf.dataset.spf_dataset import v5spfdataset\n",
    "\n",
    "\n",
    "ds = v5spfdataset(\n",
    "    zarr_fn,\n",
    "    precompute_cache=precompute_cache,\n",
    "    nthetas=65,\n",
    "    target_ntheta=65,\n",
    "    paired=True,\n",
    "    ignore_qc=True,\n",
    "    gpu=\"cpu\",\n",
    "    snapshots_stride=1,\n",
    "    # empirical_data_fn=datasets_config[\"empirical_data_fn\"],\n",
    "    # empirical_individual_radio=datasets_config[\"empirical_individual_radio\"],\n",
    "    # empirical_symmetry=datasets_config[\"empirical_symmetry\"],\n",
    "    # target_dtype=optim_config[\"dtype\"],\n",
    "    segmentation_version=3.5,  # datasets_config[\"segmentation_version\"],\n",
    "    # **kwargs,\n",
    ")"
   ]
  },
  {
   "cell_type": "code",
   "execution_count": null,
   "metadata": {},
   "outputs": [],
   "source": [
    "len(ds)"
   ]
  },
  {
   "cell_type": "code",
   "execution_count": null,
   "metadata": {},
   "outputs": [],
   "source": []
  }
 ],
 "metadata": {
  "kernelspec": {
   "display_name": "spf",
   "language": "python",
   "name": "python3"
  },
  "language_info": {
   "codemirror_mode": {
    "name": "ipython",
    "version": 3
   },
   "file_extension": ".py",
   "mimetype": "text/x-python",
   "name": "python",
   "nbconvert_exporter": "python",
   "pygments_lexer": "ipython3",
   "version": "3.12.3"
  }
 },
 "nbformat": 4,
 "nbformat_minor": 2
}
