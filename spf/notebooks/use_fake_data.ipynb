{
 "cells": [
  {
   "cell_type": "code",
   "execution_count": null,
   "metadata": {},
   "outputs": [],
   "source": [
    "from spf.dataset.fake_dataset import create_fake_dataset, fake_yaml\n",
    "\n",
    "ds_fn = \"test_circle\"\n",
    "create_fake_dataset(fake_yaml, ds_fn)"
   ]
  },
  {
   "cell_type": "code",
   "execution_count": null,
   "metadata": {},
   "outputs": [],
   "source": [
    "from spf.dataset.spf_dataset import v5spfdataset\n",
    "\n",
    "import torch\n",
    "\n",
    "ds = v5spfdataset(\n",
    "    ds_fn,\n",
    "    nthetas=65,\n",
    "    ignore_qc=True,\n",
    "    precompute_cache=\"/tmp/\",\n",
    "    segment_if_not_exist=True,\n",
    "    paired=True,\n",
    ")"
   ]
  },
  {
   "cell_type": "code",
   "execution_count": null,
   "metadata": {},
   "outputs": [],
   "source": [
    "import matplotlib.pyplot as plt\n",
    "\n",
    "fig, axs = plt.subplots(1, 2)\n",
    "axs[0].imshow(ds.precomputed_zarr[\"r0\"].windowed_beamformer[:].mean(axis=1).T)\n",
    "axs[1].imshow(ds.precomputed_zarr[\"r1\"].windowed_beamformer[:].mean(axis=1).T)"
   ]
  },
  {
   "cell_type": "code",
   "execution_count": null,
   "metadata": {},
   "outputs": [],
   "source": [
    "ds.z.receivers[\"r0\"].tree()"
   ]
  },
  {
   "cell_type": "code",
   "execution_count": null,
   "metadata": {},
   "outputs": [],
   "source": [
    "ds[0][0][\"ground_truth_theta\"] / torch.pi, ds[0][1][\"ground_truth_theta\"] / torch.pi"
   ]
  },
  {
   "cell_type": "code",
   "execution_count": null,
   "metadata": {},
   "outputs": [],
   "source": [
    "ds[0][0][\"rx_theta_in_pis\"], ds[0][1][\"rx_theta_in_pis\"]"
   ]
  },
  {
   "cell_type": "code",
   "execution_count": null,
   "metadata": {},
   "outputs": [],
   "source": [
    "craft_ground_truth_thetas = torch.vstack(\n",
    "    [ds[idx][0][\"craft_ground_truth_theta\"] for idx in range(len(ds))]\n",
    ")\n",
    "craft_ground_truth_thetas.shape"
   ]
  },
  {
   "cell_type": "code",
   "execution_count": null,
   "metadata": {},
   "outputs": [],
   "source": [
    "plt.imshow(x)"
   ]
  },
  {
   "cell_type": "code",
   "execution_count": null,
   "metadata": {},
   "outputs": [],
   "source": [
    "gt = torch.zeros(craft_ground_truth_thetas.shape[0], 65)\n",
    "gt[int(craft_ground_truth_thetas // (2 * torch.pi / 65)) % 65] = 1"
   ]
  },
  {
   "cell_type": "code",
   "execution_count": null,
   "metadata": {},
   "outputs": [],
   "source": [
    "from spf.rf import rotate_dist\n",
    "\n",
    "rs = []\n",
    "for rx_idx in range(2):\n",
    "    r = torch.as_tensor(\n",
    "        ds.precomputed_zarr[f\"r{rx_idx}\"].windowed_beamformer[:].mean(axis=1)\n",
    "    )\n",
    "    r = rotate_dist(\n",
    "        r,\n",
    "        torch.as_tensor(ds.z.receivers[f\"r{rx_idx}\"].rx_theta_in_pis[:]) * torch.pi,\n",
    "    ).T\n",
    "    r /= r.sum(axis=0)\n",
    "    rs.append(r)\n",
    "\n",
    "gt = torch.scatter(\n",
    "    torch.zeros(50, 65),\n",
    "    1,\n",
    "    (((craft_ground_truth_thetas - torch.pi) // (2 * torch.pi / 65)) % 65).to(\n",
    "        torch.long\n",
    "    ),\n",
    "    1,\n",
    ")\n",
    "(gt * rs[0].T * rs[1].T).sum(axis=1).mean() - (rs[0] * rs[1]).max()"
   ]
  },
  {
   "cell_type": "code",
   "execution_count": null,
   "metadata": {},
   "outputs": [],
   "source": []
  },
  {
   "cell_type": "code",
   "execution_count": null,
   "metadata": {},
   "outputs": [],
   "source": [
    "plt.imshow(gt * rs[0].T, origin=\"lower\")"
   ]
  },
  {
   "cell_type": "code",
   "execution_count": null,
   "metadata": {},
   "outputs": [],
   "source": [
    "import matplotlib.pyplot as plt\n",
    "\n",
    "from spf.rf import rotate_dist\n",
    "\n",
    "fig, axs = plt.subplots(2, 3, figsize=(7, 6))\n",
    "for row_idx in range(2):\n",
    "    rs = []\n",
    "    for rx_idx in range(2):\n",
    "        r = torch.as_tensor(\n",
    "            ds.precomputed_zarr[f\"r{rx_idx}\"].windowed_beamformer[:].mean(axis=1)\n",
    "        )\n",
    "        r = rotate_dist(\n",
    "            r,\n",
    "            torch.as_tensor(ds.z.receivers[f\"r{rx_idx}\"].rx_theta_in_pis[:])\n",
    "            * torch.pi\n",
    "            * row_idx,\n",
    "        ).T\n",
    "        rs.append(r)\n",
    "    rs.append(rs[0] * rs[1])\n",
    "    for idx in range(3):\n",
    "        axs[row_idx, idx].imshow(rs[idx], origin=\"lower\")\n",
    "        axs[row_idx, idx].set_yticks([0, 32, 64], [\"-pi\", \"0\", \"+pi\"])\n",
    "        title = \"\"\n",
    "        if idx < 2:\n",
    "            title = f\"rx_idx:{idx}\"\n",
    "            if row_idx == 1:\n",
    "                title = \"craft \" + title\n",
    "        else:\n",
    "            if row_idx == 0:\n",
    "                title = \"joint rx_idx 1*2\"\n",
    "            else:\n",
    "                title = \"joint craft rx_idx 1*2\"\n",
    "        axs[row_idx, idx].set_title(title)\n",
    "\n",
    "    fig.tight_layout()"
   ]
  },
  {
   "cell_type": "code",
   "execution_count": null,
   "metadata": {},
   "outputs": [],
   "source": [
    " ds[0][0][\"weighted_beamformer\"][0].shape"
   ]
  },
  {
   "cell_type": "code",
   "execution_count": null,
   "metadata": {},
   "outputs": [],
   "source": [
    "import matplotlib.pyplot as plt\n",
    "\n",
    "from spf.rf import rotate_dist\n",
    "\n",
    "plt.imshow(\n",
    "    rotate_dist(\n",
    "        ds[0][0][\"weighted_beamformer\"][0],\n",
    "        0 * ds[0][0][\"rx_theta_in_pis\"].reshape(1, 1) * torch.pi + 1,\n",
    "    )\n",
    ")"
   ]
  },
  {
   "cell_type": "code",
   "execution_count": null,
   "metadata": {},
   "outputs": [],
   "source": [
    "ds[0][0][\"rx_theta_in_pis\"]"
   ]
  },
  {
   "cell_type": "code",
   "execution_count": null,
   "metadata": {},
   "outputs": [],
   "source": [
    "import matplotlib.pyplot as plt\n",
    "import torch\n",
    "from spf.rf import get_peaks_for_2rx, torch_pi_norm\n",
    "\n",
    "rx_idx = 0\n",
    "\n",
    "fig, axs = plt.subplots(1, 2, figsize=(14, 4))\n",
    "axs[0].plot(\n",
    "    [ds[idx][rx_idx][\"ground_truth_theta\"] for idx in range(len(ds))],\n",
    "    label=f\"gt-theta-rx{rx_idx}\",\n",
    ")\n",
    "# axs[0].plot(\n",
    "#    [ds[idx][1][\"ground_truth_theta\"] for idx in range(len(ds))], label=\"gt-theta-rx1\"\n",
    "# )\n",
    "axs[0].plot(\n",
    "    [ds[idx][rx_idx][\"craft_ground_truth_theta\"] for idx in range(len(ds))],\n",
    "    label=f\"craft-theta-rx{rx_idx}\",\n",
    ")\n",
    "# axs[0].plot(\n",
    "#     [ds[idx][0][\"craft_ground_truth_theta\"] for idx in range(len(ds))],\n",
    "#     label=\"craft-theta-rx0\",\n",
    "# )\n",
    "axs[0].legend()\n",
    "\n",
    "# axs[1].plot(\n",
    "#    [ds[idx][0][\"mean_phase_segmentation\"].item() for idx in range(20)],\n",
    "#    label=\"phase-rx0\",\n",
    "# )\n",
    "axs[1].plot(\n",
    "    [\n",
    "        torch_pi_norm(\n",
    "            (\n",
    "                torch.tensor(\n",
    "                    get_peaks_for_2rx(ds[idx][rx_idx][\"weighted_beamformer\"][0, 0])\n",
    "                )\n",
    "                / 65\n",
    "                - 0.5\n",
    "            )\n",
    "            * 2\n",
    "            * torch.pi\n",
    "        )\n",
    "        for idx in range(len(ds))\n",
    "    ],\n",
    "    label=\"uncorrected\",\n",
    ")\n",
    "axs[1].plot(\n",
    "    [\n",
    "        torch_pi_norm(\n",
    "            (\n",
    "                torch.tensor(\n",
    "                    get_peaks_for_2rx(ds[idx][rx_idx][\"weighted_beamformer\"][0, 0])\n",
    "                )\n",
    "                / 65\n",
    "                - 0.5\n",
    "            )\n",
    "            * 2\n",
    "            * torch.pi\n",
    "            + ds[idx][rx_idx][\"rx_theta_in_pis\"] * torch.pi\n",
    "        )\n",
    "        for idx in range(len(ds))\n",
    "    ],\n",
    "    label=\"corrected\",\n",
    ")\n",
    "axs[1].legend()\n",
    "\n",
    "# ds[0][1]"
   ]
  },
  {
   "cell_type": "code",
   "execution_count": null,
   "metadata": {},
   "outputs": [],
   "source": [
    "import matplotlib.pyplot as plt\n",
    "import torch\n",
    "from spf.rf import get_peaks_for_2rx, torch_pi_norm\n",
    "\n",
    "rx_idx = 0\n",
    "\n",
    "fig, axs = plt.subplots(1, 2, figsize=(14, 4))\n",
    "axs[0].plot(\n",
    "    [ds[idx][0][\"ground_truth_theta\"] for idx in range(len(ds))], label=\"gt-theta-rx0\"\n",
    ")\n",
    "axs[0].plot(\n",
    "    [ds[idx][1][\"ground_truth_theta\"] for idx in range(len(ds))], label=\"gt-theta-rx1\"\n",
    ")\n",
    "axs[0].plot(\n",
    "    [ds[idx][1][\"craft_ground_truth_theta\"] for idx in range(len(ds))],\n",
    "    label=\"craft-theta-rx1\",\n",
    ")\n",
    "axs[0].plot(\n",
    "    [ds[idx][0][\"craft_ground_truth_theta\"] for idx in range(len(ds))],\n",
    "    label=\"craft-theta-rx0\",\n",
    ")\n",
    "axs[0].legend()\n",
    "\n",
    "# axs[1].plot(\n",
    "#    [ds[idx][0][\"mean_phase_segmentation\"].item() for idx in range(20)],\n",
    "#    label=\"phase-rx0\",\n",
    "# )\n",
    "axs[1].plot(\n",
    "    [\n",
    "        torch_pi_norm(\n",
    "            (\n",
    "                torch.tensor(\n",
    "                    get_peaks_for_2rx(\n",
    "                        rotate_dist(\n",
    "                            ds[idx][rx_idx][\"weighted_beamformer\"][0],\n",
    "                            ds[idx][rx_idx][\"rx_theta_in_pis\"].reshape(1, 1) * torch.pi,\n",
    "                        )\n",
    "                    )\n",
    "                )\n",
    "                / 65\n",
    "                - 0.5\n",
    "            )\n",
    "            * 2\n",
    "            * torch.pi\n",
    "        )\n",
    "        for idx in range(len(ds))\n",
    "    ]\n",
    ")\n",
    "\n",
    "# ds[0][1]"
   ]
  },
  {
   "cell_type": "code",
   "execution_count": null,
   "metadata": {},
   "outputs": [],
   "source": [
    "fig, axs = plt.subplots(1, 3)\n",
    "axs[0].imshow(\n",
    "    torch.vstack(\n",
    "        [ds[idx][rx_idx][\"weighted_beamformer\"][0] for idx in range(len(ds))]\n",
    "    ).T,\n",
    "    origin=\"lower\",\n",
    ")\n",
    "axs[0].set_yticks([0, 32, 64], [\"-pi\", \"0\", \"+pi\"])\n",
    "\n",
    "axs[1].imshow(\n",
    "    torch.vstack(\n",
    "        [\n",
    "            rotate_dist(\n",
    "                ds[idx][rx_idx][\"weighted_beamformer\"][0],\n",
    "                (\n",
    "                    ds[idx][rx_idx][\"rx_theta_in_pis\"]\n",
    "                    + ds[idx][rx_idx][\"rx_heading_in_pis\"]\n",
    "                ).reshape(1, 1)\n",
    "                * torch.pi,\n",
    "            )\n",
    "            for idx in range(len(ds))\n",
    "        ]\n",
    "    ).T,\n",
    "    origin=\"lower\",\n",
    ")\n",
    "axs[1].set_yticks([0, 32, 64], [\"-pi\", \"0\", \"+pi\"])\n",
    "axs[2].imshow(\n",
    "    rotate_dist(\n",
    "        torch.vstack(\n",
    "            [ds[idx][rx_idx][\"weighted_beamformer\"][0] for idx in range(len(ds))]\n",
    "        ),\n",
    "        torch.vstack(\n",
    "            [\n",
    "                ds[idx][rx_idx][\"rx_theta_in_pis\"][0]\n",
    "                + ds[idx][rx_idx][\"rx_heading_in_pis\"][0]\n",
    "                for idx in range(len(ds))\n",
    "            ]\n",
    "        )\n",
    "        * torch.pi,\n",
    "    ).T,\n",
    "    origin=\"lower\",\n",
    ")\n",
    "axs[2].set_yticks([0, 32, 64], [\"-pi\", \"0\", \"+pi\"])"
   ]
  },
  {
   "cell_type": "code",
   "execution_count": null,
   "metadata": {},
   "outputs": [],
   "source": [
    "ds[0][0][\"rx_heading_in_pis\"], ds[0][0][\"rx_theta_in_pis\"]"
   ]
  },
  {
   "cell_type": "code",
   "execution_count": null,
   "metadata": {},
   "outputs": [],
   "source": [
    "a = torch.vstack([ds[idx][rx_idx][\"rx_theta_in_pis\"][0] for idx in range(len(ds))])"
   ]
  },
  {
   "cell_type": "code",
   "execution_count": null,
   "metadata": {},
   "outputs": [],
   "source": [
    "b = torch.vstack([ds[idx][rx_idx][\"weighted_beamformer\"][0] for idx in range(len(ds))])"
   ]
  },
  {
   "cell_type": "code",
   "execution_count": null,
   "metadata": {},
   "outputs": [],
   "source": [
    "a.shape, b.shape"
   ]
  },
  {
   "cell_type": "code",
   "execution_count": null,
   "metadata": {},
   "outputs": [],
   "source": [
    "rotate_dist(b[[0]], a[0]) == rotate_dist(b, a)[0]"
   ]
  },
  {
   "cell_type": "code",
   "execution_count": null,
   "metadata": {},
   "outputs": [],
   "source": []
  },
  {
   "cell_type": "code",
   "execution_count": null,
   "metadata": {},
   "outputs": [],
   "source": [
    "from spf.rf import get_peaks_for_2rx, torch_pi_norm\n",
    "import torch\n",
    "\n",
    "torch_pi_norm(\n",
    "    (torch.tensor(get_peaks_for_2rx(ds[0][0][\"weighted_beamformer\"][0, 0])) / 65 - 0.5)\n",
    "    * 2\n",
    "    * torch.pi\n",
    "), ds[0][0][\"ground_truth_theta\"]"
   ]
  },
  {
   "cell_type": "code",
   "execution_count": null,
   "metadata": {},
   "outputs": [],
   "source": [
    "plt.imshow(ds[0][0][\"weighted_beamformer\"][0])"
   ]
  },
  {
   "cell_type": "code",
   "execution_count": null,
   "metadata": {},
   "outputs": [],
   "source": [
    "ds[0][0][\"weighted_beamformer\"].shape"
   ]
  },
  {
   "cell_type": "code",
   "execution_count": null,
   "metadata": {},
   "outputs": [],
   "source": [
    "lines = torch.zeros(100, 65)\n",
    "lines_2x = torch.zeros(100, 65)\n",
    "angle_diffs = torch.zeros(100, 1)\n",
    "for i in range(100):\n",
    "    lines[i][i % 65] = 1.0\n",
    "    lines_2x[i][(2 * i) % 65] = 1.0\n",
    "    angle_diffs[i] = i * 2 * torch.pi / 65"
   ]
  },
  {
   "cell_type": "code",
   "execution_count": null,
   "metadata": {},
   "outputs": [],
   "source": [
    "angle_diffs.shape"
   ]
  },
  {
   "cell_type": "code",
   "execution_count": null,
   "metadata": {},
   "outputs": [],
   "source": [
    "plt.imshow(lines)"
   ]
  },
  {
   "cell_type": "code",
   "execution_count": null,
   "metadata": {},
   "outputs": [],
   "source": [
    "plt.imshow(rotate_dist(lines, angle_diffs))"
   ]
  },
  {
   "cell_type": "code",
   "execution_count": null,
   "metadata": {},
   "outputs": [],
   "source": [
    "plt.imshow(rotate_dist(rotate_dist(a, b), -b))"
   ]
  },
  {
   "cell_type": "code",
   "execution_count": null,
   "metadata": {},
   "outputs": [],
   "source": [
    "(lines - rotate_dist(rotate_dist(lines, angle_diffs), -angle_diffs)).isclose(\n",
    "    torch.tensor([0.0])\n",
    ").all()"
   ]
  },
  {
   "cell_type": "code",
   "execution_count": null,
   "metadata": {},
   "outputs": [],
   "source": [
    "(lines - rotate_dist(lines_2x, -angle_diffs)).isclose(torch.tensor([0.0])).all()"
   ]
  },
  {
   "cell_type": "code",
   "execution_count": null,
   "metadata": {},
   "outputs": [],
   "source": [
    "(lines_2x - rotate_dist(lines, angle_diffs)).isclose(torch.tensor([0.0])).all()"
   ]
  },
  {
   "cell_type": "code",
   "execution_count": null,
   "metadata": {},
   "outputs": [],
   "source": [
    "torch.nn.functional.normalize(rotate_dist(lines, angle_diffs), p=1.0, dim=1).sum(axis=1)"
   ]
  },
  {
   "cell_type": "code",
   "execution_count": null,
   "metadata": {},
   "outputs": [],
   "source": [
    "rotate_dist(lines, angle_diffs + 0.1).sum(axis=1)"
   ]
  },
  {
   "cell_type": "code",
   "execution_count": null,
   "metadata": {},
   "outputs": [],
   "source": []
  }
 ],
 "metadata": {
  "kernelspec": {
   "display_name": "spf",
   "language": "python",
   "name": "python3"
  },
  "language_info": {
   "codemirror_mode": {
    "name": "ipython",
    "version": 3
   },
   "file_extension": ".py",
   "mimetype": "text/x-python",
   "name": "python",
   "nbconvert_exporter": "python",
   "pygments_lexer": "ipython3",
   "version": "3.12.3"
  }
 },
 "nbformat": 4,
 "nbformat_minor": 2
}
