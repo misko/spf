{
 "cells": [
  {
   "cell_type": "code",
   "execution_count": null,
   "id": "59584a7c-1e24-4e41-9952-23e7298bc583",
   "metadata": {},
   "outputs": [],
   "source": [
    "import sys\n",
    "\n",
    "repo_root = \"/Users/miskodzamba/Dropbox/research/gits/spf/\"\n",
    "sys.path.append(repo_root)  # go to parent dir\n",
    "\n",
    "from spf.dataset.spf_dataset import SessionsDatasetReal"
   ]
  },
  {
   "cell_type": "code",
   "execution_count": null,
   "id": "9eda4979",
   "metadata": {},
   "outputs": [],
   "source": [
    "from spf.utils import dotdict\n",
    "\n",
    "args = dotdict(\n",
    "    {\n",
    "        \"carrier_frequency\": 2.4e9,\n",
    "        \"signal_frequency\": 100e3,\n",
    "        \"sampling_frequency\": 10e6,\n",
    "        \"array_type\": \"linear\",  # \"circular\"],\n",
    "        \"elements\": 2,\n",
    "        \"random_silence\": False,\n",
    "        \"detector_noise\": 0.0,  # 1e-4,\n",
    "        \"random_emitter_timing\": False,\n",
    "        \"sources\": 1,\n",
    "        \"seed\": 0,\n",
    "        \"beam_former_spacing\": 64 + 1,\n",
    "        \"width\": 128,\n",
    "        \"detector_trajectory\": \"bounce\",\n",
    "        \"detector_speed\": 0.0,\n",
    "        \"source_speed\": 10.0,\n",
    "        \"sigma_noise\": 0.0,  # 1.0,\n",
    "        \"time_steps\": 4096,\n",
    "        \"time_interval\": 0.3,\n",
    "        \"readings_per_snapshot\": 3,\n",
    "        \"sessions\": 4096,\n",
    "        \"reference\": False,\n",
    "        \"cpus\": 8,\n",
    "        \"live\": True,\n",
    "        \"profile\": False,\n",
    "        \"fixed_detector\": None,  #\n",
    "    }\n",
    ")"
   ]
  },
  {
   "cell_type": "code",
   "execution_count": null,
   "id": "3c05faba",
   "metadata": {},
   "outputs": [],
   "source": [
    "from spf.dataset.spf_generate import generate_session_and_dump\n",
    "import tempfile\n",
    "from compress_pickle import dump\n",
    "\n",
    "tmpdir = tempfile.TemporaryDirectory()\n",
    "args.output = tmpdir.name\n",
    "dump(args, \"/\".join([args.output, \"args.pkl\"]), compression=\"lzma\")\n",
    "# result = [ generate_session_and_dump((args, session_idx)) for session_idx in range(args.sessions) ]"
   ]
  },
  {
   "cell_type": "code",
   "execution_count": null,
   "id": "f76fd39b",
   "metadata": {},
   "outputs": [],
   "source": [
    "from spf.dataset.spf_dataset import SessionsDatasetSimulated\n",
    "\n",
    "ds = SessionsDatasetSimulated(root_dir=tmpdir.name, snapshots_per_session=1024)"
   ]
  },
  {
   "cell_type": "code",
   "execution_count": null,
   "id": "7084912d-c62f-4383-a25b-79a6a99583f5",
   "metadata": {},
   "outputs": [],
   "source": [
    "# pick a session from the dataset\n",
    "session_idx = 1000\n",
    "session = ds[session_idx]"
   ]
  },
  {
   "cell_type": "code",
   "execution_count": null,
   "id": "3552f89f",
   "metadata": {},
   "outputs": [],
   "source": []
  },
  {
   "cell_type": "code",
   "execution_count": null,
   "id": "21858d41-83af-4adb-b5cb-55e33b81c247",
   "metadata": {},
   "outputs": [],
   "source": [
    "import numpy as np\n",
    "import matplotlib.pyplot as plt\n",
    "from spf.rf import get_peaks_for_2rx\n",
    "\n",
    "idx = 490\n",
    "bf_out = session[\"beam_former_outputs_at_t\"][idx]\n",
    "peaks = get_peaks_for_2rx(bf_out)\n",
    "plt.plot(bf_out, color=\"red\", label=\"beamformer\")\n",
    "for peak in peaks:\n",
    "    plt.axvline(x=peak, label=\"Peak\")\n",
    "plt.legend()"
   ]
  },
  {
   "cell_type": "code",
   "execution_count": null,
   "id": "f700afb8",
   "metadata": {},
   "outputs": [],
   "source": []
  },
  {
   "cell_type": "code",
   "execution_count": null,
   "id": "ab349f95-e442-4b52-b1dc-b18e1748874c",
   "metadata": {},
   "outputs": [],
   "source": [
    "f, axs = plt.subplots(2, 2, figsize=(16, 8))\n",
    "\n",
    "axs[0, 0].invert_yaxis()  # y goes down\n",
    "axs[0, 0].invert_xaxis()  # x goes left\n",
    "axs[0, 0].set_xlabel(\"X position\")\n",
    "axs[0, 0].set_ylabel(\"Y position\")\n",
    "axs[0, 0].plot(\n",
    "    session[\"source_positions_at_t\"][:, 0, 0], session[\"source_positions_at_t\"][:, 0, 1]\n",
    ")\n",
    "axs[0, 0].set_title(\"2D Position (x/y)\")\n",
    "\n",
    "axs[1, 0].plot(session[\"source_positions_at_t\"][:, 0, 0], label=\"X\")\n",
    "axs[1, 0].plot(session[\"source_positions_at_t\"][:, 0, 1], label=\"Y\")\n",
    "axs[1, 0].legend()\n",
    "axs[1, 0].set_title(\"Position (x/y) vs time\")\n",
    "axs[1, 0].set_xlabel(\"Time\")\n",
    "\n",
    "axs[1, 1].plot(session[\"detector_orientation_at_t\"] + session[\"source_theta_at_t\"])\n",
    "axs[1, 1].set_ylabel(\"Theta\")\n",
    "axs[1, 1].set_xlabel(\"Time\")\n",
    "axs[1, 1].set_title(\"Ground truth theta\")\n",
    "\n",
    "# plot the beamformer output\n",
    "peaks_at_t = np.array(\n",
    "    [get_peaks_for_2rx(bf_out) for bf_out in session[\"beam_former_outputs_at_t\"]]\n",
    ")\n",
    "peaks_at_t_in_radians = 2 * (peaks_at_t / args.beam_former_spacing - 0.5) * np.pi\n",
    "peaks_at_t_in_radians_adjusted = (\n",
    "    peaks_at_t_in_radians + 20 * session[\"detector_orientation_at_t\"]\n",
    ")  # % (np.pi*2)\n",
    "\n",
    "axs[0, 1].plot(peaks_at_t_in_radians_adjusted[:, 0])\n",
    "axs[0, 1].plot(peaks_at_t_in_radians_adjusted[:, 1])\n",
    "axs[0, 1].set_xlabel(\"Time\")\n",
    "axs[0, 1].set_ylabel(\"Theta\")\n",
    "\n",
    "f.tight_layout()"
   ]
  },
  {
   "cell_type": "code",
   "execution_count": null,
   "id": "cb653ce9",
   "metadata": {},
   "outputs": [],
   "source": [
    "peaks_at_t = np.array(\n",
    "    [get_peaks_for_2rx(bf_out) for bf_out in session[\"beam_former_outputs_at_t\"]]\n",
    ")\n",
    "peaks_at_t_in_radians = 2 * (peaks_at_t / args.beam_former_spacing - 0.5) * np.pi\n",
    "peaks_at_t_in_radians_adjusted = (\n",
    "    peaks_at_t_in_radians + session[\"detector_orientation_at_t\"]\n",
    ")  # % (np.pi*2)\n",
    "peaks_at_t_in_radians_adjusted"
   ]
  },
  {
   "cell_type": "code",
   "execution_count": null,
   "id": "cd929e75",
   "metadata": {},
   "outputs": [],
   "source": [
    "ground_truth = session[\"detector_orientation_at_t\"] + session[\"source_theta_at_t\"]"
   ]
  },
  {
   "cell_type": "code",
   "execution_count": null,
   "id": "c5ebdfb6",
   "metadata": {},
   "outputs": [],
   "source": [
    "np.abs(peaks_at_t_in_radians_adjusted - ground_truth).min(axis=1).mean()"
   ]
  },
  {
   "cell_type": "code",
   "execution_count": null,
   "id": "ef694ea5",
   "metadata": {},
   "outputs": [],
   "source": []
  },
  {
   "cell_type": "code",
   "execution_count": null,
   "id": "1062621d",
   "metadata": {},
   "outputs": [],
   "source": []
  }
 ],
 "metadata": {
  "kernelspec": {
   "display_name": "Python 3 (ipykernel)",
   "language": "python",
   "name": "python3"
  },
  "language_info": {
   "codemirror_mode": {
    "name": "ipython",
    "version": 3
   },
   "file_extension": ".py",
   "mimetype": "text/x-python",
   "name": "python",
   "nbconvert_exporter": "python",
   "pygments_lexer": "ipython3",
   "version": "3.11.7"
  }
 },
 "nbformat": 4,
 "nbformat_minor": 5
}
