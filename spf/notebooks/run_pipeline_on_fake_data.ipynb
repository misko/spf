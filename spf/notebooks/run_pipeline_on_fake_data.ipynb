{
 "cells": [
  {
   "cell_type": "code",
   "execution_count": null,
   "metadata": {},
   "outputs": [],
   "source": [
    "from spf.dataset.fake_dataset import create_fake_dataset, fake_yaml\n",
    "import tempfile\n",
    "\n",
    "\n",
    "tmpdir = tempfile.TemporaryDirectory()\n",
    "ds_fn = f\"{tmpdir.name}/test_circle\"\n",
    "create_fake_dataset(yaml_config_str=fake_yaml, filename=ds_fn, orbits=2, n=800)"
   ]
  },
  {
   "cell_type": "code",
   "execution_count": null,
   "metadata": {},
   "outputs": [],
   "source": [
    "import os\n",
    "import spf\n",
    "\n",
    "# this contains the empirical distribution mapping observed phase difference\n",
    "# to the data distribution of theta (ground truth angle between receiver and transmitter)\n",
    "empirical_data_fn = os.path.join(\n",
    "    os.path.dirname(spf.__file__), \"../empirical_dists/full.pkl\"\n",
    ")"
   ]
  },
  {
   "cell_type": "code",
   "execution_count": null,
   "metadata": {},
   "outputs": [],
   "source": [
    "# create one cache directory for non temp files\n",
    "# when you re-run this line you need to rebuild the cache\n",
    "tmp_precompute_cache = tempfile.TemporaryDirectory()\n",
    "precompute_cache_dir = tmp_precompute_cache.name"
   ]
  },
  {
   "cell_type": "code",
   "execution_count": null,
   "metadata": {},
   "outputs": [],
   "source": [
    "from spf.dataset.spf_dataset import v5spfdataset_manager\n",
    "from spf.filters.particle_dualradio_filter import plot_single_theta_dual_radio\n",
    "from spf.filters.run_filters_on_data import run_PF_single_theta_dual_radio\n",
    "\n",
    "\n",
    "# When false consider this complete file that we can fully read\n",
    "# instead of a file that we will partially read and wait for further\n",
    "# data on (live)\n",
    "temp_file = False\n",
    "\n",
    "with v5spfdataset_manager(\n",
    "    ds_fn,\n",
    "    precompute_cache=precompute_cache_dir,\n",
    "    nthetas=65,\n",
    "    skip_fields=set([\"signal_matrix\"]),\n",
    "    empirical_data_fn=empirical_data_fn,\n",
    "    paired=True,\n",
    "    ignore_qc=True,\n",
    "    gpu=True,  # use GPU in segmentation (pre-processing)\n",
    "    temp_file=temp_file,\n",
    "    temp_file_suffix=\"\",\n",
    "    segment_if_not_exist=not temp_file,\n",
    ") as ds:\n",
    "    args = {\n",
    "        \"ds\": ds,\n",
    "        \"N\": 1024 * 4,\n",
    "        \"theta_err\": 0.01,\n",
    "        \"theta_dot_err\": 0.01,\n",
    "    }\n",
    "    result = run_PF_single_theta_dual_radio(**args)\n",
    "    plot_single_theta_dual_radio(ds)"
   ]
  },
  {
   "cell_type": "code",
   "execution_count": null,
   "metadata": {},
   "outputs": [],
   "source": [
    "plot_single_theta_dual_radio(ds)"
   ]
  },
  {
   "cell_type": "code",
   "execution_count": null,
   "metadata": {},
   "outputs": [],
   "source": [
    "import importlib\n",
    "import importlib.resources\n",
    "\n",
    "importlib.resources.files(\"spf.empirical_dists\")._paths[0]"
   ]
  },
  {
   "cell_type": "code",
   "execution_count": null,
   "metadata": {},
   "outputs": [],
   "source": [
    "import pickle\n",
    "\n",
    "pickle.load(open(empirical_data_fn, \"rb\")).keys()"
   ]
  },
  {
   "cell_type": "code",
   "execution_count": null,
   "metadata": {},
   "outputs": [],
   "source": []
  }
 ],
 "metadata": {
  "kernelspec": {
   "display_name": "spf",
   "language": "python",
   "name": "python3"
  },
  "language_info": {
   "codemirror_mode": {
    "name": "ipython",
    "version": 3
   },
   "file_extension": ".py",
   "mimetype": "text/x-python",
   "name": "python",
   "nbconvert_exporter": "python",
   "pygments_lexer": "ipython3",
   "version": "3.12.3"
  }
 },
 "nbformat": 4,
 "nbformat_minor": 2
}
