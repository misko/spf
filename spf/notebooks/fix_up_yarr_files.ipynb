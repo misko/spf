{
 "cells": [
  {
   "cell_type": "code",
   "execution_count": null,
   "metadata": {},
   "outputs": [],
   "source": []
  },
  {
   "cell_type": "code",
   "execution_count": null,
   "metadata": {},
   "outputs": [],
   "source": []
  },
  {
   "cell_type": "code",
   "execution_count": null,
   "metadata": {},
   "outputs": [],
   "source": [
    "from spf.utils import new_yarr_dataset, zarr_open_from_lmdb_store\n",
    "\n",
    "input_fn = \"/home/mouse9911/precompute_cache/wallarrayv3_2024_06_04_19_14_43_nRX2_rx_circle_segmentation_nthetas65.yarr\"\n",
    "output_fn = \"/tmp/this.yarr\"\n",
    "\n",
    "precomputed_zarr = zarr_open_from_lmdb_store(input_fn, mode=\"r\")\n",
    "\n",
    "output_yarr = new_yarr_dataset(\n",
    "    output_fn,\n",
    "    all_windows_stats_shape=precomputed_zarr[\"r0/all_windows_stats\"].shape,\n",
    "    windowed_beamformer_shape=precomputed_zarr[\"r0/windowed_beamformer\"].shape,\n",
    "    n_receivers=2,\n",
    ")\n",
    "\n",
    "for r_idx in [0, 1]:\n",
    "    output_yarr[f\"r{r_idx}/all_windows_stats\"][:] = precomputed_zarr[\n",
    "        f\"r{r_idx}/all_windows_stats\"\n",
    "    ][:]\n",
    "    output_yarr[f\"r{r_idx}/windowed_beamformer\"][:] = precomputed_zarr[\n",
    "        f\"r{r_idx}/windowed_beamformer\"\n",
    "    ][:]\n",
    "output_yarr.store.close()\n",
    "output_yarr = None"
   ]
  },
  {
   "cell_type": "code",
   "execution_count": null,
   "metadata": {},
   "outputs": [],
   "source": [
    "test_yarr = zarr_open_from_lmdb_store(output_fn, mode=\"r\")\n",
    "test_yarr[\"r0/windowed_beamformer\"].info"
   ]
  },
  {
   "cell_type": "code",
   "execution_count": null,
   "metadata": {},
   "outputs": [],
   "source": [
    "test_zarr = zarr_open_from_lmdb_store(\n",
    "    \"/mnt/md0/spf/2d_wallarray_v2_data/june/wallarrayv3_2024_06_03_01_17_43_nRX2_rx_circle.zarr\",\n",
    "    mode=\"r\",\n",
    ")"
   ]
  },
  {
   "cell_type": "code",
   "execution_count": null,
   "metadata": {},
   "outputs": [],
   "source": [
    "test_zarr[\"receivers/r0/signal_matrix\"].info"
   ]
  },
  {
   "cell_type": "code",
   "execution_count": null,
   "metadata": {},
   "outputs": [],
   "source": [
    "from spf.utils import new_yarr_dataset, zarr_open_from_lmdb_store\n",
    "\n",
    "test_zarr = zarr_open_from_lmdb_store(\n",
    "    \"/home/mouse9911/precompute_cache/wallarrayv3_2024_06_04_18_47_15_nRX2_rx_circle_segmentation_nthetas65.yarr\",\n",
    "    mode=\"r\",\n",
    ")"
   ]
  },
  {
   "cell_type": "code",
   "execution_count": null,
   "metadata": {},
   "outputs": [],
   "source": [
    "test_zarr[\"r0\"][\"windowed_beamformer\"].info"
   ]
  },
  {
   "cell_type": "code",
   "execution_count": null,
   "metadata": {},
   "outputs": [],
   "source": [
    "from spf.dataset.fake_dataset import create_fake_dataset\n",
    "\n",
    "from spf.dataset.fake_dataset import create_fake_dataset, fake_yaml\n",
    "from spf.notebooks.simple_train import get_parser, simple_train\n",
    "\n",
    "import os\n",
    "\n",
    "create_fake_dataset(filename=\"test_circle\", yaml_config_str=fake_yaml, n=17, noise=10.0)"
   ]
  },
  {
   "cell_type": "code",
   "execution_count": null,
   "metadata": {},
   "outputs": [],
   "source": [
    "from spf.utils import new_yarr_dataset, zarr_open_from_lmdb_store\n",
    "\n",
    "test_zarr = zarr_open_from_lmdb_store(\n",
    "    \"/mnt/md0/spf/2d_wallarray_v2_data/june/wallarrayv3_2024_06_15_11_44_13_nRX2_bounce.zarr\",\n",
    "    mode=\"r\",\n",
    ")"
   ]
  },
  {
   "cell_type": "code",
   "execution_count": null,
   "metadata": {},
   "outputs": [],
   "source": [
    "test_zarr[\"receivers/r0/system_timestamp\"].info"
   ]
  },
  {
   "cell_type": "code",
   "execution_count": null,
   "metadata": {},
   "outputs": [],
   "source": [
    "test_zarr[\"receivers/r0/signal_matrix\"].shape"
   ]
  },
  {
   "cell_type": "code",
   "execution_count": null,
   "metadata": {},
   "outputs": [],
   "source": [
    "list(test_zarr[\"receivers/r0/\"].keys())"
   ]
  },
  {
   "cell_type": "code",
   "execution_count": null,
   "metadata": {},
   "outputs": [],
   "source": [
    "az = zarr_open_from_lmdb_store(\n",
    "    \"/mnt/md0/spf/2d_wallarray_v2_data/june/wallarrayv3_2024_06_05_02_01_38_nRX2_rx_circle.zarr\",\n",
    "    mode=\"r\",\n",
    ")"
   ]
  },
  {
   "cell_type": "code",
   "execution_count": null,
   "metadata": {},
   "outputs": [],
   "source": [
    "bz = zarr_open_from_lmdb_store(\n",
    "    \"/tmp/x.zarr\",\n",
    "    mode=\"r\",\n",
    ")"
   ]
  },
  {
   "cell_type": "code",
   "execution_count": null,
   "metadata": {},
   "outputs": [],
   "source": [
    "bz[\"config\"].shape"
   ]
  },
  {
   "cell_type": "code",
   "execution_count": null,
   "metadata": {},
   "outputs": [],
   "source": [
    "(az[\"receivers/r0/signal_matrix\"][:] == bz[\"receivers/r0/signal_matrix\"][:]).all()"
   ]
  },
  {
   "cell_type": "code",
   "execution_count": null,
   "metadata": {},
   "outputs": [],
   "source": [
    "(az[\"receivers/r0/system_timestamp\"][:] == bz[\"receivers/r0/system_timestamp\"][:]).all()"
   ]
  },
  {
   "cell_type": "code",
   "execution_count": null,
   "metadata": {},
   "outputs": [],
   "source": [
    "bz = zarr_open_from_lmdb_store(\n",
    "    \"/mnt/md0/spf/2d_wallarray_v2_data/june/wallarrayv3_2024_06_05_17_21_59_nRX2_rx_circle.zarr\",\n",
    "    mode=\"r\",\n",
    ")"
   ]
  },
  {
   "cell_type": "code",
   "execution_count": null,
   "metadata": {},
   "outputs": [],
   "source": [
    "bz[\"receivers/r0/signal_matrix\"].info"
   ]
  },
  {
   "cell_type": "code",
   "execution_count": null,
   "metadata": {},
   "outputs": [],
   "source": [
    "bz = zarr_open_from_lmdb_store(\n",
    "    \"/home/mouse9911/precompute_cache_chunk16/wallarrayv3_2024_06_15_11_44_13_nRX2_bounce_segmentation_nthetas65.yarr\",\n",
    "    mode=\"r\",\n",
    ")"
   ]
  },
  {
   "cell_type": "code",
   "execution_count": null,
   "metadata": {},
   "outputs": [],
   "source": [
    "bz[\"r0\"][\"windowed_beamformer\"].info"
   ]
  },
  {
   "cell_type": "code",
   "execution_count": null,
   "metadata": {},
   "outputs": [],
   "source": [
    "bz.tree()"
   ]
  },
  {
   "cell_type": "code",
   "execution_count": null,
   "metadata": {},
   "outputs": [],
   "source": []
  }
 ],
 "metadata": {
  "kernelspec": {
   "display_name": "spf",
   "language": "python",
   "name": "python3"
  },
  "language_info": {
   "codemirror_mode": {
    "name": "ipython",
    "version": 3
   },
   "file_extension": ".py",
   "mimetype": "text/x-python",
   "name": "python",
   "nbconvert_exporter": "python",
   "pygments_lexer": "ipython3",
   "version": "3.12.3"
  }
 },
 "nbformat": 4,
 "nbformat_minor": 2
}
