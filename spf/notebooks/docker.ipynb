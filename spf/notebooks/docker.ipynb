{
 "cells": [
  {
   "cell_type": "code",
   "execution_count": null,
   "metadata": {},
   "outputs": [],
   "source": [
    "# docker run --rm -it -p 14590-14595:14590-14595 ardupilot_spf /ardupilot/Tools/autotest/sim_vehicle.py \\\n",
    "#  -l 37.76509485,-122.40940127,0,0 -v rover -f rover-skid \\\n",
    "#   --out tcpin:0.0.0.0:14590  --out tcpin:0.0.0.0:14591 -S 1\n",
    "import docker"
   ]
  },
  {
   "cell_type": "code",
   "execution_count": null,
   "metadata": {},
   "outputs": [],
   "source": [
    "client = docker.from_env()\n",
    "container = client.containers.run(\n",
    "    \"csmisko/ardupilotspf:latest\",\n",
    "    \"/ardupilot/Tools/autotest/sim_vehicle.py  -l 37.76509485,-122.40940127,0,0 \\\n",
    "        -v rover -f rover-skid --out tcpin:0.0.0.0:14590  --out tcpin:0.0.0.0:14591 -S 5\",\n",
    "    stdin_open=True,\n",
    "    ports={\n",
    "        \"14590/tcp\": (\"127.0.0.1\", 14590),\n",
    "        \"14591/tcp\": (\"127.0.0.1\", 14591),\n",
    "    },\n",
    "    detach=True,\n",
    "    remove=True,\n",
    "    auto_remove=True,\n",
    ")"
   ]
  },
  {
   "cell_type": "markdown",
   "metadata": {},
   "source": []
  },
  {
   "cell_type": "code",
   "execution_count": null,
   "metadata": {},
   "outputs": [],
   "source": [
    "output = container.attach(stdout=True, stream=True, logs=True)\n",
    "online = False\n",
    "for line in output:\n",
    "    if \"Detected vehicle\" in line:\n",
    "        online = True\n",
    "if not online:\n",
    "    raise ValueError\n",
    "\n",
    "# (\"ardupilot_spf\"\n",
    "# image=\"ardupilot_spf\",\n",
    "# auto_remove=True,\n",
    "# name=\"test_postgres\",\n",
    "# ports={\"14590/tcp\": (\"127.0.0.1\", 14590)},\n",
    "# detach=True,\n",
    "# remove=True,\n",
    "# )"
   ]
  },
  {
   "cell_type": "code",
   "execution_count": null,
   "metadata": {},
   "outputs": [],
   "source": [
    "container"
   ]
  },
  {
   "cell_type": "code",
   "execution_count": null,
   "metadata": {},
   "outputs": [],
   "source": [
    "client.containers.list()"
   ]
  },
  {
   "cell_type": "code",
   "execution_count": null,
   "metadata": {},
   "outputs": [],
   "source": []
  }
 ],
 "metadata": {
  "kernelspec": {
   "display_name": "spf",
   "language": "python",
   "name": "python3"
  },
  "language_info": {
   "codemirror_mode": {
    "name": "ipython",
    "version": 3
   },
   "file_extension": ".py",
   "mimetype": "text/x-python",
   "name": "python",
   "nbconvert_exporter": "python",
   "pygments_lexer": "ipython3",
   "version": "3.11.7"
  }
 },
 "nbformat": 4,
 "nbformat_minor": 2
}
