{
  "cells": [
    {
      "cell_type": "markdown",
      "metadata": {
        "colab_type": "text",
        "id": "view-in-github"
      },
      "source": [
        "<a href=\"https://colab.research.google.com/github/misko/spf/blob/main/01_fft_basics.ipynb\" target=\"_parent\"><img src=\"https://colab.research.google.com/assets/colab-badge.svg\" alt=\"Open In Colab\"/></a>"
      ]
    },
    {
      "cell_type": "code",
      "execution_count": null,
      "metadata": {
        "colab": {
          "base_uri": "https://localhost:8080/",
          "height": 1000
        },
        "id": "n1JizeGeOTz3",
        "outputId": "689d5c50-7c20-4436-aced-304045f9cbf4"
      },
      "outputs": [],
      "source": [
        "import matplotlib.pyplot as plt\n",
        "import numpy as np\n",
        "\n",
        "\n",
        "def sig(t, f=1, start_phase=0):\n",
        "    return np.sin(2 * np.pi * f * t + start_phase)\n",
        "\n",
        "\n",
        "def plot_signal(f, sampling_time, sampling_frequency, noise=0.0):\n",
        "    n_samples = sampling_time * sampling_frequency\n",
        "    sample_times = (\n",
        "        np.arange(n_samples) / sampling_frequency\n",
        "    )  # sampling interval step size\n",
        "\n",
        "    time_domain_signal = f(sample_times)\n",
        "    if noise > 0.0:\n",
        "        time_domain_signal += np.random.normal(0, noise, time_domain_signal.shape[0])\n",
        "\n",
        "    fig, axs = plt.subplots(1, 3, figsize=(4 * 3, 4))\n",
        "\n",
        "    axs[0].plot(sample_times, time_domain_signal)\n",
        "\n",
        "    sp = np.fft.fft(time_domain_signal)\n",
        "\n",
        "    freq = np.fft.fftfreq(n_samples) * sampling_frequency\n",
        "    axs[1].plot(freq, sp.real, label=\"real\")\n",
        "    axs[1].legend()\n",
        "    axs[2].plot(freq, sp.imag, label=\"complex\")\n",
        "    axs[2].legend()\n",
        "    return fig\n",
        "\n",
        "\n",
        "# Computing the fourier coefficient for a fixed sin wave,\n",
        "# the corresponding coefficient should be\n",
        "# (1/2) * [ sin(phase)-i*cos(phase) ]\n",
        "p = plot_signal(lambda x: sig(x, start_phase=0), 4, 32)\n",
        "p = plot_signal(lambda x: sig(x, start_phase=np.pi / 2), 4, 32)\n",
        "p = plot_signal(lambda x: sig(x, start_phase=np.pi), 4, 32)\n",
        "p = plot_signal(lambda x: sig(x, start_phase=np.pi * 3 / 2), 4, 32)"
      ]
    },
    {
      "cell_type": "code",
      "execution_count": null,
      "metadata": {
        "colab": {
          "base_uri": "https://localhost:8080/",
          "height": 1000
        },
        "id": "x_ANg9CtOVpv",
        "outputId": "b8ddce21-6487-4c3a-daa8-a2d282c6ac6e"
      },
      "outputs": [],
      "source": [
        "# add some noise\n",
        "p = plot_signal(lambda x: sig(x, start_phase=0), 4, 32, noise=0.5)\n",
        "p = plot_signal(lambda x: sig(x, start_phase=np.pi / 2), 4, 32, noise=0.5)\n",
        "p = plot_signal(lambda x: sig(x, start_phase=np.pi), 4, 32, noise=0.5)\n",
        "p = plot_signal(lambda x: sig(x, start_phase=np.pi * 3 / 2), 4, 32, noise=0.5)"
      ]
    },
    {
      "cell_type": "code",
      "execution_count": null,
      "metadata": {
        "id": "uchVNoDrPRFV"
      },
      "outputs": [],
      "source": []
    }
  ],
  "metadata": {
    "colab": {
      "authorship_tag": "ABX9TyMAcqmLsA1PF5D6GvL3+ziH",
      "include_colab_link": true,
      "provenance": []
    },
    "kernelspec": {
      "display_name": "Python 3",
      "name": "python3"
    },
    "language_info": {
      "name": "python"
    }
  },
  "nbformat": 4,
  "nbformat_minor": 0
}
