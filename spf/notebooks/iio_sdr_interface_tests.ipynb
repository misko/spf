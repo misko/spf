{
 "cells": [
  {
   "cell_type": "code",
   "execution_count": null,
   "metadata": {},
   "outputs": [],
   "source": [
    "import adi\n",
    "\n",
    "uri = f\"ip:192.168.1.17\"\n",
    "sdr = adi.ad9361(uri=uri)"
   ]
  },
  {
   "cell_type": "code",
   "execution_count": null,
   "metadata": {},
   "outputs": [],
   "source": [
    "# Copyright (C) 2019 Analog Devices, Inc.\n",
    "#\n",
    "# SPDX short identifier: ADIBSD\n",
    "\n",
    "from math import gcd\n",
    "import time\n",
    "\n",
    "import adi\n",
    "import matplotlib.pyplot as plt\n",
    "import numpy as np\n",
    "from scipy import signal\n",
    "\n",
    "# Create radio\n",
    "# sdr = adi.ad9361(uri=\"ip:192.168.1.15\")\n",
    "# Configure properties\n",
    "sdr.sample_rate = 16000000\n",
    "sdr.tx_lo = 2500000000\n",
    "sdr.tx_cyclic_buffer = True\n",
    "sdr.tx_rf_bandwidth = 3 * 100000\n",
    "sdr.tx_hardwaregain_chan0 = -5\n",
    "# sdr.gain_control_mode_chan0 = \"slow_attack\"\n",
    "sdr.tx_enabled_channels = [0]"
   ]
  },
  {
   "cell_type": "code",
   "execution_count": null,
   "metadata": {},
   "outputs": [],
   "source": [
    "# sdr.tx_enabled_channels"
   ]
  },
  {
   "cell_type": "code",
   "execution_count": null,
   "metadata": {},
   "outputs": [],
   "source": [
    "# create a buffe for the signal\n",
    "fc0 = 100000\n",
    "fs = sdr.sample_rate  # must be <=30.72 MHz if both channels are enabled\n",
    "tx_n = int(fs / gcd(fs, fc0))\n",
    "while tx_n < 1024 * 4:\n",
    "    tx_n *= 2\n",
    "print(tx_n, fs / gcd(fs, fc0))\n",
    "t = (\n",
    "    np.arange(0, tx_n) / fs\n",
    ")  # time at each point assuming we are sending samples at (1/fs)s\n",
    "iq = np.exp(1j * 2 * np.pi * fc0 * t) * (2**13)\n",
    "# Send data\n",
    "sdr.tx(iq)\n",
    "# sdr = None"
   ]
  },
  {
   "cell_type": "code",
   "execution_count": null,
   "metadata": {},
   "outputs": [],
   "source": [
    "sdr.tx_destroy_buffer()\n",
    "sdr.tx_cyclic_buffer = False\n",
    "# sdr.tx(iq)"
   ]
  },
  {
   "cell_type": "code",
   "execution_count": null,
   "metadata": {},
   "outputs": [],
   "source": [
    "if sdr is not None:\n",
    "    sdr.tx_destroy_buffer()\n",
    "sdr = None"
   ]
  },
  {
   "cell_type": "code",
   "execution_count": null,
   "metadata": {},
   "outputs": [],
   "source": [
    "sdr.tx_destroy_buffer()\n",
    "sdr.tx(iq)"
   ]
  },
  {
   "cell_type": "code",
   "execution_count": null,
   "metadata": {},
   "outputs": [],
   "source": [
    "sdr = None"
   ]
  },
  {
   "cell_type": "code",
   "execution_count": null,
   "metadata": {},
   "outputs": [],
   "source": [
    "import matplotlib.pyplot as plt\n",
    "\n",
    "plt.plot(iq.imag), 2**14"
   ]
  },
  {
   "cell_type": "code",
   "execution_count": null,
   "metadata": {},
   "outputs": [],
   "source": [
    "sdr._ctrl.attrs[\"calib_mode\"].value"
   ]
  },
  {
   "cell_type": "code",
   "execution_count": null,
   "metadata": {},
   "outputs": [],
   "source": [
    "sdr.tx_destroy_buffer()"
   ]
  },
  {
   "cell_type": "code",
   "execution_count": null,
   "metadata": {},
   "outputs": [],
   "source": [
    "for key in sdr._ctrl.__dict__:\n",
    "    print(key)"
   ]
  },
  {
   "cell_type": "code",
   "execution_count": null,
   "metadata": {},
   "outputs": [],
   "source": []
  },
  {
   "cell_type": "code",
   "execution_count": null,
   "metadata": {},
   "outputs": [],
   "source": [
    "sdr._ctrl.reg_read(0x22)\n",
    "# sdr._ctrl.reg_read(0x22)\n",
    "# sdr.gain_control_mode_chan1#\n",
    "sdr._ctrl.reg_write(0x22, 2)"
   ]
  },
  {
   "cell_type": "code",
   "execution_count": null,
   "metadata": {},
   "outputs": [],
   "source": [
    "sdr._get_iio_attr(\"voltage0\", \"hardwaregain\", False)"
   ]
  },
  {
   "cell_type": "code",
   "execution_count": null,
   "metadata": {},
   "outputs": [],
   "source": [
    "sdr._get_iio_attr(\"voltage1\", \"hardwaregain\", False)"
   ]
  },
  {
   "cell_type": "code",
   "execution_count": null,
   "metadata": {},
   "outputs": [],
   "source": [
    "sdr.rx_enabled_channels"
   ]
  },
  {
   "cell_type": "code",
   "execution_count": null,
   "metadata": {},
   "outputs": [],
   "source": [
    "for key in sdr._ctrl.__dict__:\n",
    "    print(key)\n",
    "dir(sdr._ctrl)"
   ]
  },
  {
   "cell_type": "code",
   "execution_count": null,
   "metadata": {},
   "outputs": [],
   "source": [
    "sdr._ctrl.find_channel(\"voltage1\").attrs[\"calib_mode\"].value"
   ]
  },
  {
   "cell_type": "code",
   "execution_count": null,
   "metadata": {},
   "outputs": [],
   "source": [
    "sdr.interface_gain_chan0"
   ]
  },
  {
   "cell_type": "code",
   "execution_count": null,
   "metadata": {},
   "outputs": [],
   "source": [
    "float(sdr._ctrl.find_channel(\"voltage1\").attrs[\"rssi\"].value[:-3])"
   ]
  },
  {
   "cell_type": "code",
   "execution_count": null,
   "metadata": {},
   "outputs": [],
   "source": [
    "sdr._get_iio_attr(\"voltage0\", \"gain_control_mode\", False)"
   ]
  },
  {
   "cell_type": "code",
   "execution_count": null,
   "metadata": {},
   "outputs": [],
   "source": [
    "type(sdr._get_iio_attr(\"voltage0\", \"hardwaregain\", False))"
   ]
  },
  {
   "cell_type": "code",
   "execution_count": null,
   "metadata": {},
   "outputs": [],
   "source": [
    "# sdr._ctrl.debug_attrs['adi,rx1-rx2-phase-inversion-enable'].value='1'\n",
    "sdr._ctrl.debug_attrs[\"adi,rx1-rx2-phase-inversion-enable\"].value"
   ]
  },
  {
   "cell_type": "code",
   "execution_count": null,
   "metadata": {},
   "outputs": [],
   "source": [
    "sdr._ctrl.debug_attrs[\"adi,2rx-2tx-mode-enable\"].value  # = \"1\""
   ]
  },
  {
   "cell_type": "code",
   "execution_count": null,
   "metadata": {},
   "outputs": [],
   "source": [
    "sdr.gain_control_mode_chan0 = \"fast_attack\"\n",
    "sdr.rx_hardwaregain_chan0 = -30\n",
    "sdr.rx_hardwaregain_chan0"
   ]
  },
  {
   "cell_type": "code",
   "execution_count": null,
   "metadata": {},
   "outputs": [],
   "source": [
    "sdr._ctrl.__dict__\n",
    "for key in sdr._ctrl._debug_attrs:\n",
    "    print(key)\n",
    "sdr._ctrl.debug_attrs[\"gaininfo_rx2\"].__dict__"
   ]
  },
  {
   "cell_type": "code",
   "execution_count": null,
   "metadata": {},
   "outputs": [],
   "source": [
    "sdr._rxadc.__dict__"
   ]
  },
  {
   "cell_type": "code",
   "execution_count": null,
   "metadata": {},
   "outputs": [],
   "source": [
    "sdr.__dict__"
   ]
  },
  {
   "cell_type": "code",
   "execution_count": null,
   "metadata": {},
   "outputs": [],
   "source": []
  }
 ],
 "metadata": {
  "kernelspec": {
   "display_name": "spf",
   "language": "python",
   "name": "python3"
  },
  "language_info": {
   "codemirror_mode": {
    "name": "ipython",
    "version": 3
   },
   "file_extension": ".py",
   "mimetype": "text/x-python",
   "name": "python",
   "nbconvert_exporter": "python",
   "pygments_lexer": "ipython3",
   "version": "3.11.7"
  }
 },
 "nbformat": 4,
 "nbformat_minor": 2
}
