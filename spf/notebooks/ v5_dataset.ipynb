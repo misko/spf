{
 "cells": [
  {
   "cell_type": "code",
   "execution_count": null,
   "metadata": {},
   "outputs": [],
   "source": [
    "repo_root = \"/Users/miskodzamba/Dropbox/research/gits/spf/\"\n",
    "import sys\n",
    "\n",
    "\n",
    "if repo_root not in sys.path:\n",
    "    sys.path.append(repo_root)  # go to parent dir"
   ]
  },
  {
   "cell_type": "code",
   "execution_count": null,
   "metadata": {},
   "outputs": [],
   "source": [
    "from torch.utils.data import Dataset\n",
    "import yaml\n",
    "import torch\n",
    "from spf.rf import precompute_steering_vectors\n",
    "from spf.utils import zarr_open_from_lmdb_store\n",
    "from spf.dataset.v5_data import v5rx_f64_keys, v5rx_2xf64_keys\n",
    "import numpy as np\n",
    "from spf.rf import speed_of_light\n",
    "from multiprocessing.pool import ThreadPool\n",
    "import os\n",
    "import pickle\n",
    "from multiprocessing import Pool\n",
    "import time\n",
    "import tqdm\n",
    "\n",
    "#         return pickle.load(open(results_fn, \"rb\"))"
   ]
  },
  {
   "cell_type": "code",
   "execution_count": null,
   "metadata": {},
   "outputs": [],
   "source": [
    "from spf.dataset.spf_dataset import v5spfdataset\n",
    "\n",
    "\n",
    "ds = v5spfdataset(\n",
    "    # \"/Volumes/SPFData/missions/april5/wallarrayv3_2024_04_05_22_13_07_nRX2_rx_circle\"\n",
    "    # \"/Volumes/SPFData/missions/april5/wallarrayv3_2024_05_10_05_03_21_nRX2_rx_circle_tag_rand10_90_rand30_100\"\n",
    "    # \"/Volumes/SPFData/missions/april5/wallarrayv3_2024_04_10_05_08_55_nRX2_rx_circle\"\n",
    "    \"/Volumes/SPFData/missions/april5/wallarrayv3_2024_05_06_19_04_15_nRX2_bounce\",\n",
    "    nthetas=11,\n",
    ")"
   ]
  },
  {
   "cell_type": "code",
   "execution_count": null,
   "metadata": {},
   "outputs": [],
   "source": [
    "ds[0]"
   ]
  },
  {
   "cell_type": "code",
   "execution_count": null,
   "metadata": {},
   "outputs": [],
   "source": [
    "import glob\n",
    "\n",
    "\n",
    "# for x in glob.glob('/Volumes/SPFData/missions/april5/wallarrayv3_2024_05*.zarr'):\n",
    "#     print(x)\n",
    "#     ds=v5spfdataset(x)\n",
    "#     ds.get_segmentation()"
   ]
  },
  {
   "cell_type": "code",
   "execution_count": null,
   "metadata": {},
   "outputs": [],
   "source": [
    "# for x in glob.glob('/Volumes/SPFData/missions/april5/wallarrayv3_2024_04*.zarr'):\n",
    "#     print(x)\n",
    "#     ds=v5spfdataset(x)\n",
    "#     ds.get_segmentation()"
   ]
  },
  {
   "cell_type": "code",
   "execution_count": null,
   "metadata": {},
   "outputs": [],
   "source": [
    "_ = ds.get_segmentation()"
   ]
  },
  {
   "cell_type": "code",
   "execution_count": null,
   "metadata": {},
   "outputs": [],
   "source": [
    "_ = ds.get_segmentation()"
   ]
  },
  {
   "cell_type": "code",
   "execution_count": null,
   "metadata": {},
   "outputs": [],
   "source": [
    "ds[0][\"signal_matrix\"].shape"
   ]
  },
  {
   "cell_type": "code",
   "execution_count": null,
   "metadata": {},
   "outputs": [],
   "source": [
    "np.array([1, 2]).shape"
   ]
  },
  {
   "cell_type": "code",
   "execution_count": null,
   "metadata": {},
   "outputs": [],
   "source": [
    "session_idx = 150 * 2"
   ]
  },
  {
   "cell_type": "code",
   "execution_count": null,
   "metadata": {},
   "outputs": [],
   "source": [
    "from spf.rf import beamformer, beamformer_given_steering_nomean, get_phase_diff\n",
    "import matplotlib.pyplot as plt\n",
    "\n",
    "data = ds[session_idx]\n",
    "# signal_matrix = load_zarr_to_numpy(z.receivers[\"r0\"].signal_matrix[session_idx])\n",
    "n = 2 * 4 * 50000\n",
    "offset = 0\n",
    "v = data[\"signal_matrix\"][:, offset : offset + n].numpy()\n",
    "pd = get_phase_diff(v)\n",
    "\n",
    "fig, axs = plt.subplots(2, 1, figsize=(12, 6))\n",
    "\n",
    "axs[0].scatter(np.arange(n), np.abs(v[0]), alpha=0.1, s=1)\n",
    "axs[0].scatter(np.arange(n), np.abs(v[1]), alpha=0.1, s=1)\n",
    "axs[0].set_title(\"Raw signal\")\n",
    "axs[0].set_xlabel(\"Sample# (time)\")\n",
    "axs[1].set_xlabel(\"Sample# (time)\")\n",
    "axs[1].set_title(\"Phase estimates\")\n",
    "axs[1].scatter(np.arange(n), pd, s=1, alpha=0.1)\n",
    "from spf.sdrpluto.sdr_controller import circular_mean, circular_stddev, simple_segment\n",
    "\n",
    "beam_sds = [\n",
    "    beamformer_given_steering_nomean(\n",
    "        steering_vectors=ds.steering_vectors[receiver_idx],\n",
    "        signal_matrix=v,\n",
    "    )\n",
    "    for receiver_idx in range(2)\n",
    "]\n",
    "\n",
    "window_sds = []\n",
    "for window in simple_segment(\n",
    "    v,\n",
    "    window_size=2500,\n",
    "    stride=2500,\n",
    "    trim=20,\n",
    "    mean_diff_threshold=0.2,  #\n",
    "    max_stddev_threshold=0.5,  # just eyeballed this\n",
    "    drop_less_than_size=3000,\n",
    "    min_abs_signal=40,\n",
    "):\n",
    "    if window[\"type\"] == \"signal\":\n",
    "        axs[1].plot(\n",
    "            [window[\"start_idx\"], window[\"end_idx\"]],\n",
    "            [window[\"mean\"], window[\"mean\"]],\n",
    "            color=\"red\",\n",
    "        )\n",
    "    else:\n",
    "        axs[1].plot(\n",
    "            [window[\"start_idx\"], window[\"end_idx\"]],\n",
    "            [window[\"mean\"], window[\"mean\"]],\n",
    "            color=\"orange\",\n",
    "        )\n",
    "    # print(window[\"start_idx\"], window[\"end_idx\"])\n",
    "    _beam_sds = beam_sds[0][:, window[\"start_idx\"] : window[\"end_idx\"]].mean(axis=1)\n",
    "    # _beam_sds = _beam_sds.mean(axis=1)\n",
    "    # _beam_sds -= _beam_sds.min()\n",
    "    window_sds.append(_beam_sds)\n",
    "window_sds = np.array(window_sds)\n",
    "fig.set_tight_layout(True)"
   ]
  },
  {
   "cell_type": "code",
   "execution_count": null,
   "metadata": {},
   "outputs": [],
   "source": []
  },
  {
   "cell_type": "code",
   "execution_count": null,
   "metadata": {},
   "outputs": [],
   "source": [
    "segmentation_by_receiver = ds.get_segmentation()\n",
    "mean_phase_results = {}\n",
    "for receiver, results in segmentation_by_receiver.items():\n",
    "    mean_phase_results[receiver] = np.array(\n",
    "        [np.array([x[\"mean\"] for x in result]).mean() for result in results]\n",
    "    )\n",
    "\n",
    "\n",
    "first_n = 250 * 2\n",
    "fig, axs = plt.subplots(1, 1)\n",
    "axs.scatter(range(first_n), mean_phase_results[\"r0\"][:first_n], s=3, label=\"Rx0\")\n",
    "axs.scatter(range(first_n), mean_phase_results[\"r1\"][:first_n], s=3, label=\"Rx1\")\n",
    "axs.legend()\n",
    "axs.axvline(x=115)\n",
    "axs.set_title(\"Mean segmented phase diff\")\n",
    "axs.set_xlabel(\"Chunk (time)\")\n",
    "axs.set_ylabel(\"Mean phase diff of seg. chunk\")"
   ]
  },
  {
   "cell_type": "code",
   "execution_count": null,
   "metadata": {},
   "outputs": [],
   "source": [
    "ds.get_estimated_thetas()"
   ]
  },
  {
   "cell_type": "code",
   "execution_count": null,
   "metadata": {},
   "outputs": [],
   "source": [
    "from spf.dataset.spf_dataset import pi_norm\n",
    "from spf.rf import c as speed_of_light\n",
    "\n",
    "\n",
    "fig, axs = plt.subplots(1, 2, figsize=(12, 4))\n",
    "\n",
    "estimated_thetas = ds.get_estimated_thetas()\n",
    "for rx_idx in [0, 1]:\n",
    "\n",
    "    axs[rx_idx].scatter(\n",
    "        range(estimated_thetas[f\"r{rx_idx}\"][0].shape[0]),\n",
    "        pi_norm(estimated_thetas[f\"r{rx_idx}\"][0]),\n",
    "        s=0.4,\n",
    "    )\n",
    "    axs[rx_idx].scatter(\n",
    "        range(estimated_thetas[f\"r{rx_idx}\"][1].shape[0]),\n",
    "        pi_norm(estimated_thetas[f\"r{rx_idx}\"][1]),\n",
    "        s=0.4,\n",
    "    )\n",
    "    axs[rx_idx].scatter(\n",
    "        range(estimated_thetas[f\"r{rx_idx}\"][2].shape[0]),\n",
    "        pi_norm(estimated_thetas[f\"r{rx_idx}\"][2]),\n",
    "        s=0.4,\n",
    "    )\n",
    "    axs[rx_idx].set_xlabel(\"Chunk\")\n",
    "    axs[rx_idx].set_ylabel(\"estimated theta\")"
   ]
  },
  {
   "cell_type": "code",
   "execution_count": null,
   "metadata": {},
   "outputs": [],
   "source": []
  },
  {
   "cell_type": "code",
   "execution_count": null,
   "metadata": {},
   "outputs": [],
   "source": [
    "from spf.dataset.spf_dataset import pi_norm\n",
    "\n",
    "\n",
    "fig, axs = plt.subplots(1, 2, figsize=(12, 4))\n",
    "\n",
    "first_n = 250 * 2\n",
    "estimated_thetas = ds.get_estimated_thetas()\n",
    "for rx_idx in [0, 1]:\n",
    "    expected_theta = ds.ground_truth_thetas[rx_idx]\n",
    "    axs[rx_idx].plot(\n",
    "        expected_theta[:first_n], alpha=1, color=\"red\", label=\"ground truth\"\n",
    "    )\n",
    "\n",
    "    n = estimated_thetas[f\"r{rx_idx}\"][0].shape[0]\n",
    "    axs[rx_idx].scatter(\n",
    "        range(first_n),\n",
    "        pi_norm(estimated_thetas[f\"r{rx_idx}\"][0])[:first_n],\n",
    "        s=3,\n",
    "        label=f\"Rx{rx_idx}_peak1\",\n",
    "    )\n",
    "    axs[rx_idx].scatter(\n",
    "        range(first_n),\n",
    "        pi_norm(estimated_thetas[f\"r{rx_idx}\"][1])[:first_n],\n",
    "        s=3,\n",
    "        label=f\"Rx{rx_idx}_peak2\",\n",
    "    )\n",
    "    axs[rx_idx].set_xlabel(\"Chunk\")\n",
    "    axs[rx_idx].set_ylabel(\"estimated theta\")\n",
    "    axs[rx_idx].legend()\n",
    "    axs[rx_idx].set_title(f\"Receiver (Rx) {rx_idx}\")"
   ]
  },
  {
   "cell_type": "code",
   "execution_count": null,
   "metadata": {},
   "outputs": [],
   "source": [
    "from collections import OrderedDict\n",
    "\n",
    "import torch\n",
    "import torch.nn as nn"
   ]
  },
  {
   "cell_type": "code",
   "execution_count": null,
   "metadata": {},
   "outputs": [],
   "source": [
    "from functools import cache\n",
    "import gc\n",
    "\n",
    "from spf.dataset.spf_dataset import v5_collate_beamsegnet\n",
    "from spf.model_training_and_inference.models.beamsegnet import BeamNSegNet\n",
    "\n",
    "torch_device = torch.device(\"mps\")\n",
    "nthetas = 11\n",
    "lr = 0.001\n",
    "\n",
    "\n",
    "dataloader_params = {\n",
    "    \"batch_size\": 4,\n",
    "    \"shuffle\": True,\n",
    "    \"num_workers\": 1,\n",
    "    \"collate_fn\": v5_collate_beamsegnet,\n",
    "}\n",
    "train_dataloader = torch.utils.data.DataLoader(ds, **dataloader_params)\n",
    "\n",
    "import wandb\n",
    "import random\n",
    "\n",
    "# start a new wandb run to track this script\n",
    "wandb.init(\n",
    "    # set the wandb project where this run will be logged\n",
    "    project=\"projectspf\",\n",
    "    # track hyperparameters and run metadata\n",
    "    config={\n",
    "        \"learning_rate\": lr,\n",
    "        \"architecture\": \"beamsegnet1\",\n",
    "    },\n",
    ")\n",
    "\n",
    "\n",
    "import torch.nn.functional as f\n",
    "\n",
    "\n",
    "@cache\n",
    "def mean_guess(shape):\n",
    "    return f.normalize(torch.ones(shape), p=1, dim=1)\n",
    "\n",
    "\n",
    "loss_fn = nn.MSELoss()\n",
    "m = BeamNSegNet(nthetas=nthetas).to(torch_device)\n",
    "optimizer = torch.optim.AdamW(m.parameters(), lr=0.01)\n",
    "for epoch in range(10):\n",
    "    for X, Y in train_dataloader:\n",
    "        optimizer.zero_grad()\n",
    "        output = m(X.to(torch_device))\n",
    "        l = loss_fn(output, Y.to(torch_device))\n",
    "        l.backward()\n",
    "        mean_loss = output\n",
    "        optimizer.step()\n",
    "\n",
    "        mean_loss = loss_fn(mean_guess(Y.shape), Y)\n",
    "\n",
    "        wandb.log({\"loss\": l.item(), \"mean_loss\": mean_loss.item()})\n",
    "        # print(\"LOSS\", l.item())\n",
    "\n",
    "\n",
    "# [optional] finish the wandb run, necessary in notebooks\n",
    "wandb.finish()"
   ]
  },
  {
   "cell_type": "code",
   "execution_count": null,
   "metadata": {},
   "outputs": [],
   "source": [
    "output"
   ]
  },
  {
   "cell_type": "code",
   "execution_count": null,
   "metadata": {},
   "outputs": [],
   "source": [
    "plt.imshow(output.cpu().detach().numpy())"
   ]
  },
  {
   "cell_type": "code",
   "execution_count": null,
   "metadata": {},
   "outputs": [],
   "source": [
    "plt.imshow(Y.to(\"cpu\"))"
   ]
  },
  {
   "cell_type": "code",
   "execution_count": null,
   "metadata": {},
   "outputs": [],
   "source": []
  },
  {
   "cell_type": "code",
   "execution_count": null,
   "metadata": {},
   "outputs": [],
   "source": []
  }
 ],
 "metadata": {
  "kernelspec": {
   "display_name": "spf",
   "language": "python",
   "name": "python3"
  },
  "language_info": {
   "codemirror_mode": {
    "name": "ipython",
    "version": 3
   },
   "file_extension": ".py",
   "mimetype": "text/x-python",
   "name": "python",
   "nbconvert_exporter": "python",
   "pygments_lexer": "ipython3",
   "version": "3.11.7"
  }
 },
 "nbformat": 4,
 "nbformat_minor": 2
}
