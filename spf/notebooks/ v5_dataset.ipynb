{
 "cells": [
  {
   "cell_type": "code",
   "execution_count": null,
   "metadata": {},
   "outputs": [],
   "source": [
    "repo_root = \"/Users/miskodzamba/Dropbox/research/gits/spf/\"\n",
    "import sys\n",
    "\n",
    "\n",
    "if repo_root not in sys.path:\n",
    "    sys.path.append(repo_root)  # go to parent dir"
   ]
  },
  {
   "cell_type": "code",
   "execution_count": null,
   "metadata": {},
   "outputs": [],
   "source": [
    "from torch.utils.data import Dataset\n",
    "import yaml\n",
    "import torch\n",
    "from spf.data_collector import rx_config_from_receiver_yaml\n",
    "from spf.dataset.spf_dataset import pi_norm\n",
    "from spf.rf import precompute_steering_vectors\n",
    "from spf.utils import zarr_open_from_lmdb_store\n",
    "from spf.dataset.v5_data import v5rx_f64_keys, v5rx_2xf64_keys\n",
    "import numpy as np\n",
    "\n",
    "\n",
    "class v5spfdataset(Dataset):\n",
    "    def __init__(self, prefix, nthetas=64 + 1):\n",
    "        prefix = prefix.replace(\".zarr\", \"\")\n",
    "        self.zarr_fn = f\"{prefix}.zarr\"\n",
    "        self.yaml_fn = f\"{prefix}.yaml\"\n",
    "        self.z = zarr_open_from_lmdb_store(self.zarr_fn)\n",
    "        self.yaml_config = yaml.safe_load(open(self.yaml_fn, \"r\"))\n",
    "\n",
    "        self.n_receivers = len(self.yaml_config[\"receivers\"])\n",
    "\n",
    "        self.rx_configs = [\n",
    "            rx_config_from_receiver_yaml(receiver)\n",
    "            for receiver in self.yaml_config[\"receivers\"]\n",
    "        ]\n",
    "\n",
    "        self.receiver_data = [\n",
    "            self.z.receivers[f\"r{ridx}\"] for ridx in range(self.n_receivers)\n",
    "        ]\n",
    "\n",
    "        self.signal_matrices = [\n",
    "            self.z.receivers[f\"r{ridx}\"].signal_matrix\n",
    "            for ridx in range(self.n_receivers)\n",
    "        ]\n",
    "\n",
    "        self.n_sessions, self.n_antennas_per_receiver, self.session_length = (\n",
    "            self.signal_matrices[0].shape\n",
    "        )\n",
    "        assert self.n_antennas_per_receiver == 2\n",
    "        for ridx in range(self.n_receivers):\n",
    "            assert self.signal_matrices[ridx].shape == (\n",
    "                self.n_sessions,\n",
    "                self.n_antennas_per_receiver,\n",
    "                self.session_length,\n",
    "            )\n",
    "\n",
    "        self.steering_vectors = [\n",
    "            precompute_steering_vectors(\n",
    "                receiver_positions=rx_config.rx_pos,\n",
    "                carrier_frequency=rx_config.lo,\n",
    "                spacing=nthetas,\n",
    "            )\n",
    "            for rx_config in self.rx_configs\n",
    "        ]\n",
    "\n",
    "        self.keys_per_session = v5rx_f64_keys + v5rx_2xf64_keys + [\"signal_matrix\"]\n",
    "\n",
    "    def __len__(self):\n",
    "        return self.n_sessions * self.n_receivers\n",
    "\n",
    "    def render_session(self, receiver_idx, session_idx):\n",
    "        r = self.receiver_data[receiver_idx]\n",
    "        data = {key: r[key][session_idx] for key in self.keys_per_session}\n",
    "\n",
    "        data[\"estimated_theta\"] = self.get_theta(data)\n",
    "        data = {\n",
    "            k: (\n",
    "                torch.from_numpy(v)\n",
    "                if type(v) not in (np.float64, float)\n",
    "                else torch.Tensor([v])\n",
    "            )\n",
    "            for k, v in data.items()\n",
    "        }\n",
    "        return data\n",
    "\n",
    "    def get_theta(self, session):\n",
    "        rx_theta_in_pis = session[\"rx_theta_in_pis\"]\n",
    "        tx_pos = np.array([session[\"tx_pos_x_mm\"], session[\"tx_pos_y_mm\"]])\n",
    "        rx_pos = np.array([session[\"rx_pos_x_mm\"], session[\"rx_pos_y_mm\"]])\n",
    "\n",
    "        # compute the angle of the tx with respect to rx\n",
    "        d = tx_pos - rx_pos\n",
    "\n",
    "        rx_to_tx_theta = np.arctan2(d[0], d[1])\n",
    "        return pi_norm(rx_to_tx_theta - rx_theta_in_pis * np.pi)\n",
    "\n",
    "    def __getitem__(self, idx):\n",
    "        assert idx < self.n_sessions * self.n_receivers\n",
    "        receiver_idx = idx % self.n_receivers\n",
    "        return self.render_session(receiver_idx, idx // self.n_receivers)\n",
    "\n",
    "    def get_sample_for_receiver():\n",
    "        pass"
   ]
  },
  {
   "cell_type": "code",
   "execution_count": null,
   "metadata": {},
   "outputs": [],
   "source": [
    "ds = v5spfdataset(\n",
    "    # \"/Volumes/SPFData/missions/april5/wallarrayv3_2024_04_05_22_13_07_nRX2_rx_circle\"\n",
    "    \"/Volumes/SPFData2/missions/april5/wallarrayv3_2024_05_06_19_04_15_nRX2_bounce\"\n",
    ")"
   ]
  },
  {
   "cell_type": "code",
   "execution_count": null,
   "metadata": {},
   "outputs": [],
   "source": [
    "k = [ds[x] for x in range(1000)]"
   ]
  },
  {
   "cell_type": "code",
   "execution_count": null,
   "metadata": {},
   "outputs": [],
   "source": [
    "np.array([1, 2]).shape"
   ]
  },
  {
   "cell_type": "code",
   "execution_count": null,
   "metadata": {},
   "outputs": [],
   "source": [
    "torch.hstack([torch.Tensor([1]), torch.Tensor([2])]).shape"
   ]
  },
  {
   "cell_type": "code",
   "execution_count": null,
   "metadata": {},
   "outputs": [],
   "source": []
  }
 ],
 "metadata": {
  "kernelspec": {
   "display_name": "spf",
   "language": "python",
   "name": "python3"
  },
  "language_info": {
   "codemirror_mode": {
    "name": "ipython",
    "version": 3
   },
   "file_extension": ".py",
   "mimetype": "text/x-python",
   "name": "python",
   "nbconvert_exporter": "python",
   "pygments_lexer": "ipython3",
   "version": "3.11.7"
  }
 },
 "nbformat": 4,
 "nbformat_minor": 2
}
