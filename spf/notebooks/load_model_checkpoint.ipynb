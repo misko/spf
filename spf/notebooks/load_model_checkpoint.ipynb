{
 "cells": [
  {
   "cell_type": "code",
   "execution_count": null,
   "metadata": {},
   "outputs": [],
   "source": []
  },
  {
   "cell_type": "code",
   "execution_count": null,
   "metadata": {},
   "outputs": [],
   "source": [
    "from spf.model_training_and_inference.models.single_point_networks_inference import (\n",
    "    convert_datasets_config_to_inference,\n",
    "    load_model_and_config_from_config_fn_and_checkpoint,\n",
    ")\n",
    "import torch\n",
    "from spf.scripts.train_single_point import load_dataloaders\n",
    "\n",
    "from tqdm import tqdm\n",
    "\n",
    "config_fn = \"/home/mouse9911/gits/spf/nov2_checkpoints/nov2_small_paired_checkpoints_inputdo0p3/config.yml\"\n",
    "checkpoint_fn = \"/home/mouse9911/gits/spf/nov2_checkpoints/nov2_small_paired_checkpoints_inputdo0p3/best.pth\"\n",
    "\n",
    "config_fn = (\n",
    "    \"/home/mouse9911/gits/spf/nov2_checkpoints/paired_checkpoints_inputdo0p3/config.yml\"\n",
    ")\n",
    "checkpoint_fn = (\n",
    "    \"/home/mouse9911/gits/spf/nov2_checkpoints/paired_checkpoints_inputdo0p3/best.pth\"\n",
    ")\n",
    "ds_fn = \"/mnt/4tb_ssd/nosig_data/wallarrayv3_2024_08_21_10_30_58_nRX2_bounce_spacing0p05075.zarr\"\n",
    "\n",
    "# load model\n",
    "model, config = load_model_and_config_from_config_fn_and_checkpoint(\n",
    "    config_fn=config_fn, checkpoint_fn=checkpoint_fn\n",
    ")\n",
    "\n",
    "# load datasets config\n",
    "datasets_config = convert_datasets_config_to_inference(\n",
    "    config[\"datasets\"],\n",
    "    ds_fn=ds_fn,\n",
    ")\n",
    "\n",
    "# load dataloader\n",
    "optim_config = {\"device\": \"cuda\", \"dtype\": torch.float32}\n",
    "# global_config = {\"nthetas\": 65, \"n_radios\": 2, \"seed\": 0, \"beamformer_input\": True}\n",
    "\n",
    "train_dataloader, val_dataloader = load_dataloaders(\n",
    "    datasets_config, optim_config, config[\"global\"], step=0, epoch=0\n",
    ")\n",
    "\n",
    "# run inference\n",
    "model.eval()\n",
    "with torch.no_grad():\n",
    "    for _, val_batch_data in enumerate(tqdm(val_dataloader, leave=False)):\n",
    "        val_batch_data = val_batch_data.to(config[\"optim\"][\"device\"])\n",
    "        output = model(val_batch_data)\n",
    "        break"
   ]
  },
  {
   "cell_type": "code",
   "execution_count": null,
   "metadata": {},
   "outputs": [],
   "source": [
    "output[\"single\"].shape"
   ]
  },
  {
   "cell_type": "code",
   "execution_count": null,
   "metadata": {},
   "outputs": [],
   "source": [
    "output[\"single\"].shape, output[\"paired\"].shape"
   ]
  },
  {
   "cell_type": "code",
   "execution_count": null,
   "metadata": {},
   "outputs": [],
   "source": [
    "config"
   ]
  },
  {
   "cell_type": "code",
   "execution_count": null,
   "metadata": {},
   "outputs": [],
   "source": [
    "from functools import partial\n",
    "from spf.dataset.spf_dataset import v5_collate_keys_fast, v5spfdataset\n",
    "from spf.scripts.train_single_point import global_config_to_keys_used\n",
    "\n",
    "\n",
    "ds = v5spfdataset(\n",
    "    ds_fn,\n",
    "    nthetas=65,\n",
    "    ignore_qc=True,\n",
    "    precompute_cache=datasets_config[\"precompute_cache\"],\n",
    "    empirical_data_fn=datasets_config[\"empirical_data_fn\"],\n",
    "    paired=True,\n",
    "    skip_fields=set([\"signal_matrix\"]),\n",
    ")\n",
    "\n",
    "keys_to_get = global_config_to_keys_used(global_config=global_config)\n",
    "single_example = v5_collate_keys_fast(keys_to_get, [ds[0]]).to(optim_config[\"device\"])\n",
    "output2 = model(single_example)"
   ]
  },
  {
   "cell_type": "code",
   "execution_count": null,
   "metadata": {},
   "outputs": [],
   "source": [
    "(output[\"single\"] == output2[\"single\"]).all()"
   ]
  },
  {
   "cell_type": "code",
   "execution_count": null,
   "metadata": {},
   "outputs": [],
   "source": []
  }
 ],
 "metadata": {
  "kernelspec": {
   "display_name": "spf",
   "language": "python",
   "name": "python3"
  },
  "language_info": {
   "codemirror_mode": {
    "name": "ipython",
    "version": 3
   },
   "file_extension": ".py",
   "mimetype": "text/x-python",
   "name": "python",
   "nbconvert_exporter": "python",
   "pygments_lexer": "ipython3",
   "version": "3.12.3"
  }
 },
 "nbformat": 4,
 "nbformat_minor": 2
}
