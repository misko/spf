{
 "cells": [
  {
   "cell_type": "code",
   "execution_count": null,
   "id": "00f263b7",
   "metadata": {},
   "outputs": [],
   "source": [
    "#download the full dataset!\n",
    "repo_root=\"/Users/miskodzamba/Dropbox/research/gits/spf/\"\n",
    "full_data_url='https://www.dropbox.com/scl/fi/fgppmh3q3t9m17ug4im1w/data_dec2023.zip?rlkey=j6eh34itxv2arj6ngn8imhw8v&dl=0'\n",
    "\n",
    "!if [ ! -f  {repo_root}/full_data_v1_dl.zip ] ; then wget '{full_data_url}' -O {repo_root}/full_data_v1_dl.zip ; fi \n",
    "!if [ ! -d {repo_root}/full_data/v1 ] ; then mkdir -p {repo_root}/full_data/v1; unzip {repo_root}/full_data_v1_dl.zip -d {repo_root}/full_data/v1 ; fi \n"
   ]
  },
  {
   "cell_type": "code",
   "execution_count": null,
   "id": "55626245-e33d-48b8-bf2c-09ed12e10fbb",
   "metadata": {},
   "outputs": [],
   "source": [
    "import numpy as np\n",
    "import os\n",
    "\n",
    "root_dir = repo_root + \"/full_data/v1\"\n",
    "filenames = sorted(\n",
    "    filter(\n",
    "        lambda x: \".npy\" in x, [\"%s/%s\" % (root_dir, x) for x in os.listdir(root_dir)]\n",
    "    )\n",
    ")\n",
    "filenames = filter(lambda x: \"bw_filter_\" in x, filenames)\n",
    "\n",
    "from functools import cache\n",
    "\n",
    "# data file format\n",
    "# each data file is 400,000 rows (each representing a sequential moment in time)\n",
    "#   each row has 70 float values\n",
    "#     time,x,y,mean,mean_trimmed,+65 values representing the signal strength in each of the 65 uniformly spaced directions\n",
    "#     directions start at 0 radians and end at 2pi radians\n",
    "\n",
    "\n",
    "@cache\n",
    "def check_file(fn):\n",
    "    try:\n",
    "        m = np.memmap(fn, dtype=\"float32\", mode=\"r\", shape=(400000, 70))\n",
    "        return not (np.abs(m).mean(axis=1) == 0).any()\n",
    "    except:\n",
    "        return False\n",
    "\n",
    "\n",
    "filenames = list(filter(check_file, filenames))\n",
    "\n",
    "cols = [\n",
    "    \"time\",\n",
    "    \"xy[0]\",\n",
    "    \"xy[1]\",\n",
    "    \"mean\",\n",
    "    \"mean_trimmed\",\n",
    "]"
   ]
  },
  {
   "cell_type": "code",
   "execution_count": null,
   "id": "b05c9143-da72-4241-af00-1b62a7ec3aea",
   "metadata": {},
   "outputs": [],
   "source": [
    "print(\"Using %d files as input\" % len(filenames))"
   ]
  },
  {
   "cell_type": "code",
   "execution_count": null,
   "id": "f767f290-f545-4e56-9f69-859119f0d1e9",
   "metadata": {},
   "outputs": [],
   "source": [
    "import tqdm\n",
    "\n",
    "# read all the files and find the min and max for x (mm) and y (mm)\n",
    "x_min, x_max = None, None\n",
    "y_min, y_max = None, None\n",
    "\n",
    "for filename in tqdm.tqdm(filenames):\n",
    "    m = np.memmap(filename, dtype=\"float32\", mode=\"r\", shape=(400000, 70))\n",
    "    _x_min, _x_max = m[:, 1].min(), m[:, 1].max()\n",
    "    _y_min, _y_max = m[:, 2].min(), m[:, 2].max()\n",
    "    if x_min is None:\n",
    "        x_min = _x_min\n",
    "        x_max = _x_max\n",
    "        y_min = _y_min\n",
    "        y_max = _y_max\n",
    "    else:\n",
    "        x_min = min(x_min, _x_min)\n",
    "        x_max = max(x_max, _x_max)\n",
    "        y_min = min(y_min, _y_min)\n",
    "        y_max = max(y_max, _y_max)"
   ]
  },
  {
   "cell_type": "code",
   "execution_count": null,
   "id": "74274215-42b9-4263-a145-1affb087f070",
   "metadata": {},
   "outputs": [],
   "source": []
  },
  {
   "cell_type": "code",
   "execution_count": null,
   "id": "eb5373f4-cda4-495a-bfa5-f19347276e49",
   "metadata": {},
   "outputs": [],
   "source": [
    "# split the area into a grid of bin_size\n",
    "def coord_to_bin(x, y, bin_size=5):\n",
    "    return int(x // bin_size), int(y // bin_size)\n",
    "\n",
    "\n",
    "bin_size = 20\n",
    "max_x, max_y = coord_to_bin(x_max, y_max, bin_size=bin_size)\n",
    "\n",
    "means = np.zeros((int(max_x + 1), int(max_y + 1)))\n",
    "counts = np.zeros((int(max_x + 1), int(max_y + 1)))\n",
    "\n",
    "# find the mean estimate angle for each bin\n",
    "for filename in tqdm.tqdm(filenames):\n",
    "    m = np.memmap(filename, dtype=\"float32\", mode=\"r\", shape=(400000, 70))\n",
    "    for row in m:\n",
    "        x, y, mean, _mean = row[1:5]\n",
    "        _x, _y = coord_to_bin(x, y, bin_size=bin_size)\n",
    "        means[_x, _y] += _mean\n",
    "        counts[_x, _y] += 1\n",
    "means /= counts"
   ]
  },
  {
   "cell_type": "code",
   "execution_count": null,
   "id": "a2714a22-d208-4f3f-a033-6f00112fafd6",
   "metadata": {},
   "outputs": [],
   "source": [
    "var = np.zeros((int(max_x + 1), int(max_y + 1)))\n",
    "\n",
    "# find the variance for each bin\n",
    "for filename in tqdm.tqdm(filenames):\n",
    "    m = np.memmap(filename, dtype=\"float32\", mode=\"r\", shape=(400000, 70))\n",
    "    for row in m:\n",
    "        x, y, mean, _mean = row[1:5]\n",
    "        _x, _y = coord_to_bin(x, y, bin_size=bin_size)\n",
    "        var[_x, _y] += np.power(means[_x, _y] - _mean, 2)\n",
    "var /= counts"
   ]
  },
  {
   "cell_type": "code",
   "execution_count": null,
   "id": "e4efa59c-ce7d-4eab-a458-e1b63028dd5c",
   "metadata": {},
   "outputs": [],
   "source": [
    "from mpl_toolkits.axes_grid1 import make_axes_locatable\n",
    "import matplotlib.pyplot as plt\n",
    "\n",
    "fig, axs = plt.subplots(1, 2, figsize=(45, 22))\n",
    "\n",
    "im = axs[0].imshow(\n",
    "    means.T * 360 / (2 * np.pi),\n",
    "    origin=\"upper\",\n",
    "    extent=(0, means.shape[0], means.shape[1], 0),\n",
    "    cmap=\"brg\",\n",
    "    aspect=\"auto\",\n",
    ")\n",
    "divider = make_axes_locatable(axs[0])\n",
    "cax = divider.append_axes(\"right\", size=\"5%\", pad=0.05)\n",
    "fig.colorbar(im, cax=cax, orientation=\"vertical\")\n",
    "axs[0].invert_xaxis()\n",
    "\n",
    "im = axs[1].imshow(np.clip(var.T * 360 / (2 * np.pi), a_max=30, a_min=0))\n",
    "\n",
    "divider = make_axes_locatable(axs[1])\n",
    "cax = divider.append_axes(\"right\", size=\"5%\", pad=0.05)\n",
    "fig.colorbar(im, cax=cax, orientation=\"vertical\")\n",
    "axs[1].invert_xaxis()\n",
    "\n",
    "# how many ticks to put on the sides\n",
    "nticks = 7\n",
    "xs = np.arange(0, means.shape[0], means.shape[0] // nticks)\n",
    "ys = np.arange(0, means.shape[1], means.shape[1] // nticks)\n",
    "\n",
    "axs[0].set_title(\"Radio angle estimate (degrees) vs position\")\n",
    "axs[1].set_title(\"Variance (degrees) vs position\")\n",
    "plt.tight_layout()\n",
    "plt.savefig(\"%dmm_res_map.png\" % bin_size)"
   ]
  },
  {
   "cell_type": "code",
   "execution_count": null,
   "id": "36712224-000c-4f7a-83bb-717c8edc6529",
   "metadata": {},
   "outputs": [],
   "source": [
    "import matplotlib.pyplot as plt\n",
    "\n",
    "plt.hist(counts.reshape(-1))"
   ]
  },
  {
   "cell_type": "code",
   "execution_count": null,
   "id": "85a8578f-8747-492c-b215-5ac90ec78a3b",
   "metadata": {},
   "outputs": [],
   "source": []
  },
  {
   "cell_type": "code",
   "execution_count": null,
   "id": "f011a958-214d-49dd-9e1c-262a1009e022",
   "metadata": {},
   "outputs": [],
   "source": []
  },
  {
   "cell_type": "code",
   "execution_count": null,
   "id": "171ffd8a-f970-43a6-b977-fd58613b6bbf",
   "metadata": {},
   "outputs": [],
   "source": []
  }
 ],
 "metadata": {
  "kernelspec": {
   "display_name": "Python 3 (ipykernel)",
   "language": "python",
   "name": "python3"
  },
  "language_info": {
   "codemirror_mode": {
    "name": "ipython",
    "version": 3
   },
   "file_extension": ".py",
   "mimetype": "text/x-python",
   "name": "python",
   "nbconvert_exporter": "python",
   "pygments_lexer": "ipython3",
   "version": "3.11.5"
  }
 },
 "nbformat": 4,
 "nbformat_minor": 5
}
