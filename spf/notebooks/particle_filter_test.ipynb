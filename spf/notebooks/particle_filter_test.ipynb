{
 "cells": [
  {
   "cell_type": "code",
   "execution_count": null,
   "metadata": {},
   "outputs": [],
   "source": [
    "from spf.dataset.v5_data import v5rx_new_dataset\n",
    "from spf.utils import zarr_open_from_lmdb_store, zarr_shrink\n",
    "import yaml\n",
    "import zarr\n",
    "import shutil\n",
    "from spf.dataset.spf_dataset import v5spfdataset\n",
    "\n",
    "\n",
    "def compare_and_copy_n(prefix, src, dst, n):\n",
    "    if isinstance(src, zarr.hierarchy.Group):\n",
    "        for key in src.keys():\n",
    "            compare_and_copy_n(prefix + \"/\" + key, src[key], dst[key], n)\n",
    "    else:\n",
    "        if prefix == \"/config\":\n",
    "            if src.shape != ():\n",
    "                dst[:] = src[:]\n",
    "        else:\n",
    "            for x in range(n):\n",
    "                dst[x] = src[x]\n",
    "\n",
    "\n",
    "def partial_dataset(input_fn, output_fn, n):\n",
    "    input_fn.replace(\".zarr\", \"\")\n",
    "    z = zarr_open_from_lmdb_store(input_fn + \".zarr\")\n",
    "    timesteps, _, buffer_size = z[\"receivers/r0/signal_matrix\"].shape\n",
    "    input_yaml_fn = input_fn + \".yaml\"\n",
    "    output_yaml_fn = output_fn + \".yaml\"\n",
    "    yaml_config = yaml.safe_load(open(input_yaml_fn, \"r\"))\n",
    "    shutil.copyfile(input_yaml_fn, output_yaml_fn)\n",
    "    new_z = v5rx_new_dataset(\n",
    "        filename=output_fn + \".zarr\",\n",
    "        timesteps=timesteps,\n",
    "        buffer_size=buffer_size,\n",
    "        n_receivers=len(yaml_config[\"receivers\"]),\n",
    "        chunk_size=512,\n",
    "        compressor=None,\n",
    "        config=yaml_config,\n",
    "        remove_if_exists=False,\n",
    "    )\n",
    "    compare_and_copy_n(\"\", z, new_z, n)\n",
    "    new_z.store.close()\n",
    "    new_z = None\n",
    "    zarr_shrink(output_fn)\n",
    "\n",
    "\n",
    "n = 128\n",
    "noise = 0.3\n",
    "nthetas = 65\n",
    "orbits = 2\n",
    "\n",
    "\n",
    "tmpdirname = \"/home/mouse9911/gits/spf/spf/notebooks/test\"\n",
    "ds_fn = f\"{tmpdirname}/sample_dataset_for_ekf_n{n}_noise{noise}\"\n",
    "ds_fn_out = f\"{tmpdirname}/sample_dataset_for_ekf_n{n}_noise{noise}_partial\"\n",
    "\n",
    "partial_dataset(ds_fn, ds_fn_out, 25)"
   ]
  },
  {
   "cell_type": "code",
   "execution_count": null,
   "metadata": {},
   "outputs": [],
   "source": [
    "ds = v5spfdataset(\n",
    "    ds_fn_out,\n",
    "    precompute_cache=tmpdirname,\n",
    "    nthetas=65,\n",
    "    skip_signal_matrix=True,\n",
    "    paired=True,\n",
    "    ignore_qc=True,\n",
    "    gpu=False,\n",
    "    temp_file=True,\n",
    "    temp_file_suffix=\"\",\n",
    ")\n",
    "ds.valid_entries"
   ]
  },
  {
   "cell_type": "code",
   "execution_count": null,
   "metadata": {},
   "outputs": [],
   "source": [
    "ds.refresh()\n",
    "ds.z[\"receivers/r0/system_timestamp\"][:]\n",
    "len(ds), ds.valid_entries"
   ]
  },
  {
   "cell_type": "code",
   "execution_count": null,
   "metadata": {},
   "outputs": [],
   "source": [
    "ds[19][0][\"windowed_beamformer\"].mean()"
   ]
  },
  {
   "cell_type": "code",
   "execution_count": null,
   "metadata": {},
   "outputs": [],
   "source": []
  },
  {
   "cell_type": "code",
   "execution_count": null,
   "metadata": {},
   "outputs": [],
   "source": []
  },
  {
   "cell_type": "code",
   "execution_count": null,
   "metadata": {},
   "outputs": [],
   "source": [
    "ds_og = v5spfdataset(\n",
    "    ds_fn,\n",
    "    precompute_cache=tmpdirname,\n",
    "    nthetas=65,\n",
    "    skip_signal_matrix=True,\n",
    "    paired=True,\n",
    "    ignore_qc=True,\n",
    "    gpu=True,\n",
    ")\n",
    "ds_og.valid_entries"
   ]
  },
  {
   "cell_type": "code",
   "execution_count": null,
   "metadata": {},
   "outputs": [],
   "source": [
    "ds_og[19][0][\"windowed_beamformer\"].mean()"
   ]
  },
  {
   "cell_type": "code",
   "execution_count": null,
   "metadata": {},
   "outputs": [],
   "source": []
  },
  {
   "cell_type": "code",
   "execution_count": null,
   "metadata": {},
   "outputs": [],
   "source": []
  },
  {
   "cell_type": "code",
   "execution_count": null,
   "metadata": {},
   "outputs": [],
   "source": [
    "datasets[0].z[\"recievers\"][]"
   ]
  },
  {
   "cell_type": "code",
   "execution_count": null,
   "metadata": {},
   "outputs": [],
   "source": [
    "import tempfile\n",
    "from spf.model_training_and_inference.models.particle_filter import (\n",
    "    plot_single_theta_dual_radio,\n",
    "    plot_single_theta_single_radio,\n",
    "    plot_xy_dual_radio,\n",
    "    run_single_theta_single_radio,\n",
    ")\n",
    "\n",
    "from spf.dataset.fake_dataset import create_fake_dataset, fake_yaml\n",
    "from spf.dataset.spf_dataset import v5spfdataset\n",
    "\n",
    "n = 128\n",
    "noise = 0.3\n",
    "nthetas = 65\n",
    "orbits = 2\n",
    "\n",
    "tmpdir = tempfile.TemporaryDirectory()\n",
    "tmpdirname = tmpdir.name\n",
    "tmpdirname = \"/home/mouse9911/gits/spf/spf/notebooks/test\"\n",
    "ds_fn = f\"{tmpdirname}/sample_dataset_for_ekf_n{n}_noise{noise}\"\n",
    "\n",
    "full_p_fn = f\"{tmpdirname}/full_p.pkl\"\n",
    "datasets = [\n",
    "    v5spfdataset(\n",
    "        prefix,\n",
    "        precompute_cache=tmpdirname,\n",
    "        nthetas=65,\n",
    "        skip_signal_matrix=True,\n",
    "        paired=True,\n",
    "        ignore_qc=True,\n",
    "        gpu=False,\n",
    "        temp_file=True,\n",
    "        temp_file_suffix=\"\",\n",
    "    )\n",
    "    for prefix in [ds_fn]\n",
    "]"
   ]
  },
  {
   "cell_type": "code",
   "execution_count": null,
   "metadata": {},
   "outputs": [],
   "source": [
    "create_fake_dataset(\n",
    "    filename=ds_fn, yaml_config_str=fake_yaml, n=n, noise=noise, orbits=orbits\n",
    ")"
   ]
  },
  {
   "cell_type": "code",
   "execution_count": null,
   "metadata": {},
   "outputs": [],
   "source": [
    "datasets[0].mean_phase[\"r0\"]"
   ]
  },
  {
   "cell_type": "code",
   "execution_count": null,
   "metadata": {},
   "outputs": [],
   "source": [
    "datasets[0].get_mean_phase(0, 10)"
   ]
  },
  {
   "cell_type": "code",
   "execution_count": null,
   "metadata": {},
   "outputs": [],
   "source": [
    "datasets[0].cached_keys[0].keys()"
   ]
  },
  {
   "cell_type": "code",
   "execution_count": null,
   "metadata": {},
   "outputs": [],
   "source": [
    "len(datasets[0])"
   ]
  },
  {
   "cell_type": "code",
   "execution_count": null,
   "metadata": {},
   "outputs": [],
   "source": [
    "args = {\n",
    "    \"ds_fn\": ds_fn,\n",
    "    \"precompute_fn\": tmpdirname,\n",
    "    \"full_p_fn\": full_p_fn,\n",
    "    \"N\": 1024 * 4,\n",
    "    \"theta_err\": 0.01,\n",
    "    \"theta_dot_err\": 0.01,\n",
    "}\n",
    "run_single_theta_single_radio(**args)"
   ]
  },
  {
   "cell_type": "code",
   "execution_count": null,
   "metadata": {},
   "outputs": [],
   "source": [
    "from spf.model_training_and_inference.models.create_empirical_p_dist import (\n",
    "    apply_symmetry_rules_to_heatmap,\n",
    "    get_heatmap,\n",
    ")\n",
    "\n",
    "\n",
    "heatmap = get_heatmap(datasets, bins=50)\n",
    "heatmap = apply_symmetry_rules_to_heatmap(heatmap)\n",
    "\n",
    "import pickle\n",
    "\n",
    "full_p_fn = f\"{tmpdirname}/full_p.pkl\"\n",
    "pickle.dump({\"full_p\": heatmap}, open(full_p_fn, \"wb\"))"
   ]
  },
  {
   "cell_type": "code",
   "execution_count": null,
   "metadata": {},
   "outputs": [],
   "source": [
    "from spf.model_training_and_inference.models.particle_filter import (\n",
    "    plot_single_theta_dual_radio,\n",
    "    plot_single_theta_single_radio,\n",
    "    plot_xy_dual_radio,\n",
    "    run_single_theta_single_radio,\n",
    ")\n",
    "\n",
    "\n",
    "args = {\n",
    "    \"ds_fn\": ds_fn,\n",
    "    \"precompute_fn\": tmpdirname,\n",
    "    \"full_p_fn\": full_p_fn,\n",
    "    \"N\": 1024 * 4,\n",
    "    \"theta_err\": 0.01,\n",
    "    \"theta_dot_err\": 0.01,\n",
    "}\n",
    "run_single_theta_single_radio(**args)\n",
    "plot_single_theta_single_radio(datasets[0], full_p_fn)\n",
    "# plot_single_theta_dual_radio(datasets[0], full_p_fn)\n",
    "\n",
    "# plot_xy_dual_radio(datasets[0], full_p_fn)"
   ]
  },
  {
   "cell_type": "code",
   "execution_count": null,
   "metadata": {},
   "outputs": [],
   "source": [
    "run_single_theta_single_radio(**args)"
   ]
  },
  {
   "cell_type": "code",
   "execution_count": null,
   "metadata": {},
   "outputs": [],
   "source": [
    "# run_single_theta_single_radio(**args)"
   ]
  },
  {
   "cell_type": "code",
   "execution_count": null,
   "metadata": {},
   "outputs": [],
   "source": [
    "from spf.model_training_and_inference.models.particle_filter import (\n",
    "    run_single_theta_dual_radio,\n",
    ")\n",
    "\n",
    "\n",
    "run_single_theta_dual_radio(**args)"
   ]
  },
  {
   "cell_type": "code",
   "execution_count": null,
   "metadata": {},
   "outputs": [],
   "source": [
    "from spf.model_training_and_inference.models.particle_filter import run_xy_dual_radio\n",
    "\n",
    "args = {\n",
    "    \"ds_fn\": ds_fn,\n",
    "    \"precompute_fn\": tmpdirname,\n",
    "    \"full_p_fn\": full_p_fn,\n",
    "    \"N\": 1024,\n",
    "    \"pos_err\": 50,\n",
    "    \"vel_err\": 0.1,\n",
    "}\n",
    "\n",
    "run_xy_dual_radio(**args)"
   ]
  },
  {
   "cell_type": "code",
   "execution_count": null,
   "metadata": {},
   "outputs": [],
   "source": []
  },
  {
   "cell_type": "code",
   "execution_count": null,
   "metadata": {},
   "outputs": [],
   "source": []
  }
 ],
 "metadata": {
  "kernelspec": {
   "display_name": "spf",
   "language": "python",
   "name": "python3"
  },
  "language_info": {
   "codemirror_mode": {
    "name": "ipython",
    "version": 3
   },
   "file_extension": ".py",
   "mimetype": "text/x-python",
   "name": "python",
   "nbconvert_exporter": "python",
   "pygments_lexer": "ipython3",
   "version": "3.12.3"
  }
 },
 "nbformat": 4,
 "nbformat_minor": 2
}
