{
 "cells": [
  {
   "cell_type": "code",
   "execution_count": null,
   "metadata": {},
   "outputs": [],
   "source": [
    "import tempfile\n",
    "\n",
    "from spf.dataset.spf_dataset import v5spfdataset\n",
    "\n",
    "\n",
    "from spf.dataset.fake_dataset import create_fake_dataset, fake_yaml\n",
    "\n",
    "noise = 0.0\n",
    "nthetas = 65\n",
    "orbits = 2\n",
    "n = 65\n",
    "\n",
    "tmpdir = tempfile.TemporaryDirectory()\n",
    "tmpdirname = tmpdir.name\n",
    "tmpdirname = \"./\"\n",
    "ds_fn = f\"{tmpdirname}/sample_dataset_for_ekf_n{n}_noise{noise}\"\n",
    "\n",
    "create_fake_dataset(\n",
    "    filename=ds_fn, yaml_config_str=fake_yaml, n=n, noise=noise, orbits=orbits\n",
    ")"
   ]
  },
  {
   "cell_type": "code",
   "execution_count": null,
   "metadata": {},
   "outputs": [],
   "source": [
    "ds = v5spfdataset(\n",
    "    ds_fn,\n",
    "    nthetas=nthetas,\n",
    "    ignore_qc=True,\n",
    "    precompute_cache=tmpdirname,\n",
    "    paired=True,\n",
    "    skip_fields=set([\"signal_matrix\"]),\n",
    "    n_parallel=0,\n",
    ")"
   ]
  },
  {
   "cell_type": "code",
   "execution_count": null,
   "metadata": {},
   "outputs": [],
   "source": [
    "from matplotlib import pyplot as plt\n",
    "\n",
    "plt.plot(ds.mean_phase[\"r0\"])\n",
    "plt.plot(ds.ground_truth_phis[0])"
   ]
  },
  {
   "cell_type": "code",
   "execution_count": null,
   "metadata": {},
   "outputs": [],
   "source": [
    "assert np.isclose(ds.ground_truth_phis[0], ds.mean_phase[\"r0\"], atol=0.001).all()\n",
    "assert np.isclose(ds.ground_truth_phis[1], ds.mean_phase[\"r1\"], atol=0.001).all()"
   ]
  },
  {
   "cell_type": "code",
   "execution_count": null,
   "metadata": {},
   "outputs": [],
   "source": []
  },
  {
   "cell_type": "code",
   "execution_count": null,
   "metadata": {},
   "outputs": [],
   "source": []
  },
  {
   "cell_type": "code",
   "execution_count": null,
   "metadata": {},
   "outputs": [],
   "source": []
  }
 ],
 "metadata": {
  "kernelspec": {
   "display_name": "spf",
   "language": "python",
   "name": "python3"
  },
  "language_info": {
   "codemirror_mode": {
    "name": "ipython",
    "version": 3
   },
   "file_extension": ".py",
   "mimetype": "text/x-python",
   "name": "python",
   "nbconvert_exporter": "python",
   "pygments_lexer": "ipython3",
   "version": "3.12.3"
  }
 },
 "nbformat": 4,
 "nbformat_minor": 2
}
