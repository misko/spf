{
 "cells": [
  {
   "cell_type": "code",
   "execution_count": null,
   "metadata": {},
   "outputs": [],
   "source": [
    "import zarr\n",
    "import numpy as np\n",
    "\n",
    "from numcodecs import Blosc, Zstd\n",
    "\n",
    "\n",
    "def random_signal_matrix(self, buffer_size):\n",
    "    return np.random.uniform(-1, 1, (buffer_size,)) + 1.0j * np.random.uniform(\n",
    "        -1, 1, (buffer_size,)\n",
    "    )\n",
    "\n",
    "\n",
    "total_samples = 2**24\n",
    "buffer_size = 2**18\n",
    "assert total_samples % buffer_size == 0\n",
    "timesteps = total_samples // buffer_size\n",
    "chunk_size = 4096\n",
    "data_points = 1024\n",
    "filename = \"testzarr\"\n",
    "\n",
    "\n",
    "f64_keys = [\n",
    "    \"system_timestamps\",\n",
    "    \"gps_timestamps\",\n",
    "    \"lat\",\n",
    "    \"long\",\n",
    "    \"heading\",\n",
    "    \"avg_phase_diff\",\n",
    "    \"rssi\",\n",
    "    \"gain\",\n",
    "]\n",
    "\n",
    "\n",
    "def v4rx_new_dataset(filename, n_receivers, compressor=None):\n",
    "    z = zarr.open(\n",
    "        filename,\n",
    "        mode=\"w\",\n",
    "    )\n",
    "    if compressor is None:\n",
    "        compressor = Blosc(\n",
    "            cname=\"zstd\",\n",
    "            clevel=1,\n",
    "            shuffle=Blosc.BITSHUFFLE,\n",
    "        )\n",
    "    z.create_group(\"receivers\")\n",
    "    for receiver_idx in range(n_receivers):\n",
    "        receiver_z = z[\"receivers\"].create_group(f\"r{receiver_idx}\")\n",
    "        receiver_z.create_dataset(\n",
    "            \"signal_matrix\",\n",
    "            shape=(timesteps, 2, buffer_size),\n",
    "            chunks=(1, 1, 1024 * chunk_size),\n",
    "            dtype=\"complex128\",\n",
    "            compressor=compressor,\n",
    "        )\n",
    "        for key in f64_keys:\n",
    "            receiver_z.create_dataset(\n",
    "                key,\n",
    "                shape=(timesteps,),\n",
    "                chunks=(1024 * chunk_size),\n",
    "                dtype=\"float64\",\n",
    "                compressor=compressor,\n",
    "            )\n",
    "    return z\n",
    "\n",
    "\n",
    "z = v4rx_new_dataset(\"testdata\", 2)"
   ]
  },
  {
   "cell_type": "code",
   "execution_count": null,
   "metadata": {},
   "outputs": [],
   "source": [
    "z.tree()"
   ]
  },
  {
   "cell_type": "code",
   "execution_count": null,
   "metadata": {},
   "outputs": [],
   "source": [
    "z.receivers.r0"
   ]
  },
  {
   "cell_type": "code",
   "execution_count": null,
   "metadata": {},
   "outputs": [],
   "source": [
    "z.create_group(\"test\")\n",
    "z.tree()"
   ]
  },
  {
   "cell_type": "code",
   "execution_count": null,
   "metadata": {},
   "outputs": [],
   "source": [
    "!pip install ipytree\n",
    "!pip install lmdb"
   ]
  },
  {
   "cell_type": "code",
   "execution_count": null,
   "metadata": {},
   "outputs": [],
   "source": []
  },
  {
   "cell_type": "code",
   "execution_count": null,
   "metadata": {},
   "outputs": [],
   "source": [
    "root = zarr.group(store=store, overwrite=True)"
   ]
  },
  {
   "cell_type": "code",
   "execution_count": null,
   "metadata": {},
   "outputs": [],
   "source": [
    "import zarr\n",
    "\n",
    "from numcodecs import Blosc, Zstd\n",
    "\n",
    "total_samples = 2**24\n",
    "buffer_size = 2**18\n",
    "assert total_samples % buffer_size == 0\n",
    "timesteps = total_samples // buffer_size\n",
    "chunk_size = 4096\n",
    "data_points = 1024\n",
    "filename = \"testzarr\"\n",
    "\n",
    "\n",
    "f64_keys = [\n",
    "    \"system_timestamps\",\n",
    "    \"gps_timestamps\",\n",
    "    \"lat\",\n",
    "    \"long\",\n",
    "    \"heading\",\n",
    "    \"avg_phase_diff\",\n",
    "    \"rssi\",\n",
    "    \"gain\",\n",
    "]\n",
    "\n",
    "store = zarr.LMDBStore(\"data/array.mdb\")\n",
    "z = zarr.open(\n",
    "    store=store,\n",
    "    mode=\"w\",\n",
    ")\n",
    "compressor = Blosc(\n",
    "    cname=\"zstd\",\n",
    "    clevel=1,\n",
    "    shuffle=Blosc.BITSHUFFLE,\n",
    ")\n",
    "z.create_group(\"receivers\")\n",
    "for receiver_idx in range(n_receivers):\n",
    "    receiver_z = z[\"receivers\"].create_group(f\"r{receiver_idx}\")\n",
    "    receiver_z.create_dataset(\n",
    "        \"signal_matrix\",\n",
    "        shape=(timesteps, 2, buffer_size),\n",
    "        chunks=(1, 1, 1024 * chunk_size),\n",
    "        dtype=\"complex128\",\n",
    "        compressor=compressor,\n",
    "    )\n",
    "    for key in f64_keys:\n",
    "        receiver_z.create_dataset(\n",
    "            key,\n",
    "            shape=(timesteps,),\n",
    "            chunks=(1024 * chunk_size),\n",
    "            dtype=\"float64\",\n",
    "            compressor=compressor,\n",
    "        )"
   ]
  },
  {
   "cell_type": "code",
   "execution_count": null,
   "metadata": {},
   "outputs": [],
   "source": [
    "z.tree()"
   ]
  },
  {
   "cell_type": "code",
   "execution_count": null,
   "metadata": {},
   "outputs": [],
   "source": [
    "repo_root = \"/Users/miskodzamba/Dropbox/research/gits/spf/\"\n",
    "import sys\n",
    "\n",
    "sys.path.append(repo_root)  # go to parent dir\n",
    "from spf.dataset.spf_dataset import SessionsDatasetReal\n",
    "from spf.dataset.v5_data import v5rx_new_dataset\n",
    "from spf.utils import random_signal_matrix\n",
    "from spf.dataset.v5_data import v5rx_2xf64_keys, v5rx_f64_keys, v5rx_new_dataset\n",
    "\n",
    "import numpy as np\n",
    "\n",
    "timesteps = 110\n",
    "buffer_size = 2**13\n",
    "fn = \"./testdata5\"\n",
    "z = v5rx_new_dataset(\n",
    "    fn,\n",
    "    timesteps=timesteps,\n",
    "    buffer_size=buffer_size,\n",
    "    n_receivers=2,\n",
    ")\n",
    "for time_idx in range(timesteps):\n",
    "    for receiver_idx in range(2):\n",
    "        z.receivers[f\"r{receiver_idx}\"].signal_matrix[time_idx, :] = (\n",
    "            random_signal_matrix(2 * buffer_size).reshape(2, buffer_size)\n",
    "        )\n",
    "        for k in v5rx_f64_keys:\n",
    "            z.receivers[f\"r{receiver_idx}\"][k][time_idx] = np.random.rand()\n",
    "        for k in v5rx_2xf64_keys:\n",
    "            z.receivers[f\"r{receiver_idx}\"][k][time_idx, :] = np.random.rand()"
   ]
  },
  {
   "cell_type": "code",
   "execution_count": null,
   "metadata": {},
   "outputs": [],
   "source": [
    "z0 = z[\"receivers/r1\"].signal_matrix[:]"
   ]
  },
  {
   "cell_type": "code",
   "execution_count": null,
   "metadata": {},
   "outputs": [],
   "source": [
    "import os\n",
    "\n",
    "z.store.db.info(), os.path.getsize(fn)"
   ]
  },
  {
   "cell_type": "code",
   "execution_count": null,
   "metadata": {},
   "outputs": [],
   "source": [
    "z.store.close()\n",
    "z = None"
   ]
  },
  {
   "cell_type": "code",
   "execution_count": null,
   "metadata": {},
   "outputs": [],
   "source": [
    "from spf.utils import zarr_shrink\n",
    "\n",
    "\n",
    "zarr_shrink(fn)"
   ]
  },
  {
   "cell_type": "code",
   "execution_count": null,
   "metadata": {},
   "outputs": [],
   "source": [
    "from spf.utils import zarr_open_from_lmdb_store\n",
    "\n",
    "\n",
    "z = zarr_open_from_lmdb_store(fn)"
   ]
  },
  {
   "cell_type": "code",
   "execution_count": null,
   "metadata": {},
   "outputs": [],
   "source": [
    "z = zarr_open_from_lmdb_store(fn)\n",
    "z.store.db.info(), os.path.getsize(fn)"
   ]
  },
  {
   "cell_type": "code",
   "execution_count": null,
   "metadata": {},
   "outputs": [],
   "source": [
    "z.store.close()\n",
    "z = None"
   ]
  },
  {
   "cell_type": "code",
   "execution_count": null,
   "metadata": {},
   "outputs": [],
   "source": []
  },
  {
   "cell_type": "code",
   "execution_count": null,
   "metadata": {},
   "outputs": [],
   "source": [
    "z.store.close()"
   ]
  },
  {
   "cell_type": "code",
   "execution_count": null,
   "metadata": {},
   "outputs": [],
   "source": [
    "import zarr\n",
    "\n",
    "store = zarr.LMDBStore(fn, map_size=2**38, writemap=True, map_async=True)\n",
    "z = zarr.open(store=store, mode=\"r\")"
   ]
  },
  {
   "cell_type": "code",
   "execution_count": null,
   "metadata": {},
   "outputs": [],
   "source": [
    "store.db.set_mapsize"
   ]
  },
  {
   "cell_type": "code",
   "execution_count": null,
   "metadata": {},
   "outputs": [],
   "source": [
    "import zarr\n",
    "\n",
    "store = zarr.LMDBStore(fn, map_size=2**38, writemap=True, map_async=True)\n",
    "z = zarr.open(store=store, mode=\"r\")\n",
    "z.store.db.set_mapsize(1)"
   ]
  },
  {
   "cell_type": "code",
   "execution_count": null,
   "metadata": {},
   "outputs": [],
   "source": [
    "z.store.db.info(), z.store.db.info(), os.path.getsize(fn)"
   ]
  },
  {
   "cell_type": "code",
   "execution_count": null,
   "metadata": {},
   "outputs": [],
   "source": [
    "z.store.set_mapsize(1)\n",
    "z.store.db.info(), z.store.db.info(), os.path.getsize(fn)"
   ]
  },
  {
   "cell_type": "code",
   "execution_count": null,
   "metadata": {},
   "outputs": [],
   "source": []
  },
  {
   "cell_type": "code",
   "execution_count": null,
   "metadata": {},
   "outputs": [],
   "source": []
  }
 ],
 "metadata": {
  "kernelspec": {
   "display_name": "spf",
   "language": "python",
   "name": "python3"
  },
  "language_info": {
   "codemirror_mode": {
    "name": "ipython",
    "version": 3
   },
   "file_extension": ".py",
   "mimetype": "text/x-python",
   "name": "python",
   "nbconvert_exporter": "python",
   "pygments_lexer": "ipython3",
   "version": "3.11.7"
  }
 },
 "nbformat": 4,
 "nbformat_minor": 2
}
