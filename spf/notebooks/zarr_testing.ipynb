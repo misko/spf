{
 "cells": [
  {
   "cell_type": "code",
   "execution_count": null,
   "metadata": {},
   "outputs": [],
   "source": [
    "import zarr\n",
    "import numpy as np\n",
    "\n",
    "from numcodecs import Blosc, Zstd\n",
    "\n",
    "\n",
    "def random_signal_matrix(self, buffer_size):\n",
    "    return np.random.uniform(-1, 1, (buffer_size,)) + 1.0j * np.random.uniform(\n",
    "        -1, 1, (buffer_size,)\n",
    "    )\n",
    "\n",
    "\n",
    "total_samples = 2**24\n",
    "buffer_size = 2**18\n",
    "assert total_samples % buffer_size == 0\n",
    "timesteps = total_samples // buffer_size\n",
    "chunk_size = 4096\n",
    "data_points = 1024\n",
    "filename = \"testzarr\"\n",
    "\n",
    "\n",
    "f64_keys = [\n",
    "    \"system_timestamps\",\n",
    "    \"gps_timestamps\",\n",
    "    \"lat\",\n",
    "    \"long\",\n",
    "    \"heading\",\n",
    "    \"avg_phase_diff\",\n",
    "    \"rssi\",\n",
    "    \"gain\",\n",
    "]\n",
    "\n",
    "\n",
    "def v4rx_new_dataset(filename, n_receivers, compressor=None):\n",
    "    z = zarr.open(\n",
    "        filename,\n",
    "        mode=\"w\",\n",
    "    )\n",
    "    if compressor is None:\n",
    "        compressor = Blosc(\n",
    "            cname=\"zstd\",\n",
    "            clevel=1,\n",
    "            shuffle=Blosc.BITSHUFFLE,\n",
    "        )\n",
    "    z.create_group(\"receivers\")\n",
    "    for receiver_idx in range(n_receivers):\n",
    "        receiver_z = z[\"receivers\"].create_group(f\"r{receiver_idx}\")\n",
    "        receiver_z.create_dataset(\n",
    "            \"signal_matrix\",\n",
    "            shape=(timesteps, 2, buffer_size),\n",
    "            chunks=(1, 1, 1024 * chunk_size),\n",
    "            dtype=\"complex128\",\n",
    "            compressor=compressor,\n",
    "        )\n",
    "        for key in f64_keys:\n",
    "            receiver_z.create_dataset(\n",
    "                key,\n",
    "                shape=(timesteps,),\n",
    "                chunks=(1024 * chunk_size),\n",
    "                dtype=\"float64\",\n",
    "                compressor=compressor,\n",
    "            )\n",
    "    return z\n",
    "\n",
    "\n",
    "z = v4rx_new_dataset(\"testdata\", 2)"
   ]
  },
  {
   "cell_type": "code",
   "execution_count": null,
   "metadata": {},
   "outputs": [],
   "source": [
    "z.tree()"
   ]
  },
  {
   "cell_type": "code",
   "execution_count": null,
   "metadata": {},
   "outputs": [],
   "source": [
    "z.receivers.r0"
   ]
  },
  {
   "cell_type": "code",
   "execution_count": null,
   "metadata": {},
   "outputs": [],
   "source": [
    "z.create_group(\"test\")\n",
    "z.tree()"
   ]
  },
  {
   "cell_type": "code",
   "execution_count": null,
   "metadata": {},
   "outputs": [],
   "source": [
    "!pip install ipytree"
   ]
  },
  {
   "cell_type": "code",
   "execution_count": null,
   "metadata": {},
   "outputs": [],
   "source": []
  }
 ],
 "metadata": {
  "kernelspec": {
   "display_name": "spf",
   "language": "python",
   "name": "python3"
  },
  "language_info": {
   "codemirror_mode": {
    "name": "ipython",
    "version": 3
   },
   "file_extension": ".py",
   "mimetype": "text/x-python",
   "name": "python",
   "nbconvert_exporter": "python",
   "pygments_lexer": "ipython3",
   "version": "3.11.7"
  }
 },
 "nbformat": 4,
 "nbformat_minor": 2
}
