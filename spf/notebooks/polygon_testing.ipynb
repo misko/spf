{
 "cells": [
  {
   "cell_type": "code",
   "execution_count": null,
   "id": "fec1965f-d290-4db7-8a3a-dc3256b62ee4",
   "metadata": {},
   "outputs": [],
   "source": [
    "#!pip install matplotlib\n",
    "import matplotlib.path as pltpath\n",
    "import numpy as np\n",
    "\n",
    "cube_points = np.array([[0, 0], [0, 1], [1, 1], [1, 0]])\n",
    "\n",
    "point = np.array([0.5, 0.1])\n",
    "\n",
    "\n",
    "path = pltpath.Path(cube_points)"
   ]
  },
  {
   "cell_type": "code",
   "execution_count": null,
   "id": "262a5950-ba75-4e03-8e8d-0a018caff76a",
   "metadata": {},
   "outputs": [],
   "source": []
  },
  {
   "cell_type": "code",
   "execution_count": null,
   "id": "cf17b959-d632-41be-8f49-d3f0217ee026",
   "metadata": {},
   "outputs": [],
   "source": [
    "edge_values = []\n",
    "p = np.array([0.1, 1])  # point\n",
    "l = len(polygon.vertices)\n",
    "for i in range(l):\n",
    "    v0 = polygon.vertices[i % l]\n",
    "    v1 = polygon.vertices[(i + 1) % l]\n",
    "    edge_values.append(\n",
    "        [\n",
    "            max(\n",
    "                np.dot(p - v0, v1 - v0)\n",
    "                / (np.linalg.norm(v0 - v1) * np.linalg.norm(p - v0)),\n",
    "                np.dot(p - v1, v1 - v1)\n",
    "                / (np.linalg.norm(v0 - v1) * np.linalg.norm(p - v1)),\n",
    "            ),\n",
    "            v0,\n",
    "            v1,\n",
    "        ]\n",
    "    )"
   ]
  },
  {
   "cell_type": "code",
   "execution_count": null,
   "id": "768d08ab-cd6a-4820-8ff8-1622a76b02cc",
   "metadata": {},
   "outputs": [],
   "source": [
    "edge_values"
   ]
  },
  {
   "cell_type": "code",
   "execution_count": null,
   "id": "145d834e-eea3-4782-a21a-ad01a081886a",
   "metadata": {},
   "outputs": [],
   "source": [
    "p"
   ]
  },
  {
   "cell_type": "code",
   "execution_count": null,
   "id": "87ba39bf-b27f-42ac-9d00-8d104eed9ffb",
   "metadata": {},
   "outputs": [],
   "source": []
  }
 ],
 "metadata": {
  "kernelspec": {
   "display_name": "Python 3 (ipykernel)",
   "language": "python",
   "name": "python3"
  },
  "language_info": {
   "codemirror_mode": {
    "name": "ipython",
    "version": 3
   },
   "file_extension": ".py",
   "mimetype": "text/x-python",
   "name": "python",
   "nbconvert_exporter": "python",
   "pygments_lexer": "ipython3",
   "version": "3.11.5"
  }
 },
 "nbformat": 4,
 "nbformat_minor": 5
}
