{
 "cells": [
  {
   "cell_type": "code",
   "execution_count": null,
   "metadata": {},
   "outputs": [],
   "source": []
  },
  {
   "cell_type": "code",
   "execution_count": null,
   "metadata": {},
   "outputs": [],
   "source": [
    "from haversine import inverse_haversine, Direction\n",
    "from math import pi\n",
    "from spf.gps.boundaries import franklin_safe\n",
    "import numpy as np"
   ]
  },
  {
   "cell_type": "code",
   "execution_count": null,
   "metadata": {},
   "outputs": [],
   "source": [
    "N = 256\n",
    "orbits = 2\n",
    "start_point = franklin_safe.mean(axis=0)\n",
    "\n",
    "from spf.gps.gps_utils import calc_bearing, swap_lat_long\n",
    "from spf.rf import pi_norm\n",
    "\n",
    "gt_theta = np.linspace(0, orbits * 2 * pi, N)\n",
    "long_lat_circle = [\n",
    "    swap_lat_long(inverse_haversine(swap_lat_long(start_point), 0.05, dir))\n",
    "    for dir in gt_theta\n",
    "]\n",
    "\n",
    "for idx in range(N):\n",
    "    a = np.deg2rad(calc_bearing(start_point, long_lat_circle[idx]))\n",
    "    b = gt_theta[idx]\n",
    "    # print(a, b)\n",
    "    assert np.isclose(pi_norm(a - b), 0, atol=0.01)"
   ]
  },
  {
   "cell_type": "code",
   "execution_count": null,
   "metadata": {},
   "outputs": [],
   "source": [
    "start_point"
   ]
  },
  {
   "cell_type": "code",
   "execution_count": null,
   "metadata": {},
   "outputs": [],
   "source": [
    "circle[0]"
   ]
  },
  {
   "cell_type": "code",
   "execution_count": null,
   "metadata": {},
   "outputs": [],
   "source": [
    "import math\n",
    "\n",
    "math.radians(start_point[1]), np.deg2rad(start_point)"
   ]
  },
  {
   "cell_type": "code",
   "execution_count": null,
   "metadata": {},
   "outputs": [],
   "source": [
    "np.hstack([np.random.rand(3, 2)[:, [0]], np.random.rand(3, 2)[:, [1]]])"
   ]
  },
  {
   "cell_type": "code",
   "execution_count": null,
   "metadata": {},
   "outputs": [],
   "source": [
    "math.atan2(0.5, 3), np.arctan2(0.5, 3)"
   ]
  },
  {
   "cell_type": "code",
   "execution_count": null,
   "metadata": {},
   "outputs": [],
   "source": [
    "np.linspace(0, orbits * 2 * pi, N)[32] / pi"
   ]
  },
  {
   "cell_type": "code",
   "execution_count": null,
   "metadata": {},
   "outputs": [],
   "source": [
    "inverse_haversine(start_point, 0.0, 0)"
   ]
  },
  {
   "cell_type": "code",
   "execution_count": null,
   "metadata": {},
   "outputs": [],
   "source": [
    "import os\n",
    "import time\n",
    "\n",
    "import matplotlib.pyplot as plt\n",
    "import numpy as np\n",
    "import yaml\n",
    "\n",
    "from spf.data_collector import rx_config_from_receiver_yaml\n",
    "from spf.dataset.spf_dataset import pi_norm\n",
    "\n",
    "# V5 data format\n",
    "from spf.dataset.v4_data import v4rx_2xf64_keys, v4rx_f64_keys, v4rx_new_dataset\n",
    "from spf.rf import (\n",
    "    beamformer_given_steering_nomean,\n",
    "    get_avg_phase,\n",
    "    pi_norm,\n",
    "    precompute_steering_vectors,\n",
    "    speed_of_light,\n",
    ")\n",
    "from spf.sdrpluto.sdr_controller import rx_config_from_receiver_yaml\n",
    "from spf.utils import random_signal_matrix\n",
    "\n",
    "\"\"\"\n",
    "theta is the angle from array normal to incident\n",
    "phi is phase difference\n",
    "\n",
    "delta_distance  = d*sin(theta)\n",
    "phi = delta_distance * 2pi / lambda = sin(theta)*d*2pi/lambda\n",
    "theta = arcsin(lambda * phi / (d*2pi))\n",
    "\"\"\"\n",
    "\n",
    "fake_yaml = \"\"\"\n",
    "# The ip of the emitter\n",
    "# When the emitter is brought online it is verified\n",
    "# by a receiver that it actually is broadcasting\n",
    "emitter:\n",
    "  type: esp32\n",
    "  motor_channel: 1\n",
    "\n",
    "# Two receivers each with two antennas\n",
    "# When a receiver is brought online it performs\n",
    "# phase calibration using an emitter equidistant from\n",
    "# both receiver antenna\n",
    "# The orientation of the receiver is described in \n",
    "# multiples of pi\n",
    "receivers:\n",
    "  - receiver-uri: fake\n",
    "    theta-in-pis: -0.25\n",
    "    antenna-spacing-m: 0.05075 # 50.75 mm \n",
    "    nelements: 2\n",
    "    array-type: linear\n",
    "    rx-gain-mode: fast_attack\n",
    "    rx-buffers: 2\n",
    "    rx-gain: -3\n",
    "    buffer-size: 524288\n",
    "    f-intermediate: 100000 #1.0e5\n",
    "    f-carrier: 2412000000 #2.5e9\n",
    "    f-sampling: 16000000 # 16.0e6\n",
    "    bandwidth: 300000 #3.0e5\n",
    "    motor_channel: 0\n",
    "  - receiver-uri: fake\n",
    "    theta-in-pis: 1.25\n",
    "    antenna-spacing-m: 0.05075 # 50.75 mm \n",
    "    nelements: 2\n",
    "    array-type: linear\n",
    "    rx-gain-mode: fast_attack\n",
    "    rx-buffers: 2\n",
    "    rx-gain: -3\n",
    "    buffer-size: 524288\n",
    "    f-intermediate: 100000 #1.0e5\n",
    "    f-carrier: 2412000000 #2.5e9\n",
    "    f-sampling: 16000000 # 16.0e6\n",
    "    bandwidth: 300000 #3.0e5\n",
    "    motor_channel: 0\n",
    "\n",
    "\n",
    "n-thetas: 65\n",
    "n-records-per-receiver: 5\n",
    "width: 4000\n",
    "calibration-frames: 10\n",
    "routine: null\n",
    "skip_phase_calibration: true\n",
    "  \n",
    "\n",
    "data-version: 5\n",
    "seconds-per-sample: 5.0\n",
    "\"\"\"\n",
    "\n",
    "\n",
    "def create_fake_dataset_v4(\n",
    "    yaml_config_str,\n",
    "    filename,\n",
    "    orbits=1,\n",
    "    n=50,\n",
    "    noise=0.01,\n",
    "    phi_drift=0.0,\n",
    "    time_offset=0.0,\n",
    "    rx_or_tx=\"rx\",\n",
    "):\n",
    "    assert rx_or_tx in [\"rx\", \"tx\"]\n",
    "    yaml_fn = f\"{filename}.yaml\"\n",
    "    zarr_fn = f\"{filename}.zar\"\n",
    "    seg_fn = f\"{filename}_segmentation.pkl\"\n",
    "    for fn in [yaml_fn, zarr_fn, seg_fn]:\n",
    "        if os.path.exists(fn):\n",
    "            os.remove(fn)\n",
    "    yaml_config = yaml.safe_load(yaml_config_str)\n",
    "    yaml_config[\"n-records-per-receiver\"] = n\n",
    "\n",
    "    with open(f\"{filename}.yaml\", \"w\") as outfile:\n",
    "        yaml.dump(yaml_config, outfile, default_flow_style=False)\n",
    "    rx_config = rx_config_from_receiver_yaml(yaml_config[\"receivers\"][0])\n",
    "\n",
    "    _lambda = speed_of_light / rx_config.lo\n",
    "\n",
    "    m = v4rx_new_dataset(\n",
    "        filename=f\"{filename}.zarr\",\n",
    "        timesteps=yaml_config[\"n-records-per-receiver\"],\n",
    "        buffer_size=rx_config.buffer_size,\n",
    "        n_receivers=len(yaml_config[\"receivers\"]),\n",
    "        chunk_size=512,\n",
    "        compressor=None,\n",
    "        config=yaml_config,\n",
    "    )\n",
    "\n",
    "    thetas = pi_norm(\n",
    "        np.linspace(0, 2 * np.pi * orbits, yaml_config[\"n-records-per-receiver\"])\n",
    "    )\n",
    "\n",
    "    def theta_to_phi(theta, antenna_spacing_m, _lambda):\n",
    "        return np.sin(theta) * antenna_spacing_m * 2 * np.pi / _lambda\n",
    "\n",
    "    def phi_to_theta(phi, antenna_spacing_m, _lambda, limit=False):\n",
    "        sin_arg = _lambda * phi / (antenna_spacing_m * 2 * np.pi)\n",
    "        # assert sin_arg.min()>-1\n",
    "        # assert sin_arg.max()<1\n",
    "        if limit:\n",
    "            edge = 1 - 1e-8\n",
    "            sin_arg = np.clip(sin_arg, a_min=-edge, a_max=edge)\n",
    "        v = np.arcsin(_lambda * phi / (antenna_spacing_m * 2 * np.pi))\n",
    "        return v, np.pi - v\n",
    "\n",
    "    rnd_noise = np.random.randn(thetas.shape[0])\n",
    "\n",
    "    # signal_matrix = np.vstack([np.exp(1j * phis), np.ones(phis.shape)])\n",
    "\n",
    "    for receiver_idx in range(2):\n",
    "        receiver_thetas = (\n",
    "            thetas - yaml_config[\"receivers\"][receiver_idx][\"theta-in-pis\"] * np.pi\n",
    "        )\n",
    "        phis_nonoise = theta_to_phi(receiver_thetas, rx_config.rx_spacing, _lambda)\n",
    "        if rx_or_tx == \"tx\":\n",
    "            phis_nonoise *= 0\n",
    "        phis = pi_norm(phis_nonoise + rnd_noise * noise)\n",
    "        _thetas = phi_to_theta(phis, rx_config.rx_spacing, _lambda, limit=True)\n",
    "\n",
    "        start_point = franklin_safe.mean(axis=0).reshape(1, 2)\n",
    "\n",
    "        long_lat_circle = np.array(\n",
    "            [\n",
    "                swap_lat_long(\n",
    "                    inverse_haversine(swap_lat_long(start_point[0]), 0.05, dir)\n",
    "                )\n",
    "                for dir in thetas\n",
    "            ]\n",
    "        )\n",
    "\n",
    "        for record_idx in range(yaml_config[\"n-records-per-receiver\"]):\n",
    "            big_phi = phis[[record_idx], None].repeat(rx_config.buffer_size, axis=1)\n",
    "            big_phi_with_noise = big_phi + np.random.randn(*big_phi.shape) * noise\n",
    "            offsets = np.random.uniform(-np.pi, np.pi, big_phi.shape) * 0\n",
    "            signal_matrix = (\n",
    "                np.vstack(\n",
    "                    [\n",
    "                        np.exp(\n",
    "                            1j\n",
    "                            * (\n",
    "                                offsets\n",
    "                                + phi_drift * np.pi * (1 if receiver_idx == 0 else -1)\n",
    "                            )\n",
    "                        ),\n",
    "                        np.exp(1j * (offsets + big_phi_with_noise)),\n",
    "                    ]\n",
    "                )\n",
    "                * 200\n",
    "            )\n",
    "            noise_matrix = random_signal_matrix(\n",
    "                signal_matrix.reshape(-1).shape[0]\n",
    "            ).reshape(signal_matrix.shape)\n",
    "            # add stripes\n",
    "            window_size = 2048 * 4\n",
    "            for x in range(0, rx_config.buffer_size, window_size):\n",
    "                if (x // window_size) % 3 == 0:\n",
    "                    signal_matrix[:, x : x + window_size] = noise_matrix[\n",
    "                        :, x : x + window_size\n",
    "                    ]\n",
    "\n",
    "            data = {\n",
    "                \"gps_timestamp\": record_idx * 5.0 + time_offset,\n",
    "                \"gps_lat\": (\n",
    "                    long_lat_circle[record_idx][1]\n",
    "                    if rx_or_tx == \"tx\"\n",
    "                    else start_point[0, 1]\n",
    "                ),\n",
    "                \"gps_long\": (\n",
    "                    long_lat_circle[record_idx][0]\n",
    "                    if rx_or_tx == \"tx\"\n",
    "                    else start_point[0, 0]\n",
    "                ),\n",
    "                \"heading\": (\n",
    "                    (calc_bearing(start_point, long_lat_circle[[record_idx]]) + 90)\n",
    "                    % 360\n",
    "                    if rx_or_tx == \"tx\"\n",
    "                    else 0\n",
    "                ),\n",
    "                \"system_timestamp\": record_idx * 5.0,\n",
    "                \"rx_theta_in_pis\": yaml_config[\"receivers\"][receiver_idx][\n",
    "                    \"theta-in-pis\"\n",
    "                ],\n",
    "                \"rx_spacing\": rx_config.rx_spacing,\n",
    "                \"rx_lo\": rx_config.lo,\n",
    "                \"rx_bandwidth\": rx_config.rf_bandwidth,\n",
    "                \"avg_phase_diff\": get_avg_phase(signal_matrix),\n",
    "                \"rssis\": [0, 0],\n",
    "                \"gains\": [0, 0],\n",
    "            }\n",
    "\n",
    "            z = m[f\"receivers/r{receiver_idx}\"]\n",
    "            z.signal_matrix[record_idx] = signal_matrix\n",
    "            for k in v4rx_f64_keys + v4rx_2xf64_keys:\n",
    "                z[k][record_idx] = data[k]\n",
    "            # nthetas = 64 + 1\n",
    "\n",
    "            # steering_vectors = precompute_steering_vectors(\n",
    "            #     receiver_positions=rx_config.rx_pos,\n",
    "            #     carrier_frequency=rx_config.lo,\n",
    "            #     spacing=nthetas,\n",
    "            # )\n",
    "            # beam_sds = beamformer_given_steering_nomean(\n",
    "            #     steering_vectors=steering_vectors,\n",
    "            #     signal_matrix=signal_matrix,\n",
    "            # )"
   ]
  },
  {
   "cell_type": "code",
   "execution_count": null,
   "metadata": {},
   "outputs": [],
   "source": [
    "create_fake_dataset_v4(fake_yaml, \"./test_rx\", rx_or_tx=\"rx\")"
   ]
  },
  {
   "cell_type": "code",
   "execution_count": null,
   "metadata": {},
   "outputs": [],
   "source": [
    "create_fake_dataset_v4(fake_yaml, \"./test_tx\", rx_or_tx=\"tx\")"
   ]
  },
  {
   "cell_type": "code",
   "execution_count": null,
   "metadata": {},
   "outputs": [],
   "source": [
    "from spf.utils import zarr_open_from_lmdb_store\n",
    "\n",
    "\n",
    "def z_to_long_lat_gps(z):\n",
    "    return np.vstack([z[\"receivers/r0/gps_long\"], z[\"receivers/r0/gps_lat\"]]).T\n",
    "\n",
    "\n",
    "z_rx = zarr_open_from_lmdb_store(\"./test_rx.zarr\")\n",
    "z_tx = zarr_open_from_lmdb_store(\"./test_tx.zarr\")"
   ]
  },
  {
   "cell_type": "code",
   "execution_count": null,
   "metadata": {},
   "outputs": [],
   "source": [
    "z_to_long_lat_gps(z_rx).shape"
   ]
  },
  {
   "cell_type": "code",
   "execution_count": null,
   "metadata": {},
   "outputs": [],
   "source": [
    "z_to_long_lat_gps(z_rx)"
   ]
  },
  {
   "cell_type": "code",
   "execution_count": null,
   "metadata": {},
   "outputs": [],
   "source": []
  },
  {
   "cell_type": "code",
   "execution_count": null,
   "metadata": {},
   "outputs": [],
   "source": [
    "import matplotlib.pyplot as plt\n",
    "\n",
    "# phase diff should be off because of array orientation\n",
    "plt.plot(z_rx[\"receivers/r0\"][\"avg_phase_diff\"][:, 0], label=\"rx_phase\")\n",
    "plt.plot(\n",
    "    np.deg2rad(calc_bearing(z_to_long_lat_gps(z_rx), z_to_long_lat_gps(z_tx))),\n",
    "    label=\"calculated bearing\",\n",
    ")\n",
    "plt.legend()"
   ]
  },
  {
   "cell_type": "code",
   "execution_count": null,
   "metadata": {},
   "outputs": [],
   "source": [
    "z_tx[\"receivers/r0\"][\"avg_phase_diff\"][:, 0]"
   ]
  },
  {
   "cell_type": "code",
   "execution_count": null,
   "metadata": {},
   "outputs": [],
   "source": [
    "z[\"receivers/r0\"][\"system_timestamp\"][:1000]\n",
    "# 1719364172.076753 gps timestamp"
   ]
  },
  {
   "cell_type": "code",
   "execution_count": null,
   "metadata": {},
   "outputs": [],
   "source": [
    "import time\n",
    "\n",
    "time.time()"
   ]
  },
  {
   "cell_type": "code",
   "execution_count": null,
   "metadata": {},
   "outputs": [],
   "source": [
    "time.time()"
   ]
  },
  {
   "cell_type": "code",
   "execution_count": null,
   "metadata": {},
   "outputs": [],
   "source": [
    "z.tree()"
   ]
  },
  {
   "cell_type": "code",
   "execution_count": null,
   "metadata": {},
   "outputs": [],
   "source": []
  },
  {
   "cell_type": "code",
   "execution_count": null,
   "metadata": {},
   "outputs": [],
   "source": []
  },
  {
   "cell_type": "code",
   "execution_count": null,
   "metadata": {},
   "outputs": [],
   "source": []
  },
  {
   "cell_type": "code",
   "execution_count": null,
   "metadata": {},
   "outputs": [],
   "source": []
  }
 ],
 "metadata": {
  "kernelspec": {
   "display_name": "spf",
   "language": "python",
   "name": "python3"
  },
  "language_info": {
   "codemirror_mode": {
    "name": "ipython",
    "version": 3
   },
   "file_extension": ".py",
   "mimetype": "text/x-python",
   "name": "python",
   "nbconvert_exporter": "python",
   "pygments_lexer": "ipython3",
   "version": "3.12.3"
  }
 },
 "nbformat": 4,
 "nbformat_minor": 2
}
