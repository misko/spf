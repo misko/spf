{
 "cells": [
  {
   "cell_type": "code",
   "execution_count": null,
   "metadata": {},
   "outputs": [],
   "source": [
    "repo_root = \"/Users/miskodzamba/Dropbox/research/gits/spf/\"\n",
    "import sys\n",
    "\n",
    "sys.path.append(repo_root)  # go to parent dir\n",
    "\n",
    "from spf.grbl.grbl_interactive import Dynamics\n",
    "\n",
    "import numpy as np\n",
    "import matplotlib.pyplot as plt\n",
    "from spf.grbl.grbl_interactive import BouncePlanner\n",
    "from spf.grbl.grbl_interactive import home_bounding_box\n",
    "from spf.gps.boundaries import franklin_boundary, crissy_boundary_convex"
   ]
  },
  {
   "cell_type": "code",
   "execution_count": null,
   "metadata": {},
   "outputs": [],
   "source": [
    "import matplotlib.pyplot as plt\n",
    "from spf.grbl.grbl_interactive import home_bounding_box\n",
    "\n",
    "# GPS\n",
    "\n",
    "boundary = crissy_boundary_convex - crissy_boundary_convex.mean(axis=0)\n",
    "bp = BouncePlanner(\n",
    "    dynamics=Dynamics(\n",
    "        bounding_box=boundary,\n",
    "        bounds_radius=0.000001,\n",
    "    ),\n",
    "    start_point=boundary.mean(axis=0),\n",
    "    epsilon=0.0000001,\n",
    "    step_size=0.1,\n",
    "    seed=123,\n",
    ")\n",
    "\n",
    "p = bp.yield_points()\n",
    "z = np.array([next(p) for x in range(10)])\n",
    "\n",
    "fig, axs = plt.subplots(1, 1, figsize=(8, 6))\n",
    "axs.plot(z[:, 0], z[:, 1])  # , s=1)\n",
    "axs.scatter(boundary[:, 0], boundary[:, 1])\n",
    "\n",
    "axs.scatter(z[-1, 0], z[-1, 1])\n",
    "\n",
    "z"
   ]
  },
  {
   "cell_type": "code",
   "execution_count": null,
   "metadata": {},
   "outputs": [],
   "source": []
  },
  {
   "cell_type": "code",
   "execution_count": null,
   "metadata": {},
   "outputs": [],
   "source": [
    "# GRBL\n",
    "\n",
    "boundary = home_bounding_box\n",
    "bp = BouncePlanner(\n",
    "    dynamics=Dynamics(bounding_box=boundary),\n",
    "    start_point=boundary.mean(axis=0),\n",
    ")\n",
    "p = bp.yield_points()\n",
    "z = np.array([next(p) for x in range(20000)])\n",
    "\n",
    "fig, axs = plt.subplots(1, 1, figsize=(8, 6))\n",
    "axs.scatter(z[:, 0], z[:, 1], s=1)\n",
    "axs.scatter(boundary[:, 0], boundary[:, 1])\n",
    "\n",
    "axs.invert_xaxis()\n",
    "axs.invert_yaxis()"
   ]
  },
  {
   "cell_type": "code",
   "execution_count": null,
   "metadata": {},
   "outputs": [],
   "source": [
    "import matplotlib.pyplot as plt\n",
    "from spf.grbl.grbl_interactive import home_bounding_box\n",
    "\n",
    "# GPS\n",
    "\n",
    "boundary = franklin_boundary\n",
    "boundary -= franklin_boundary.mean(axis=0)\n",
    "bp = BouncePlanner(\n",
    "    dynamics=Dynamics(\n",
    "        bounding_box=boundary,\n",
    "        bounds_radius=0.000000001,\n",
    "    ),\n",
    "    start_point=boundary.mean(axis=0),\n",
    "    epsilon=0.0000001,\n",
    "    step_size=0.00001,\n",
    ")\n",
    "p = bp.yield_points()\n",
    "z = np.array([next(p) for x in range(4000)])\n",
    "\n",
    "fig, axs = plt.subplots(1, 1, figsize=(8, 6))\n",
    "axs.scatter(z[:, 0], z[:, 1], s=1)\n",
    "axs.scatter(boundary[:, 0], boundary[:, 1])\n",
    "\n",
    "axs.invert_xaxis()\n",
    "axs.invert_yaxis()"
   ]
  },
  {
   "cell_type": "code",
   "execution_count": null,
   "metadata": {},
   "outputs": [],
   "source": []
  },
  {
   "cell_type": "code",
   "execution_count": null,
   "metadata": {},
   "outputs": [],
   "source": [
    "z"
   ]
  },
  {
   "cell_type": "code",
   "execution_count": null,
   "metadata": {},
   "outputs": [],
   "source": [
    "z.size"
   ]
  },
  {
   "cell_type": "code",
   "execution_count": null,
   "metadata": {},
   "outputs": [],
   "source": []
  }
 ],
 "metadata": {
  "kernelspec": {
   "display_name": "spf",
   "language": "python",
   "name": "python3"
  },
  "language_info": {
   "codemirror_mode": {
    "name": "ipython",
    "version": 3
   },
   "file_extension": ".py",
   "mimetype": "text/x-python",
   "name": "python",
   "nbconvert_exporter": "python",
   "pygments_lexer": "ipython3",
   "version": "3.11.7"
  }
 },
 "nbformat": 4,
 "nbformat_minor": 2
}
