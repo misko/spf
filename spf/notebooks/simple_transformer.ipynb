{
 "cells": [
  {
   "cell_type": "code",
   "execution_count": null,
   "metadata": {},
   "outputs": [],
   "source": [
    "import numpy as np\n",
    "import scipy\n",
    "\n",
    "from filterpy.monte_carlo import systematic_resample\n",
    "\n",
    "from spf.dataset.spf_dataset import v5spfdataset\n",
    "\n",
    "ds_fn = \"/mnt/md0/spf/2d_wallarray_v2_data/june_fix/wallarrayv3_2024_06_10_03_38_21_nRX2_rx_circle.zarr\"\n",
    "ds_fn = \"/mnt/md0/spf/2d_wallarray_v2_data/june_fix/wallarrayv3_2024_06_15_11_44_13_nRX2_bounce.zarr\"\n",
    "\n",
    "import pickle\n",
    "import os\n",
    "\n",
    "\n",
    "output_prefix = \"./\" + os.path.basename(ds_fn) + \"_\"\n",
    "full_p_fn = \"full_p.pkl\"\n",
    "full_p = pickle.load(open(full_p_fn, \"rb\"))[\"full_p\"]\n",
    "\n",
    "nthetas = 65\n",
    "ds = v5spfdataset(\n",
    "    ds_fn,\n",
    "    nthetas=nthetas,\n",
    "    ignore_qc=True,\n",
    "    precompute_cache=\"/home/mouse9911/precompute_cache_chunk16\",\n",
    "    paired=True,\n",
    "    skip_signal_matrix=True,\n",
    "    snapshots_per_session=-1,\n",
    ")\n",
    "\n",
    "# flip the order of the antennas\n",
    "antenna_spacing = -ds.yaml_config[\"receivers\"][0][\"antenna-spacing-m\"]\n",
    "assert antenna_spacing == -ds.yaml_config[\"receivers\"][1][\"antenna-spacing-m\"]\n",
    "\n",
    "wavelength = ds.wavelengths[0]\n",
    "assert wavelength == ds.wavelengths[1]\n",
    "\n",
    "offsets = [\n",
    "    ds.yaml_config[\"receivers\"][0][\"theta-in-pis\"] * np.pi,\n",
    "    ds.yaml_config[\"receivers\"][1][\"theta-in-pis\"] * np.pi,\n",
    "]"
   ]
  },
  {
   "cell_type": "code",
   "execution_count": null,
   "metadata": {},
   "outputs": [],
   "source": [
    "from spf.model_training_and_inference.models.particle_filter import (\n",
    "    PFSingleThetaSingleRadio,\n",
    ")\n",
    "\n",
    "\n",
    "pf = PFSingleThetaSingleRadio(ds=ds, rx_idx=1, full_p_fn=\"full_p.pkl\")\n",
    "trajectory, all_particles = pf.trajectory(\n",
    "    mean=np.array([[0, 0]]), std=np.array([[2, 0.1]]), return_particles=True\n",
    ")\n",
    "pf.metrics(trajectory=trajectory)"
   ]
  },
  {
   "cell_type": "code",
   "execution_count": null,
   "metadata": {},
   "outputs": [],
   "source": [
    "from torch.nn import (\n",
    "    TransformerEncoder,\n",
    "    TransformerEncoderLayer,\n",
    "    LayerNorm,\n",
    "    Sequential,\n",
    "    Linear,\n",
    ")\n",
    "\n",
    "d_model = 512\n",
    "d_hid = 128\n",
    "dropout = 0.0\n",
    "n_heads = 8\n",
    "n_layers = 9\n",
    "\n",
    "encoder_layers = TransformerEncoderLayer(\n",
    "    d_model=d_model,\n",
    "    nhead=n_heads,\n",
    "    dim_feedforward=d_hid,\n",
    "    dropout=dropout,\n",
    "    # activation=\"gelu\",\n",
    "    batch_first=True,\n",
    ")\n",
    "transformer_encoder = TransformerEncoder(\n",
    "    encoder_layers,\n",
    "    n_layers,\n",
    "    LayerNorm(d_model),\n",
    ")\n",
    "\n",
    "device = \"cuda\"\n",
    "m = Sequential(\n",
    "    transformer_encoder,\n",
    "    Linear(d_model, 2),\n",
    ").to(device)\n",
    "import torch\n",
    "\n",
    "target = torch.randn(7, 2).to(device)\n",
    "input = torch.randn(7, 10, 512).to(device)"
   ]
  },
  {
   "cell_type": "code",
   "execution_count": null,
   "metadata": {},
   "outputs": [],
   "source": []
  },
  {
   "cell_type": "code",
   "execution_count": null,
   "metadata": {},
   "outputs": [],
   "source": [
    "import torch\n",
    "\n",
    "lr = 0.0000001  # 1\n",
    "weight_decay = 0.00000001\n",
    "optimizer = torch.optim.AdamW(m.parameters(), lr=lr, weight_decay=weight_decay)"
   ]
  },
  {
   "cell_type": "code",
   "execution_count": null,
   "metadata": {},
   "outputs": [],
   "source": []
  },
  {
   "cell_type": "code",
   "execution_count": null,
   "metadata": {},
   "outputs": [],
   "source": [
    "for _ in range(2000):\n",
    "    output = m(input)[:, 0, :]\n",
    "\n",
    "    loss = ((target - output) ** 2).mean()\n",
    "    loss.backward()\n",
    "    if _ % 50 == 0:\n",
    "        print(loss.item())\n",
    "\n",
    "    optimizer.step()"
   ]
  },
  {
   "cell_type": "code",
   "execution_count": null,
   "metadata": {},
   "outputs": [],
   "source": [
    "output"
   ]
  },
  {
   "cell_type": "code",
   "execution_count": null,
   "metadata": {},
   "outputs": [],
   "source": [
    "target"
   ]
  },
  {
   "cell_type": "code",
   "execution_count": null,
   "metadata": {},
   "outputs": [],
   "source": [
    "ds = v5spfdataset(\n",
    "    prefix=\"/mnt/md0/spf/2d_wallarray_v2_data/june_fix/wallarrayv3_2024_06_15_04_24_24_nRX2_rx_circle.zarr\",\n",
    "    precompute_cache=\"/home/mouse9911/precompute_cache_chunk16_fresh/\",\n",
    "    nthetas=65,\n",
    "    skip_signal_matrix=True,\n",
    "    paired=2,\n",
    "    ignore_qc=True,\n",
    "    gpu=True,\n",
    "    snapshots_per_session=1000,\n",
    ")"
   ]
  },
  {
   "cell_type": "code",
   "execution_count": null,
   "metadata": {},
   "outputs": [],
   "source": [
    "ds[0]"
   ]
  },
  {
   "cell_type": "code",
   "execution_count": null,
   "metadata": {},
   "outputs": [],
   "source": [
    "import torch\n",
    "\n",
    "from spf.rf import torch_reduce_theta_to_positive_y\n",
    "\n",
    "y_rad = torch.rand(5, 2, dtype=torch.float16).cuda()\n",
    "y_rad_reduced = torch_reduce_theta_to_positive_y(y_rad).reshape(-1, 1)\n",
    "print(y_rad.dtype, y_rad_reduced.dtype)"
   ]
  },
  {
   "cell_type": "code",
   "execution_count": null,
   "metadata": {},
   "outputs": [],
   "source": []
  }
 ],
 "metadata": {
  "kernelspec": {
   "display_name": "spf",
   "language": "python",
   "name": "python3"
  },
  "language_info": {
   "codemirror_mode": {
    "name": "ipython",
    "version": 3
   },
   "file_extension": ".py",
   "mimetype": "text/x-python",
   "name": "python",
   "nbconvert_exporter": "python",
   "pygments_lexer": "ipython3",
   "version": "3.12.3"
  }
 },
 "nbformat": 4,
 "nbformat_minor": 2
}
