{
 "cells": [
  {
   "cell_type": "code",
   "execution_count": null,
   "metadata": {},
   "outputs": [],
   "source": [
    "from spf.dataset.fake_dataset import create_fake_dataset, fake_yaml, partial_dataset\n",
    "\n",
    "n = 128\n",
    "fn = f\"./perfect_circle_n{n}_noise0\"\n",
    "create_fake_dataset(filename=fn, yaml_config_str=fake_yaml, n=n, noise=0.3, orbits=2)"
   ]
  },
  {
   "cell_type": "code",
   "execution_count": null,
   "metadata": {},
   "outputs": [],
   "source": [
    "import tempfile\n",
    "\n",
    "from spf.dataset.fake_dataset import PartialDatasetController\n",
    "\n",
    "\n",
    "tmpdirname = tempfile.TemporaryDirectory()\n",
    "partial_fn = f\"{tmpdirname.name}/perfect_circle_n{n}_noise0\"\n",
    "precompute_fn = f\"{tmpdirname.name}/perfect_circle_n{n}_noise0_precompute\"\n",
    "pdc = PartialDatasetController(input_fn=fn, output_fn=partial_fn)\n",
    "pdc.copy_nth(0)"
   ]
  },
  {
   "cell_type": "code",
   "execution_count": null,
   "metadata": {},
   "outputs": [],
   "source": [
    "from spf.dataset.spf_dataset import v5spfdataset\n",
    "\n",
    "\n",
    "ds = v5spfdataset(\n",
    "    partial_fn,\n",
    "    nthetas=65,\n",
    "    ignore_qc=True,\n",
    "    precompute_cache=precompute_fn,\n",
    "    paired=True,\n",
    "    snapshots_per_session=1,\n",
    "    readahead=True,\n",
    "    skip_fields=set(\n",
    "        [\n",
    "            \"windowed_beamformer\",\n",
    "            \"all_windows_stats\",\n",
    "            \"downsampled_segmentation_mask\",\n",
    "            \"signal_matrix\",\n",
    "            \"simple_segmentations\",\n",
    "        ]\n",
    "    ),\n",
    "    temp_file=True,\n",
    "    temp_file_suffix=\"\",\n",
    ")"
   ]
  },
  {
   "cell_type": "code",
   "execution_count": null,
   "metadata": {},
   "outputs": [],
   "source": [
    "        ds_fn_out = f\"{tmpdirname}/partial\"\n",
    "        for partial_n in [10, 20]:\n",
    "            partial_dataset(ds_fn, ds_fn_out, partial_n)\n",
    "            # open_partial_dataset_and_check_some(ds_fn_out, suffix=\"\", n_parallel=0)\n",
    "            open_partial_dataset_and_check_some(\n",
    "                ds_fn_out,\n",
    "                suffix=\"\",\n",
    "                n_parallel=0,\n",
    "                skip_fields=set([\"windowed_beamformer\"]),\n",
    "            )"
   ]
  }
 ],
 "metadata": {
  "kernelspec": {
   "display_name": "spf",
   "language": "python",
   "name": "python3"
  },
  "language_info": {
   "codemirror_mode": {
    "name": "ipython",
    "version": 3
   },
   "file_extension": ".py",
   "mimetype": "text/x-python",
   "name": "python",
   "nbconvert_exporter": "python",
   "pygments_lexer": "ipython3",
   "version": "3.12.3"
  }
 },
 "nbformat": 4,
 "nbformat_minor": 2
}
