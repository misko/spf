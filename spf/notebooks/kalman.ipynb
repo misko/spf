{
 "cells": [
  {
   "cell_type": "code",
   "execution_count": null,
   "metadata": {},
   "outputs": [],
   "source": [
    "!pip install filterpy"
   ]
  },
  {
   "cell_type": "code",
   "execution_count": null,
   "metadata": {},
   "outputs": [],
   "source": [
    "from filterpy.kalman import KalmanFilter\n",
    "import numpy as np\n",
    "\n",
    "f = KalmanFilter(dim_x=2, dim_z=1)\n",
    "\n",
    "# initial value for the state\n",
    "f.x = np.array([2.0, 0.0])\n",
    "\n",
    "f.F = np.array([[1.0, 1.0], [0.0, 1.0]])\n",
    "\n",
    "f.H = np.array([[1.0, 0.0]])\n",
    "\n",
    "f.P = np.array([[1000.0, 0.0], [0.0, 1000.0]])"
   ]
  },
  {
   "cell_type": "code",
   "execution_count": null,
   "metadata": {},
   "outputs": [],
   "source": []
  },
  {
   "cell_type": "code",
   "execution_count": null,
   "metadata": {},
   "outputs": [],
   "source": []
  }
 ],
 "metadata": {
  "kernelspec": {
   "display_name": "spf",
   "language": "python",
   "name": "python3"
  },
  "language_info": {
   "codemirror_mode": {
    "name": "ipython",
    "version": 3
   },
   "file_extension": ".py",
   "mimetype": "text/x-python",
   "name": "python",
   "nbconvert_exporter": "python",
   "pygments_lexer": "ipython3",
   "version": "3.12.3"
  }
 },
 "nbformat": 4,
 "nbformat_minor": 2
}
