{
 "cells": [
  {
   "cell_type": "code",
   "execution_count": null,
   "metadata": {},
   "outputs": [],
   "source": [
    "from pymavlink import mavutil, mavwp\n",
    "\n",
    "\n",
    "ip = \"192.168.1.140\"\n",
    "port = 14550\n",
    "\n",
    "\n",
    "connection = mavutil.mavlink_connection(f\"udpin:{ip}:{port}\")  # tcp is 5670\n",
    "\n",
    "connection.wait_heartbeat()"
   ]
  },
  {
   "cell_type": "code",
   "execution_count": null,
   "metadata": {},
   "outputs": [],
   "source": [
    "connection.mav.play_tune_send(\n",
    "    connection.target_system,\n",
    "    connection.target_component,\n",
    "    # b\"T200O2L1A#\"\n",
    "    b\"MFT240L8 O4aO5dc O4aO5dc O4aO5dc L16dcdcdcdc\",\n",
    ")"
   ]
  },
  {
   "cell_type": "code",
   "execution_count": null,
   "metadata": {},
   "outputs": [],
   "source": [
    "for x in range(255):\n",
    "    connection.mav.command_long_send(\n",
    "        x,  # connection.target_system,\n",
    "        0,  # connection.target_component,\n",
    "        mavutil.mavlink.MAV_CMD_USER_1,\n",
    "        0,  # set position\n",
    "        1,  # param1\n",
    "        2,  # param2\n",
    "        3,  # param3\n",
    "        4,  # param4\n",
    "        5,  # 37.8047122,  # lat\n",
    "        6,  # -122.4659164,  # lon\n",
    "        7,\n",
    "    )"
   ]
  },
  {
   "cell_type": "code",
   "execution_count": null,
   "metadata": {},
   "outputs": [],
   "source": [
    "connection.mav.statustext_send(mavutil.mavlink.MAV_SEVERITY_CRITICAL, \"test\".encode())"
   ]
  },
  {
   "cell_type": "code",
   "execution_count": null,
   "metadata": {},
   "outputs": [],
   "source": [
    "connection.param_fetch_all()"
   ]
  },
  {
   "cell_type": "code",
   "execution_count": null,
   "metadata": {},
   "outputs": [],
   "source": [
    "text = \"Hello Pixhawk\".encode(\"utf-8\")\n",
    "connection.mav.statustext_send(mavutil.mavlink.MAV_SEVERITY_INFO, text)"
   ]
  },
  {
   "cell_type": "code",
   "execution_count": null,
   "metadata": {},
   "outputs": [],
   "source": [
    "connection.mav.param_set_send\n",
    "# (\"pi_routine\",1)"
   ]
  },
  {
   "cell_type": "code",
   "execution_count": null,
   "metadata": {},
   "outputs": [],
   "source": [
    "connection.param_fetch_one(\"MODE\")"
   ]
  },
  {
   "cell_type": "code",
   "execution_count": null,
   "metadata": {},
   "outputs": [],
   "source": [
    "param_set_send(self, parm_name, parm_value, parm_type=None):\n",
    "\n",
    "mav.param_set_send(7, 1, b\"WP_RADIUS\", 101, mavlink.MAV_PARAM_TYPE_REAL32)"
   ]
  },
  {
   "cell_type": "code",
   "execution_count": null,
   "metadata": {},
   "outputs": [],
   "source": [
    "from pymavlink import mavparm\n",
    "\n",
    "d = mavparm.MAVParmDict()\n",
    "import os\n",
    "\n",
    "os.path.curdir"
   ]
  },
  {
   "cell_type": "code",
   "execution_count": null,
   "metadata": {},
   "outputs": [],
   "source": [
    "d.load(\"../\")"
   ]
  }
 ],
 "metadata": {
  "kernelspec": {
   "display_name": "spf",
   "language": "python",
   "name": "python3"
  },
  "language_info": {
   "codemirror_mode": {
    "name": "ipython",
    "version": 3
   },
   "file_extension": ".py",
   "mimetype": "text/x-python",
   "name": "python",
   "nbconvert_exporter": "python",
   "pygments_lexer": "ipython3",
   "version": "3.11.7"
  }
 },
 "nbformat": 4,
 "nbformat_minor": 2
}
