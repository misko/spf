{
 "cells": [
  {
   "cell_type": "code",
   "execution_count": null,
   "metadata": {},
   "outputs": [],
   "source": []
  },
  {
   "cell_type": "code",
   "execution_count": null,
   "metadata": {},
   "outputs": [],
   "source": [
    "repo_root = \"/Users/miskodzamba/Dropbox/research/gits/spf/\"\n",
    "import sys\n",
    "\n",
    "if repo_root not in sys.path:\n",
    "    sys.path.append(repo_root)  # go to parent dir\n",
    "from spf.dataset.fake_dataset import create_fake_dataset, fake_yaml\n",
    "from spf.notebooks.simple_train import get_parser, simple_train\n",
    "\n",
    "import os\n",
    "\n",
    "create_fake_dataset(filename=\"test_circle\", yaml_config_str=fake_yaml, n=5)\n",
    "\n",
    "args_list = [\n",
    "    \"--device\",\n",
    "    \"cpu\",\n",
    "    \"--seed\",\n",
    "    \"0\",\n",
    "    \"--nthetas\",\n",
    "    \"11\",\n",
    "    \"--datasets\",\n",
    "    # \"test_circle.zarr\",\n",
    "    \"/Users/miskodzamba/Dropbox/research/gits/spf/spf/min.zarr\",\n",
    "    \"--batch\",\n",
    "    \"128\",\n",
    "    \"--workers\",\n",
    "    \"0\",\n",
    "    \"--batch-norm\",\n",
    "    \"--act\",\n",
    "    \"leaky\",\n",
    "    \"--shuffle\",\n",
    "    \"--segmentation-level\",\n",
    "    \"downsampled\",\n",
    "    \"--type\",\n",
    "    \"direct\",\n",
    "    \"--seg-net\",\n",
    "    \"conv\",\n",
    "    \"--epochs\",\n",
    "    \"1200\",\n",
    "    # \"--skip-segmentation\",\n",
    "    \"--no-shuffle\",\n",
    "    \"--symmetry\",\n",
    "    \"--sigmoid\",\n",
    "    \"--val-on-train\",\n",
    "    \"--segmentation-lambda\",\n",
    "    \"0\",\n",
    "    \"--no-sigmoid\",\n",
    "    \"--block\",\n",
    "    \"--wandb-project\",\n",
    "    \"test123\",\n",
    "    \"--plot-every\",\n",
    "    \"50\",\n",
    "    \"--lr\",\n",
    "    \"0.0005\",\n",
    "]\n",
    "args = get_parser().parse_args(args_list)\n",
    "\n",
    "train_results = simple_train(args)"
   ]
  },
  {
   "cell_type": "code",
   "execution_count": null,
   "metadata": {},
   "outputs": [],
   "source": [
    "import numpy as np\n",
    "\n",
    "np.array(train_results[\"losses\"])[-10:].mean()"
   ]
  },
  {
   "cell_type": "code",
   "execution_count": null,
   "metadata": {},
   "outputs": [],
   "source": [
    "train_results[\"losses\"][-20:]"
   ]
  },
  {
   "cell_type": "code",
   "execution_count": null,
   "metadata": {},
   "outputs": [],
   "source": [
    "train_results[\"losses\"]"
   ]
  },
  {
   "cell_type": "code",
   "execution_count": null,
   "metadata": {},
   "outputs": [],
   "source": [
    "import numpy as np\n",
    "from spf.rf import pi_norm\n",
    "\n",
    "\n",
    "thetas = pi_norm(np.linspace(0, 2 * np.pi * 1, 4))"
   ]
  },
  {
   "cell_type": "code",
   "execution_count": null,
   "metadata": {},
   "outputs": [],
   "source": [
    "thetas"
   ]
  },
  {
   "cell_type": "code",
   "execution_count": null,
   "metadata": {},
   "outputs": [],
   "source": [
    "np.linspace(0, 2 * np.pi * 1, 5)"
   ]
  },
  {
   "cell_type": "code",
   "execution_count": null,
   "metadata": {},
   "outputs": [],
   "source": []
  }
 ],
 "metadata": {
  "kernelspec": {
   "display_name": "spf",
   "language": "python",
   "name": "python3"
  },
  "language_info": {
   "codemirror_mode": {
    "name": "ipython",
    "version": 3
   },
   "file_extension": ".py",
   "mimetype": "text/x-python",
   "name": "python",
   "nbconvert_exporter": "python",
   "pygments_lexer": "ipython3",
   "version": "3.11.7"
  }
 },
 "nbformat": 4,
 "nbformat_minor": 2
}
