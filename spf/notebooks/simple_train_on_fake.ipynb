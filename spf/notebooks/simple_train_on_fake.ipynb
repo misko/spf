{
 "cells": [
  {
   "cell_type": "code",
   "execution_count": null,
   "metadata": {},
   "outputs": [],
   "source": [
    "repo_root = \"/Users/miskodzamba/Dropbox/research/gits/spf/\"\n",
    "import sys\n",
    "\n",
    "if repo_root not in sys.path:\n",
    "    sys.path.append(repo_root)  # go to parent dir\n",
    "from spf.dataset.fake_dataset import create_fake_dataset, fake_yaml\n",
    "from spf.notebooks.simple_train import get_parser, simple_train\n",
    "\n",
    "import os\n",
    "\n",
    "create_fake_dataset(\n",
    "    filename=\"test_circle_33\", yaml_config_str=fake_yaml, n=33, noise=0.0\n",
    ")\n",
    "\n",
    "args_list = [\n",
    "    \"--device\",\n",
    "    \"cpu\",\n",
    "    \"--seed\",\n",
    "    \"0\",\n",
    "    \"--nthetas\",\n",
    "    \"65\",\n",
    "    \"--datasets\",\n",
    "    \"test_circle_33.zarr\",\n",
    "    # \"--positional\",\n",
    "    # \"/Users/miskodzamba/Dropbox/research/gits/spf/spf/min.zarr\",\n",
    "    \"--batch\",\n",
    "    \"128\",\n",
    "    \"--workers\",\n",
    "    \"0\",\n",
    "    \"--hidden\",\n",
    "    \"128\",\n",
    "    \"--depth\",\n",
    "    \"5\",\n",
    "    \"--batch-norm\",\n",
    "    \"--act\",\n",
    "    \"leaky\",\n",
    "    # \"--shuffle\",\n",
    "    \"--segmentation-level\",\n",
    "    \"downsampled\",\n",
    "    \"--type\",\n",
    "    \"discrete\",\n",
    "    \"--seg-net\",\n",
    "    \"conv\",\n",
    "    \"--epochs\",\n",
    "    \"75\",\n",
    "    \"--symmetry\",\n",
    "    # \"--skip-segmentation\",\n",
    "    \"--no-shuffle\",\n",
    "    \"--skip-qc\",\n",
    "    # \"--symmetry\",\n",
    "    \"--no-sigmoid\",\n",
    "    \"--val-on-train\",\n",
    "    \"--segmentation-lambda\",\n",
    "    \"0\",\n",
    "    \"--independent\",\n",
    "    # \"--no-sigmoid\",\n",
    "    # \"--block\",\n",
    "    \"--wandb-project\",\n",
    "    \"test124\",\n",
    "    \"--plot-every\",\n",
    "    \"75\",\n",
    "    \"--lr\",\n",
    "    \"0.001\",\n",
    "    \"--precompute-cache\",\n",
    "    \"/tmp/\",\n",
    "    \"--positional\",\n",
    "]\n",
    "args = get_parser().parse_args(args_list)\n",
    "\n",
    "train_results = simple_train(args)"
   ]
  },
  {
   "cell_type": "code",
   "execution_count": null,
   "metadata": {},
   "outputs": [],
   "source": [
    "import numpy as np\n",
    "\n",
    "np.array(train_results[\"losses\"])[-10:].mean()"
   ]
  },
  {
   "cell_type": "code",
   "execution_count": null,
   "metadata": {},
   "outputs": [],
   "source": [
    "train_results[\"losses\"][-20:]"
   ]
  },
  {
   "cell_type": "code",
   "execution_count": null,
   "metadata": {},
   "outputs": [],
   "source": [
    "train_results[\"losses\"]"
   ]
  },
  {
   "cell_type": "code",
   "execution_count": null,
   "metadata": {},
   "outputs": [],
   "source": [
    "import numpy as np\n",
    "from spf.rf import pi_norm\n",
    "\n",
    "\n",
    "thetas = pi_norm(np.linspace(0, 2 * np.pi * 1, 4))"
   ]
  },
  {
   "cell_type": "code",
   "execution_count": null,
   "metadata": {},
   "outputs": [],
   "source": [
    "thetas"
   ]
  },
  {
   "cell_type": "code",
   "execution_count": null,
   "metadata": {},
   "outputs": [],
   "source": [
    "np.linspace(0, 2 * np.pi * 1, 5)"
   ]
  },
  {
   "cell_type": "code",
   "execution_count": null,
   "metadata": {},
   "outputs": [],
   "source": [
    "import torch\n",
    "\n",
    "a = torch.tensor([[1, 2, 3, 4.3], [1, 1, 1, 1]])"
   ]
  },
  {
   "cell_type": "code",
   "execution_count": null,
   "metadata": {},
   "outputs": [],
   "source": [
    "torch.nn.functional.normalize(a, p=1, dim=1)"
   ]
  },
  {
   "cell_type": "code",
   "execution_count": null,
   "metadata": {},
   "outputs": [],
   "source": [
    "import torch\n",
    "from spf.dataset.spf_dataset import v5_collate_beamsegnet, v5spfdataset\n",
    "\n",
    "from spf.dataset.fake_dataset import create_fake_dataset, fake_yaml\n",
    "\n",
    "create_fake_dataset(\n",
    "    filename=\"test_circle_x\", yaml_config_str=fake_yaml, n=17, noise=0.0\n",
    ")\n",
    "device = \"cuda\"\n",
    "nthetas = 65\n",
    "torch_device = torch.device(device)\n",
    "\n",
    "torch.manual_seed(100)\n",
    "import random\n",
    "\n",
    "random.seed(100)\n",
    "\n",
    "# loop over and concat datasets here\n",
    "datasets = [\n",
    "    v5spfdataset(\n",
    "        \"test_circle_x.zarr\",\n",
    "        precompute_cache=\"/tmp\",\n",
    "        nthetas=nthetas,\n",
    "        skip_signal_matrix=False,\n",
    "        paired=False,\n",
    "        ignore_qc=True,\n",
    "    )\n",
    "]\n",
    "for ds in datasets:\n",
    "    ds.get_segmentation()\n",
    "complete_ds = torch.utils.data.ConcatDataset(datasets)\n",
    "\n",
    "train_ds = complete_ds\n",
    "val_ds = complete_ds\n",
    "print(f\"Train-dataset size {len(train_ds)}, Val dataset size {len(val_ds)}\")\n",
    "\n",
    "dataloader_params = {\n",
    "    \"batch_size\": 10000,\n",
    "    \"shuffle\": False,\n",
    "    \"num_workers\": 0,\n",
    "    \"collate_fn\": v5_collate_beamsegnet,\n",
    "}\n",
    "train_dataloader = torch.utils.data.DataLoader(train_ds, **dataloader_params)"
   ]
  },
  {
   "cell_type": "code",
   "execution_count": null,
   "metadata": {},
   "outputs": [],
   "source": [
    "from spf.model_training_and_inference.models.beamsegnet import (\n",
    "    BeamNetDirect,\n",
    "    BeamNetDiscrete,\n",
    "    BeamNSegNet,\n",
    "    ConvNet,\n",
    "    UNet1D,\n",
    ")\n",
    "\n",
    "act = torch.nn.LeakyReLU\n",
    "first_n = 256\n",
    "seg_m = ConvNet(3, 1, hidden=4, act=act, bn=False).to(torch_device)\n",
    "positional = False\n",
    "\n",
    "\n",
    "discrete = True\n",
    "if discrete:\n",
    "    beam_m = BeamNetDiscrete(\n",
    "        nthetas=nthetas,\n",
    "        hidden=128,\n",
    "        depth=5,\n",
    "        act=act,\n",
    "        symmetry=True,  # args.symmetry,\n",
    "        bn=True,\n",
    "        positional_encoding=positional,\n",
    "    ).to(torch_device)\n",
    "    paired_net = BeamNetDiscrete(\n",
    "        nthetas=nthetas,\n",
    "        depth=3,\n",
    "        hidden=16,\n",
    "        symmetry=False,\n",
    "        act=act,\n",
    "        other=False,\n",
    "        bn=False,\n",
    "        no_sigmoid=False,\n",
    "        block=False,\n",
    "        rx_spacing_track=-1,\n",
    "        pd_track=-1,\n",
    "        mag_track=-1,\n",
    "        stddev_track=-1,\n",
    "        inputs=1 * beam_m.outputs,\n",
    "        norm=\"batch\",\n",
    "    )\n",
    "else:\n",
    "    beam_m = BeamNetDirect(\n",
    "        nthetas=nthetas,\n",
    "        depth=6,\n",
    "        hidden=256,\n",
    "        symmetry=False,\n",
    "        act=act,\n",
    "        other=False,\n",
    "        bn=False,\n",
    "        no_sigmoid=True,\n",
    "        block=False,\n",
    "        inputs=3,  # + (1 if args.rx_spacing else 0),\n",
    "        norm=\"batch\",\n",
    "        positional_encoding=False,\n",
    "    ).to(torch_device)\n",
    "    paired_net = BeamNetDirect(\n",
    "        nthetas=nthetas,\n",
    "        depth=4,\n",
    "        hidden=64,\n",
    "        symmetry=False,\n",
    "        act=act,\n",
    "        other=False,\n",
    "        bn=False,\n",
    "        no_sigmoid=True,\n",
    "        block=False,\n",
    "        rx_spacing_track=-1,\n",
    "        pd_track=-1,\n",
    "        mag_track=-1,\n",
    "        stddev_track=-1,\n",
    "        inputs=args.n_radios * beam_m.outputs,\n",
    "        norm=\"batch\",\n",
    "    )\n",
    "\n",
    "m = BeamNSegNet(\n",
    "    segnet=seg_m,\n",
    "    beamnet=beam_m,\n",
    "    circular_mean=False,\n",
    "    segmentation_lambda=0,\n",
    "    independent=True,\n",
    "    n_radios=1,\n",
    "    paired_net=paired_net,\n",
    "    rx_spacing=False,\n",
    ").to(torch_device)"
   ]
  },
  {
   "cell_type": "code",
   "execution_count": null,
   "metadata": {},
   "outputs": [],
   "source": [
    "optimizer = torch.optim.AdamW(m.parameters(), lr=0.0005, weight_decay=0.0)"
   ]
  },
  {
   "cell_type": "code",
   "execution_count": null,
   "metadata": {},
   "outputs": [],
   "source": [
    "def batch_data_to_x_y_seg(batch_data, segmentation_level):\n",
    "    x = batch_data[\"all_windows_stats\"].to(torch_device).type(torch.float32)\n",
    "    seg_mask = batch_data[\"downsampled_segmentation_mask\"].to(torch_device)\n",
    "\n",
    "    rx_spacing = batch_data[\"rx_spacing\"].to(torch_device)\n",
    "\n",
    "    y_rad = batch_data[\"y_rad\"].to(torch_device).type(torch.float32)\n",
    "    assert seg_mask.ndim == 3 and seg_mask.shape[1] == 1\n",
    "    return x, y_rad, seg_mask, rx_spacing"
   ]
  },
  {
   "cell_type": "code",
   "execution_count": null,
   "metadata": {},
   "outputs": [],
   "source": [
    "to_log = None\n",
    "for x in range(50):\n",
    "    for batch_data in train_dataloader:\n",
    "        m.train()\n",
    "\n",
    "        if to_log is None:\n",
    "            to_log = {\n",
    "                \"loss\": [],\n",
    "                \"segmentation_loss\": [],\n",
    "                \"beamformer_loss\": [],\n",
    "                \"paired_beamformer_loss\": [],\n",
    "            }\n",
    "\n",
    "        optimizer.zero_grad()\n",
    "\n",
    "        x, y_rad, seg_mask, rx_spacing = batch_data_to_x_y_seg(\n",
    "            batch_data, \"downsampled\"\n",
    "        )\n",
    "        y_rad_reduced = reduce_theta_to_positive_y(y_rad)\n",
    "\n",
    "        output = m(x, seg_mask, rx_spacing)\n",
    "\n",
    "        m.beamnet.beam_net(output[\"weighted_input\"])\n",
    "\n",
    "        loss_d = m.loss(output, y_rad_reduced, seg_mask)\n",
    "\n",
    "        loss = loss_d[\"beamformer_loss\"]\n",
    "        # loss += loss_d[\"segmentation_loss\"] * 0\n",
    "        # loss += loss_d[\"paired_beamformer_loss\"] * 0\n",
    "\n",
    "        loss.backward()\n",
    "        print(loss.item())\n",
    "\n",
    "        optimizer.step()"
   ]
  },
  {
   "cell_type": "code",
   "execution_count": null,
   "metadata": {},
   "outputs": [],
   "source": [
    " -m.beamnet.loglikelihood(output[\"pred_theta\"][[1]], y_rad[[1]])"
   ]
  },
  {
   "cell_type": "code",
   "execution_count": null,
   "metadata": {},
   "outputs": [],
   "source": [
    "m.beamnet.beam_net(output[\"weighted_input\"]).shape, output[\n",
    "    \"weighted_input\"\n",
    "].shape, y_rad.shape"
   ]
  },
  {
   "cell_type": "code",
   "execution_count": null,
   "metadata": {},
   "outputs": [],
   "source": [
    "# output[\"pred_theta\"]"
   ]
  },
  {
   "cell_type": "code",
   "execution_count": null,
   "metadata": {},
   "outputs": [],
   "source": [
    "from matplotlib import pyplot as plt\n",
    "\n",
    "plt.imshow(beam_m.render_discrete_x(output[\"pred_theta\"][::2]).cpu().detach().numpy())"
   ]
  },
  {
   "cell_type": "code",
   "execution_count": null,
   "metadata": {},
   "outputs": [],
   "source": [
    "nthetas"
   ]
  },
  {
   "cell_type": "code",
   "execution_count": null,
   "metadata": {},
   "outputs": [],
   "source": [
    "import numpy as np\n",
    "\n",
    "np.linspace(0, nthetas - 1, 5)"
   ]
  },
  {
   "cell_type": "code",
   "execution_count": null,
   "metadata": {},
   "outputs": [],
   "source": [
    "plt.imshow(m.beamnet.render_discrete_y(y_rad_reduced[::2]).cpu())\n",
    "ax = plt.gca()\n",
    "ax.set_xticks(np.linspace(0, nthetas - 1, 5))\n",
    "ax.set_xticklabels([\"-pi\", \"-pi/2\", \"0\", \"pi/2\", \"pi\"])\n",
    "\n",
    "# Labels for major ticks\n",
    "ax.grid(which=\"major\", color=\"w\", linestyle=\"-\", linewidth=2, axis=\"x\")"
   ]
  },
  {
   "cell_type": "code",
   "execution_count": null,
   "metadata": {},
   "outputs": [],
   "source": [
    "plt.imshow(m.beamnet.render_discrete_y(y_rad[::2]).cpu())"
   ]
  },
  {
   "cell_type": "code",
   "execution_count": null,
   "metadata": {},
   "outputs": [],
   "source": []
  },
  {
   "cell_type": "code",
   "execution_count": null,
   "metadata": {},
   "outputs": [],
   "source": [
    "output[\"weighted_input\"][:, 0].shape, m.beamnet.outputs"
   ]
  },
  {
   "cell_type": "code",
   "execution_count": null,
   "metadata": {},
   "outputs": [],
   "source": [
    "from matplotlib import pyplot as plt\n",
    "\n",
    "plt.plot(output[\"weighted_input\"][:, 0][::2].numpy())\n",
    "plt.plot(output[\"weighted_input\"][:, 0][1::2].numpy())\n",
    "\n",
    "# for idx in range(0,x.shape[0],2):\n",
    "#     print(x[idx,0,seg_mask[0,0]==1].mean())"
   ]
  },
  {
   "cell_type": "code",
   "execution_count": null,
   "metadata": {},
   "outputs": [],
   "source": [
    "from matplotlib import pyplot as plt\n",
    "\n",
    "plt.plot(\n",
    "    torch.hstack(\n",
    "        [x[idx, 0, seg_mask[idx, 0] == 1].mean() for idx in range(0, x.shape[0], 2)]\n",
    "    ).numpy()\n",
    ")\n",
    "plt.plot(\n",
    "    torch.hstack(\n",
    "        [x[idx, 0, seg_mask[idx, 0] == 1].mean() for idx in range(1, x.shape[0], 2)]\n",
    "    ).numpy()\n",
    ")\n",
    "\n",
    "\n",
    "# for idx in range(0,x.shape[0],2):\n",
    "#     print(x[idx,0,seg_mask[0,0]==1].mean())"
   ]
  },
  {
   "cell_type": "code",
   "execution_count": null,
   "metadata": {},
   "outputs": [],
   "source": []
  },
  {
   "cell_type": "code",
   "execution_count": null,
   "metadata": {},
   "outputs": [],
   "source": [
    "# x[:,0,:]"
   ]
  },
  {
   "cell_type": "code",
   "execution_count": null,
   "metadata": {},
   "outputs": [],
   "source": [
    "# m(x, seg_mask, rx_spacing)"
   ]
  },
  {
   "cell_type": "code",
   "execution_count": null,
   "metadata": {},
   "outputs": [],
   "source": []
  }
 ],
 "metadata": {
  "kernelspec": {
   "display_name": "spf",
   "language": "python",
   "name": "python3"
  },
  "language_info": {
   "codemirror_mode": {
    "name": "ipython",
    "version": 3
   },
   "file_extension": ".py",
   "mimetype": "text/x-python",
   "name": "python",
   "nbconvert_exporter": "python",
   "pygments_lexer": "ipython3",
   "version": "3.12.3"
  }
 },
 "nbformat": 4,
 "nbformat_minor": 2
}
