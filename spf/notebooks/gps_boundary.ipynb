{
 "cells": [
  {
   "cell_type": "code",
   "execution_count": null,
   "metadata": {},
   "outputs": [],
   "source": [
    "import numpy as np\n",
    "\n",
    "repo_root = \"/Users/miskodzamba/Dropbox/research/gits/spf/\"\n",
    "import sys\n",
    "\n",
    "sys.path.append(repo_root)  # go to parent dir\n",
    "# from boundaries import\n",
    "from spf.gps.boundaries import (\n",
    "    franklin_boundary,\n",
    "    crissy_boundary,\n",
    "    crissy_boundary_convex,\n",
    "    franklin_safe,\n",
    ")\n",
    "\n",
    "from matplotlib import pyplot as plt\n",
    "\n",
    "boundary = crissy_boundary_convex\n",
    "plt.scatter(boundary[:, 0], boundary[:, 1])\n",
    "for idx in range(boundary.shape[0]):\n",
    "    plt.annotate(f\"p{idx}\", (boundary[idx, 0], boundary[idx, 1]))\n",
    "plt.axis(\"equal\")"
   ]
  },
  {
   "cell_type": "code",
   "execution_count": null,
   "metadata": {},
   "outputs": [],
   "source": [
    "franklin_safe.mean(axis=0)"
   ]
  },
  {
   "cell_type": "code",
   "execution_count": null,
   "metadata": {},
   "outputs": [],
   "source": [
    "import numpy\n",
    "\n",
    "\n",
    "def degnorm(x):\n",
    "    return ((x + 180.0) % 360.0) - 180.0\n",
    "\n",
    "\n",
    "def pinorm(x):\n",
    "    return ((x + np.pi) % (2 * np.pi)) - np.pi\n",
    "\n",
    "\n",
    "# https://mapscaping.com/how-to-calculate-bearing-between-two-coordinates/\n",
    "# p0 = [ long , lat ] # in radians\n",
    "# p1 = [ long , lat ] # in radians\n",
    "# return degrees from north that angle from p0->p1 makes\n",
    "# dead north is 0deg, to the right is + and to the left is -\n",
    "def calc_bearing(p0, p1):\n",
    "    # Calculate the bearing\n",
    "    p0_rad = np.deg2rad(p0)\n",
    "    p1_rad = np.deg2rad(p1)\n",
    "    bearing_rad = np.arctan2(\n",
    "        np.sin(p1_rad[0] - p0_rad[0]) * np.cos(p1_rad[1]),\n",
    "        np.cos(p0_rad[1]) * np.sin(p1_rad[1])\n",
    "        - np.sin(p0_rad[1]) * np.cos(p1_rad[1]) * np.cos(p1_rad[0] - p0_rad[0]),\n",
    "    )\n",
    "\n",
    "    return np.rad2deg(pinorm(bearing_rad))  # np.rad2deg(bearing_rad)\n",
    "\n",
    "\n",
    "\"\"\"\n",
    "Craft is facing p0 from p1 and would like to go to p2\n",
    "\"\"\"\n",
    "\n",
    "\n",
    "def calc_relative_bearing(p_facing, p_current, p_desired):\n",
    "    return (\n",
    "        degnorm(calc_bearing(p_current, p_desired) - calc_bearing(p_current, p_facing)),\n",
    "        calc_bearing(p_current, p_facing),\n",
    "        calc_bearing(p_current, p_desired),\n",
    "    )"
   ]
  },
  {
   "cell_type": "code",
   "execution_count": null,
   "metadata": {},
   "outputs": [],
   "source": [
    "for start_idx in range(len(boundary) - 2):\n",
    "    p0 = boundary[start_idx]\n",
    "    p1 = boundary[start_idx + 1]\n",
    "    p2 = boundary[start_idx + 2]\n",
    "    b01 = calc_bearing(p0, p1)\n",
    "    b12 = calc_bearing(p1, p2)\n",
    "    print(start_idx, calc_relative_bearing(p_current=p0, p_facing=p1, p_desired=p2))"
   ]
  },
  {
   "cell_type": "code",
   "execution_count": null,
   "metadata": {},
   "outputs": [],
   "source": []
  },
  {
   "cell_type": "code",
   "execution_count": null,
   "metadata": {},
   "outputs": [],
   "source": [
    "import numpy as np\n",
    "import yaml\n",
    "import zarr\n",
    "from pyproj import Proj\n",
    "\n",
    "from spf.dataset.v5_data import v5rx_2xf64_keys, v5rx_f64_keys\n",
    "from spf.gps.boundaries import franklin_safe  # crissy_boundary_convex\n",
    "from spf.utils import zarr_new_dataset, zarr_open_from_lmdb_store, zarr_shrink\n",
    "\n",
    "\n",
    "def lat_lon_to_xy(lat, lon, center_lat, center_lon):\n",
    "    proj_centered = Proj(proj=\"aeqd\", lat_0=center_lat, lon_0=center_lon, datum=\"WGS84\")\n",
    "    return proj_centered(lon, lat)\n",
    "\n",
    "\n",
    "# lat_lon_to_xy(\n",
    "#                     lat=gps_lat,\n",
    "#                     lon=gps_long,\n",
    "#                     center_lat=gps_center_long_lat[1],\n",
    "#                     center_lon=gps_center_long_lat[0],\n",
    "#                 )"
   ]
  },
  {
   "cell_type": "code",
   "execution_count": null,
   "metadata": {},
   "outputs": [],
   "source": [
    "franklin_safe.mean(axis=0)"
   ]
  },
  {
   "cell_type": "code",
   "execution_count": null,
   "metadata": {},
   "outputs": [],
   "source": [
    "gps_center_long, gps_center_lat = franklin_safe.mean(axis=0)\n",
    "lat_lon_to_xy(\n",
    "    lat=gps_center_lat - 0.0001,\n",
    "    lon=gps_center_long,\n",
    "    center_lat=gps_center_lat,\n",
    "    center_lon=gps_center_long,\n",
    ")"
   ]
  },
  {
   "cell_type": "code",
   "execution_count": null,
   "metadata": {},
   "outputs": [],
   "source": [
    "near_bridge = (-122.39219619079822, 37.7851203550129)"
   ]
  },
  {
   "cell_type": "code",
   "execution_count": null,
   "metadata": {},
   "outputs": [],
   "source": [
    "np.array(\n",
    "    lat_lon_to_xy(\n",
    "        lat=near_bridge[1],\n",
    "        lon=near_bridge[0],\n",
    "        center_lat=gps_center_lat,\n",
    "        center_lon=gps_center_long,\n",
    "    )\n",
    ") * 10000"
   ]
  },
  {
   "cell_type": "code",
   "execution_count": null,
   "metadata": {},
   "outputs": [],
   "source": [
    "gps_center_long"
   ]
  },
  {
   "cell_type": "code",
   "execution_count": null,
   "metadata": {},
   "outputs": [],
   "source": [
    "from spf.motion_planners.dynamics import Dynamics\n",
    "from spf.motion_planners.planner import BouncePlanner\n",
    "from spf.gps.boundaries import fort_baker_right_boundary\n",
    "\n",
    "boundary = fort_baker_right_boundary\n",
    "bp = BouncePlanner(\n",
    "    dynamics=Dynamics(\n",
    "        bounding_box=boundary,\n",
    "        bounds_radius=0.000000001,\n",
    "    ),\n",
    "    start_point=boundary.mean(axis=0),\n",
    "    epsilon=0.0000001,\n",
    "    step_size=0.00001,\n",
    ")\n",
    "\n",
    "n = 20000\n",
    "p = bp.yield_points()\n",
    "z = np.array([next(p) for x in range(n)])\n",
    "\n",
    "assert (np.unique(z).size / n) > 0.9"
   ]
  },
  {
   "cell_type": "code",
   "execution_count": null,
   "metadata": {},
   "outputs": [],
   "source": []
  }
 ],
 "metadata": {
  "kernelspec": {
   "display_name": "spf",
   "language": "python",
   "name": "python3"
  },
  "language_info": {
   "codemirror_mode": {
    "name": "ipython",
    "version": 3
   },
   "file_extension": ".py",
   "mimetype": "text/x-python",
   "name": "python",
   "nbconvert_exporter": "python",
   "pygments_lexer": "ipython3",
   "version": "3.12.3"
  }
 },
 "nbformat": 4,
 "nbformat_minor": 2
}
