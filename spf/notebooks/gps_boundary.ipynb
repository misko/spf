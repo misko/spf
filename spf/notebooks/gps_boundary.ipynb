{
 "cells": [
  {
   "cell_type": "code",
   "execution_count": null,
   "metadata": {},
   "outputs": [],
   "source": [
    "import numpy as np\n",
    "\n",
    "repo_root = \"/Users/miskodzamba/Dropbox/research/gits/spf/\"\n",
    "import sys\n",
    "\n",
    "sys.path.append(repo_root)  # go to parent dir\n",
    "# from boundaries import\n",
    "from spf.gps.boundaries import (\n",
    "    franklin_boundary,\n",
    "    crissy_boundary,\n",
    "    crissy_boundary_convex,\n",
    "    franklin_safe,\n",
    ")\n",
    "\n",
    "from matplotlib import pyplot as plt\n",
    "\n",
    "boundary = crissy_boundary_convex\n",
    "plt.scatter(boundary[:, 0], boundary[:, 1])\n",
    "for idx in range(boundary.shape[0]):\n",
    "    plt.annotate(f\"p{idx}\", (boundary[idx, 0], boundary[idx, 1]))\n",
    "plt.axis(\"equal\")"
   ]
  },
  {
   "cell_type": "code",
   "execution_count": null,
   "metadata": {},
   "outputs": [],
   "source": [
    "franklin_safe.mean(axis=0)"
   ]
  },
  {
   "cell_type": "code",
   "execution_count": null,
   "metadata": {},
   "outputs": [],
   "source": [
    "import numpy\n",
    "\n",
    "\n",
    "def degnorm(x):\n",
    "    return ((x + 180.0) % 360.0) - 180.0\n",
    "\n",
    "\n",
    "def pinorm(x):\n",
    "    return ((x + np.pi) % (2 * np.pi)) - np.pi\n",
    "\n",
    "\n",
    "# https://mapscaping.com/how-to-calculate-bearing-between-two-coordinates/\n",
    "# p0 = [ long , lat ] # in radians\n",
    "# p1 = [ long , lat ] # in radians\n",
    "# return degrees from north that angle from p0->p1 makes\n",
    "# dead north is 0deg, to the right is + and to the left is -\n",
    "def calc_bearing(p0, p1):\n",
    "    # Calculate the bearing\n",
    "    p0_rad = np.deg2rad(p0)\n",
    "    p1_rad = np.deg2rad(p1)\n",
    "    bearing_rad = np.arctan2(\n",
    "        np.sin(p1_rad[0] - p0_rad[0]) * np.cos(p1_rad[1]),\n",
    "        np.cos(p0_rad[1]) * np.sin(p1_rad[1])\n",
    "        - np.sin(p0_rad[1]) * np.cos(p1_rad[1]) * np.cos(p1_rad[0] - p0_rad[0]),\n",
    "    )\n",
    "\n",
    "    return np.rad2deg(pinorm(bearing_rad))  # np.rad2deg(bearing_rad)\n",
    "\n",
    "\n",
    "\"\"\"\n",
    "Craft is facing p0 from p1 and would like to go to p2\n",
    "\"\"\"\n",
    "\n",
    "\n",
    "def calc_relative_bearing(p_facing, p_current, p_desired):\n",
    "    return (\n",
    "        degnorm(calc_bearing(p_current, p_desired) - calc_bearing(p_current, p_facing)),\n",
    "        calc_bearing(p_current, p_facing),\n",
    "        calc_bearing(p_current, p_desired),\n",
    "    )"
   ]
  },
  {
   "cell_type": "code",
   "execution_count": null,
   "metadata": {},
   "outputs": [],
   "source": [
    "for start_idx in range(len(boundary) - 2):\n",
    "    p0 = boundary[start_idx]\n",
    "    p1 = boundary[start_idx + 1]\n",
    "    p2 = boundary[start_idx + 2]\n",
    "    b01 = calc_bearing(p0, p1)\n",
    "    b12 = calc_bearing(p1, p2)\n",
    "    print(start_idx, calc_relative_bearing(p_current=p0, p_facing=p1, p_desired=p2))"
   ]
  }
 ],
 "metadata": {
  "kernelspec": {
   "display_name": "spf",
   "language": "python",
   "name": "python3"
  },
  "language_info": {
   "codemirror_mode": {
    "name": "ipython",
    "version": 3
   },
   "file_extension": ".py",
   "mimetype": "text/x-python",
   "name": "python",
   "nbconvert_exporter": "python",
   "pygments_lexer": "ipython3",
   "version": "3.11.7"
  }
 },
 "nbformat": 4,
 "nbformat_minor": 2
}
