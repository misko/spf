{
 "cells": [
  {
   "cell_type": "code",
   "execution_count": null,
   "metadata": {},
   "outputs": [],
   "source": [
    "import torch\n",
    "import math\n",
    "\n",
    "\n",
    "def cdf(mean, sigma, value):\n",
    "    return 0.5 * (1 + torch.erf((value - mean) * sigma.reciprocal() / math.sqrt(2)))\n",
    "\n",
    "\n",
    "def correction(mean, sigma, max_y):\n",
    "    assert max_y > 0\n",
    "    left_p = cdf(mean, sigma, -max_y)\n",
    "    right_p = cdf(mean, sigma, max_y)\n",
    "    return (1.0 - (right_p - left_p)).reciprocal"
   ]
  },
  {
   "cell_type": "code",
   "execution_count": null,
   "metadata": {},
   "outputs": [],
   "source": [
    "from spf.rf import pi_norm\n",
    "import torch\n",
    "\n",
    "x = torch.pi - 0.1\n",
    "pi_norm(torch.pi * 0.9 - (-torch.pi * 0.9))"
   ]
  },
  {
   "cell_type": "code",
   "execution_count": null,
   "metadata": {},
   "outputs": [],
   "source": [
    "from spf.rf import torch_pi_norm\n",
    "import torch\n",
    "\n",
    "x = torch.pi / 2 - 0.1\n",
    "torch_pi_norm(x + x, max_angle=torch.pi / 2)"
   ]
  },
  {
   "cell_type": "code",
   "execution_count": null,
   "metadata": {},
   "outputs": [],
   "source": [
    "pi_norm(0.7 * torch.pi)"
   ]
  },
  {
   "cell_type": "code",
   "execution_count": null,
   "metadata": {},
   "outputs": [],
   "source": [
    "2 * torch.pi - 1.2 * torch.pi"
   ]
  },
  {
   "cell_type": "code",
   "execution_count": null,
   "metadata": {},
   "outputs": [],
   "source": []
  }
 ],
 "metadata": {
  "kernelspec": {
   "display_name": "spf",
   "language": "python",
   "name": "python3"
  },
  "language_info": {
   "codemirror_mode": {
    "name": "ipython",
    "version": 3
   },
   "file_extension": ".py",
   "mimetype": "text/x-python",
   "name": "python",
   "nbconvert_exporter": "python",
   "pygments_lexer": "ipython3",
   "version": "3.12.3"
  }
 },
 "nbformat": 4,
 "nbformat_minor": 2
}
