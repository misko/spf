{
 "cells": [
  {
   "cell_type": "code",
   "execution_count": null,
   "metadata": {},
   "outputs": [],
   "source": [
    "import yaml\n",
    "import zarr\n",
    "\n",
    "repo_root = \"/Users/miskodzamba/Dropbox/research/gits/spf/\"\n",
    "import sys\n",
    "\n",
    "sys.path.append(repo_root)  # go to parent dir\n",
    "\n",
    "root = \"/Users/miskodzamba/Dropbox/research/spf_aux/missions/march27_wall\"\n",
    "prefix = \"wallarrayv3_2024_03_27_01_11_08_nRX2_rx_circle\"\n",
    "zarr_fn = f\"{root}/{prefix}.zarr\"\n",
    "yaml_fn = f\"{root}/{prefix}.yaml\"\n",
    "z = zarr.open(zarr_fn, \"r\")\n",
    "\n",
    "yaml_config = yaml.safe_load(open(yaml_fn, \"r\"))"
   ]
  },
  {
   "cell_type": "code",
   "execution_count": null,
   "metadata": {},
   "outputs": [],
   "source": [
    "# self.steering_vectors = precompute_steering_vectors(\n",
    "#     receiver_positions=self.rx_config.rx_pos,\n",
    "#     carrier_frequency=self.rx_config.lo,\n",
    "#     spacing=self.nthetas,\n",
    "# )\n",
    "\n",
    "from spf.data_collector import rx_config_from_receiver_yaml\n",
    "from spf.rf import beamformer_given_steering, precompute_steering_vectors\n",
    "from spf.sdrpluto.sdr_controller import get_avg_phase\n",
    "import numpy as np\n",
    "from matplotlib import pyplot as plt\n",
    "from spf.rf import beamformer_given_steering_nomean\n",
    "\n",
    "nthetas = 64 + 1\n",
    "\n",
    "rx_configs = [\n",
    "    rx_config_from_receiver_yaml(receiver) for receiver in yaml_config[\"receivers\"]\n",
    "]\n",
    "\n",
    "steering_vectors = [\n",
    "    precompute_steering_vectors(\n",
    "        receiver_positions=rx_config.rx_pos,\n",
    "        carrier_frequency=rx_config.lo,\n",
    "        spacing=nthetas,\n",
    "    )\n",
    "    for rx_config in rx_configs\n",
    "]\n",
    "\n",
    "\n",
    "def load_zarr_to_numpy(x):\n",
    "    return np.array(x)\n",
    "\n",
    "\n",
    "session_idx = 10\n",
    "beam_sds = [\n",
    "    beamformer_given_steering_nomean(\n",
    "        steering_vectors=steering_vectors[receiver_idx],\n",
    "        signal_matrix=load_zarr_to_numpy(\n",
    "            z.receivers[f\"r{receiver_idx}\"].signal_matrix[session_idx]\n",
    "        ),\n",
    "    )\n",
    "    for receiver_idx in range(2)\n",
    "]\n",
    "\n",
    "# avg_phase_diff = get_avg_phase(signal_matrix)"
   ]
  },
  {
   "cell_type": "code",
   "execution_count": null,
   "metadata": {},
   "outputs": [],
   "source": [
    "from spf.sdrpluto.sdr_controller import get_phase_diff\n",
    "\n",
    "session_idx = 10\n",
    "signal_matrix = load_zarr_to_numpy(z.receivers[\"r0\"].signal_matrix[session_idx])\n",
    "n = 2 * 4 * 50000\n",
    "pd = get_phase_diff(signal_matrix[:, :n])\n",
    "v = signal_matrix[0, :n]\n",
    "fig, axs = plt.subplots(2, 1, figsize=(12, 4))\n",
    "axs[0].scatter(np.arange(n), v.real, alpha=0.1, s=1)\n",
    "axs[1].scatter(np.arange(n), pd, s=1, alpha=0.1)"
   ]
  },
  {
   "cell_type": "code",
   "execution_count": null,
   "metadata": {},
   "outputs": [],
   "source": [
    "z.tree()"
   ]
  },
  {
   "cell_type": "code",
   "execution_count": null,
   "metadata": {},
   "outputs": [],
   "source": [
    "z.receivers.r0.signal_matrix[0].shape"
   ]
  },
  {
   "cell_type": "code",
   "execution_count": null,
   "metadata": {},
   "outputs": [],
   "source": []
  }
 ],
 "metadata": {
  "kernelspec": {
   "display_name": "spf",
   "language": "python",
   "name": "python3"
  },
  "language_info": {
   "codemirror_mode": {
    "name": "ipython",
    "version": 3
   },
   "file_extension": ".py",
   "mimetype": "text/x-python",
   "name": "python",
   "nbconvert_exporter": "python",
   "pygments_lexer": "ipython3",
   "version": "3.11.7"
  }
 },
 "nbformat": 4,
 "nbformat_minor": 2
}
