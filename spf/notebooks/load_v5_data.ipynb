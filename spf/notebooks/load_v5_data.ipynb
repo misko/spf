{
 "cells": [
  {
   "cell_type": "code",
   "execution_count": null,
   "metadata": {},
   "outputs": [],
   "source": [
    "import yaml\n",
    "import zarr\n",
    "\n",
    "repo_root = \"/Users/miskodzamba/Dropbox/research/gits/spf/\"\n",
    "import sys\n",
    "\n",
    "sys.path.append(repo_root)  # go to parent dir\n",
    "from spf.utils import zarr_open_from_lmdb_store\n",
    "\n",
    "\n",
    "root = \"/Volumes/SPFData/missions/april5\"\n",
    "prefix = \"wallarrayv3_2024_04_05_22_13_07_nRX2_rx_circle\"\n",
    "zarr_fn = f\"{root}/{prefix}.zarr\"\n",
    "yaml_fn = f\"{root}/{prefix}.yaml\"\n",
    "z = zarr_open_from_lmdb_store(zarr_fn)\n",
    "\n",
    "yaml_config = yaml.safe_load(open(yaml_fn, \"r\"))"
   ]
  },
  {
   "cell_type": "code",
   "execution_count": null,
   "metadata": {},
   "outputs": [],
   "source": [
    "# self.steering_vectors = precompute_steering_vectors(\n",
    "#     receiver_positions=self.rx_config.rx_pos,\n",
    "#     carrier_frequency=self.rx_config.lo,\n",
    "#     spacing=self.nthetas,\n",
    "# )\n",
    "\n",
    "from spf.data_collector import rx_config_from_receiver_yaml\n",
    "from spf.rf import beamformer_given_steering, precompute_steering_vectors\n",
    "from spf.sdrpluto.sdr_controller import get_avg_phase\n",
    "import numpy as np\n",
    "from matplotlib import pyplot as plt\n",
    "from spf.rf import beamformer_given_steering_nomean\n",
    "\n",
    "nthetas = 64 + 1\n",
    "\n",
    "rx_configs = [\n",
    "    rx_config_from_receiver_yaml(receiver) for receiver in yaml_config[\"receivers\"]\n",
    "]\n",
    "\n",
    "steering_vectors = [\n",
    "    precompute_steering_vectors(\n",
    "        receiver_positions=rx_config.rx_pos,\n",
    "        carrier_frequency=rx_config.lo,\n",
    "        spacing=nthetas,\n",
    "    )\n",
    "    for rx_config in rx_configs\n",
    "]\n",
    "\n",
    "\n",
    "def load_zarr_to_numpy(x):\n",
    "    return np.array(x)\n",
    "\n",
    "\n",
    "session_idx = 10\n",
    "beam_sds = [\n",
    "    beamformer_given_steering_nomean(\n",
    "        steering_vectors=steering_vectors[receiver_idx],\n",
    "        signal_matrix=load_zarr_to_numpy(\n",
    "            z.receivers[f\"r{receiver_idx}\"].signal_matrix[session_idx]\n",
    "        ),\n",
    "    )\n",
    "    for receiver_idx in range(2)\n",
    "]\n",
    "\n",
    "# avg_phase_diff = get_avg_phase(signal_matrix)"
   ]
  },
  {
   "cell_type": "code",
   "execution_count": null,
   "metadata": {},
   "outputs": [],
   "source": [
    "from spf.sdrpluto.sdr_controller import get_phase_diff\n",
    "\n",
    "signal_matrix = load_zarr_to_numpy(z.receivers[\"r0\"].signal_matrix[session_idx])\n",
    "n = 2 * 4 * 50000\n",
    "offset = 0\n",
    "pd = get_phase_diff(signal_matrix[:, offset : offset + n])\n",
    "v = signal_matrix[0, offset : offset + n]\n",
    "fig, axs = plt.subplots(2, 1, figsize=(12, 4))\n",
    "axs[0].scatter(np.arange(n), v.real, alpha=0.1, s=1)\n",
    "axs[1].scatter(np.arange(n), pd, s=1, alpha=0.1)\n",
    "from spf.sdrpluto.sdr_controller import circular_mean, circular_stddev, simple_segment\n",
    "\n",
    "\n",
    "for window in simple_segment(\n",
    "    pd,\n",
    "    window_size=2500,\n",
    "    stride=1250,\n",
    "    trim=20,\n",
    "    mean_diff_threshold=0.2,  #\n",
    "    max_stddev_threshold=0.15,  # just eyeballed this\n",
    "):\n",
    "    axs[1].plot(\n",
    "        [window[\"start_idx\"], window[\"end_idx\"]],\n",
    "        [window[\"mean\"], window[\"mean\"]],\n",
    "        color=\"red\",\n",
    "    )"
   ]
  },
  {
   "cell_type": "code",
   "execution_count": null,
   "metadata": {},
   "outputs": [],
   "source": [
    "from multiprocessing.pool import ThreadPool\n",
    "from spf.sdrpluto.sdr_controller import (\n",
    "    get_phase_diff,\n",
    "    segment_session_star,\n",
    "    simple_segment,\n",
    "    segment_session,\n",
    ")\n",
    "\n",
    "# z.receivers[\"r0\"].signal_matrix.shape = (sessions, n_rx_per_receiver, samples_per_buffer)\n",
    "n_sessions, _, samples_per_buffer = z.receivers[\"r0\"].signal_matrix.shape\n",
    "\n",
    "\n",
    "z = zarr_open_from_lmdb_store(zarr_fn)\n",
    "from multiprocessing import Pool\n",
    "import time\n",
    "import tqdm\n",
    "\n",
    "start = time.time()\n",
    "inputs = [(zarr_fn, \"r0\", idx, 2048, 1024, 20.0, 0.2, 0.15) for idx in range(400)]\n",
    "with Pool(8) as pool:\n",
    "    results = list(\n",
    "        tqdm.tqdm(pool.imap(segment_session_star, inputs), total=len(inputs))\n",
    "    )\n",
    "print(time.time() - start)\n",
    "# start = time.time()\n",
    "# with ThreadPool(8) as pool:\n",
    "#     results = pool.starmap(segment_session, [(z, \"r0\", idx) for idx in range(100)])\n",
    "# print(time.time() - start)"
   ]
  },
  {
   "cell_type": "code",
   "execution_count": null,
   "metadata": {},
   "outputs": [],
   "source": [
    "z = zarr_open_from_lmdb_store(zarr_fn)\n",
    "z.store.db.info()"
   ]
  },
  {
   "cell_type": "code",
   "execution_count": null,
   "metadata": {},
   "outputs": [],
   "source": [
    "def test():\n",
    "    try:\n",
    "        yield 1\n",
    "    finally:\n",
    "        print(\"WTF\")\n",
    "\n",
    "\n",
    "a = test()\n",
    "print(\"OK\")\n",
    "a = None"
   ]
  },
  {
   "cell_type": "code",
   "execution_count": null,
   "metadata": {},
   "outputs": [],
   "source": [
    "zarr_fn\n",
    "with zarr_open_from_lmdb_store_cm(zarr_fn) as z:\n",
    "    pass"
   ]
  },
  {
   "cell_type": "code",
   "execution_count": null,
   "metadata": {},
   "outputs": [],
   "source": [
    "from spf.utils import zarr_open_from_lmdb_store_cm\n",
    "\n",
    "\n",
    "with zarr_open_from_lmdb_store_cm(zarr_fn) as z:\n",
    "    start = time.time()\n",
    "    results = list(\n",
    "        map(\n",
    "            lambda x: segment_session(zarr_fn, \"r0\", x, 2048, 1024, 20, 0.2, 0.15),\n",
    "            range(50),\n",
    "        )\n",
    "    )\n",
    "    print(time.time() - start)"
   ]
  },
  {
   "cell_type": "code",
   "execution_count": null,
   "metadata": {},
   "outputs": [],
   "source": [
    "from numba import njit\n",
    "\n",
    "repo_root = \"/Users/miskodzamba/Dropbox/research/gits/spf/\"\n",
    "import sys\n",
    "import numpy as np\n",
    "\n",
    "sys.path.append(repo_root)  # go to parent dir\n",
    "from spf.utils import random_signal_matrix\n",
    "\n",
    "\n",
    "@njit\n",
    "def pi_norm(x):\n",
    "    return ((x + np.pi) % (2 * np.pi)) - np.pi\n",
    "\n",
    "\n",
    "@njit\n",
    "def get_phase_diff(signal_matrix):\n",
    "    return pi_norm(np.angle(signal_matrix[0]) - np.angle(signal_matrix[1]))\n",
    "\n",
    "\n",
    "z = random_signal_matrix(n=200)\n",
    "\n",
    "get_phase_diff(z)"
   ]
  },
  {
   "cell_type": "code",
   "execution_count": null,
   "metadata": {},
   "outputs": [],
   "source": [
    "fake_signal.shape"
   ]
  },
  {
   "cell_type": "code",
   "execution_count": null,
   "metadata": {},
   "outputs": [],
   "source": []
  },
  {
   "cell_type": "code",
   "execution_count": null,
   "metadata": {},
   "outputs": [],
   "source": [
    "z.tree()"
   ]
  },
  {
   "cell_type": "code",
   "execution_count": null,
   "metadata": {},
   "outputs": [],
   "source": [
    "z.receivers.r0.signal_matrix[0].shape"
   ]
  },
  {
   "cell_type": "code",
   "execution_count": null,
   "metadata": {},
   "outputs": [],
   "source": []
  }
 ],
 "metadata": {
  "kernelspec": {
   "display_name": "spf",
   "language": "python",
   "name": "python3"
  },
  "language_info": {
   "codemirror_mode": {
    "name": "ipython",
    "version": 3
   },
   "file_extension": ".py",
   "mimetype": "text/x-python",
   "name": "python",
   "nbconvert_exporter": "python",
   "pygments_lexer": "ipython3",
   "version": "3.11.7"
  }
 },
 "nbformat": 4,
 "nbformat_minor": 2
}
