{
 "cells": [
  {
   "cell_type": "code",
   "execution_count": null,
   "metadata": {},
   "outputs": [],
   "source": [
    "import numpy as np\n",
    "import scipy\n",
    "\n",
    "from filterpy.monte_carlo import systematic_resample\n",
    "\n",
    "from spf.dataset.spf_dataset import v5spfdataset\n",
    "\n",
    "ds_fn = \"/mnt/md1/2d_wallarray_v2_data/june_fix/wallarrayv3_2024_06_10_03_38_21_nRX2_rx_circle.zarr\"\n",
    "ds_fn = \"/mnt/md1/2d_wallarray_v2_data/june_fix/wallarrayv3_2024_06_15_11_44_13_nRX2_bounce.zarr\"\n",
    "ds_fn = \"/mnt/md1/2d_wallarray_v2_data/june_fix/wallarrayv3_2024_06_03_00_30_00_nRX2_rx_circle.zarr\"\n",
    "\n",
    "import pickle\n",
    "import os\n",
    "\n",
    "\n",
    "output_prefix = \"/tmp/\" + os.path.basename(ds_fn) + \"_\"\n",
    "# full_p_fn =\n",
    "# full_p = pickle.load(open(full_p_fn, \"rb\"))[\"full_p\"]\n",
    "\n",
    "nthetas = 65\n",
    "ds = v5spfdataset(\n",
    "    ds_fn,\n",
    "    nthetas=nthetas,\n",
    "    ignore_qc=True,\n",
    "    precompute_cache=\"/mnt/md2/cache/precompute_cache_3p5_chunk1\",  # =\"/home/mouse9911/precompute_cache_chunk16_fresh\",\n",
    "    paired=True,\n",
    "    skip_fields=set([\"signal_matrix\"]),\n",
    "    snapshots_per_session=-1,\n",
    "    empirical_data_fn=\"/home/mouse9911/gits/spf/empirical_dists/full.pkl\",\n",
    "    empirical_individual_radio=False,\n",
    "    empirical_symmetry=True,\n",
    ")\n",
    "\n",
    "# flip the order of the antennas\n",
    "antenna_spacing = -ds.yaml_config[\"receivers\"][0][\"antenna-spacing-m\"]\n",
    "assert antenna_spacing == -ds.yaml_config[\"receivers\"][1][\"antenna-spacing-m\"]\n",
    "\n",
    "wavelength = ds.wavelengths[0]\n",
    "assert wavelength == ds.wavelengths[1]\n",
    "\n",
    "offsets = [\n",
    "    ds.yaml_config[\"receivers\"][0][\"theta-in-pis\"] * np.pi,\n",
    "    ds.yaml_config[\"receivers\"][1][\"theta-in-pis\"] * np.pi,\n",
    "]"
   ]
  },
  {
   "cell_type": "code",
   "execution_count": null,
   "metadata": {},
   "outputs": [],
   "source": [
    "pickle.load(open(full_p_fn, \"rb\"))[\"0.040000\"][\"r\"].keys()"
   ]
  },
  {
   "cell_type": "code",
   "execution_count": null,
   "metadata": {},
   "outputs": [],
   "source": [
    "from spf.model_training_and_inference.models.particle_filter import (\n",
    "    PFSingleThetaSingleRadio,\n",
    ")\n",
    "\n",
    "\n",
    "pf = PFSingleThetaSingleRadio(ds=ds, rx_idx=1, full_p_fn=\"full_p.pkl\")\n",
    "trajectory, all_particles = pf.trajectory(\n",
    "    mean=np.array([[0, 0]]), std=np.array([[2, 0.1]]), return_particles=True\n",
    ")\n",
    "pf.metrics(trajectory=trajectory)"
   ]
  },
  {
   "cell_type": "code",
   "execution_count": null,
   "metadata": {},
   "outputs": [],
   "source": []
  },
  {
   "cell_type": "code",
   "execution_count": null,
   "metadata": {},
   "outputs": [],
   "source": [
    "import matplotlib.pyplot as plt\n",
    "\n",
    "from spf.rf import reduce_theta_to_positive_y\n",
    "\n",
    "x = np.hstack(\n",
    "    [np.repeat(idx, all_particles[idx].shape[0]) for idx in range(len(all_particles))]\n",
    ")\n",
    "y = np.hstack([all_particles[idx][:, 0] for idx in range(len(all_particles))])\n",
    "plt.scatter(x, y, s=0.01, alpha=0.1)\n",
    "\n",
    "plt.plot(\n",
    "    reduce_theta_to_positive_y(ds[0][1][\"ground_truth_theta\"]),\n",
    "    label=f\"r1 reduced gt theta\",\n",
    "    color=\"black\",\n",
    "    linestyle=\"dashed\",\n",
    "    linewidth=1,\n",
    ")"
   ]
  },
  {
   "cell_type": "code",
   "execution_count": null,
   "metadata": {},
   "outputs": [],
   "source": [
    "import matplotlib.pyplot as plt\n",
    "\n",
    "from spf.model_training_and_inference.models.particle_filter import (\n",
    "    plot_single_theta_single_radio,\n",
    ")\n",
    "\n",
    "fig = plot_single_theta_single_radio(ds, full_p_fn)\n",
    "\n",
    "fig.suptitle(\"Single ladies (radios) ParticleFilter\")\n",
    "fig.savefig(f\"{output_prefix}_single_ladies_pf.png\")"
   ]
  },
  {
   "cell_type": "code",
   "execution_count": null,
   "metadata": {},
   "outputs": [],
   "source": [
    "from spf.model_training_and_inference.models.particle_filter import (\n",
    "    PFSingleThetaDualRadio,\n",
    ")\n",
    "from spf.rf import pi_norm\n",
    "\n",
    "pf = PFSingleThetaDualRadio(ds=ds, full_p_fn=\"full_p.pkl\")"
   ]
  },
  {
   "cell_type": "code",
   "execution_count": null,
   "metadata": {},
   "outputs": [],
   "source": []
  },
  {
   "cell_type": "code",
   "execution_count": null,
   "metadata": {},
   "outputs": [],
   "source": [
    "traj_paired, _ = pf.trajectory(\n",
    "    mean=np.array([[0, 0]]), std=np.array([[2, 0.1]]), return_particles=False\n",
    ")\n",
    "\n",
    "pf.metrics(trajectory=traj_paired)"
   ]
  },
  {
   "cell_type": "code",
   "execution_count": null,
   "metadata": {},
   "outputs": [],
   "source": [
    "import numpy as np\n",
    "from spf.model_training_and_inference.models.particle_filter import (\n",
    "    plot_single_theta_dual_radio,\n",
    ")\n",
    "\n",
    "fig = plot_single_theta_dual_radio(ds=ds, full_p_fn=full_p_fn)\n",
    "fig.suptitle(\"When two become one (Sensor fusion) Particle Filter\")\n",
    "fig.savefig(f\"{output_prefix}_paired_pf.png\")"
   ]
  },
  {
   "cell_type": "markdown",
   "metadata": {},
   "source": []
  },
  {
   "cell_type": "code",
   "execution_count": null,
   "metadata": {},
   "outputs": [],
   "source": [
    "from spf.model_training_and_inference.models.particle_filter import PFXYDualRadio\n",
    "\n",
    "\n",
    "pf = PFXYDualRadio(ds=ds, full_p_fn=full_p_fn)\n",
    "traj_paired, _ = pf.trajectory(\n",
    "    N=128 * 16,\n",
    "    mean=np.array([[0, 0, 0, 0, 0]]),\n",
    "    std=np.array([[0, 200, 200, 0.1, 0.1]]),\n",
    "    return_particles=False,\n",
    "    noise_std=np.array([[0, 15, 15, 0.5, 0.5]]),\n",
    ")\n",
    "pf.metrics(trajectory=traj_paired)"
   ]
  },
  {
   "cell_type": "code",
   "execution_count": null,
   "metadata": {},
   "outputs": [],
   "source": [
    "import matplotlib.pyplot as plt\n",
    "import numpy as np\n",
    "from spf.model_training_and_inference.models.particle_filter import plot_xy_dual_radio\n",
    "\n",
    "fig = plot_xy_dual_radio(ds, full_p_fn=full_p_fn)\n",
    "fig.suptitle(\"When two become one (Sensor fusion) Particle Filter\")\n",
    "fig.savefig(f\"{output_prefix}_paired_pf.png\")"
   ]
  },
  {
   "cell_type": "code",
   "execution_count": null,
   "metadata": {},
   "outputs": [],
   "source": []
  },
  {
   "cell_type": "code",
   "execution_count": null,
   "metadata": {},
   "outputs": [],
   "source": []
  },
  {
   "cell_type": "code",
   "execution_count": null,
   "metadata": {},
   "outputs": [],
   "source": []
  },
  {
   "cell_type": "code",
   "execution_count": null,
   "metadata": {},
   "outputs": [],
   "source": []
  }
 ],
 "metadata": {
  "kernelspec": {
   "display_name": "spf",
   "language": "python",
   "name": "python3"
  },
  "language_info": {
   "codemirror_mode": {
    "name": "ipython",
    "version": 3
   },
   "file_extension": ".py",
   "mimetype": "text/x-python",
   "name": "python",
   "nbconvert_exporter": "python",
   "pygments_lexer": "ipython3",
   "version": "3.12.3"
  }
 },
 "nbformat": 4,
 "nbformat_minor": 2
}
