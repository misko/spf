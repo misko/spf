{
 "cells": [
  {
   "cell_type": "code",
   "execution_count": null,
   "metadata": {},
   "outputs": [],
   "source": [
    "import tempfile\n",
    "from spf.dataset.fake_dataset import create_fake_dataset, fake_yaml\n",
    "from spf.dataset.spf_dataset import v5spfdataset\n",
    "\n",
    "n = 1025\n",
    "noise = 1.0\n",
    "nthetas = 65\n",
    "orbits = 4\n",
    "\n",
    "tmpdir = tempfile.TemporaryDirectory()\n",
    "tmpdirname = tmpdir.name\n",
    "ds_fn = f\"{tmpdirname}/sample_dataset_for_ekf_n{n}_noise{noise}\"\n",
    "\n",
    "create_fake_dataset(\n",
    "    filename=ds_fn, yaml_config_str=fake_yaml, n=n, noise=noise, orbits=orbits\n",
    ")"
   ]
  },
  {
   "cell_type": "code",
   "execution_count": null,
   "metadata": {},
   "outputs": [],
   "source": [
    "simulated_circle_dss = [\n",
    "    v5spfdataset(\n",
    "        ds_fn,\n",
    "        nthetas=nthetas,\n",
    "        ignore_qc=True,\n",
    "        precompute_cache=tmpdirname,\n",
    "        paired=True,\n",
    "        skip_fields=set([\"signal_matrix\"]),\n",
    "    )\n",
    "]"
   ]
  },
  {
   "cell_type": "code",
   "execution_count": null,
   "metadata": {},
   "outputs": [],
   "source": [
    "from spf.dataset.spf_dataset import v5spfdataset\n",
    "import glob\n",
    "import torch\n",
    "\n",
    "\n",
    "def load_dss(fns):\n",
    "    return [\n",
    "        v5spfdataset(\n",
    "            fn,\n",
    "            nthetas=65,\n",
    "            ignore_qc=True,\n",
    "            precompute_cache=\"/home/mouse9911/precompute_cache_chunk16_fresh/\",\n",
    "            gpu=True,\n",
    "            n_parallel=20,\n",
    "        )\n",
    "        for fn in fns\n",
    "    ]\n",
    "\n",
    "\n",
    "# real_circle_dss = load_dss(\n",
    "#     glob.glob(\n",
    "#         \"/mnt/md0/spf/2d_wallarray_v2_data/june_fix/wallarrayv3_2024_06_0*circle*.zarr\"\n",
    "#     )\n",
    "# )\n",
    "real_bounce_dss = load_dss(\n",
    "    glob.glob(\n",
    "        # \"/mnt/md0/spf/2d_wallarray_v2_data/june_fix/wallarrayv3_2024_06_0*bounce*.zarr\"\n",
    "        # \"/mnt/md0/spf/2d_wallarray_v2_data/june/wallarrayv3_2024_07_29_22_59_1*\"\n",
    "        \"/mnt/md0/spf/2d_wallarray_v2_data/june/wallarrayv3_2024_07_30_*0p06*.zarr\"\n",
    "        #\n",
    "        #\n",
    "    )\n",
    ")\n",
    "real_circle_dss = real_bounce_dss"
   ]
  },
  {
   "cell_type": "markdown",
   "metadata": {},
   "source": []
  },
  {
   "cell_type": "code",
   "execution_count": null,
   "metadata": {},
   "outputs": [],
   "source": [
    "x = torch.hstack([torch.tensor([]).mean(), torch.tensor(0.1)])\n",
    "x[~x.isfinite()] = 5\n",
    "x"
   ]
  },
  {
   "cell_type": "code",
   "execution_count": null,
   "metadata": {},
   "outputs": [],
   "source": [
    "# hist(h(x),z) # where x is state and z is angle\n",
    "# hist(h(x),z) # wehre x is state and z is beamformer output (peaks, width)\n",
    "\n",
    "\n",
    "# radio 0, then radio 1 separate\n",
    "# simulated, real circle, real bounce"
   ]
  },
  {
   "cell_type": "code",
   "execution_count": null,
   "metadata": {},
   "outputs": [],
   "source": [
    "real_circle_dss[0].segmentation[\"segmentation_by_receiver\"][\"r0\"][159][\n",
    "    \"simple_segmentation\"\n",
    "]"
   ]
  },
  {
   "cell_type": "code",
   "execution_count": null,
   "metadata": {},
   "outputs": [],
   "source": [
    "real_circle_dss[0].mean_phase[\"r0\"][159]"
   ]
  },
  {
   "cell_type": "code",
   "execution_count": null,
   "metadata": {},
   "outputs": [],
   "source": [
    "np.where(np.isfinite(real_circle_dss[0].mean_phase[\"r0\"]) == False)"
   ]
  },
  {
   "cell_type": "code",
   "execution_count": null,
   "metadata": {},
   "outputs": [],
   "source": [
    "import matplotlib.pyplot as plt\n",
    "import numpy as np\n",
    "\n",
    "\n",
    "def plot_hx_z(dss, tag, bins=50):\n",
    "    fig, axs = plt.subplots(1, 6, figsize=(30, 5), sharex=True, sharey=True)\n",
    "    heatmaps = []\n",
    "    for ridx in [0, 1]:\n",
    "        ground_truth_thetas = np.hstack([ds.ground_truth_thetas[ridx] for ds in dss])\n",
    "        mean_phase = np.hstack([ds.mean_phase[f\"r{ridx}\"] for ds in dss])\n",
    "        ground_truth_phis = np.hstack([ds.ground_truth_phis[ridx] for ds in dss])\n",
    "        axs[0 + 3 * ridx].scatter(\n",
    "            ground_truth_thetas, mean_phase, s=1, label=\"z\", alpha=0.3\n",
    "        )\n",
    "        axs[0 + 3 * ridx].scatter(\n",
    "            ground_truth_thetas, ground_truth_phis, s=1, label=\"h(x)\"\n",
    "        )\n",
    "        axs[0 + 3 * ridx].scatter(\n",
    "            ground_truth_thetas,\n",
    "            ground_truth_phis * np.sqrt(np.abs(ground_truth_phis)),\n",
    "            s=1,\n",
    "            label=\"h(x)\",\n",
    "        )\n",
    "        axs[0 + 3 * ridx].set_xlabel(\"x/theta (-pi,+pi)\")\n",
    "        axs[0 + 3 * ridx].set_ylabel(\"z/phi\")\n",
    "        axs[0 + 3 * ridx].legend()\n",
    "\n",
    "        print(np.isfinite(mean_phase).all())\n",
    "        heatmap, xedges, yedges = np.histogram2d(\n",
    "            ground_truth_phis, mean_phase, bins=bins\n",
    "        )\n",
    "        extent = [xedges[0], xedges[-1], yedges[0], yedges[-1]]\n",
    "\n",
    "        # ig.clf()\n",
    "        axs[2 + 3 * ridx].imshow(heatmap.T, extent=extent, origin=\"lower\")\n",
    "        axs[2 + 3 * ridx].set_title(\"h(x)/gt_phi vs z/phi\")\n",
    "\n",
    "        heatmap, xedges, yedges = np.histogram2d(\n",
    "            ground_truth_thetas, mean_phase, bins=bins\n",
    "        )\n",
    "        extent = [xedges[0], xedges[-1], yedges[0], yedges[-1]]\n",
    "        heatmaps.append(heatmap)\n",
    "\n",
    "        # ig.clf()\n",
    "        axs[1 + 3 * ridx].imshow(heatmap.T, extent=extent, origin=\"lower\")\n",
    "        axs[1 + 3 * ridx].set_title(\"x/theta vs z/phi\")\n",
    "\n",
    "        # axs[1 + 2 * ridx].scatter(\n",
    "        #     ground_truth_thetas,\n",
    "        #     ground_truth_phis,\n",
    "        #     s=0.1,\n",
    "        #     label=\"h(x)\",\n",
    "        #     color=\"red\",\n",
    "        #     alpha=0.5,\n",
    "        # )\n",
    "        axs[0 + 3 * ridx].set_title(f\"radio {ridx}\")\n",
    "        # axs[1 + 3 * ridx].set_title(f\"radio {ridx}\")\n",
    "        # plt.show()\n",
    "    fig.suptitle(f\"{tag}: z vs h(x)\")\n",
    "    return heatmaps\n",
    "\n",
    "\n",
    "# plot_hx_z(simulated_circle_dss, \"simulated circle data radio:{ridx}\")\n",
    "plot_hx_z(real_circle_dss, \"real circle data radio:{ridx}\")\n",
    "# heatmaps = plot_hx_z(real_bounce_dss, \"real bounce data radio:{ridx}\")"
   ]
  },
  {
   "cell_type": "code",
   "execution_count": null,
   "metadata": {},
   "outputs": [],
   "source": [
    "heatmaps = plot_hx_z(real_bounce_dss, \"real bounce data radio:{ridx}\")\n",
    "h = heatmaps[0].copy() + heatmaps[1].copy()\n",
    "# h[:,0]=11000 # across thetas\n",
    "# have symmetry\n",
    "half = h[:25] + np.flip(h[25:])\n",
    "full = np.vstack([half, np.flip(half)])\n",
    "full = full / full.sum(axis=1, keepdims=True)"
   ]
  },
  {
   "cell_type": "code",
   "execution_count": null,
   "metadata": {},
   "outputs": [],
   "source": [
    "import pickle\n",
    "\n",
    "pickle.dump({\"full_p\": full}, open(\"full_p.pkl\", \"wb\"))"
   ]
  },
  {
   "cell_type": "code",
   "execution_count": null,
   "metadata": {},
   "outputs": [],
   "source": [
    "plt.imshow(full)"
   ]
  },
  {
   "cell_type": "code",
   "execution_count": null,
   "metadata": {},
   "outputs": [],
   "source": [
    "def ds_beamformer_to_stats(ds, ridx=0):\n",
    "    peaks = []\n",
    "    segmented_peaks = []\n",
    "    thetas = ds.ground_truth_thetas[ridx]\n",
    "    for idx in range(len(ds)):\n",
    "        beamformer = ds[idx][ridx][\"windowed_beamformer\"]\n",
    "        seg_mask = ds[idx][ridx][\"downsampled_segmentation_mask\"].reshape(-1)\n",
    "        segmented_beamformer = ds[idx][ridx][\"windowed_beamformer\"][\n",
    "            seg_mask.numpy().astype(bool), :\n",
    "        ]\n",
    "        peaks.append(np.argmax(beamformer.mean(axis=0, keepdims=True)))\n",
    "        segmented_peaks.append(\n",
    "            np.argmax(segmented_beamformer.mean(axis=0, keepdims=True))\n",
    "        )\n",
    "    return thetas, peaks, segmented_peaks\n",
    "\n",
    "\n",
    "# ds_beamformer_to_stats(simulated_circle_dss[0])"
   ]
  },
  {
   "cell_type": "code",
   "execution_count": null,
   "metadata": {},
   "outputs": [],
   "source": [
    "np.argmax(beamformer.mean(axis=0, keepdims=True))"
   ]
  },
  {
   "cell_type": "code",
   "execution_count": null,
   "metadata": {},
   "outputs": [],
   "source": [
    "plt.imshow(beamformer.mean(axis=0, keepdims=True))"
   ]
  },
  {
   "cell_type": "code",
   "execution_count": null,
   "metadata": {},
   "outputs": [],
   "source": [
    "plt.imshow(segmented_beamformer.mean(axis=0, keepdims=True))"
   ]
  },
  {
   "cell_type": "code",
   "execution_count": null,
   "metadata": {},
   "outputs": [],
   "source": []
  },
  {
   "cell_type": "code",
   "execution_count": null,
   "metadata": {},
   "outputs": [],
   "source": []
  }
 ],
 "metadata": {
  "kernelspec": {
   "display_name": "spf",
   "language": "python",
   "name": "python3"
  },
  "language_info": {
   "codemirror_mode": {
    "name": "ipython",
    "version": 3
   },
   "file_extension": ".py",
   "mimetype": "text/x-python",
   "name": "python",
   "nbconvert_exporter": "python",
   "pygments_lexer": "ipython3",
   "version": "3.12.3"
  }
 },
 "nbformat": 4,
 "nbformat_minor": 2
}
