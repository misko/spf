{
 "cells": [
  {
   "cell_type": "code",
   "execution_count": null,
   "metadata": {},
   "outputs": [],
   "source": [
    "repo_root = \"/Users/miskodzamba/Dropbox/research/gits/spf/\"\n",
    "import sys\n",
    "\n",
    "sys.path.append(repo_root)  # go to parent dir\n",
    "from spf.grbl.grbl_interactive import (\n",
    "    home_bounding_box,\n",
    "    home_pA,\n",
    "    home_pB,\n",
    "    rx_calibration_point,\n",
    "    tx_calibration_point,\n",
    "    circle_center,\n",
    "    max_circle_diameter,\n",
    ")"
   ]
  },
  {
   "cell_type": "code",
   "execution_count": null,
   "metadata": {},
   "outputs": [],
   "source": [
    "import matplotlib.pyplot as plt\n",
    "import numpy as np\n",
    "\n",
    "\n",
    "fig, axs = plt.subplots(1, 1, figsize=(8, 6))\n",
    "points_and_labels = [\n",
    "    (home_pA, \"Motors(A)\"),\n",
    "    (home_pB, \"Motors(B)\"),\n",
    "    (rx_calibration_point, \"RX cal.\"),\n",
    "    (tx_calibration_point, \"TX cal.\"),\n",
    "    (circle_center, \"circle center\"),\n",
    "]\n",
    "for point, label in points_and_labels:\n",
    "    axs.scatter(point[0], point[1], label=label)\n",
    "\n",
    "axs.plot(\n",
    "    *zip(*np.vstack([home_bounding_box, home_bounding_box[0]])), label=\"Boundary\", c=\"r\"\n",
    ")\n",
    "\n",
    "\n",
    "axs.add_patch(plt.Circle(circle_center, max_circle_diameter / 2, fill=False))\n",
    "\n",
    "axs.legend()\n",
    "axs.invert_xaxis()\n",
    "axs.invert_yaxis()"
   ]
  },
  {
   "cell_type": "code",
   "execution_count": null,
   "metadata": {},
   "outputs": [],
   "source": []
  }
 ],
 "metadata": {
  "kernelspec": {
   "display_name": "spf",
   "language": "python",
   "name": "python3"
  },
  "language_info": {
   "codemirror_mode": {
    "name": "ipython",
    "version": 3
   },
   "file_extension": ".py",
   "mimetype": "text/x-python",
   "name": "python",
   "nbconvert_exporter": "python",
   "pygments_lexer": "ipython3",
   "version": "3.11.5"
  }
 },
 "nbformat": 4,
 "nbformat_minor": 2
}
