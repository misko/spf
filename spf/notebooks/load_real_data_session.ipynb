{
 "cells": [
  {
   "cell_type": "code",
   "execution_count": null,
   "id": "71dfe5c6-b68f-49a2-8275-728cdb65c529",
   "metadata": {},
   "outputs": [],
   "source": [
    "repo_root = \"/Users/miskodzamba/Dropbox/research/gits/spf/\"\n",
    "test_data_url = \"https://www.dropbox.com/scl/fi/qqk1277tmblj0z8r7p5xu/sample_data_dec2023.zip?rlkey=ck9zphdhyz6sco0do1gm01etj&dl=0\""
   ]
  },
  {
   "cell_type": "code",
   "execution_count": null,
   "id": "3a95ed23-b380-4cfd-8b47-60fa14290340",
   "metadata": {},
   "outputs": [],
   "source": [
    "!if [ ! -f  {repo_root}/test_data_v1_dl.zip ] ; then wget '{test_data_url}' -O {repo_root}/test_data_v1_dl.zip ; fi \n",
    "!if [ ! -d {repo_root}/test_data/v1 ] ; then mkdir -p {repo_root}/test_data/v1; unzip {repo_root}/test_data_v1_dl.zip -d {repo_root}/test_data/v1 ; fi "
   ]
  },
  {
   "cell_type": "code",
   "execution_count": null,
   "id": "59584a7c-1e24-4e41-9952-23e7298bc583",
   "metadata": {},
   "outputs": [],
   "source": [
    "import sys\n",
    "\n",
    "sys.path.append(repo_root)  # go to parent dir\n",
    "from spf.dataset.spf_dataset import SessionsDatasetRealV1"
   ]
  },
  {
   "cell_type": "code",
   "execution_count": null,
   "id": "18b1c02a-10ce-4b47-ae2f-98625f3bdd59",
   "metadata": {},
   "outputs": [],
   "source": [
    "data_root_dir = \"%s/test_data/v1/\" % repo_root\n",
    "snapshots_in_file = 400000\n",
    "n_thetas = 65\n",
    "snapshots_in_session = 1024\n",
    "width = 3000  # height is assumed to be same\n",
    "step_size = 128"
   ]
  },
  {
   "cell_type": "code",
   "execution_count": null,
   "id": "032c99f4-6b81-4082-a4d6-47af09b8009e",
   "metadata": {},
   "outputs": [],
   "source": [
    "ds = SessionsDatasetRealV1(\n",
    "    root_dir=data_root_dir,\n",
    "    snapshots_in_file=snapshots_in_file,\n",
    "    nthetas=n_thetas,\n",
    "    snapshots_in_session=snapshots_in_session,\n",
    "    nsources=1,\n",
    "    width=width,\n",
    "    step_size=step_size,\n",
    ")"
   ]
  },
  {
   "cell_type": "code",
   "execution_count": null,
   "id": "934efc57",
   "metadata": {},
   "outputs": [],
   "source": []
  },
  {
   "cell_type": "code",
   "execution_count": null,
   "id": "7084912d-c62f-4383-a25b-79a6a99583f5",
   "metadata": {},
   "outputs": [],
   "source": [
    "# pick a session from the dataset\n",
    "session_idx = 1000\n",
    "session = ds[session_idx]"
   ]
  },
  {
   "cell_type": "code",
   "execution_count": null,
   "id": "21858d41-83af-4adb-b5cb-55e33b81c247",
   "metadata": {},
   "outputs": [],
   "source": [
    "import numpy as np\n",
    "import matplotlib.pyplot as plt\n",
    "from spf.rf import get_peaks_for_2rx\n",
    "\n",
    "idx = 490\n",
    "bf_out = session[\"beam_former_outputs_at_t\"][idx]\n",
    "peaks = get_peaks_for_2rx(bf_out)\n",
    "plt.plot(bf_out, color=\"red\", label=\"beamformer\")\n",
    "for peak in peaks:\n",
    "    plt.axvline(x=peak, label=\"Peak\")\n",
    "plt.legend()"
   ]
  },
  {
   "cell_type": "code",
   "execution_count": null,
   "id": "1814ef86-8f35-4624-81d6-9625c3d26806",
   "metadata": {},
   "outputs": [],
   "source": []
  },
  {
   "cell_type": "code",
   "execution_count": null,
   "id": "ab349f95-e442-4b52-b1dc-b18e1748874c",
   "metadata": {},
   "outputs": [],
   "source": [
    "f, axs = plt.subplots(2, 2, figsize=(16, 8))\n",
    "\n",
    "axs[0, 0].invert_yaxis()  # y goes down\n",
    "axs[0, 0].invert_xaxis()  # x goes left\n",
    "axs[0, 0].set_xlabel(\"X position\")\n",
    "axs[0, 0].set_ylabel(\"Y position\")\n",
    "axs[0, 0].plot(\n",
    "    session[\"source_positions_at_t\"][:, 0, 0], session[\"source_positions_at_t\"][:, 0, 1]\n",
    ")\n",
    "axs[0, 0].set_title(\"2D Position (x/y)\")\n",
    "\n",
    "axs[1, 0].plot(session[\"source_positions_at_t\"][:, 0, 0], label=\"X\")\n",
    "axs[1, 0].plot(session[\"source_positions_at_t\"][:, 0, 1], label=\"Y\")\n",
    "axs[1, 0].legend()\n",
    "axs[1, 0].set_title(\"Position (x/y) vs time\")\n",
    "axs[1, 0].set_xlabel(\"Time\")\n",
    "\n",
    "axs[1, 1].plot(session[\"detector_orientation_at_t\"] + session[\"source_theta_at_t\"])\n",
    "axs[1, 1].set_ylabel(\"Theta\")\n",
    "axs[1, 1].set_xlabel(\"Time\")\n",
    "axs[1, 1].set_title(\"Ground truth theta\")\n",
    "\n",
    "# plot the beamformer output\n",
    "peaks_at_t = np.array(\n",
    "    [get_peaks_for_2rx(bf_out) for bf_out in session[\"beam_former_outputs_at_t\"]]\n",
    ")\n",
    "peaks_at_t_in_radians = (\n",
    "    2 * (peaks_at_t / session[\"beam_former_outputs_at_t\"].shape[1] - 0.5) * np.pi\n",
    ")\n",
    "peaks_at_t_in_radians_adjusted = (\n",
    "    peaks_at_t_in_radians + 20 * session[\"detector_orientation_at_t\"]\n",
    ")  # % (np.pi*2)\n",
    "\n",
    "axs[0, 1].plot(peaks_at_t_in_radians_adjusted[:, 0])\n",
    "axs[0, 1].plot(peaks_at_t_in_radians_adjusted[:, 1])\n",
    "axs[0, 1].set_xlabel(\"Time\")\n",
    "axs[0, 1].set_ylabel(\"Theta\")\n",
    "\n",
    "f.tight_layout()"
   ]
  },
  {
   "cell_type": "code",
   "execution_count": null,
   "id": "45e737e2",
   "metadata": {},
   "outputs": [],
   "source": []
  },
  {
   "cell_type": "code",
   "execution_count": null,
   "id": "b2e53138",
   "metadata": {},
   "outputs": [],
   "source": []
  }
 ],
 "metadata": {
  "kernelspec": {
   "display_name": "Python 3 (ipykernel)",
   "language": "python",
   "name": "python3"
  },
  "language_info": {
   "codemirror_mode": {
    "name": "ipython",
    "version": 3
   },
   "file_extension": ".py",
   "mimetype": "text/x-python",
   "name": "python",
   "nbconvert_exporter": "python",
   "pygments_lexer": "ipython3",
   "version": "3.11.7"
  }
 },
 "nbformat": 4,
 "nbformat_minor": 5
}
