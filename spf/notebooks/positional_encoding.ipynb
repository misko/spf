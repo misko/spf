{
 "cells": [
  {
   "cell_type": "code",
   "execution_count": null,
   "metadata": {},
   "outputs": [],
   "source": [
    "import torch"
   ]
  },
  {
   "cell_type": "code",
   "execution_count": null,
   "metadata": {},
   "outputs": [],
   "source": [
    "from spf.dataset.spf_dataset import v5spfdataset\n",
    "\n",
    "\n",
    "ds = v5spfdataset(\n",
    "    # \"/Volumes/SPFData/missions/april5/wallarrayv3_2024_04_05_22_13_07_nRX2_rx_circle\",\n",
    "    # \"/Volumes/SPFData/missions/april5/wallarrayv3_2024_05_10_05_03_21_nRX2_rx_circle_tag_rand10_90_rand30_100\"\n",
    "    # \"/Volumes/SPFData/missions/april5/wallarrayv3_2024_04_10_05_08_55_nRX2_rx_circle\",\n",
    "    # \"/Volumes/SPFData/missions/april5/wallarrayv3_2024_05_06_19_04_15_nRX2_bounce\",\n",
    "    # \"test_circle2.zarr\",\n",
    "    # f\"{repo_root}/test_circle.zarr\",\n",
    "    # \"/Volumes/SPFData/missions/april5/wallarrayv3_2024_05_18_16_29_28_nRX2_rx_circle.zarr\",\n",
    "    # \"/Volumes/SPFData/missions/april5/wallarrayv3_2024_05_29_20_46_46_nRX2_rx_circle.zarr\",\n",
    "    # \"/Volumes/SPFData/missions/april5/wallarrayv3_2024_05_20_11_59_44_nRX2_bounce.zarr\",\n",
    "    # \"/Volumes/SPFData/missions/april5/wallarrayv3_2024_06_01_21_14_46_nRX2_rx_circle\",\n",
    "    # \"/Users/miskodzamba/Dropbox/research/gits/spf/wallarrayv3_2024_06_02_01_53_23_nRX2_bounce\",\n",
    "    # \"/Users/miskodzamba/Dropbox/research/gits/spf/wallarrayv3_2024_06_02_02_24_58_nRX2_bounce\",\n",
    "    # \"/Users/miskodzamba/Dropbox/research/gits/spf/wallarrayv3_2024_06_02_02_28_23_nRX2_bounce\",\n",
    "    # \"/Users/miskodzamba/Dropbox/research/gits/spf/wallarrayv3_2024_06_02_02_34_03_nRX2_bounce\",\n",
    "    # \"/Volumes/SPFData/missions/april5/wallarrayv3_2024_06_02_05_18_27_nRX2_rx_circle\",\n",
    "    # \"/Volumes/SPFData/missions/april5/wallarrayv3_2024_06_02_06_47_47_nRX2_rx_circle\",\n",
    "    # \"/Volumes/SPFData/missions/april5/allarrayv3_2024_06_02_08_17_31_nRX2_bounce\",\n",
    "    # \"/Volumes/SPFData/missions/april5/wallarrayv3_2024_06_04_19_14_43_nRX2_rx_circle\",\n",
    "    # \"/Volumes/SPFData/missions/april5/wallarrayv3_2024_06_04_19_44_10_nRX2_bounce\",\n",
    "    # \"/Volumes/SPFData/missions/april5/wallarrayv3_2024_06_04_21_10_37_nRX2_bounce\",\n",
    "    # \"/Volumes/SPFData/missions/april5/wallarrayv3_2024_06_05_02_41_50_nRX2_rx_circle\",\n",
    "    # \"/Volumes/SPFData2/missions/april5/wallarrayv3_2024_06_07_23_43_19_nRX2_bounce\",\n",
    "    # \"/mnt/md0/spf/2d_wallarray_v2_data/june/wallarrayv3_2024_06_10_14_00_06_nRX2_rx_circle\",\n",
    "    # \"/mnt/md0/spf/2d_wallarray_v2_data/june/wallarrayv3_2024_06_03_01_40_27_nRX2_bounce.zarr\",\n",
    "    # \"/mnt/md0/spf/2d_wallarray_v2_data/june/wallarrayv3_2024_06_03_00_30_00_nRX2_rx_circle.zarr\",\n",
    "    \"/mnt/md0/spf/2d_wallarray_v2_data/june/wallarrayv3_2024_06_03_01_17_43_nRX2_rx_circle.zarr\",\n",
    "    nthetas=129,\n",
    "    ignore_qc=True,\n",
    ")"
   ]
  },
  {
   "cell_type": "code",
   "execution_count": null,
   "metadata": {},
   "outputs": [],
   "source": []
  },
  {
   "cell_type": "code",
   "execution_count": null,
   "metadata": {},
   "outputs": [],
   "source": [
    "from spf.dataset.spf_dataset import v5_thetas_to_targets\n",
    "\n",
    "\n",
    "positional_encodings = v5_thetas_to_targets(\n",
    "    torch.tensor(ds.ground_truth_thetas.reshape(-1)), nthetas=129\n",
    ")"
   ]
  },
  {
   "cell_type": "code",
   "execution_count": null,
   "metadata": {},
   "outputs": [],
   "source": [
    "import matplotlib.pyplot as plt"
   ]
  },
  {
   "cell_type": "code",
   "execution_count": null,
   "metadata": {},
   "outputs": [],
   "source": [
    "plt.imshow(positional_encodings[:1000])"
   ]
  },
  {
   "cell_type": "code",
   "execution_count": null,
   "metadata": {},
   "outputs": [],
   "source": []
  }
 ],
 "metadata": {
  "kernelspec": {
   "display_name": "spf",
   "language": "python",
   "name": "python3"
  },
  "language_info": {
   "codemirror_mode": {
    "name": "ipython",
    "version": 3
   },
   "file_extension": ".py",
   "mimetype": "text/x-python",
   "name": "python",
   "nbconvert_exporter": "python",
   "pygments_lexer": "ipython3",
   "version": "3.12.3"
  }
 },
 "nbformat": 4,
 "nbformat_minor": 2
}
