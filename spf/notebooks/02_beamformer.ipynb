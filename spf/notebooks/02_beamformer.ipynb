{
 "cells": [
  {
   "cell_type": "markdown",
   "metadata": {
    "colab_type": "text",
    "id": "view-in-github"
   },
   "source": [
    "<a href=\"https://colab.research.google.com/github/misko/spf/blob/main/02_beamformer.ipynb\" target=\"_parent\"><img src=\"https://colab.research.google.com/assets/colab-badge.svg\" alt=\"Open In Colab\"/></a>"
   ]
  },
  {
   "cell_type": "code",
   "execution_count": null,
   "metadata": {
    "colab": {
     "base_uri": "https://localhost:8080/",
     "height": 1000
    },
    "id": "7fKisDDUpxr2",
    "outputId": "ac3dbbeb-12f2-4aaf-b082-99742e13942a"
   },
   "outputs": [],
   "source": [
    "from collections import namedtuple\n",
    "from spf.rf import beamformer, Detector, speed_of_light, IQSource\n",
    "import matplotlib.pyplot as plt\n",
    "import numpy as np\n",
    "\n",
    "\"\"\"\n",
    "\n",
    "Given some guess of the source of direction we can shift the carrier frequency\n",
    "phase of received samples at the N different receivers. If the guess of the\n",
    "source direction is correct, the signal from the N different receivers should\n",
    "interfer constructively after phase shift.\n",
    "\n",
    "\"\"\"\n",
    "\n",
    "\n",
    "def plot_space(ax, d):\n",
    "    receiver_pos = np.vstack([pos for pos in d.receiver_positions])\n",
    "    _max = receiver_pos.max()\n",
    "    _min = receiver_pos.min()\n",
    "    buffer = max(3, int((_max - _min) * 0.1))\n",
    "    _max += buffer\n",
    "    _min -= buffer\n",
    "\n",
    "    center_mass = receiver_pos.mean(axis=0)\n",
    "\n",
    "    source_vectors = [\n",
    "        (source.pos - center_mass) / np.linalg.norm(source.pos - center_mass)\n",
    "        for source in d.sources\n",
    "    ]\n",
    "\n",
    "    ax.set_xlim([_min, _max])\n",
    "    ax.set_ylim([_min, _max])\n",
    "\n",
    "    ax.scatter(receiver_pos[:, 0], receiver_pos[:, 1], label=\"Receivers\")\n",
    "    for source_vector in source_vectors:\n",
    "        ax.quiver(\n",
    "            center_mass[0],\n",
    "            center_mass[1],\n",
    "            source_vector[0][0],\n",
    "            source_vector[0][1],\n",
    "            scale=5,\n",
    "            alpha=0.5,\n",
    "            color=\"red\",\n",
    "            label=\"Source\",\n",
    "        )\n",
    "    ax.legend()\n",
    "\n",
    "\n",
    "Receiver = namedtuple(\"Receiver\", [\"pos\"])\n",
    "\n",
    "n = 15\n",
    "fig, axs = plt.subplots(n, 4, figsize=(4 * 4, 4 * n))\n",
    "\n",
    "for theta_idx, theta in enumerate(np.linspace(-np.pi / 2, np.pi / 2, n)):\n",
    "    d = Detector(1e6)  # 1Mhz sampling\n",
    "    sin_source_frequency = 12e3  # 10khz signal\n",
    "    wavelength = speed_of_light / sin_source_frequency\n",
    "\n",
    "    # Add a signal source very far away so that its farfield\n",
    "    # and that assumptions hold. For nearby sources this will\n",
    "    # not be true\n",
    "    d.add_source(\n",
    "        IQSource(\n",
    "            [\n",
    "                [\n",
    "                    wavelength * 100000 * np.sin(theta),\n",
    "                    wavelength * 100000 * np.cos(theta),\n",
    "                ]\n",
    "            ],\n",
    "            sin_source_frequency,\n",
    "            0,\n",
    "        )\n",
    "    )\n",
    "\n",
    "    # the X,Y coordinates of our recievers\n",
    "    d.add_receiver(Receiver([wavelength / 4, 0]))\n",
    "    d.add_receiver(Receiver([-wavelength / 4, 0]))\n",
    "\n",
    "    # get a simulated signal matrix. The math here is different\n",
    "    # then that of what will happen on the SDR but the result I\n",
    "    # think is similar\n",
    "    # also the signal source is very far away so increase the\n",
    "    # magnitude (gain?)\n",
    "    signal_matrix = d.get_signal_matrix(0, 200 / 1e6) * 1e18\n",
    "\n",
    "    n_receivers = d.n_receivers()\n",
    "\n",
    "    # The beamformer will create 65 uniformily spaced directions\n",
    "    # (approx 5deg apart) around the center of the receiver array.\n",
    "    # For each direction it will compute the expected phase offset\n",
    "    # between antenna 1 and antenna 2\n",
    "    # It will then apply a correction to fix this offset and compute\n",
    "    # the sum of the corrected vectors, and return their magnitude\n",
    "\n",
    "    # For example, imagine that the distance between recievers is\n",
    "    # half a wavelength\n",
    "\n",
    "    # If a signal source is directly to the right of the array\n",
    "    # then antenna 0 (right) will be exactly pi phase ahead\n",
    "    # of antenna 1. If we take their sum it will be 0\n",
    "    # cos(x) + cos(x+pi) = 0\n",
    "\n",
    "    # If a signal source is directly to infront of the array\n",
    "    # then antenna 0 (right) will be exactly 0 phase ahead\n",
    "    # of antenna 1. If we take their sum it will be 0\n",
    "    # cos(x) + cos(x) = 2cos(x)\n",
    "\n",
    "    # given the direction of the source, we can compute the phase\n",
    "    # offset , apply it, take the sum , and return the resulting\n",
    "    # power of signal in that direction\n",
    "\n",
    "    # This is what the beamformer does\n",
    "\n",
    "    beam_thetas, beam_sds, _ = beamformer(\n",
    "        d.all_receiver_pos(), signal_matrix, sin_source_frequency, spacing=64 + 1\n",
    "    )\n",
    "\n",
    "    for idx in range(signal_matrix.shape[0]):\n",
    "        axs[theta_idx][idx].plot(\n",
    "            signal_matrix[idx].real + signal_matrix[idx].imag, label=\"baseband\"\n",
    "        )\n",
    "        axs[theta_idx][idx].plot(signal_matrix[idx].real, label=\"real I\")\n",
    "        axs[theta_idx][idx].plot(signal_matrix[idx].imag, label=\"imag Q\")\n",
    "        axs[theta_idx][idx].legend()\n",
    "        axs[theta_idx][idx].set_title(\"Receiver %d\" % idx)\n",
    "        axs[theta_idx][idx].set_xlabel(\"Sample\")\n",
    "\n",
    "    beam_degrees = 360 * beam_thetas / (np.pi * 2)\n",
    "    axs[theta_idx][n_receivers].plot(beam_degrees, beam_sds, alpha=0.1)\n",
    "    axs[theta_idx][n_receivers].scatter(beam_degrees, beam_sds, s=0.5)\n",
    "    axs[theta_idx][n_receivers].axvline(\n",
    "        x=360 * theta / (2 * np.pi), label=\"Truth\", color=\"red\"\n",
    "    )\n",
    "    axs[theta_idx][n_receivers].set_title(\"Response\")\n",
    "    axs[theta_idx][n_receivers].set_xlabel(\"Theta\")\n",
    "    axs[theta_idx][n_receivers].legend()\n",
    "\n",
    "    plot_space(axs[theta_idx][n_receivers + 1], d)\n",
    "\n",
    "\n",
    "fig.tight_layout()"
   ]
  },
  {
   "cell_type": "code",
   "execution_count": null,
   "metadata": {},
   "outputs": [],
   "source": [
    "beam_thetas"
   ]
  },
  {
   "cell_type": "code",
   "execution_count": null,
   "metadata": {
    "id": "wBlS0_03ieKo"
   },
   "outputs": [],
   "source": [
    "d.all_receiver_pos()"
   ]
  },
  {
   "cell_type": "code",
   "execution_count": null,
   "metadata": {},
   "outputs": [],
   "source": [
    "d.all_receiver_pos()"
   ]
  },
  {
   "cell_type": "code",
   "execution_count": null,
   "metadata": {},
   "outputs": [],
   "source": [
    "d.source_positions"
   ]
  },
  {
   "cell_type": "code",
   "execution_count": null,
   "metadata": {},
   "outputs": [],
   "source": [
    "wavelength"
   ]
  },
  {
   "cell_type": "code",
   "execution_count": null,
   "metadata": {},
   "outputs": [],
   "source": []
  }
 ],
 "metadata": {
  "colab": {
   "authorship_tag": "ABX9TyMh0kg/pN/ZXgX255dI0R5x",
   "include_colab_link": true,
   "provenance": []
  },
  "kernelspec": {
   "display_name": "Python 3 (ipykernel)",
   "language": "python",
   "name": "python3"
  },
  "language_info": {
   "codemirror_mode": {
    "name": "ipython",
    "version": 3
   },
   "file_extension": ".py",
   "mimetype": "text/x-python",
   "name": "python",
   "nbconvert_exporter": "python",
   "pygments_lexer": "ipython3",
   "version": "3.12.3"
  }
 },
 "nbformat": 4,
 "nbformat_minor": 4
}
