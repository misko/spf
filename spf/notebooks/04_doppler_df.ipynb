{
  "cells": [
    {
      "cell_type": "markdown",
      "metadata": {
        "colab_type": "text",
        "id": "view-in-github"
      },
      "source": [
        "<a href=\"https://colab.research.google.com/github/misko/spf/blob/main/04_doppler_df.ipynb\" target=\"_parent\"><img src=\"https://colab.research.google.com/assets/colab-badge.svg\" alt=\"Open In Colab\"/></a>"
      ]
    },
    {
      "cell_type": "code",
      "execution_count": null,
      "metadata": {
        "id": "n_xzcIYmruul"
      },
      "outputs": [],
      "source": [
        "import matplotlib.pyplot as plt\n",
        "import numpy as np\n",
        "\n",
        "\"\"\"\n",
        "\n",
        "Given some guess of the source of direction we can shift the carrier frequency\n",
        "phase of received samples at the N different receivers. If the guess of the\n",
        "source direction is correct, the signal from the N different receivers should\n",
        "interfer constructively.\n",
        "\n",
        "\"\"\"\n",
        "\n",
        "c = 3e8  # speed of light\n",
        "\n",
        "\n",
        "class Source(object):\n",
        "    def __init__(self, pos):\n",
        "        self.pos = np.array(pos)\n",
        "\n",
        "    def signal(self, sampling_times):\n",
        "        return (\n",
        "            np.cos(2 * np.pi * sampling_times) + np.sin(2 * np.pi * sampling_times) * 1j\n",
        "        )\n",
        "\n",
        "\n",
        "class SinSource(Source):\n",
        "    def __init__(self, pos, frequency, phase):\n",
        "        super().__init__(pos)\n",
        "        self.frequency = frequency\n",
        "        self.phase = phase\n",
        "\n",
        "    def signal(self, sampling_times):\n",
        "        return (\n",
        "            np.cos(2 * np.pi * sampling_times * self.frequency + self.phase)\n",
        "            + np.sin(2 * np.pi * sampling_times * self.frequency + self.phase) * 1j\n",
        "        )\n",
        "\n",
        "\n",
        "class NoiseWrapper(Source):\n",
        "    def __init__(self, internal_source, sigma=1):\n",
        "        super().__init__(internal_source.pos)\n",
        "        self.internal_source = internal_source\n",
        "        self.sigma = sigma\n",
        "\n",
        "    def signal(self, sampling_times):\n",
        "        return self.internal_source.signal(sampling_times) + (\n",
        "            np.random.randn(sampling_times.shape[0], 2) * self.sigma\n",
        "        ).view(np.cdouble).reshape(-1)\n",
        "\n",
        "\n",
        "class Receiver:\n",
        "    def __init__(self, pos):\n",
        "        self.pos = np.array(pos)\n",
        "\n",
        "\n",
        "class Detector(object):\n",
        "    def __init__(self, sampling_frequency):\n",
        "        self.sources = []\n",
        "        self.receivers = []\n",
        "        self.sampling_frequency = sampling_frequency\n",
        "\n",
        "    def add_source(self, source):\n",
        "        self.sources.append(source)\n",
        "\n",
        "    def rm_sources(self):\n",
        "        self.sources = []\n",
        "\n",
        "    def add_receiver(self, receiver):\n",
        "        self.receivers.append(receiver)\n",
        "\n",
        "    def get_signal_matrix(self, start_time, duration):\n",
        "        n_samples = int(duration * self.sampling_frequency)\n",
        "        base_times = (\n",
        "            start_time\n",
        "            + np.linspace(0, n_samples - 1, n_samples) / self.sampling_frequency\n",
        "        )\n",
        "        sample_matrix = np.zeros(\n",
        "            (len(self.receivers), n_samples), dtype=np.cdouble\n",
        "        )  # receivers x samples\n",
        "        for receiver_index, receiver in enumerate(self.receivers):\n",
        "            for _source in self.sources:\n",
        "                time_delay = np.linalg.norm(receiver.pos - _source.pos) / c\n",
        "                sample_matrix[receiver_index, :] += _source.signal(\n",
        "                    base_times - time_delay\n",
        "                )\n",
        "        return sample_matrix"
      ]
    },
    {
      "cell_type": "code",
      "execution_count": null,
      "metadata": {
        "id": "wEBi8lwAWxDl"
      },
      "outputs": [],
      "source": [
        "def beamformer(detector, signal_matrix, carrier_frequency):\n",
        "    thetas = np.linspace(0, np.pi, 90)\n",
        "    steer_dot_signal = np.zeros(thetas.shape[0])\n",
        "    carrier_wavelength = c / carrier_frequency\n",
        "    for theta_index, theta in enumerate(thetas):\n",
        "        source_vector = np.array([np.cos(theta), np.sin(theta)])\n",
        "        steering_vector = np.zeros(len(detector.receivers)).astype(np.cdouble)\n",
        "        projections = []\n",
        "        for receiver_index, receiver in enumerate(detector.receivers):\n",
        "            projection_of_receiver_onto_source_direction = np.dot(\n",
        "                source_vector, receiver.pos\n",
        "            )\n",
        "            projections.append(\n",
        "                projection_of_receiver_onto_source_direction / carrier_wavelength\n",
        "            )\n",
        "            arg = (\n",
        "                2\n",
        "                * np.pi\n",
        "                * projection_of_receiver_onto_source_direction\n",
        "                / carrier_wavelength\n",
        "            )\n",
        "            steering_vector[receiver_index] = np.cos(-arg) + np.sin(-arg) * 1j\n",
        "        steer_dot_signal[theta_index] = np.absolute(\n",
        "            np.matmul(steering_vector, signal_matrix)\n",
        "        ).mean()\n",
        "    return thetas, steer_dot_signal"
      ]
    },
    {
      "cell_type": "code",
      "execution_count": null,
      "metadata": {
        "id": "_i9e401PRnL_"
      },
      "outputs": [],
      "source": [
        "def plot_space(ax, d, wavelength=1):\n",
        "    # fig,ax=plt.subplots(1,1,figsize=(4,4))\n",
        "    receiver_pos = np.vstack([receiver.pos / wavelength for receiver in d.receivers])\n",
        "    _max = receiver_pos.max()\n",
        "    _min = receiver_pos.min()\n",
        "    buffer = (_max - _min) * 0.1\n",
        "    _max += buffer\n",
        "    _min -= buffer\n",
        "\n",
        "    center_mass = receiver_pos.mean(axis=0)\n",
        "\n",
        "    source_vectors = [\n",
        "        (source.pos / wavelength - center_mass)\n",
        "        / np.linalg.norm(source.pos / wavelength - center_mass)\n",
        "        for source in d.sources\n",
        "    ]\n",
        "\n",
        "    ax.set_xlim([_min, _max])\n",
        "    ax.set_ylim([_min, _max])\n",
        "\n",
        "    ax.scatter(receiver_pos[:, 0], receiver_pos[:, 1], label=\"Receivers\")\n",
        "    for source_vector in source_vectors:\n",
        "        ax.quiver(\n",
        "            center_mass[0],\n",
        "            center_mass[1],\n",
        "            -source_vector[0],\n",
        "            -source_vector[1],\n",
        "            scale=5,\n",
        "            alpha=0.5,\n",
        "            color=\"red\",\n",
        "            label=\"Source\",\n",
        "        )\n",
        "    ax.legend()\n",
        "    ax.set_xlabel(\"x (wavelengths)\")\n",
        "    ax.set_ylabel(\"y (wavelengths)\")\n",
        "    ax.set_title(\"Space diagram\")"
      ]
    },
    {
      "cell_type": "code",
      "execution_count": null,
      "metadata": {
        "colab": {
          "base_uri": "https://localhost:8080/",
          "height": 573
        },
        "id": "DBThv_1vdNdp",
        "outputId": "41b35f4b-9069-47b9-d502-4fb1a8f5cfe0"
      },
      "outputs": [],
      "source": [
        "class ULADetector(Detector):\n",
        "    def __init__(self, sampling_frequency, n_elements, spacing):\n",
        "        super().__init__(sampling_frequency)\n",
        "        for idx in np.arange(n_elements):\n",
        "            self.add_receiver(Receiver([spacing * (idx - (n_elements - 1) / 2), 0]))\n",
        "\n",
        "\n",
        "ula_d = ULADetector(300, 10, 1)\n",
        "fig, ax = plt.subplots(1, 1)\n",
        "plot_space(ax, ula_d)\n",
        "\n",
        "\n",
        "class UCADetector(Detector):\n",
        "    def __init__(self, sampling_frequency, n_elements, radius):\n",
        "        super().__init__(sampling_frequency)\n",
        "        for theta in (\n",
        "            np.linspace(0, 2 * np.pi, n_elements + 1)[:-1] + np.pi / 2\n",
        "        ):  # orientate along y axis\n",
        "            self.add_receiver(\n",
        "                Receiver([radius * np.cos(theta), radius * np.sin(theta)])\n",
        "            )\n",
        "\n",
        "\n",
        "uca_d = UCADetector(300, 10, 1)\n",
        "fig, ax = plt.subplots(1, 1)\n",
        "plot_space(ax, uca_d)"
      ]
    },
    {
      "cell_type": "code",
      "execution_count": null,
      "metadata": {
        "id": "1fooM5UM3edk"
      },
      "outputs": [],
      "source": [
        "sin_source_frequency = 12e3  # 10khz signal\n",
        "wavelength = c / sin_source_frequency\n",
        "d = UCADetector(1e6, 8, wavelength / 2)  # 1Mhz sampling\n",
        "\n",
        "# analyze_beamformer(d,sin_source_frequency,n_intervals=15, n_repeats=5, sigma=1,plot_raw_signal=True)\n",
        "\n",
        "theta = np.pi / 6\n",
        "d.add_source(\n",
        "    NoiseWrapper(\n",
        "        SinSource(\n",
        "            [wavelength * 100000 * np.cos(theta), wavelength * 100000 * np.sin(theta)],\n",
        "            sin_source_frequency,\n",
        "            0,\n",
        "        ),\n",
        "        sigma=0.0,\n",
        "    )\n",
        ")\n",
        "\n",
        "signal_matrix = d.get_signal_matrix(0, 2000 / 1e6)"
      ]
    },
    {
      "cell_type": "code",
      "execution_count": null,
      "metadata": {
        "colab": {
          "base_uri": "https://localhost:8080/",
          "height": 283
        },
        "id": "07PnLh0q6scp",
        "outputId": "9d8a1190-8e4b-4b59-c2bf-09199e625c48"
      },
      "outputs": [],
      "source": [
        "plt.plot(signal_matrix[0].real + signal_matrix[0].imag)"
      ]
    },
    {
      "cell_type": "code",
      "execution_count": null,
      "metadata": {
        "colab": {
          "base_uri": "https://localhost:8080/",
          "height": 283
        },
        "id": "yIlc7tG63egi",
        "outputId": "629c4c3c-3593-4786-a9e1-fc8d96691250"
      },
      "outputs": [],
      "source": [
        "def doppler_sample_matrix(signal_matrix, samples_per_period):\n",
        "    doppler_matrix = np.zeros(signal_matrix.shape[1]).astype(np.cdouble)\n",
        "    idx = 0\n",
        "    while idx * samples_per_period < signal_matrix.shape[1]:\n",
        "        sidx = idx * samples_per_period\n",
        "        eidx = min(sidx + samples_per_period, signal_matrix.shape[1])\n",
        "        doppler_matrix[sidx:eidx] = signal_matrix[\n",
        "            idx % signal_matrix.shape[0], sidx:eidx\n",
        "        ]\n",
        "        idx += 1\n",
        "    return doppler_matrix\n",
        "\n",
        "\n",
        "dpm = doppler_sample_matrix(signal_matrix, 100)\n",
        "\n",
        "plt.plot(dpm.real + dpm.imag)"
      ]
    },
    {
      "cell_type": "code",
      "execution_count": null,
      "metadata": {
        "colab": {
          "base_uri": "https://localhost:8080/",
          "height": 283
        },
        "id": "vSNmZ8t87c2m",
        "outputId": "91d188bc-1a55-4dc2-a382-a77a62877674"
      },
      "outputs": [],
      "source": [
        "x = 0.5 * np.angle(dpm[0:-1] * np.conj(dpm[1:]))\n",
        "plt.plot(x)"
      ]
    },
    {
      "cell_type": "code",
      "execution_count": null,
      "metadata": {
        "id": "cCZ0VJMyhKis"
      },
      "outputs": [],
      "source": []
    }
  ],
  "metadata": {
    "colab": {
      "authorship_tag": "ABX9TyNXXN+PVfxWVS9ht5ozNi07",
      "include_colab_link": true,
      "provenance": []
    },
    "kernelspec": {
      "display_name": "Python 3",
      "name": "python3"
    },
    "language_info": {
      "name": "python"
    }
  },
  "nbformat": 4,
  "nbformat_minor": 0
}
