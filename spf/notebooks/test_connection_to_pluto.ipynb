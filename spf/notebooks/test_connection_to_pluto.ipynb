{
 "cells": [
  {
   "cell_type": "code",
   "execution_count": null,
   "id": "2b9268f5-c31f-40e7-ac3c-83e46cd11a03",
   "metadata": {},
   "outputs": [],
   "source": [
    "!pip install pylibiio pyadi-iio"
   ]
  },
  {
   "cell_type": "code",
   "execution_count": null,
   "id": "b6a088c0-42f9-498d-915b-c139549ecf1d",
   "metadata": {},
   "outputs": [],
   "source": [
    "import adi\n",
    "import numpy as np\n",
    "\n",
    "fi = int(1e5)\n",
    "fc = int(2.5e9)\n",
    "fs = int(16e6)\n",
    "rx_mode = \"fast_attack\"\n",
    "rx_n = int(2**9)\n",
    "\n",
    "pluto_ip = \"192.168.1.17\"\n",
    "sdr_rxtx = adi.ad9361(uri=\"ip:%s\" % pluto_ip)\n",
    "\n",
    "rx_gain = 0\n",
    "rx_lo = fc\n",
    "\n",
    "tx_lo = fc"
   ]
  },
  {
   "cell_type": "code",
   "execution_count": null,
   "id": "1e41fbd7-97ed-4987-bbae-0a5666e2c2eb",
   "metadata": {},
   "outputs": [],
   "source": [
    "sdr_rxtx.tx_hardwaregain_chan0 = -80"
   ]
  },
  {
   "cell_type": "code",
   "execution_count": null,
   "id": "6d54fad5-4514-46f1-9764-ef66514642c2",
   "metadata": {},
   "outputs": [],
   "source": [
    "sdr_rxtx.rx_enabled_channels = [0, 1]\n",
    "sdr_rxtx.sample_rate = fs\n",
    "sdr_rxtx.rx_rf_bandwidth = int(3 * fi)\n",
    "\n",
    "sdr_rxtx.rx_lo = int(rx_lo)\n",
    "sdr_rxtx.rx_hardwaregain_chan0 = int(rx_gain)\n",
    "sdr_rxtx.rx_hardwaregain_chan1 = int(rx_gain)\n",
    "sdr_rxtx.gain_control_mode = rx_mode\n",
    "sdr_rxtx.rx_buffer_size = int(rx_n)\n",
    "sdr_rxtx._rxadc.set_kernel_buffers_count(2)"
   ]
  },
  {
   "cell_type": "code",
   "execution_count": null,
   "id": "f1752d82-a798-4a5a-a8f7-d117be755314",
   "metadata": {},
   "outputs": [],
   "source": [
    "from math import gcd\n",
    "\n",
    "sdr_rxtx.tx_rf_bandwidth = int(3 * fi)\n",
    "sdr_rxtx.tx_lo = int(tx_lo)\n",
    "sdr_rxtx.tx_enabled_channels = [0]\n",
    "sdr_rxtx.tx_hardwaregain_chan0 = int(-50)  # tx_gain) #tx_gain)\n",
    "sdr_rxtx.tx_hardwaregain_chan1 = int(-80)\n",
    "tx_n = int(fs / gcd(fs, fi))\n",
    "while tx_n < 1024 * 16:\n",
    "    tx_n *= 2\n",
    "# since its a cyclic buffer its important to end on a full phase\n",
    "t = (\n",
    "    np.arange(0, tx_n) / fs\n",
    ")  # time at each point assuming we are sending samples at (1/fs)s\n",
    "iq0 = np.exp(1j * 2 * np.pi * fi * t) * (2**14)\n",
    "# try to reset the tx\n",
    "sdr_rxtx.tx_destroy_buffer()\n",
    "sdr_rxtx.tx_cyclic_buffer = True  # this keeps repeating!"
   ]
  },
  {
   "cell_type": "code",
   "execution_count": null,
   "id": "cd1f1b7e-3c34-4191-ad09-c33b09aa1e90",
   "metadata": {},
   "outputs": [],
   "source": [
    "sdr_rxtx.rx()"
   ]
  },
  {
   "cell_type": "code",
   "execution_count": null,
   "id": "2845e6b2-1e10-4480-9c00-2b71323e1965",
   "metadata": {},
   "outputs": [],
   "source": [
    "sdr_rxtx = None"
   ]
  },
  {
   "cell_type": "code",
   "execution_count": null,
   "id": "57ff6080-c146-4dfd-857b-5cb0ad071095",
   "metadata": {},
   "outputs": [],
   "source": []
  }
 ],
 "metadata": {
  "kernelspec": {
   "display_name": "Python 3 (ipykernel)",
   "language": "python",
   "name": "python3"
  },
  "language_info": {
   "codemirror_mode": {
    "name": "ipython",
    "version": 3
   },
   "file_extension": ".py",
   "mimetype": "text/x-python",
   "name": "python",
   "nbconvert_exporter": "python",
   "pygments_lexer": "ipython3",
   "version": "3.11.5"
  }
 },
 "nbformat": 4,
 "nbformat_minor": 5
}
