{
 "cells": [
  {
   "cell_type": "code",
   "execution_count": null,
   "metadata": {},
   "outputs": [],
   "source": [
    "import numpy as np\n",
    "import scipy\n",
    "\n",
    "from filterpy.monte_carlo import systematic_resample\n",
    "\n",
    "from spf.dataset.spf_dataset import v5spfdataset\n",
    "\n",
    "ds_fn = \"/home/mouse9911/gits/spf/spf/temp/wallarrayv3_2024_07_18_02_00_47_nRX2_bounce_spacing0p05075.zarr\"\n",
    "# ds_fn = \"/mnt/md0/spf/2d_wallarray_v2_data/june/wallarrayv3_2024_06_13_06_55_30_nRX2_bounce.zarr\"\n",
    "# ds_fn = \"/mnt/md0/spf/2d_wallarray_v2_data/june/wallarrayv3_2024_06_09_01_55_54_nRX2_rx_circle.zarr\"\n",
    "\n",
    "import pickle\n",
    "import os\n",
    "\n",
    "\n",
    "# output_prefix = \"./\" + os.path.basename(ds_fn) + \"_\"\n",
    "# full_p_fn = \"full_p.pkl\"\n",
    "# full_p = pickle.load(open(full_p_fn, \"rb\"))[\"full_p\"]\n",
    "\n",
    "nthetas = 65\n",
    "ds = v5spfdataset(\n",
    "    ds_fn,\n",
    "    nthetas=nthetas,\n",
    "    ignore_qc=True,\n",
    "    precompute_cache=\"/home/mouse9911/precompute_cache_chunk16_fresh\",\n",
    "    paired=True,\n",
    "    skip_signal_matrix=True,\n",
    "    snapshots_per_session=1,\n",
    "    temp_file=True,\n",
    "    temp_file_suffix=\".tmp\",\n",
    ")\n",
    "\n",
    "# flip the order of the antennas\n",
    "antenna_spacing = -ds.yaml_config[\"receivers\"][0][\"antenna-spacing-m\"]\n",
    "assert antenna_spacing == -ds.yaml_config[\"receivers\"][1][\"antenna-spacing-m\"]\n",
    "\n",
    "wavelength = ds.wavelengths[0]\n",
    "assert wavelength == ds.wavelengths[1]\n",
    "\n",
    "offsets = [\n",
    "    ds.yaml_config[\"receivers\"][0][\"theta-in-pis\"] * np.pi,\n",
    "    ds.yaml_config[\"receivers\"][1][\"theta-in-pis\"] * np.pi,\n",
    "]"
   ]
  },
  {
   "cell_type": "code",
   "execution_count": null,
   "metadata": {},
   "outputs": [],
   "source": [
    "n = ds[0]"
   ]
  },
  {
   "cell_type": "code",
   "execution_count": null,
   "metadata": {},
   "outputs": [],
   "source": [
    "og = ds[200]"
   ]
  },
  {
   "cell_type": "code",
   "execution_count": null,
   "metadata": {},
   "outputs": [],
   "source": [
    "og is None"
   ]
  },
  {
   "cell_type": "code",
   "execution_count": null,
   "metadata": {},
   "outputs": [],
   "source": [
    "ds.refresh()\n",
    "ds.valid_entries"
   ]
  },
  {
   "cell_type": "code",
   "execution_count": null,
   "metadata": {},
   "outputs": [],
   "source": [
    "og"
   ]
  },
  {
   "cell_type": "code",
   "execution_count": null,
   "metadata": {},
   "outputs": [],
   "source": [
    "og = ds.render_session(receiver_idx=1, session_idx=0)\n",
    "og[\"downsampled_segmentation_mask\"].shape, og[\"all_windows_stats\"].shape, og[\n",
    "    \"windowed_beamformer\"\n",
    "].shape"
   ]
  },
  {
   "cell_type": "code",
   "execution_count": null,
   "metadata": {},
   "outputs": [],
   "source": []
  },
  {
   "cell_type": "code",
   "execution_count": null,
   "metadata": {},
   "outputs": [],
   "source": [
    "og = ds.render_session(receiver_idx=1, session_idx=0)\n",
    "og[\"downsampled_segmentation_mask\"].shape, og[\"all_windows_stats\"].shape, og[\n",
    "    \"windowed_beamformer\"\n",
    "].shape"
   ]
  },
  {
   "cell_type": "code",
   "execution_count": null,
   "metadata": {},
   "outputs": [],
   "source": [
    "from spf.dataset.spf_dataset import segment_single_session\n",
    "\n",
    "r_idx = 1\n",
    "n = segment_single_session(\n",
    "    zarr_fn=ds.zarr_fn,\n",
    "    steering_vectors_for_receiver=ds.steering_vectors[r_idx],\n",
    "    session_idx=0,\n",
    "    receiver_idx=f\"r{r_idx}\",\n",
    "    # gpu=True,\n",
    ")"
   ]
  },
  {
   "cell_type": "code",
   "execution_count": null,
   "metadata": {},
   "outputs": [],
   "source": []
  },
  {
   "cell_type": "code",
   "execution_count": null,
   "metadata": {},
   "outputs": [],
   "source": [
    "n[\"downsampled_segmentation_mask\"].shape, n[\"all_windows_stats\"].shape, n[\n",
    "    \"windowed_beamformer\"\n",
    "].shape"
   ]
  },
  {
   "cell_type": "code",
   "execution_count": null,
   "metadata": {},
   "outputs": [],
   "source": [
    "k = \"windowed_beamformer\"\n",
    "n[k] == og[k].reshape(n[k].shape)"
   ]
  },
  {
   "cell_type": "code",
   "execution_count": null,
   "metadata": {},
   "outputs": [],
   "source": [
    "torch.isclose(torch.tensor(n[k][:3]), og[k][0, 0, :3]).all()"
   ]
  },
  {
   "cell_type": "code",
   "execution_count": null,
   "metadata": {},
   "outputs": [],
   "source": [
    "(\n",
    "    torch.tensor(n[\"downsampled_segmentation_mask\"])\n",
    "    == og[\"downsampled_segmentation_mask\"][0, 0]\n",
    ").all()"
   ]
  },
  {
   "cell_type": "code",
   "execution_count": null,
   "metadata": {},
   "outputs": [],
   "source": []
  },
  {
   "cell_type": "code",
   "execution_count": null,
   "metadata": {},
   "outputs": [],
   "source": [
    "len(ds.z[\"receivers\"])"
   ]
  },
  {
   "cell_type": "code",
   "execution_count": null,
   "metadata": {},
   "outputs": [],
   "source": [
    "ds.refresh()"
   ]
  },
  {
   "cell_type": "code",
   "execution_count": null,
   "metadata": {},
   "outputs": [],
   "source": [
    "ds.valid_entries"
   ]
  },
  {
   "cell_type": "code",
   "execution_count": null,
   "metadata": {},
   "outputs": [],
   "source": [
    "from spf.utils import zarr_open_from_lmdb_store\n",
    "\n",
    "\n",
    "z = zarr_open_from_lmdb_store(ds_fn + \".tmp\", readahead=False)"
   ]
  },
  {
   "cell_type": "code",
   "execution_count": null,
   "metadata": {},
   "outputs": [],
   "source": [
    "((z[\"receivers\"][\"r0\"][\"system_timestamp\"][:] > 0) * 1.0).sum()"
   ]
  },
  {
   "cell_type": "code",
   "execution_count": null,
   "metadata": {},
   "outputs": [],
   "source": [
    "# get next data\n",
    "# segment one"
   ]
  },
  {
   "cell_type": "code",
   "execution_count": null,
   "metadata": {},
   "outputs": [],
   "source": [
    "ds_fn = \"/mnt/4tb_ssd/june_fix/wallarrayv3_2024_06_03_00_30_00_nRX2_rx_circle.zarr\"\n",
    "\n",
    "import pickle\n",
    "import os\n",
    "\n",
    "\n",
    "# output_prefix = \"./\" + os.path.basename(ds_fn) + \"_\"\n",
    "# full_p_fn = \"full_p.pkl\"\n",
    "# full_p = pickle.load(open(full_p_fn, \"rb\"))[\"full_p\"]\n",
    "\n",
    "nthetas = 65\n",
    "ds = v5spfdataset(\n",
    "    ds_fn,\n",
    "    nthetas=nthetas,\n",
    "    ignore_qc=True,\n",
    "    precompute_cache=\"/home/mouse9911/precompute_cache_chunk16_fresh\",\n",
    "    paired=True,\n",
    "    skip_signal_matrix=True,\n",
    "    snapshots_per_session=-1,\n",
    "    temp_file=True,\n",
    ")"
   ]
  },
  {
   "cell_type": "code",
   "execution_count": null,
   "metadata": {},
   "outputs": [],
   "source": [
    "from spf.utils import zarr_open_from_lmdb_store\n",
    "\n",
    "y = zarr_open_from_lmdb_store(\n",
    "    \"/home/mouse9911/precompute_cache_chunk16_fresh/wallarrayv3_2024_06_09_01_55_54_nRX2_rx_circle_segmentation_nthetas65.yarr\",\n",
    "    mode=\"r\",\n",
    ")"
   ]
  },
  {
   "cell_type": "code",
   "execution_count": null,
   "metadata": {},
   "outputs": [],
   "source": [
    "y[\"r0\"][\"all_windows_stats\"].shape"
   ]
  },
  {
   "cell_type": "code",
   "execution_count": null,
   "metadata": {},
   "outputs": [],
   "source": []
  }
 ],
 "metadata": {
  "kernelspec": {
   "display_name": "spf",
   "language": "python",
   "name": "python3"
  },
  "language_info": {
   "codemirror_mode": {
    "name": "ipython",
    "version": 3
   },
   "file_extension": ".py",
   "mimetype": "text/x-python",
   "name": "python",
   "nbconvert_exporter": "python",
   "pygments_lexer": "ipython3",
   "version": "3.12.3"
  }
 },
 "nbformat": 4,
 "nbformat_minor": 2
}
