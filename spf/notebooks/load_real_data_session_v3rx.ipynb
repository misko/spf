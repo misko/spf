{
 "cells": [
  {
   "cell_type": "code",
   "execution_count": null,
   "id": "59584a7c-1e24-4e41-9952-23e7298bc583",
   "metadata": {},
   "outputs": [],
   "source": [
    "repo_root = \"/Users/miskodzamba/Dropbox/research/gits/spf/\"\n",
    "import sys\n",
    "\n",
    "sys.path.append(repo_root)  # go to parent dir\n",
    "from spf.dataset.spf_dataset import SessionsDatasetReal"
   ]
  },
  {
   "cell_type": "code",
   "execution_count": null,
   "id": "032c99f4-6b81-4082-a4d6-47af09b8009e",
   "metadata": {},
   "outputs": [],
   "source": [
    "from spf.dataset.spf_dataset import SessionsDatasetRealV3Rx, pi_norm\n",
    "\n",
    "\n",
    "data_root_dir = \"/Users/miskodzamba/Dropbox/research/spf_aux/rover_data/march9\"\n",
    "data_root_dir = \"/Users/miskodzamba/Dropbox/research/spf_aux/debug_data/march9/1\"\n",
    "data_root_dir = \"/Users/miskodzamba/Dropbox/research/spf_aux/missions/march13/roof/rover1_recording_straight_line\"\n",
    "data_root_dir = (\n",
    "    \"/Users/miskodzamba/Dropbox/research/spf_aux/missions/march13/rover3/second_try\"\n",
    ")\n",
    "data_root_dir = (\n",
    "    \"/Users/miskodzamba/Dropbox/research/spf_aux/missions/march13/rover1/second_try\"\n",
    ")\n",
    "# data_root_dir = \"/Users/miskodzamba/Dropbox/research/spf_aux/missions/march14/rover3\"\n",
    "# data_root_dir = \"/Users/miskodzamba/Dropbox/research/spf_aux/missions/march13/roof/laptop_recording\"\n",
    "\n",
    "# march 17\n",
    "data_root_dir = \"/Users/miskodzamba/Dropbox/research/spf_aux/missions/march17/rover3\"\n",
    "# data_root_dir = \"/Users/miskodzamba/Dropbox/research/spf_aux/missions/march17/rover2/1\"\n",
    "\n",
    "width = 3000  # height is assumed to be same\n",
    "step_size = 1\n",
    "\n",
    "ds = SessionsDatasetRealV3Rx(\n",
    "    root_dir=data_root_dir,\n",
    "    snapshots_in_session=4000,  # 2**15\n",
    "    nsources=1,\n",
    "    step_size=step_size,\n",
    "    check_files=False,\n",
    ")\n",
    "\n",
    "# pick a session from the dataset\n",
    "session_idx = 0  # 2**14\n",
    "session1 = ds[(0, session_idx)]\n",
    "# session2 = session1\n",
    "session2 = ds[(1, session_idx)]\n",
    "print(ds.root_dir)"
   ]
  },
  {
   "cell_type": "code",
   "execution_count": null,
   "id": "c3554a8c",
   "metadata": {},
   "outputs": [],
   "source": [
    "import numpy as np\n",
    "from matplotlib import pyplot as plt\n",
    "import datetime\n",
    "\n",
    "z = datetime.datetime.fromtimestamp(session2[\"time_stamps\"][0])  #\n",
    "# .strftime(\n",
    "#     \"%Y-%m-%d %H:%M:%S\"\n",
    "# )\n",
    "z.minute, z"
   ]
  },
  {
   "cell_type": "code",
   "execution_count": null,
   "id": "91afc2e7",
   "metadata": {},
   "outputs": [],
   "source": [
    "z = datetime.datetime.fromtimestamp(session2[\"time_stamps\"][0])  #\n",
    "z"
   ]
  },
  {
   "cell_type": "code",
   "execution_count": null,
   "id": "a14e7c90",
   "metadata": {},
   "outputs": [],
   "source": [
    "z = datetime.datetime.fromtimestamp(session2[\"time_stamps\"][0])  #\n",
    "z"
   ]
  },
  {
   "cell_type": "code",
   "execution_count": null,
   "id": "696def35",
   "metadata": {},
   "outputs": [],
   "source": [
    "z = datetime.datetime.fromtimestamp(datetime.datetime.now().timestamp())\n",
    "z.strftime(\"%Y_%m_%d_%H_%M_%S\")"
   ]
  },
  {
   "cell_type": "code",
   "execution_count": null,
   "id": "91dbf93c",
   "metadata": {},
   "outputs": [],
   "source": [
    "z = datetime.datetime.fromtimestamp(datetime.datetime.now().timestamp())\n",
    "z.strftime(\"%Y_%m_%d_%H_%M_%S\")"
   ]
  },
  {
   "cell_type": "code",
   "execution_count": null,
   "id": "0cb71400",
   "metadata": {},
   "outputs": [],
   "source": [
    "# from spf.wall_array_v2 import v3_column_names\n",
    "\n",
    "# rows = 600000\n",
    "# col_names = v3_column_names()\n",
    "# cols = len(col_names)\n",
    "# fn = data_root_dir + \"/rover_2024_03_09_07_45_16_nRX2_circle.npy\"\n",
    "# m = np.memmap(fn, dtype=\"float32\", mode=\"r\", shape=(rows, cols))"
   ]
  },
  {
   "cell_type": "code",
   "execution_count": null,
   "id": "d5c1c7a0",
   "metadata": {},
   "outputs": [],
   "source": [
    "import numpy\n",
    "\n",
    "\n",
    "def smooth(x, window_len=11, window=\"hanning\"):\n",
    "    \"\"\"smooth the data using a window with requested size.\n",
    "\n",
    "    This method is based on the convolution of a scaled window with the signal.\n",
    "    The signal is prepared by introducing reflected copies of the signal\n",
    "    (with the window size) in both ends so that transient parts are minimized\n",
    "    in the begining and end part of the output signal.\n",
    "\n",
    "    input:\n",
    "        x: the input signal\n",
    "        window_len: the dimension of the smoothing window; should be an odd integer\n",
    "        window: the type of window from 'flat', 'hanning', 'hamming', 'bartlett', 'blackman'\n",
    "            flat window will produce a moving average smoothing.\n",
    "\n",
    "    output:\n",
    "        the smoothed signal\n",
    "\n",
    "    example:\n",
    "\n",
    "    t=linspace(-2,2,0.1)\n",
    "    x=sin(t)+randn(len(t))*0.1\n",
    "    y=smooth(x)\n",
    "\n",
    "    see also:\n",
    "\n",
    "    numpy.hanning, numpy.hamming, numpy.bartlett, numpy.blackman, numpy.convolve\n",
    "    scipy.signal.lfilter\n",
    "\n",
    "    TODO: the window parameter could be the window itself if an array instead of a string\n",
    "    NOTE: length(output) != length(input), to correct this: return y[(window_len/2-1):-(window_len/2)] instead of just y.\n",
    "    \"\"\"\n",
    "    if x.ndim != 1:\n",
    "        raise ValueError  # , \"smooth only accepts 1 dimension arrays.\"\n",
    "    if x.size < window_len:\n",
    "        raise ValueError  # , \"Input vector needs to be bigger than window size.\"\n",
    "    if window_len < 3:\n",
    "        return x\n",
    "    if not window in [\"flat\", \"hanning\", \"hamming\", \"bartlett\", \"blackman\"]:\n",
    "        raise ValueError  # , \"Window is on of 'flat', 'hanning', 'hamming', 'bartlett', 'blackman'\"\n",
    "    s = numpy.r_[x[window_len - 1 : 0 : -1], x, x[-2 : -window_len - 1 : -1]]\n",
    "    # print(len(s))\n",
    "    if window == \"flat\":  # moving average\n",
    "        w = numpy.ones(window_len, \"d\")\n",
    "    else:\n",
    "        w = eval(\"numpy.\" + window + \"(window_len)\")\n",
    "    y = numpy.convolve(w / w.sum(), s, mode=\"valid\")\n",
    "    return y"
   ]
  },
  {
   "cell_type": "code",
   "execution_count": null,
   "id": "36d83f08",
   "metadata": {},
   "outputs": [],
   "source": [
    "session[\"beam_former_outputs_at_t\"][:, 0].shape\n",
    "range(session[\"beam_former_outputs_at_t\"].shape[1])"
   ]
  },
  {
   "cell_type": "code",
   "execution_count": null,
   "id": "e2111569",
   "metadata": {},
   "outputs": [],
   "source": [
    "smoothed = np.vstack(\n",
    "    [\n",
    "        smooth(session[\"beam_former_outputs_at_t\"][:, x], window_len=128)\n",
    "        for x in range(session[\"beam_former_outputs_at_t\"].shape[1])\n",
    "    ]\n",
    ").T\n",
    "peaks_at_t = np.array([get_peaks_for_2rx(bf_out)[:2] for bf_out in smoothed])\n",
    "plt.plot(peaks_at_t[:, 0])"
   ]
  },
  {
   "cell_type": "code",
   "execution_count": null,
   "id": "08e1be08",
   "metadata": {},
   "outputs": [],
   "source": [
    "from spf.rf import get_peaks_for_2rx\n",
    "\n",
    "session = session2\n",
    "window = \"flat\"\n",
    "window_len = 128\n",
    "\n",
    "\n",
    "peaks_at_t = np.array(\n",
    "    [get_peaks_for_2rx(bf_out)[:2] for bf_out in session[\"beam_former_outputs_at_t\"]]\n",
    ")\n",
    "peaks_at_t_in_radians = (\n",
    "    # beam former outputs are an array with -pi,...,+pi\n",
    "    2\n",
    "    * (peaks_at_t / session[\"beam_former_outputs_at_t\"].shape[1] - 0.5)\n",
    "    * np.pi\n",
    ")\n",
    "plt.plot(smooth(peaks_at_t_in_radians[:, 0], window_len=window_len, window=window))\n",
    "plt.plot(smooth(peaks_at_t_in_radians[:, 1], window_len=window_len, window=window))"
   ]
  },
  {
   "cell_type": "code",
   "execution_count": null,
   "id": "ed28a492",
   "metadata": {},
   "outputs": [],
   "source": [
    "session1[\"gain\"].mean()"
   ]
  },
  {
   "cell_type": "code",
   "execution_count": null,
   "id": "f11c66f1",
   "metadata": {},
   "outputs": [],
   "source": [
    "import numpy as np\n",
    "import matplotlib.pyplot as plt\n",
    "from spf.rf import get_peaks_for_2rx\n",
    "\n",
    "# print(\"IDX\", idx, len(session))\n",
    "idx = 0  # session[\"beam_former_outputs_at_t\"].shape[0] // 3\n",
    "bf_out = session1[\"beam_former_outputs_at_t\"][idx + 1]\n",
    "peaks = get_peaks_for_2rx(bf_out)\n",
    "plt.plot(bf_out, color=\"red\", label=\"beamformer\")\n",
    "for peak in peaks:\n",
    "    plt.axvline(x=peak, label=\"Peak\")\n",
    "\n",
    "plt.legend()\n",
    "peaks"
   ]
  },
  {
   "cell_type": "code",
   "execution_count": null,
   "id": "de5b3716",
   "metadata": {},
   "outputs": [],
   "source": [
    "session1.keys()"
   ]
  },
  {
   "cell_type": "code",
   "execution_count": null,
   "id": "ab349f95-e442-4b52-b1dc-b18e1748874c",
   "metadata": {},
   "outputs": [],
   "source": [
    "import matplotlib.pyplot as plt\n",
    "import numpy as np\n",
    "\n",
    "sessions = [session1, session2]\n",
    "print(\"TODO SESSIONS ARE IDENTICAL!!!\")\n",
    "f, axs = plt.subplots(3, 1 + len(sessions), figsize=(8 * (1 + len(sessions)), 4 * 3))\n",
    "\n",
    "axs[0, 0].invert_yaxis()  # y goes down\n",
    "axs[0, 0].invert_xaxis()  # x goes left\n",
    "axs[0, 0].set_xlabel(\"X position\")\n",
    "axs[0, 0].set_ylabel(\"Y position\")\n",
    "# axs[0, 0].scatter(\n",
    "#    session1[\"source_positions_at_t\"][:, 0, 0],\n",
    "#    session1[\"source_positions_at_t\"][:, 0, 1],\n",
    "#    label=\"TX0\",\n",
    "# )\n",
    "axs[0, 0].scatter(\n",
    "    session1[\"detector_position_at_t\"][:, 0],\n",
    "    session1[\"detector_position_at_t\"][:, 1],\n",
    "    label=\"RX0\",\n",
    ")\n",
    "axs[0, 0].set_title(\"2D Position (x/y)\")\n",
    "axs[0, 0].legend()\n",
    "\n",
    "# axs[1, 0].plot(session1[\"source_positions_at_t\"][:, 0, 0], label=\"source X\")\n",
    "# axs[1, 0].plot(session1[\"source_positions_at_t\"][:, 0, 1], label=\"source Y\")\n",
    "axs[1, 0].plot(session1[\"detector_position_at_t\"][:, 0], label=\"receiver X\")\n",
    "axs[1, 0].plot(session1[\"detector_position_at_t\"][:, 1], label=\"receiver Y\")\n",
    "axs[1, 0].legend()\n",
    "axs[1, 0].set_title(\"Position (x/y) vs time\")\n",
    "axs[1, 0].set_xlabel(\"Time\")\n",
    "\n",
    "# TODO THERE IS A BUG HERE? SHOULDNT THE ANGLES BE WIDER?\n",
    "for session_idx in range(len(sessions)):\n",
    "    session = sessions[session_idx]\n",
    "    # axs[1, 1 + session_idx].plot(pi_norm(session[\"source_theta_at_t\"]))\n",
    "    axs[1, 1 + session_idx].set_ylabel(\"Theta\")\n",
    "    axs[1, 1 + session_idx].set_xlabel(\"Time\")\n",
    "    axs[1, 1 + session_idx].set_title(\"Ground truth theta\")\n",
    "    axs[1, 1 + session_idx].set_ylim([-np.pi, +np.pi])\n",
    "\n",
    "    # plot the beamformer output\n",
    "    peaks_at_t = np.array(\n",
    "        [\n",
    "            get_peaks_for_2rx(bf_out)[:2]\n",
    "            for bf_out in session[\"beam_former_outputs_at_t\"]\n",
    "        ]\n",
    "    )\n",
    "    peaks_at_t_in_radians = (\n",
    "        # beam former outputs are an array with -pi,...,+pi\n",
    "        2\n",
    "        * (peaks_at_t / session[\"beam_former_outputs_at_t\"].shape[1] - 0.5)\n",
    "        * np.pi\n",
    "    )\n",
    "    # peaks_at_t_in_radians_adjusted = pi_norm(  # spf dataset already adjusts for us\n",
    "    #    peaks_at_t_in_radians  # + session[\"detector_orientation_at_t\"]\n",
    "    # )\n",
    "    axs[0, 1 + session_idx].set_title(f\"SDR:{session_idx} phaseRX0-phaseRX1\")\n",
    "    axs[0, 1 + session_idx].scatter(\n",
    "        np.arange(peaks_at_t_in_radians.shape[0]),\n",
    "        peaks_at_t_in_radians[:, 0],\n",
    "        alpha=0.1,\n",
    "    )\n",
    "    axs[0, 1 + session_idx].scatter(\n",
    "        np.arange(peaks_at_t_in_radians.shape[0]),\n",
    "        peaks_at_t_in_radians[:, 1],\n",
    "        alpha=0.1,\n",
    "    )\n",
    "    axs[0, 1 + session_idx].set_ylim([-np.pi, +np.pi])\n",
    "    axs[0, 1 + session_idx].set_xlabel(\"Time\")\n",
    "    axs[0, 1 + session_idx].set_ylabel(\"Theta\")\n",
    "\n",
    "    def norm(x):\n",
    "        return (x - x.mean()) / x.std()\n",
    "\n",
    "    axs[2, 1 + session_idx].plot(\n",
    "        norm(session[\"avg_phase_diffs\"][:, 0]), label=\"avg phase diff\"\n",
    "    )\n",
    "    axs[2, 1 + session_idx].plot(norm(session[\"rssi\"]), label=\"rssi\")\n",
    "    axs[2, 1 + session_idx].plot(norm(session[\"other_gain\"]), label=\"other_gain\")\n",
    "    axs[2, 1 + session_idx].plot(norm(session[\"gain\"]), label=\"gain\")\n",
    "    axs[2, 1 + session_idx].legend()\n",
    "    axs[2, 1].set_title(\"Z-normed rssi and gain\")\n",
    "\n",
    "f.tight_layout()"
   ]
  },
  {
   "cell_type": "code",
   "execution_count": null,
   "id": "1b49dfa9",
   "metadata": {},
   "outputs": [],
   "source": [
    "import numpy as np\n",
    "\n",
    "\n",
    "def a_to_b_in_stepsize(a, b, step_size):\n",
    "    if np.isclose(a, b).all():\n",
    "        return [b]\n",
    "    # move by step_size from where we are now to the target position\n",
    "    points = []\n",
    "    direction = (b - a) / np.linalg.norm(b - a)\n",
    "    distance = np.linalg.norm(b - a)\n",
    "    _l = step_size\n",
    "    while _l < distance:\n",
    "        points.append(_l * direction + a)\n",
    "        _l += step_size\n",
    "    points.append(b)\n",
    "    return points\n",
    "\n",
    "\n",
    "def a_to_b_in_stepsize_np(a, b, step_size):\n",
    "    if np.isclose(a, b).all():\n",
    "        return [b]\n",
    "    # move by step_size from where we are now to the target position\n",
    "    distance = np.linalg.norm(b - a)\n",
    "    steps = np.arange(1, np.ceil(distance / step_size) + 1) * step_size\n",
    "\n",
    "    direction = (b - a) / np.linalg.norm(b - a)\n",
    "    points = a.reshape(1, 2) + direction.reshape(1, 2) * steps.reshape(len(steps), 1)\n",
    "    points[-1] = b\n",
    "    return points\n",
    "\n",
    "\n",
    "import time\n",
    "\n",
    "st = time.time()\n",
    "for _ in range(100):\n",
    "    a_to_b_in_stepsize(np.array([10, 10]), np.array([20, 20]), 0.01)\n",
    "print(time.time() - st)"
   ]
  },
  {
   "cell_type": "code",
   "execution_count": null,
   "id": "02b93003",
   "metadata": {},
   "outputs": [],
   "source": [
    "import time\n",
    "\n",
    "st = time.time()\n",
    "for _ in range(100):\n",
    "    a_to_b_in_stepsize_np(np.array([10, 10]), np.array([20, 20]), 0.01)\n",
    "print(time.time() - st)"
   ]
  },
  {
   "cell_type": "code",
   "execution_count": null,
   "id": "45e737e2",
   "metadata": {},
   "outputs": [],
   "source": [
    "len(a_to_b_in_stepsize(np.array([10, 10]), np.array([20, 20]), 0.01))"
   ]
  },
  {
   "cell_type": "code",
   "execution_count": null,
   "id": "20e8ddf4",
   "metadata": {},
   "outputs": [],
   "source": [
    "len(a_to_b_in_stepsize_np(np.array([10, 10]), np.array([20, 20]), 0.01))"
   ]
  },
  {
   "cell_type": "code",
   "execution_count": null,
   "id": "b2e53138",
   "metadata": {},
   "outputs": [],
   "source": [
    "    [300, 400],\n",
    "    [3100, 400],\n",
    "    [3100, 3200],\n",
    "    [2000, 3000],\n",
    "    # [300,1500],\n",
    "    [800, 1500],\n",
    "    [300, 500]"
   ]
  },
  {
   "cell_type": "code",
   "execution_count": null,
   "id": "f6d46fc0",
   "metadata": {},
   "outputs": [],
   "source": [
    "import glob\n",
    "import os\n",
    "\n",
    "import numpy as np\n",
    "\n",
    "repo_root = \"/Users/miskodzamba/Dropbox/research/gits/spf/\"\n",
    "import sys\n",
    "\n",
    "sys.path.append(repo_root)  # go to parent dir\n",
    "from spf.dataset.spf_dataset import SessionsDatasetReal\n",
    "\n",
    "from spf.dataset.spf_dataset import SessionsDatasetRealV2\n",
    "\n",
    "directory = \"/Users/miskodzamba/Dropbox/research/gits/spf/spf/v2_data/v2.1\"\n",
    "\n",
    "list_of_files = glob.glob(f\"{directory}/*.npy\")\n",
    "latest_file = max(list_of_files, key=os.path.getctime)\n",
    "print(latest_file)\n",
    "\n",
    "root_dir = directory\n",
    "ds = SessionsDatasetRealV2(\n",
    "    root_dir=root_dir,\n",
    "    snapshots_in_session=-1,\n",
    "    check_files=False,\n",
    "    step_size=1,\n",
    "    filenames=[latest_file],\n",
    ")\n",
    "\n",
    "bfo = ds[0][\"beam_former_outputs_at_t\"].copy()\n",
    "bfo[-10:] = 0  # REMOVE THIS IS TESTING!!\n",
    "print(\"TESTING\")\n",
    "if (bfo == 0).min(axis=1).max():\n",
    "    first_invalid_idx = np.argmax((bfo == 0).min(axis=1))\n",
    "    assert first_invalid_idx != 0\n",
    "    last_valid_idx = first_invalid_idx - 1\n",
    "\n",
    "    # get receivers\n",
    "    rx0 = ds[0][\"receiver_positions_at_t\"][last_valid_idx].mean(axis=0)\n",
    "    rx1 = ds[1][\"receiver_positions_at_t\"][last_valid_idx].mean(axis=0)\n",
    "    assert np.isclose(rx0, rx1).all()\n",
    "\n",
    "    # get the emitter\n",
    "    tx0 = ds[1][\"source_positions_at_t\"][-1, 0]\n",
    "\n",
    "    print(last_valid_idx, rx0, rx1, tx0)"
   ]
  },
  {
   "cell_type": "code",
   "execution_count": null,
   "id": "5809f30e",
   "metadata": {},
   "outputs": [],
   "source": [
    "ds.get_yaml_config()[\"emitter\"][\"motor_channel\"]"
   ]
  },
  {
   "cell_type": "code",
   "execution_count": null,
   "id": "82795b1d",
   "metadata": {},
   "outputs": [],
   "source": [
    "ds[1][\"source_positions_at_t\"][-1, 0]"
   ]
  },
  {
   "cell_type": "code",
   "execution_count": null,
   "id": "bdaa14d3",
   "metadata": {},
   "outputs": [],
   "source": [
    "m = ds.get_m(ds.filenames[0])"
   ]
  },
  {
   "cell_type": "code",
   "execution_count": null,
   "id": "ced64b28",
   "metadata": {},
   "outputs": [],
   "source": [
    "ds[1][\"receiver_positions_at_t\"][0].mean(axis=0)"
   ]
  },
  {
   "cell_type": "code",
   "execution_count": null,
   "id": "70aca6db",
   "metadata": {},
   "outputs": [],
   "source": [
    "m[0, 0 : 0 + ds.snapshots_in_session * ds.step_size : ds.step_size].shape"
   ]
  },
  {
   "cell_type": "code",
   "execution_count": null,
   "id": "436c94cf",
   "metadata": {},
   "outputs": [],
   "source": [
    "z = np.random.rand(10, 2)"
   ]
  },
  {
   "cell_type": "code",
   "execution_count": null,
   "id": "2eba685c",
   "metadata": {},
   "outputs": [],
   "source": [
    "z[7:] = 0"
   ]
  },
  {
   "cell_type": "code",
   "execution_count": null,
   "id": "daa15315",
   "metadata": {},
   "outputs": [],
   "source": []
  },
  {
   "cell_type": "code",
   "execution_count": null,
   "id": "259b5d6f",
   "metadata": {},
   "outputs": [],
   "source": []
  },
  {
   "cell_type": "code",
   "execution_count": null,
   "id": "f1a68559",
   "metadata": {},
   "outputs": [],
   "source": []
  }
 ],
 "metadata": {
  "kernelspec": {
   "display_name": "Python 3 (ipykernel)",
   "language": "python",
   "name": "python3"
  },
  "language_info": {
   "codemirror_mode": {
    "name": "ipython",
    "version": 3
   },
   "file_extension": ".py",
   "mimetype": "text/x-python",
   "name": "python",
   "nbconvert_exporter": "python",
   "pygments_lexer": "ipython3",
   "version": "3.11.7"
  }
 },
 "nbformat": 4,
 "nbformat_minor": 5
}
