{
 "cells": [
  {
   "cell_type": "code",
   "execution_count": null,
   "metadata": {},
   "outputs": [],
   "source": [
    "repo_root = \"/Users/miskodzamba/Dropbox/research/gits/spf/\"\n",
    "import sys\n",
    "\n",
    "sys.path.append(repo_root)  # go to parent dir\n",
    "\n",
    "from spf.rf import ULADetector\n",
    "import numpy as np\n",
    "\n",
    "\n",
    "\"\"\"\n",
    "Ceiling / Roof\n",
    "\n",
    "     x+ <-------- O\n",
    "                  |\n",
    "                  |\n",
    "                  |\n",
    "                  |\n",
    "                  V y+\n",
    "\n",
    "R(18,0)   R(17,0)\n",
    "   \\       /\n",
    "    \\     /\n",
    "     \\   /\n",
    "       X\n",
    "     /   \\ \n",
    "    /     \\ \n",
    "   /       \\ \n",
    "R(17,1)   R(18,1)\n",
    "\n",
    "Bearing 0 is straight towards floor\n",
    "\n",
    "     o\n",
    "     |\n",
    "     |\n",
    "     |\n",
    "     V\n",
    "\n",
    "Bearing 0+ is   \n",
    "\n",
    "     o\n",
    "   / |\n",
    " /   |\n",
    "<    |\n",
    "     V\n",
    "\n",
    "\n",
    "\n",
    "Floor\n",
    "\"\"\"\n",
    "\n",
    "pos = ULADetector(\n",
    "    sampling_frequency=None,\n",
    "    n_elements=2,\n",
    "    spacing=0.05075 * 1000,\n",
    "    orientation=1.25 * np.pi,\n",
    ").all_receiver_pos()\n",
    "pos[1]"
   ]
  },
  {
   "cell_type": "code",
   "execution_count": null,
   "metadata": {},
   "outputs": [],
   "source": []
  }
 ],
 "metadata": {
  "kernelspec": {
   "display_name": "spf",
   "language": "python",
   "name": "python3"
  },
  "language_info": {
   "codemirror_mode": {
    "name": "ipython",
    "version": 3
   },
   "file_extension": ".py",
   "mimetype": "text/x-python",
   "name": "python",
   "nbconvert_exporter": "python",
   "pygments_lexer": "ipython3",
   "version": "3.11.7"
  }
 },
 "nbformat": 4,
 "nbformat_minor": 2
}
