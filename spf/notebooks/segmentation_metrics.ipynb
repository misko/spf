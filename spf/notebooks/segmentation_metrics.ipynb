{
 "cells": [
  {
   "cell_type": "code",
   "execution_count": null,
   "metadata": {},
   "outputs": [],
   "source": []
  },
  {
   "cell_type": "code",
   "execution_count": null,
   "metadata": {},
   "outputs": [],
   "source": [
    "import logging\n",
    "import torch\n",
    "\n",
    "from spf.rf import torch_pi_norm\n",
    "from spf.dataset.spf_dataset import v5spfdataset, v5spfdataset_manager\n",
    "import glob\n",
    "\n",
    "from tqdm import tqdm\n",
    "\n",
    "from multiprocessing import Pool\n",
    "\n",
    "\n",
    "def ds_to_metrics(args):\n",
    "    try:\n",
    "        with v5spfdataset_manager(\n",
    "            args[\"ds_fn\"],\n",
    "            nthetas=65,\n",
    "            ignore_qc=True,\n",
    "            precompute_cache=args[\"precompute_cache\"],\n",
    "            snapshots_per_session=1,\n",
    "            skip_fields=[\"signal_matrix\"],\n",
    "            paired=True,\n",
    "            segmentation_version=args[\"segmentation_version\"],\n",
    "        ) as ds:\n",
    "            diffs = torch_pi_norm(\n",
    "                ds.ground_truth_phis\n",
    "                - torch.vstack([ds.mean_phase[\"r0\"], ds.mean_phase[\"r1\"]])\n",
    "            )\n",
    "            mask = diffs.isfinite()\n",
    "            return (\n",
    "                ds.yaml_config[\"routine\"],\n",
    "                ds.carrier_frequencies[0],\n",
    "                torch.as_tensor(\n",
    "                    [\n",
    "                        diffs[mask].std(),\n",
    "                        mask.to(torch.float).mean(),\n",
    "                        ds.mean_phase[\"r0\"].shape[0],\n",
    "                    ]\n",
    "                ),\n",
    "            )\n",
    "    except Exception as e:\n",
    "        logging.error(f\"Failed to load... {args['ds_fn']} with exception: {e})\n",
    "        return None,None,None\n",
    "\n",
    "\n",
    "inputs = glob.glob(\"/mnt/4tb_ssd/nosig_data/*.zarr\")\n",
    "segmentation_version = 3.2\n",
    "precompute_cache = \"/mnt/4tb_ssd/precompute_cache_new\"\n",
    "jobs = [\n",
    "    {\n",
    "        \"ds_fn\": fn,\n",
    "        \"segmentation_version\": segmentation_version,\n",
    "        \"precompute_cache\": precompute_cache,\n",
    "    }\n",
    "    for fn in inputs\n",
    "]\n",
    "\n",
    "\n",
    "with Pool(8) as p:\n",
    "    metrics_list = list(tqdm(p.imap(ds_to_metrics, jobs), total=len(jobs)))\n",
    "\n",
    "results = {}\n",
    "for routine, frequency, metrics in metrics_list:\n",
    "    if frequency not in results:\n",
    "        results[frequency] = {}\n",
    "    if routine not in results[frequency]:\n",
    "        results[frequency][routine] = []\n",
    "    results[frequency][routine].append(metrics)\n",
    "for frequency in results:\n",
    "    for routine in results[frequency]:\n",
    "        metrics = torch.vstack(results[frequency][routine])\n",
    "        std = ((metrics[:, 0] * metrics[:, 2]) / metrics[:, 2].sum()).sum()\n",
    "        notnan = ((metrics[:, 1] * metrics[:, 2]) / metrics[:, 2].sum()).sum()\n",
    "        results[frequency][routine] = {\"std\": std, \"notnan\": notnan}\n",
    "\n",
    "print(results)"
   ]
  },
  {
   "cell_type": "code",
   "execution_count": null,
   "metadata": {},
   "outputs": [],
   "source": [
    "import torch\n",
    "\n",
    "torch.tensor([2.417e9]).log10() / 20\n",
    "torch.tensor([0.900e9]).log10() / 20"
   ]
  },
  {
   "cell_type": "code",
   "execution_count": null,
   "metadata": {},
   "outputs": [],
   "source": [
    "results"
   ]
  },
  {
   "cell_type": "code",
   "execution_count": null,
   "metadata": {},
   "outputs": [],
   "source": []
  }
 ],
 "metadata": {
  "kernelspec": {
   "display_name": "spf",
   "language": "python",
   "name": "python3"
  },
  "language_info": {
   "codemirror_mode": {
    "name": "ipython",
    "version": 3
   },
   "file_extension": ".py",
   "mimetype": "text/x-python",
   "name": "python",
   "nbconvert_exporter": "python",
   "pygments_lexer": "ipython3",
   "version": "3.12.3"
  }
 },
 "nbformat": 4,
 "nbformat_minor": 2
}
