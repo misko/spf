{
 "cells": [
  {
   "cell_type": "code",
   "execution_count": null,
   "metadata": {},
   "outputs": [],
   "source": [
    "from spf.dataset.fake_dataset import create_fake_dataset, fake_yaml\n",
    "\n",
    "n = 1025\n",
    "noise = 0.05\n",
    "nthetas = 65\n",
    "ds_fn = f\"sample_dataset_for_ekf_n{n}_noise{noise}\"\n",
    "\n",
    "create_fake_dataset(\n",
    "    filename=ds_fn, yaml_config_str=fake_yaml, n=n, noise=noise, orbits=5\n",
    ")"
   ]
  },
  {
   "cell_type": "code",
   "execution_count": null,
   "metadata": {},
   "outputs": [],
   "source": [
    "from spf.dataset.spf_dataset import v5spfdataset\n",
    "\n",
    "ds = v5spfdataset(\n",
    "    ds_fn,\n",
    "    nthetas=nthetas,\n",
    "    ignore_qc=True,\n",
    "    precompute_cache=\"/tmp/\",\n",
    "    paired=True,\n",
    "    skip_signal_matrix=True,\n",
    ")"
   ]
  },
  {
   "cell_type": "code",
   "execution_count": null,
   "metadata": {},
   "outputs": [],
   "source": [
    "# import torch\n",
    "\n",
    "\n",
    "# def estimate_phi(rx_idx, ds):\n",
    "#     estimates = []\n",
    "#     for idx in range(len(ds)):\n",
    "#         estimates.append(ds.estimate_phi(ds[idx][rx_idx]))\n",
    "#     return torch.vstack(estimates)"
   ]
  },
  {
   "cell_type": "code",
   "execution_count": null,
   "metadata": {},
   "outputs": [],
   "source": [
    "# ds.get_segmentation_mean_phase().keys()"
   ]
  },
  {
   "cell_type": "code",
   "execution_count": null,
   "metadata": {},
   "outputs": [],
   "source": [
    "import matplotlib.pyplot as plt\n",
    "\n",
    "fig, ax = plt.subplots(1, 2, figsize=(10, 5))\n",
    "\n",
    "for rx_idx in [0, 1]:\n",
    "    ax[rx_idx].plot(\n",
    "        [ds[idx][rx_idx][\"ground_truth_theta\"] for idx in range(len(ds))],\n",
    "        label=f\"radio{rx_idx} gt theta\",\n",
    "    )\n",
    "    ax[rx_idx].plot(\n",
    "        ds.mean_phase[f\"r{rx_idx}\"],\n",
    "        label=f\"radio{rx_idx} est phi\",\n",
    "    )\n",
    "\n",
    "    ax[rx_idx].legend()"
   ]
  },
  {
   "cell_type": "code",
   "execution_count": null,
   "metadata": {},
   "outputs": [],
   "source": [
    "import numpy as np\n",
    "\n",
    "\"\"\"\n",
    "x = [ theta dtheta/dt ]\n",
    "z = [ phi ]\n",
    "\n",
    "F = [ [ 1 dt ],\n",
    "      [ 0  1 ]]\n",
    "\n",
    "h(x) = sin(x[0]) * (d * 2 * pi / wavelength )\n",
    "\n",
    "H(x) = [ dh/dx_1 , dh/dx_2 ] = cos(x[0]) * (d * 2 * pi / wavelength )\n",
    "\n",
    "\"\"\"\n",
    "\n",
    "antenna_spacing = ds.yaml_config[\"receivers\"][0][\"antenna-spacing-m\"]\n",
    "assert antenna_spacing == ds.yaml_config[\"receivers\"][1][\"antenna-spacing-m\"]\n",
    "\n",
    "wavelength = ds.wavelengths[0]\n",
    "assert wavelength == ds.wavelengths[1]\n",
    "\n",
    "\n",
    "def hx(x):\n",
    "    return np.array([np.sin(x[0, 0]) * antenna_spacing * 2 * np.pi / wavelength])\n",
    "\n",
    "\n",
    "def HJacobian_at(x):\n",
    "    \"\"\"compute Jacobian of H matrix at x\"\"\"\n",
    "    return np.array([[np.cos(x[0, 0]) * antenna_spacing * 2 * np.pi / wavelength, 0]])"
   ]
  },
  {
   "cell_type": "code",
   "execution_count": null,
   "metadata": {},
   "outputs": [],
   "source": [
    "from filterpy.kalman import ExtendedKalmanFilter\n",
    "\n",
    "from filterpy.common import Q_discrete_white_noise\n",
    "\n",
    "from spf.rf import pi_norm, reduce_theta_to_positive_y\n",
    "\n",
    "\n",
    "def residual(a, b):\n",
    "    # return pi_norm(a - b)\n",
    "    y = a - b\n",
    "    y = y % (2 * np.pi)  # force in range [0, 2 pi)\n",
    "    if y > np.pi:  # move to [-pi, pi)\n",
    "        y -= 2 * np.pi\n",
    "    return y\n",
    "\n",
    "\n",
    "def trajectory_for_phi(rx_idx, dx):\n",
    "    rk = ExtendedKalmanFilter(dim_x=2, dim_z=1)\n",
    "    # initialize with first ground truth state\n",
    "    y_rad = ds[rx_idx][0][\"ground_truth_theta\"].item()\n",
    "    # y_rad_reduced=reduce_theta_to_positive_y(y_rad)\n",
    "    rk.x = np.array([[y_rad], [0]])\n",
    "\n",
    "    dt = 0.1\n",
    "    rk.F = np.eye(2) + np.array([[0, 1], [0, 0]]) * dt\n",
    "\n",
    "    phi_std = 0.5\n",
    "    rk.R = phi_std**2  # np.diag([phi_std**2])\n",
    "    rk.Q = Q_discrete_white_noise(2, dt=dt, var=1.0)\n",
    "    rk.P *= 1  # initialized as identity?\n",
    "\n",
    "    traj = []\n",
    "    for idx in range(len(ds)):\n",
    "        rk.update(\n",
    "            np.array([ds[idx][rx_idx][\"mean_phase_segmentation\"]]),\n",
    "            HJacobian_at,\n",
    "            hx,\n",
    "            residual=residual,\n",
    "        )\n",
    "        traj.append(rk.x[0, 0])\n",
    "        rk.predict()\n",
    "        rk.x = pi_norm(rk.x)\n",
    "    return np.array(traj)"
   ]
  },
  {
   "cell_type": "code",
   "execution_count": null,
   "metadata": {},
   "outputs": [],
   "source": [
    "import matplotlib.pyplot as plt\n",
    "\n",
    "fig, ax = plt.subplots(1, 2, figsize=(10, 5))\n",
    "\n",
    "for rx_idx in [0, 1]:\n",
    "    ax[rx_idx].plot(\n",
    "        [ds[idx][rx_idx][\"ground_truth_theta\"] for idx in range(len(ds))],\n",
    "        label=\"radio gt theta\",\n",
    "    )\n",
    "    # phi_estimates = torch.vstack(\n",
    "    #     [ds.estimate_phi(ds[idx][rx_idx]) for idx in range(len(ds))]\n",
    "    # )\n",
    "    # ax[rx_idx].plot(\n",
    "    #     phi_estimates[:, 0],\n",
    "    #     label=f\"radio{rx_idx} est phi\",\n",
    "    # )\n",
    "    ax[rx_idx].plot(\n",
    "        ds.mean_phase[f\"r{rx_idx}\"],\n",
    "        label=f\"radio{rx_idx} est phi\",\n",
    "    )\n",
    "    ax[rx_idx].plot(trajectory_for_phi(rx_idx, ds))\n",
    "\n",
    "    ax[rx_idx].legend()"
   ]
  },
  {
   "cell_type": "code",
   "execution_count": null,
   "metadata": {},
   "outputs": [],
   "source": [
    "z = trajectory_for_phi(rx_idx, ds)"
   ]
  },
  {
   "cell_type": "code",
   "execution_count": null,
   "metadata": {},
   "outputs": [],
   "source": [
    "np.array(z)"
   ]
  },
  {
   "cell_type": "code",
   "execution_count": null,
   "metadata": {},
   "outputs": [],
   "source": [
    "np.dot(np.array([[2], [1]]), np.array([[3]])).shape"
   ]
  },
  {
   "cell_type": "code",
   "execution_count": null,
   "metadata": {},
   "outputs": [],
   "source": [
    "np.array(ds[idx][rx_idx][\"mean_phase_segmentation\"]).shape"
   ]
  },
  {
   "cell_type": "code",
   "execution_count": null,
   "metadata": {},
   "outputs": [],
   "source": [
    "max_idx = 10\n",
    "for idx in range(len(ds)):\n",
    "    rk.update(np.array(ds[0][0][\"mean_phase_segmentation\"]), HJacobian_at, hx)"
   ]
  },
  {
   "cell_type": "code",
   "execution_count": null,
   "metadata": {},
   "outputs": [],
   "source": [
    "xs, track = [], []\n",
    "for i in range(int(20 / dt)):\n",
    "    z = radar.get_range()\n",
    "    track.append((radar.pos, radar.vel, radar.alt))\n",
    "\n",
    "    rk.update(array([z]), HJacobian_at, hx)\n",
    "    xs.append(rk.x)\n",
    "    rk.predict()\n",
    "\n",
    "xs = asarray(xs)\n",
    "track = asarray(track)\n",
    "time = np.arange(0, len(xs) * dt, dt)"
   ]
  },
  {
   "cell_type": "code",
   "execution_count": null,
   "metadata": {},
   "outputs": [],
   "source": []
  },
  {
   "cell_type": "code",
   "execution_count": null,
   "metadata": {},
   "outputs": [],
   "source": [
    "# x = batch_data[\"all_windows_stats\"].to(torch_device).to(torch.float32)\n",
    "# seg_mask = batch_data[\"downsampled_segmentation_mask\"].to(torch_device)"
   ]
  },
  {
   "cell_type": "code",
   "execution_count": null,
   "metadata": {},
   "outputs": [],
   "source": []
  }
 ],
 "metadata": {
  "kernelspec": {
   "display_name": "spf",
   "language": "python",
   "name": "python3"
  },
  "language_info": {
   "codemirror_mode": {
    "name": "ipython",
    "version": 3
   },
   "file_extension": ".py",
   "mimetype": "text/x-python",
   "name": "python",
   "nbconvert_exporter": "python",
   "pygments_lexer": "ipython3",
   "version": "3.12.3"
  }
 },
 "nbformat": 4,
 "nbformat_minor": 2
}
