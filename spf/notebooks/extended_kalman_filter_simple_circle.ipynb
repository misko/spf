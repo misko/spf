{
 "cells": [
  {
   "cell_type": "code",
   "execution_count": null,
   "metadata": {},
   "outputs": [],
   "source": [
    "import tempfile\n",
    "from spf.dataset.fake_dataset import create_fake_dataset, fake_yaml\n",
    "from spf.dataset.spf_dataset import v5spfdataset\n",
    "\n",
    "n = 1025\n",
    "noise = 0.3\n",
    "nthetas = 65\n",
    "orbits = 4\n",
    "\n",
    "tmpdir = tempfile.TemporaryDirectory()\n",
    "tmpdirname = \"/tmp/\"  # tmpdir.name\n",
    "temp_ds_fn = f\"{tmpdirname}/sample_dataset_for_ekf_n{n}_noise{noise}\""
   ]
  },
  {
   "cell_type": "code",
   "execution_count": null,
   "metadata": {},
   "outputs": [],
   "source": [
    "create_fake_dataset(\n",
    "    filename=temp_ds_fn, yaml_config_str=fake_yaml, n=n, noise=noise, orbits=orbits\n",
    ")"
   ]
  },
  {
   "cell_type": "code",
   "execution_count": null,
   "metadata": {},
   "outputs": [],
   "source": [
    "ds = v5spfdataset(\n",
    "    temp_ds_fn,\n",
    "    nthetas=nthetas,\n",
    "    ignore_qc=True,\n",
    "    precompute_cache=tmpdirname,\n",
    "    paired=True,\n",
    "    skip_fields=set([\"signal_matrix\"]),\n",
    ")"
   ]
  },
  {
   "cell_type": "code",
   "execution_count": null,
   "metadata": {},
   "outputs": [],
   "source": [
    "use_real_data = False\n",
    "if use_real_data:\n",
    "    # ds_fn = \"/mnt/md1/2d_wallarray_v2_data/june_fix/wallarrayv3_2024_06_10_03_38_21_nRX2_rx_circle.zarr\"\n",
    "    ds_fn = \"/mnt/md1/2d_wallarray_v2_data/june_fix/wallarrayv3_2024_06_15_11_44_13_nRX2_bounce.zarr\"\n",
    "    precompute_cache_dir = \"/home/mouse9911/precompute_cache_chunk16_sept\"\n",
    "else:\n",
    "    ds_fn = temp_ds_fn\n",
    "    precompute_cache_dir = tmpdirname\n",
    "ds = v5spfdataset(\n",
    "    ds_fn,\n",
    "    nthetas=nthetas,\n",
    "    ignore_qc=True,\n",
    "    precompute_cache=precompute_cache_dir,\n",
    "    paired=True,\n",
    "    skip_fields=set([\"signal_matrix\", \"windowed_beamformer\"]),\n",
    ")"
   ]
  },
  {
   "cell_type": "code",
   "execution_count": null,
   "metadata": {},
   "outputs": [],
   "source": [
    "import os\n",
    "\n",
    "\n",
    "output_prefix = \"./\" + os.path.basename(ds_fn) + \"_\""
   ]
  },
  {
   "cell_type": "code",
   "execution_count": null,
   "metadata": {},
   "outputs": [],
   "source": [
    "import matplotlib.pyplot as plt\n",
    "\n",
    "fig, ax = plt.subplots(1, 2, figsize=(10, 5))\n",
    "\n",
    "for rx_idx in [0, 1]:\n",
    "    ax[rx_idx].scatter(\n",
    "        range(len(ds)),\n",
    "        ds.mean_phase[f\"r{rx_idx}\"],\n",
    "        label=f\"radio{rx_idx} est phi\",\n",
    "        s=1.0,\n",
    "        color=\"red\",\n",
    "    )\n",
    "    ax[rx_idx].plot(ds.ground_truth_phis[rx_idx], label=\"perfect phi\", color=\"blue\")\n",
    "    ax[rx_idx].plot(\n",
    "        [ds[idx][rx_idx][\"ground_truth_theta\"] for idx in range(len(ds))],\n",
    "        label=f\"radio{rx_idx} gt theta\",\n",
    "        color=\"green\",\n",
    "    )\n",
    "    ax[rx_idx].set_title(f\"Radio {rx_idx}\")\n",
    "    ax[rx_idx].set_xlabel(\"Time step\")\n",
    "    ax[rx_idx].set_ylabel(\"tehta/phi\")\n",
    "    ax[rx_idx].legend()\n",
    "    ax[rx_idx].axhline(y=0, color=\"r\", linestyle=\"-\")\n",
    "fig.suptitle(\"Phase(phi) recovered from radios after segmentation\")\n",
    "fig.savefig(f\"{output_prefix}_raw_signal.png\")"
   ]
  },
  {
   "cell_type": "code",
   "execution_count": null,
   "metadata": {},
   "outputs": [],
   "source": [
    "import torch\n",
    "from spf.filters.ekf_single_radio_filter import SPFKalmanFilter\n",
    "\n",
    "kfs = [SPFKalmanFilter(ds=ds, rx_idx=rx_idx, phi_std=5.0, p=5) for rx_idx in range(2)]\n",
    "single_radio_trajectories = [kf.trajectory(debug=True) for kf in kfs]\n",
    "single_radio_metrics = [\n",
    "    kf.metrics(trajectory) for kf, trajectory in zip(kfs, single_radio_trajectories)\n",
    "]\n",
    "print(single_radio_metrics)"
   ]
  },
  {
   "cell_type": "code",
   "execution_count": null,
   "metadata": {},
   "outputs": [],
   "source": []
  },
  {
   "cell_type": "code",
   "execution_count": null,
   "metadata": {},
   "outputs": [],
   "source": [
    "from spf.filters.ekf_single_radio_filter import run_and_plot_single_radio_EKF\n",
    "\n",
    "fig = run_and_plot_single_radio_EKF(ds, trajectories=single_radio_trajectories)"
   ]
  },
  {
   "cell_type": "code",
   "execution_count": null,
   "metadata": {},
   "outputs": [],
   "source": [
    "from spf.filters.ekf_dualradio_filter import SPFPairedKalmanFilter\n",
    "\n",
    "\n",
    "kf = SPFPairedKalmanFilter(\n",
    "    ds=ds, phi_std=5.0, p=5, dynamic_R=False\n",
    ")  # , phi_std=0.5, p=5, **kwargs):\n",
    "paired_trajectory = kf.trajectory(debug=True)\n",
    "paired_metrics = kf.metrics(paired_trajectory)\n",
    "print(paired_metrics)"
   ]
  },
  {
   "cell_type": "code",
   "execution_count": null,
   "metadata": {},
   "outputs": [],
   "source": [
    "from spf.filters.ekf_dualradio_filter import run_and_plot_dualradio_EKF\n",
    "\n",
    "fig = run_and_plot_dualradio_EKF(ds, trajectory=paired_trajectory)"
   ]
  },
  {
   "cell_type": "code",
   "execution_count": null,
   "metadata": {},
   "outputs": [],
   "source": [
    "from spf.filters.ekf_dualradioXY_filter import SPFPairedXYKalmanFilter\n",
    "\n",
    "kf = SPFPairedXYKalmanFilter(ds=ds, phi_std=5.0, p=0.1, dynamic_R=True)\n",
    "pairedXY_trajectory = kf.trajectory(debug=True, dt=1.0, noise_std=10)\n",
    "pairedXY_metrics = kf.metrics(pairedXY_trajectory)\n",
    "print(pairedXY_metrics)"
   ]
  },
  {
   "cell_type": "code",
   "execution_count": null,
   "metadata": {},
   "outputs": [],
   "source": [
    "from spf.filters.ekf_dualradioXY_filter import (\n",
    "    run_and_plot_dualradioXY_EKF,\n",
    ")\n",
    "\n",
    "fig = run_and_plot_dualradioXY_EKF(ds, trajectory=pairedXY_trajectory)"
   ]
  },
  {
   "cell_type": "code",
   "execution_count": null,
   "metadata": {},
   "outputs": [],
   "source": []
  },
  {
   "cell_type": "code",
   "execution_count": null,
   "metadata": {},
   "outputs": [],
   "source": []
  }
 ],
 "metadata": {
  "kernelspec": {
   "display_name": "spf",
   "language": "python",
   "name": "python3"
  },
  "language_info": {
   "codemirror_mode": {
    "name": "ipython",
    "version": 3
   },
   "file_extension": ".py",
   "mimetype": "text/x-python",
   "name": "python",
   "nbconvert_exporter": "python",
   "pygments_lexer": "ipython3",
   "version": "3.12.3"
  }
 },
 "nbformat": 4,
 "nbformat_minor": 2
}
