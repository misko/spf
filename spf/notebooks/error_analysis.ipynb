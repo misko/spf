{
 "cells": [
  {
   "cell_type": "code",
   "execution_count": null,
   "metadata": {},
   "outputs": [],
   "source": [
    "from spf.dataset.spf_dataset import v5spfdataset\n",
    "import glob\n",
    "\n",
    "glob.glob(\"./[0-9].*\")\n",
    "fns = [\n",
    "    \"/mnt/md0/spf/2d_wallarray_v2_data/june/wallarrayv3_2024_06_03_01_17_43_nRX2_rx_circle.zarr\",\n",
    "    \"/mnt/md0/spf/2d_wallarray_v2_data/june_fix/wallarrayv3_2024_06_03_11_40_03_nRX2_rx_circle.zarr\",\n",
    "    \"/mnt/md0/spf/2d_wallarray_v2_data/june_fix/wallarrayv3_2024_06_03_06_54_50_nRX2_rx_circle.zarr\",\n",
    "    \"/mnt/md0/spf/2d_wallarray_v2_data/june_fix/wallarrayv3_2024_06_03_06_32_54_nRX2_rx_circle.zarr\",\n",
    "    \"/mnt/md0/spf/2d_wallarray_v2_data/june_fix/wallarrayv3_2024_06_03_06_06_35_nRX2_rx_circle.zarr\",\n",
    "    \"/mnt/md0/spf/2d_wallarray_v2_data/june_fix/wallarrayv3_2024_06_03_01_17_43_nRX2_rx_circle.zarr\",\n",
    "]\n",
    "# fns = glob.glob(\"/mnt/md0/spf/2d_wallarray_v2_data/june_fix/wallarrayv3_2024_06_*.zarr\")\n",
    "\n",
    "dss = [\n",
    "    v5spfdataset(\n",
    "        fn,\n",
    "        nthetas=65,\n",
    "        ignore_qc=True,\n",
    "        precompute_cache=\"/home/mouse9911/precompute_cache_chunk16_fresh/\",\n",
    "    )\n",
    "    for fn in fns\n",
    "]\n",
    "\n",
    "for fn in fns:\n",
    "    ds = v5spfdataset(\n",
    "        fn,\n",
    "        nthetas=65,\n",
    "        ignore_qc=True,\n",
    "        precompute_cache=\"/home/mouse9911/precompute_cache_chunk16_fresh/\",\n",
    "    )\n",
    "    print(fn, len(ds))"
   ]
  },
  {
   "cell_type": "code",
   "execution_count": null,
   "metadata": {},
   "outputs": [],
   "source": [
    "# for ds in dss:\n",
    "#     print(len(ds))"
   ]
  },
  {
   "cell_type": "code",
   "execution_count": null,
   "metadata": {},
   "outputs": [],
   "source": [
    "import numpy as np\n",
    "\n",
    "from spf.rf import pi_norm\n",
    "\n",
    "\n",
    "def bin_error_by_theta(ds, nthetas=65):\n",
    "    bin_step_size = (2 * np.pi) / (nthetas - 1)\n",
    "    counts = np.zeros((2, nthetas))\n",
    "    squared_error_summed = np.zeros((2, nthetas))\n",
    "    for ridx in [0, 1]:\n",
    "        gt_theta = ds.ground_truth_thetas[ridx]\n",
    "        gt_phi = ds.ground_truth_phis[ridx]\n",
    "        mean_phase = ds.mean_phase[f\"r{ridx}\"]\n",
    "        for idx in range(gt_theta.shape[0]):\n",
    "            bin = int((gt_theta[idx] + np.pi) // bin_step_size)\n",
    "            counts[ridx, bin] += 1\n",
    "            # squared_error_summed[ridx, bin] += (\n",
    "            #     pi_norm(gt_phi[idx] - mean_phase[idx]) ** 2\n",
    "            # )\n",
    "            squared_error_summed[ridx, bin] += pi_norm(mean_phase[idx]) ** 2\n",
    "    return counts, squared_error_summed"
   ]
  },
  {
   "cell_type": "code",
   "execution_count": null,
   "metadata": {},
   "outputs": [],
   "source": [
    "import matplotlib.pyplot as plt\n",
    "\n",
    "fig, axs = plt.subplots(1, 2, figsize=(10, 5))\n",
    "for ds in dss[:5]:\n",
    "    if len(ds) < 1000:\n",
    "        continue\n",
    "    full_error_matrix = bin_error_by_theta(ds, nthetas=65)\n",
    "    error_matrix = np.sqrt(full_error_matrix[1] / full_error_matrix[0])\n",
    "    error_matrix\n",
    "    axs[0].plot(error_matrix[0])\n",
    "    axs[1].plot(error_matrix[1])"
   ]
  },
  {
   "cell_type": "code",
   "execution_count": null,
   "metadata": {},
   "outputs": [],
   "source": [
    "import matplotlib.pyplot as plt\n",
    "\n",
    "nthetas = 65\n",
    "full_error_matrix = np.array(\n",
    "    [bin_error_by_theta(ds, nthetas=nthetas) for ds in dss]\n",
    ").sum(\n",
    "    axis=0\n",
    ")  # nradios x (counts,squared_error_sum),ntheta\n",
    "error_matrix = np.sqrt(full_error_matrix[1] / full_error_matrix[0])\n",
    "fig, axs = plt.subplots(1, 2, figsize=(10, 5), sharex=True, sharey=True)\n",
    "axs[0].set_title(\"radio 0\")\n",
    "axs[1].set_title(\"radio 1\")\n",
    "\n",
    "axs[0].set_xticks(np.linspace(0, nthetas - 1, 5))\n",
    "axs[0].set_xticklabels([\"-pi\", \"-pi/2\", \"0\", \"pi/2\", \"pi\"])\n",
    "\n",
    "axs[0].set_ylabel(\"stddev err (units: oh_nos)\")\n",
    "fig.suptitle(\"error profile of radios (should be same between): range is -pi/2~pi/2\")\n",
    "axs[0].plot(error_matrix[0])\n",
    "axs[1].plot(error_matrix[1])"
   ]
  },
  {
   "cell_type": "code",
   "execution_count": null,
   "metadata": {},
   "outputs": [],
   "source": [
    "import numpy as np\n",
    "import matplotlib.pyplot as plt\n",
    "\n",
    "\n",
    "def f(x):\n",
    "    return 2.5 * np.exp(-((abs(x) - np.pi / 2) ** 2))\n",
    "\n",
    "\n",
    "plt.plot(f(np.linspace(-np.pi, np.pi, 128)))\n",
    "plt.plot(f(np.linspace(-np.pi, np.pi, 128)) ** 2)\n",
    "plt.ylim([0, None])"
   ]
  },
  {
   "cell_type": "code",
   "execution_count": null,
   "metadata": {},
   "outputs": [],
   "source": []
  }
 ],
 "metadata": {
  "kernelspec": {
   "display_name": "spf",
   "language": "python",
   "name": "python3"
  },
  "language_info": {
   "codemirror_mode": {
    "name": "ipython",
    "version": 3
   },
   "file_extension": ".py",
   "mimetype": "text/x-python",
   "name": "python",
   "nbconvert_exporter": "python",
   "pygments_lexer": "ipython3",
   "version": "3.12.3"
  }
 },
 "nbformat": 4,
 "nbformat_minor": 2
}
