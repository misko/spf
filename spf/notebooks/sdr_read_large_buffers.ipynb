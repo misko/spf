{
 "cells": [
  {
   "cell_type": "markdown",
   "metadata": {},
   "source": []
  },
  {
   "cell_type": "code",
   "execution_count": null,
   "metadata": {},
   "outputs": [],
   "source": []
  },
  {
   "cell_type": "code",
   "execution_count": null,
   "metadata": {},
   "outputs": [],
   "source": [
    "from math import gcd\n",
    "import time\n",
    "\n",
    "import adi\n",
    "import matplotlib.pyplot as plt\n",
    "import numpy as np\n",
    "from scipy import signal\n",
    "import adi\n",
    "\n",
    "\n",
    "def get_sdr(rx_buffer_size=2 * 16):\n",
    "    uri = f\"ip:192.168.1.17\"\n",
    "    sdr = adi.ad9361(uri=uri)\n",
    "    # Create radio\n",
    "    # sdr = adi.ad9361(uri=\"ip:192.168.1.15\")\n",
    "    # Configure properties\n",
    "    sdr.sample_rate = 16000000\n",
    "    sdr.tx_lo = 2412000000\n",
    "    sdr.tx_cyclic_buffer = True\n",
    "    sdr.tx_rf_bandwidth = 3 * 100000\n",
    "    sdr.tx_hardwaregain_chan0 = -5\n",
    "    sdr.rx_buffer_size = rx_buffer_size\n",
    "    sdr.gain_control_mode_chan0 = \"fast_attack\"\n",
    "    sdr.gain_control_mode_chan1 = \"fast_attack\"\n",
    "    # sdr.gain_control_mode_chan0 = \"slow_attack\"\n",
    "    sdr.tx_enabled_channels = [0]\n",
    "    return sdr\n",
    "\n",
    "\n",
    "def benchmark(rx_buffer_size, total_samples=2**25):\n",
    "    sdr = get_sdr(rx_buffer_size=rx_buffer_size)\n",
    "    assert total_samples % rx_buffer_size == 0\n",
    "    assert sdr.rx()[0].shape[0] == rx_buffer_size\n",
    "    start_time = time.time()\n",
    "    for _ in range(total_samples // rx_buffer_size):\n",
    "        sdr.rx()\n",
    "    elapsed_time = time.time() - start_time\n",
    "    total_bits = total_samples * 2 * 128\n",
    "    return {\n",
    "        \"total_time\": elapsed_time,\n",
    "        \"samples_per_second\": total_samples / elapsed_time,\n",
    "        \"bits_per_second\": total_bits / elapsed_time,\n",
    "    }"
   ]
  },
  {
   "cell_type": "code",
   "execution_count": null,
   "metadata": {},
   "outputs": [],
   "source": []
  },
  {
   "cell_type": "code",
   "execution_count": null,
   "metadata": {},
   "outputs": [],
   "source": [
    "benchmark(4096)"
   ]
  },
  {
   "cell_type": "code",
   "execution_count": null,
   "metadata": {},
   "outputs": [],
   "source": [
    "benchmark(4096 * 4)"
   ]
  },
  {
   "cell_type": "code",
   "execution_count": null,
   "metadata": {},
   "outputs": [],
   "source": [
    "benchmark(4096 * 16)"
   ]
  },
  {
   "cell_type": "code",
   "execution_count": null,
   "metadata": {},
   "outputs": [],
   "source": [
    "benchmark(4096 * 16 * 16)"
   ]
  },
  {
   "cell_type": "code",
   "execution_count": null,
   "metadata": {},
   "outputs": [],
   "source": [
    "z = get_sdr(rx_buffer_size=1024 * 8).rx()"
   ]
  },
  {
   "cell_type": "code",
   "execution_count": null,
   "metadata": {},
   "outputs": [],
   "source": [
    "z[0].dtype, z[0].shape"
   ]
  },
  {
   "cell_type": "code",
   "execution_count": null,
   "metadata": {},
   "outputs": [],
   "source": [
    "z = None"
   ]
  },
  {
   "cell_type": "code",
   "execution_count": null,
   "metadata": {},
   "outputs": [],
   "source": []
  }
 ],
 "metadata": {
  "kernelspec": {
   "display_name": "spf",
   "language": "python",
   "name": "python3"
  },
  "language_info": {
   "codemirror_mode": {
    "name": "ipython",
    "version": 3
   },
   "file_extension": ".py",
   "mimetype": "text/x-python",
   "name": "python",
   "nbconvert_exporter": "python",
   "pygments_lexer": "ipython3",
   "version": "3.11.7"
  }
 },
 "nbformat": 4,
 "nbformat_minor": 2
}
