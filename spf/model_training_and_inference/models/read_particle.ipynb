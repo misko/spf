{
 "cells": [
  {
   "cell_type": "code",
   "execution_count": null,
   "metadata": {},
   "outputs": [],
   "source": [
    "import pickle\n",
    "import sys\n",
    "\n",
    "pkl_fn = \"test_out.pkl\"\n",
    "\n",
    "results = pickle.load(open(pkl_fn, \"rb\"))"
   ]
  },
  {
   "cell_type": "code",
   "execution_count": null,
   "metadata": {},
   "outputs": [],
   "source": [
    "from spf.scripts.run_filters_report import report_workdir_to_csv\n",
    "\n",
    "\n",
    "report_workdir_to_csv(\n",
    "    \"/home/mouse9911/gits/spf/spf/work3\", output_csv_fn=\"output11.csv\"\n",
    ")"
   ]
  },
  {
   "cell_type": "code",
   "execution_count": null,
   "metadata": {},
   "outputs": [],
   "source": [
    "import os\n",
    "\n",
    "results_list_fn = \"/home/mouse9911/gits/spf/spf/results.list\"\n",
    "os.getcwd()\n",
    "results_fns = [x.strip() for x in open(results_list_fn, \"r\").readlines()]\n",
    "results_fns[:5]"
   ]
  },
  {
   "cell_type": "code",
   "execution_count": null,
   "metadata": {},
   "outputs": [],
   "source": [
    "import tqdm\n",
    "import pickle\n",
    "\n",
    "\n",
    "def read_pkl(pkl_fn):\n",
    "    return pickle.load(open(pkl_fn, \"rb\"))\n",
    "\n",
    "\n",
    "results = list(\n",
    "    tqdm.tqdm(\n",
    "        map(read_pkl, results_fns),\n",
    "        total=len(results_fns),\n",
    "    )\n",
    ")"
   ]
  },
  {
   "cell_type": "code",
   "execution_count": null,
   "metadata": {},
   "outputs": [],
   "source": []
  },
  {
   "cell_type": "code",
   "execution_count": null,
   "metadata": {},
   "outputs": [],
   "source": [
    "def cannonical(_ty, params):\n",
    "    name = _ty\n",
    "    keys = sorted(params.keys())\n",
    "    for key in keys:\n",
    "        name += f\"_{key}x{str(params[key])}\"\n",
    "    return name\n",
    "\n",
    "\n",
    "merged = {}\n",
    "\n",
    "for _results in results:\n",
    "    for result in _results:\n",
    "        result = result.copy()\n",
    "        _ty = result.pop(\"type\")\n",
    "        _fn = result.pop(\"ds_fn\")\n",
    "        metrics = result.pop(\"metrics\")\n",
    "        name = cannonical(_ty, result)\n",
    "        if name not in merged:\n",
    "            merged[name] = []\n",
    "        merged[name].append(metrics)"
   ]
  },
  {
   "cell_type": "code",
   "execution_count": null,
   "metadata": {},
   "outputs": [],
   "source": [
    "output = open(\"output.csv\", \"w\")\n",
    "for name in merged:\n",
    "    summed_metrics = {}\n",
    "    n = len(merged[name])\n",
    "    for metrics in merged[name]:\n",
    "        for key, value in metrics.items():\n",
    "            if key not in summed_metrics:\n",
    "                summed_metrics[key] = 0\n",
    "            summed_metrics[key] += value / n\n",
    "    keys = sorted(summed_metrics.keys())\n",
    "    output.write(\n",
    "        f\"{name}\\t\"\n",
    "        + \"\\t\".join([str(key + \"\\t\" + str(summed_metrics[key])) for key in keys])\n",
    "        + \"\\n\"\n",
    "    )"
   ]
  },
  {
   "cell_type": "code",
   "execution_count": null,
   "metadata": {},
   "outputs": [],
   "source": [
    "results"
   ]
  },
  {
   "cell_type": "code",
   "execution_count": null,
   "metadata": {},
   "outputs": [],
   "source": []
  }
 ],
 "metadata": {
  "kernelspec": {
   "display_name": "spf",
   "language": "python",
   "name": "python3"
  },
  "language_info": {
   "codemirror_mode": {
    "name": "ipython",
    "version": 3
   },
   "file_extension": ".py",
   "mimetype": "text/x-python",
   "name": "python",
   "nbconvert_exporter": "python",
   "pygments_lexer": "ipython3",
   "version": "3.12.3"
  }
 },
 "nbformat": 4,
 "nbformat_minor": 2
}
